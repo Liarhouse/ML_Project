{
 "cells": [
  {
   "cell_type": "markdown",
   "id": "e3cfa5c9",
   "metadata": {},
   "source": [
    "# 라이브러리 로딩"
   ]
  },
  {
   "cell_type": "code",
   "execution_count": 1,
   "id": "a2d09060",
   "metadata": {
    "ExecuteTime": {
     "end_time": "2022-11-22T06:06:38.887898Z",
     "start_time": "2022-11-22T06:06:38.158095Z"
    }
   },
   "outputs": [],
   "source": [
    "import numpy as np # Numpy\n",
    "import pandas as pd # Pandas\n",
    "import matplotlib as mpl #Matplotlib 세팅용\n",
    "import matplotlib.pyplot as plt # 시각화 도구\n",
    "import seaborn as sns # 시각화 도구\n",
    "from sklearn.model_selection import train_test_split # 데이터셋 분리\n",
    "from sklearn.model_selection import KFold # KFold 교차검증\n",
    "from sklearn.cluster import KMeans # 클러스터링\n",
    "from sklearn.metrics import silhouette_score # 실루엣 점수\n",
    "import xgboost as xgb # XGBoost\n",
    "from sklearn.model_selection import GridSearchCV # 그리드 서치\n",
    "from sklearn.metrics import accuracy_score, precision_score # 평가 지표\n",
    "from sklearn.metrics import recall_score, confusion_matrix, roc_auc_score, f1_score # 평가 지표\n",
    "from imblearn.combine import SMOTEENN, SMOTETomek # 복합샘플링\n",
    "from hyperopt import hp, fmin, tpe, Trials # HyperOPT\n",
    "\n",
    "import warnings # 경고문 제거용\n",
    "\n",
    "\n",
    "%matplotlib inline\n",
    "%config Inlinebackend.figure_format = 'retina'\n",
    "\n",
    "# 한글 폰트 설정\n",
    "mpl.rc('font', family='D2Coding')\n",
    "# 유니코드에서 음수 부호 설정\n",
    "mpl.rc('axes', unicode_minus = False)\n",
    "\n",
    "warnings.filterwarnings('ignore')\n",
    "sns.set(font=\"D2Coding\", rc={\"axes.unicode_minus\":False}, style='darkgrid')\n",
    "plt.rc('figure', figsize=(10,8))"
   ]
  },
  {
   "cell_type": "markdown",
   "id": "5ac23d52",
   "metadata": {},
   "source": [
    "# 데이터 불러오기"
   ]
  },
  {
   "cell_type": "code",
   "execution_count": 56,
   "id": "328c04aa",
   "metadata": {
    "ExecuteTime": {
     "end_time": "2022-11-22T07:50:29.024285Z",
     "start_time": "2022-11-22T07:50:27.994289Z"
    }
   },
   "outputs": [],
   "source": [
    "data = pd.read_excel('train_test_na_filled.xlsx', sheet_name='Train')"
   ]
  },
  {
   "cell_type": "markdown",
   "id": "5e759f61",
   "metadata": {},
   "source": [
    "# 전처리"
   ]
  },
  {
   "cell_type": "code",
   "execution_count": 3,
   "id": "48bb9702",
   "metadata": {
    "ExecuteTime": {
     "end_time": "2022-11-22T06:06:40.289907Z",
     "start_time": "2022-11-22T06:06:40.273907Z"
    }
   },
   "outputs": [
    {
     "name": "stdout",
     "output_type": "stream",
     "text": [
      "<class 'pandas.core.frame.DataFrame'>\n",
      "RangeIndex: 8693 entries, 0 to 8692\n",
      "Data columns (total 18 columns):\n",
      " #   Column        Non-Null Count  Dtype  \n",
      "---  ------        --------------  -----  \n",
      " 0   PassengerId   8693 non-null   object \n",
      " 1   HomePlanet    8693 non-null   object \n",
      " 2   CryoSleep     8693 non-null   bool   \n",
      " 3   Cabin1        8590 non-null   object \n",
      " 4   Cabin2        8590 non-null   float64\n",
      " 5   Combi         8590 non-null   object \n",
      " 6   Cabin3        8590 non-null   object \n",
      " 7   Cabin         8590 non-null   object \n",
      " 8   Destination   8693 non-null   object \n",
      " 9   Age           8693 non-null   int64  \n",
      " 10  VIP           8693 non-null   bool   \n",
      " 11  RoomService   8693 non-null   int64  \n",
      " 12  FoodCourt     8693 non-null   int64  \n",
      " 13  ShoppingMall  8693 non-null   int64  \n",
      " 14  Spa           8693 non-null   int64  \n",
      " 15  VRDeck        8693 non-null   int64  \n",
      " 16  Name          8493 non-null   object \n",
      " 17  Transported   8693 non-null   bool   \n",
      "dtypes: bool(3), float64(1), int64(6), object(8)\n",
      "memory usage: 1.0+ MB\n"
     ]
    }
   ],
   "source": [
    "data.info()"
   ]
  },
  {
   "cell_type": "markdown",
   "id": "4883527b",
   "metadata": {},
   "source": [
    "## 필요없는 features 제거"
   ]
  },
  {
   "cell_type": "code",
   "execution_count": 57,
   "id": "6e807f6b",
   "metadata": {
    "ExecuteTime": {
     "end_time": "2022-11-22T07:50:37.260770Z",
     "start_time": "2022-11-22T07:50:37.255770Z"
    }
   },
   "outputs": [],
   "source": [
    "# 필요없는 features 제거\n",
    "data.drop(['PassengerId', 'Cabin', 'Combi', 'Name',], axis=1, inplace=True)"
   ]
  },
  {
   "cell_type": "code",
   "execution_count": 6,
   "id": "0845ec22",
   "metadata": {
    "ExecuteTime": {
     "end_time": "2022-11-22T06:06:40.337907Z",
     "start_time": "2022-11-22T06:06:40.322908Z"
    }
   },
   "outputs": [
    {
     "name": "stdout",
     "output_type": "stream",
     "text": [
      "<class 'pandas.core.frame.DataFrame'>\n",
      "RangeIndex: 8693 entries, 0 to 8692\n",
      "Data columns (total 14 columns):\n",
      " #   Column        Non-Null Count  Dtype  \n",
      "---  ------        --------------  -----  \n",
      " 0   HomePlanet    8693 non-null   object \n",
      " 1   CryoSleep     8693 non-null   bool   \n",
      " 2   Cabin1        8590 non-null   object \n",
      " 3   Cabin2        8590 non-null   float64\n",
      " 4   Cabin3        8590 non-null   object \n",
      " 5   Destination   8693 non-null   object \n",
      " 6   Age           8693 non-null   int64  \n",
      " 7   VIP           8693 non-null   bool   \n",
      " 8   RoomService   8693 non-null   int64  \n",
      " 9   FoodCourt     8693 non-null   int64  \n",
      " 10  ShoppingMall  8693 non-null   int64  \n",
      " 11  Spa           8693 non-null   int64  \n",
      " 12  VRDeck        8693 non-null   int64  \n",
      " 13  Transported   8693 non-null   bool   \n",
      "dtypes: bool(3), float64(1), int64(6), object(4)\n",
      "memory usage: 772.6+ KB\n"
     ]
    }
   ],
   "source": [
    "data.info()"
   ]
  },
  {
   "cell_type": "markdown",
   "id": "777dbdc4",
   "metadata": {},
   "source": [
    "## 처리하기 힘든 결측값 제거"
   ]
  },
  {
   "cell_type": "code",
   "execution_count": 4,
   "id": "74921d37",
   "metadata": {
    "ExecuteTime": {
     "end_time": "2022-11-22T06:06:40.305907Z",
     "start_time": "2022-11-22T06:06:40.290907Z"
    },
    "scrolled": true
   },
   "outputs": [
    {
     "data": {
      "text/plain": [
       "PassengerId       0\n",
       "HomePlanet        0\n",
       "CryoSleep         0\n",
       "Cabin1          103\n",
       "Cabin2          103\n",
       "Combi           103\n",
       "Cabin3          103\n",
       "Cabin           103\n",
       "Destination       0\n",
       "Age               0\n",
       "VIP               0\n",
       "RoomService       0\n",
       "FoodCourt         0\n",
       "ShoppingMall      0\n",
       "Spa               0\n",
       "VRDeck            0\n",
       "Name            200\n",
       "Transported       0\n",
       "dtype: int64"
      ]
     },
     "execution_count": 4,
     "metadata": {},
     "output_type": "execute_result"
    }
   ],
   "source": [
    "data.isna().sum()"
   ]
  },
  {
   "cell_type": "code",
   "execution_count": 58,
   "id": "9d949941",
   "metadata": {
    "ExecuteTime": {
     "end_time": "2022-11-22T07:50:40.908944Z",
     "start_time": "2022-11-22T07:50:40.896531Z"
    }
   },
   "outputs": [],
   "source": [
    "# 결측값들 제거(Cabin)\n",
    "data.dropna(axis=0, inplace=True)"
   ]
  },
  {
   "cell_type": "markdown",
   "id": "e783ad66",
   "metadata": {},
   "source": [
    "## Boolean 캐스팅"
   ]
  },
  {
   "cell_type": "code",
   "execution_count": 59,
   "id": "a3283ed2",
   "metadata": {
    "ExecuteTime": {
     "end_time": "2022-11-22T07:50:44.324824Z",
     "start_time": "2022-11-22T07:50:44.320824Z"
    }
   },
   "outputs": [],
   "source": [
    "# Cabin3의 값을 변환\n",
    "data['Cabin3'].replace({'P': True,'S': False}, inplace=True)\n",
    "data['Cabin3'] = data['Cabin3'].astype(bool)"
   ]
  },
  {
   "cell_type": "markdown",
   "id": "877643ed",
   "metadata": {},
   "source": [
    "## 원핫인코딩"
   ]
  },
  {
   "cell_type": "code",
   "execution_count": 60,
   "id": "0e063625",
   "metadata": {
    "ExecuteTime": {
     "end_time": "2022-11-22T07:50:46.681474Z",
     "start_time": "2022-11-22T07:50:46.660075Z"
    }
   },
   "outputs": [],
   "source": [
    "# 원핫인코딩\n",
    "train_encoding = pd.get_dummies(data['HomePlanet'])\n",
    "data=data.drop('HomePlanet',axis=1)\n",
    "data = data.join(train_encoding)\n",
    "\n",
    "train_encoding = pd.get_dummies(data['Destination'])\n",
    "data=data.drop('Destination',axis=1)\n",
    "data = data.join(train_encoding)\n",
    "\n",
    "train_encoding = pd.get_dummies(data['Cabin1'])\n",
    "data=data.drop('Cabin1',axis=1)\n",
    "data = data.join(train_encoding)"
   ]
  },
  {
   "cell_type": "code",
   "execution_count": 12,
   "id": "fd1d0cc6",
   "metadata": {
    "ExecuteTime": {
     "end_time": "2022-11-22T06:27:48.743306Z",
     "start_time": "2022-11-22T06:27:48.727267Z"
    },
    "scrolled": true
   },
   "outputs": [
    {
     "name": "stdout",
     "output_type": "stream",
     "text": [
      "<class 'pandas.core.frame.DataFrame'>\n",
      "Int64Index: 8590 entries, 0 to 8692\n",
      "Data columns (total 25 columns):\n",
      " #   Column         Non-Null Count  Dtype  \n",
      "---  ------         --------------  -----  \n",
      " 0   CryoSleep      8590 non-null   bool   \n",
      " 1   Cabin2         8590 non-null   float64\n",
      " 2   Cabin3         8590 non-null   bool   \n",
      " 3   Age            8590 non-null   int64  \n",
      " 4   VIP            8590 non-null   bool   \n",
      " 5   RoomService    8590 non-null   int64  \n",
      " 6   FoodCourt      8590 non-null   int64  \n",
      " 7   ShoppingMall   8590 non-null   int64  \n",
      " 8   Spa            8590 non-null   int64  \n",
      " 9   VRDeck         8590 non-null   int64  \n",
      " 10  Transported    8590 non-null   bool   \n",
      " 11  Earth          8590 non-null   uint8  \n",
      " 12  Europa         8590 non-null   uint8  \n",
      " 13  Mars           8590 non-null   uint8  \n",
      " 14  55 Cancri e    8590 non-null   uint8  \n",
      " 15  PSO J318.5-22  8590 non-null   uint8  \n",
      " 16  TRAPPIST-1e    8590 non-null   uint8  \n",
      " 17  A              8590 non-null   uint8  \n",
      " 18  B              8590 non-null   uint8  \n",
      " 19  C              8590 non-null   uint8  \n",
      " 20  D              8590 non-null   uint8  \n",
      " 21  E              8590 non-null   uint8  \n",
      " 22  F              8590 non-null   uint8  \n",
      " 23  G              8590 non-null   uint8  \n",
      " 24  T              8590 non-null   uint8  \n",
      "dtypes: bool(4), float64(1), int64(6), uint8(14)\n",
      "memory usage: 945.9 KB\n"
     ]
    }
   ],
   "source": [
    "data.info()"
   ]
  },
  {
   "cell_type": "markdown",
   "id": "e0ca314b",
   "metadata": {},
   "source": [
    "## 스케일링"
   ]
  },
  {
   "cell_type": "code",
   "execution_count": 43,
   "id": "18f27abd",
   "metadata": {
    "ExecuteTime": {
     "end_time": "2022-11-22T07:35:17.095832Z",
     "start_time": "2022-11-22T07:35:17.086827Z"
    }
   },
   "outputs": [],
   "source": [
    "# 스케일링\n",
    "col = ['Cabin2', 'Age', 'RoomService','FoodCourt','ShoppingMall','Spa','VRDeck']\n",
    "def data_scaled(df, col):\n",
    "    for i in col:\n",
    "        data_mean = df[i].mean()\n",
    "        data_std = df[i].std()\n",
    "        scaled = (df[i]-data_mean)/data_std\n",
    "        df[i]=scaled\n",
    "    return df"
   ]
  },
  {
   "cell_type": "code",
   "execution_count": 44,
   "id": "1f300f41",
   "metadata": {
    "ExecuteTime": {
     "end_time": "2022-11-22T07:35:30.272866Z",
     "start_time": "2022-11-22T07:35:30.249789Z"
    }
   },
   "outputs": [
    {
     "data": {
      "text/html": [
       "<div>\n",
       "<style scoped>\n",
       "    .dataframe tbody tr th:only-of-type {\n",
       "        vertical-align: middle;\n",
       "    }\n",
       "\n",
       "    .dataframe tbody tr th {\n",
       "        vertical-align: top;\n",
       "    }\n",
       "\n",
       "    .dataframe thead th {\n",
       "        text-align: right;\n",
       "    }\n",
       "</style>\n",
       "<table border=\"1\" class=\"dataframe\">\n",
       "  <thead>\n",
       "    <tr style=\"text-align: right;\">\n",
       "      <th></th>\n",
       "      <th>CryoSleep</th>\n",
       "      <th>Cabin2</th>\n",
       "      <th>Cabin3</th>\n",
       "      <th>Age</th>\n",
       "      <th>VIP</th>\n",
       "      <th>RoomService</th>\n",
       "      <th>FoodCourt</th>\n",
       "      <th>ShoppingMall</th>\n",
       "      <th>Spa</th>\n",
       "      <th>VRDeck</th>\n",
       "      <th>...</th>\n",
       "      <th>PSO J318.5-22</th>\n",
       "      <th>TRAPPIST-1e</th>\n",
       "      <th>A</th>\n",
       "      <th>B</th>\n",
       "      <th>C</th>\n",
       "      <th>D</th>\n",
       "      <th>E</th>\n",
       "      <th>F</th>\n",
       "      <th>G</th>\n",
       "      <th>T</th>\n",
       "    </tr>\n",
       "  </thead>\n",
       "  <tbody>\n",
       "    <tr>\n",
       "      <th>0</th>\n",
       "      <td>False</td>\n",
       "      <td>-1.170228</td>\n",
       "      <td>True</td>\n",
       "      <td>0.712274</td>\n",
       "      <td>False</td>\n",
       "      <td>-0.333743</td>\n",
       "      <td>-0.280785</td>\n",
       "      <td>-0.282832</td>\n",
       "      <td>-0.271469</td>\n",
       "      <td>-0.263361</td>\n",
       "      <td>...</td>\n",
       "      <td>0</td>\n",
       "      <td>1</td>\n",
       "      <td>0</td>\n",
       "      <td>1</td>\n",
       "      <td>0</td>\n",
       "      <td>0</td>\n",
       "      <td>0</td>\n",
       "      <td>0</td>\n",
       "      <td>0</td>\n",
       "      <td>0</td>\n",
       "    </tr>\n",
       "    <tr>\n",
       "      <th>1</th>\n",
       "      <td>False</td>\n",
       "      <td>-1.170228</td>\n",
       "      <td>False</td>\n",
       "      <td>-0.332624</td>\n",
       "      <td>False</td>\n",
       "      <td>-0.168530</td>\n",
       "      <td>-0.275148</td>\n",
       "      <td>-0.241196</td>\n",
       "      <td>0.220460</td>\n",
       "      <td>-0.224520</td>\n",
       "      <td>...</td>\n",
       "      <td>0</td>\n",
       "      <td>1</td>\n",
       "      <td>0</td>\n",
       "      <td>0</td>\n",
       "      <td>0</td>\n",
       "      <td>0</td>\n",
       "      <td>0</td>\n",
       "      <td>1</td>\n",
       "      <td>0</td>\n",
       "      <td>0</td>\n",
       "    </tr>\n",
       "    <tr>\n",
       "      <th>2</th>\n",
       "      <td>False</td>\n",
       "      <td>-1.170228</td>\n",
       "      <td>False</td>\n",
       "      <td>2.035811</td>\n",
       "      <td>True</td>\n",
       "      <td>-0.268567</td>\n",
       "      <td>1.959032</td>\n",
       "      <td>-0.282832</td>\n",
       "      <td>5.745469</td>\n",
       "      <td>-0.220106</td>\n",
       "      <td>...</td>\n",
       "      <td>0</td>\n",
       "      <td>1</td>\n",
       "      <td>1</td>\n",
       "      <td>0</td>\n",
       "      <td>0</td>\n",
       "      <td>0</td>\n",
       "      <td>0</td>\n",
       "      <td>0</td>\n",
       "      <td>0</td>\n",
       "      <td>0</td>\n",
       "    </tr>\n",
       "    <tr>\n",
       "      <th>3</th>\n",
       "      <td>False</td>\n",
       "      <td>-1.170228</td>\n",
       "      <td>False</td>\n",
       "      <td>0.294315</td>\n",
       "      <td>False</td>\n",
       "      <td>-0.333743</td>\n",
       "      <td>0.522818</td>\n",
       "      <td>0.335048</td>\n",
       "      <td>2.711463</td>\n",
       "      <td>-0.092988</td>\n",
       "      <td>...</td>\n",
       "      <td>0</td>\n",
       "      <td>1</td>\n",
       "      <td>1</td>\n",
       "      <td>0</td>\n",
       "      <td>0</td>\n",
       "      <td>0</td>\n",
       "      <td>0</td>\n",
       "      <td>0</td>\n",
       "      <td>0</td>\n",
       "      <td>0</td>\n",
       "    </tr>\n",
       "    <tr>\n",
       "      <th>4</th>\n",
       "      <td>False</td>\n",
       "      <td>-1.168274</td>\n",
       "      <td>False</td>\n",
       "      <td>-0.889902</td>\n",
       "      <td>False</td>\n",
       "      <td>0.125518</td>\n",
       "      <td>-0.236941</td>\n",
       "      <td>-0.031350</td>\n",
       "      <td>0.234796</td>\n",
       "      <td>-0.261596</td>\n",
       "      <td>...</td>\n",
       "      <td>0</td>\n",
       "      <td>1</td>\n",
       "      <td>0</td>\n",
       "      <td>0</td>\n",
       "      <td>0</td>\n",
       "      <td>0</td>\n",
       "      <td>0</td>\n",
       "      <td>1</td>\n",
       "      <td>0</td>\n",
       "      <td>0</td>\n",
       "    </tr>\n",
       "    <tr>\n",
       "      <th>...</th>\n",
       "      <td>...</td>\n",
       "      <td>...</td>\n",
       "      <td>...</td>\n",
       "      <td>...</td>\n",
       "      <td>...</td>\n",
       "      <td>...</td>\n",
       "      <td>...</td>\n",
       "      <td>...</td>\n",
       "      <td>...</td>\n",
       "      <td>...</td>\n",
       "      <td>...</td>\n",
       "      <td>...</td>\n",
       "      <td>...</td>\n",
       "      <td>...</td>\n",
       "      <td>...</td>\n",
       "      <td>...</td>\n",
       "      <td>...</td>\n",
       "      <td>...</td>\n",
       "      <td>...</td>\n",
       "      <td>...</td>\n",
       "      <td>...</td>\n",
       "    </tr>\n",
       "    <tr>\n",
       "      <th>8688</th>\n",
       "      <td>False</td>\n",
       "      <td>-0.978724</td>\n",
       "      <td>True</td>\n",
       "      <td>0.851594</td>\n",
       "      <td>True</td>\n",
       "      <td>-0.333743</td>\n",
       "      <td>3.990274</td>\n",
       "      <td>-0.282832</td>\n",
       "      <td>1.200732</td>\n",
       "      <td>-0.198037</td>\n",
       "      <td>...</td>\n",
       "      <td>0</td>\n",
       "      <td>0</td>\n",
       "      <td>1</td>\n",
       "      <td>0</td>\n",
       "      <td>0</td>\n",
       "      <td>0</td>\n",
       "      <td>0</td>\n",
       "      <td>0</td>\n",
       "      <td>0</td>\n",
       "      <td>0</td>\n",
       "    </tr>\n",
       "    <tr>\n",
       "      <th>8689</th>\n",
       "      <td>True</td>\n",
       "      <td>1.758999</td>\n",
       "      <td>False</td>\n",
       "      <td>-0.750583</td>\n",
       "      <td>False</td>\n",
       "      <td>-0.333743</td>\n",
       "      <td>-0.280785</td>\n",
       "      <td>-0.282832</td>\n",
       "      <td>-0.271469</td>\n",
       "      <td>-0.263361</td>\n",
       "      <td>...</td>\n",
       "      <td>1</td>\n",
       "      <td>0</td>\n",
       "      <td>0</td>\n",
       "      <td>0</td>\n",
       "      <td>0</td>\n",
       "      <td>0</td>\n",
       "      <td>0</td>\n",
       "      <td>0</td>\n",
       "      <td>1</td>\n",
       "      <td>0</td>\n",
       "    </tr>\n",
       "    <tr>\n",
       "      <th>8690</th>\n",
       "      <td>False</td>\n",
       "      <td>1.760953</td>\n",
       "      <td>False</td>\n",
       "      <td>-0.193304</td>\n",
       "      <td>False</td>\n",
       "      <td>-0.333743</td>\n",
       "      <td>-0.280785</td>\n",
       "      <td>2.834877</td>\n",
       "      <td>-0.270573</td>\n",
       "      <td>-0.263361</td>\n",
       "      <td>...</td>\n",
       "      <td>0</td>\n",
       "      <td>1</td>\n",
       "      <td>0</td>\n",
       "      <td>0</td>\n",
       "      <td>0</td>\n",
       "      <td>0</td>\n",
       "      <td>0</td>\n",
       "      <td>0</td>\n",
       "      <td>1</td>\n",
       "      <td>0</td>\n",
       "    </tr>\n",
       "    <tr>\n",
       "      <th>8691</th>\n",
       "      <td>False</td>\n",
       "      <td>0.017878</td>\n",
       "      <td>False</td>\n",
       "      <td>0.224655</td>\n",
       "      <td>False</td>\n",
       "      <td>-0.333743</td>\n",
       "      <td>0.376253</td>\n",
       "      <td>-0.282832</td>\n",
       "      <td>0.044835</td>\n",
       "      <td>2.592370</td>\n",
       "      <td>...</td>\n",
       "      <td>0</td>\n",
       "      <td>0</td>\n",
       "      <td>0</td>\n",
       "      <td>0</td>\n",
       "      <td>0</td>\n",
       "      <td>0</td>\n",
       "      <td>1</td>\n",
       "      <td>0</td>\n",
       "      <td>0</td>\n",
       "      <td>0</td>\n",
       "    </tr>\n",
       "    <tr>\n",
       "      <th>8692</th>\n",
       "      <td>False</td>\n",
       "      <td>0.017878</td>\n",
       "      <td>False</td>\n",
       "      <td>1.060573</td>\n",
       "      <td>False</td>\n",
       "      <td>-0.142763</td>\n",
       "      <td>2.655529</td>\n",
       "      <td>-0.282832</td>\n",
       "      <td>-0.271469</td>\n",
       "      <td>-0.252768</td>\n",
       "      <td>...</td>\n",
       "      <td>0</td>\n",
       "      <td>1</td>\n",
       "      <td>0</td>\n",
       "      <td>0</td>\n",
       "      <td>0</td>\n",
       "      <td>0</td>\n",
       "      <td>1</td>\n",
       "      <td>0</td>\n",
       "      <td>0</td>\n",
       "      <td>0</td>\n",
       "    </tr>\n",
       "  </tbody>\n",
       "</table>\n",
       "<p>8590 rows × 25 columns</p>\n",
       "</div>"
      ],
      "text/plain": [
       "      CryoSleep    Cabin2  Cabin3       Age    VIP  RoomService  FoodCourt  \\\n",
       "0         False -1.170228    True  0.712274  False    -0.333743  -0.280785   \n",
       "1         False -1.170228   False -0.332624  False    -0.168530  -0.275148   \n",
       "2         False -1.170228   False  2.035811   True    -0.268567   1.959032   \n",
       "3         False -1.170228   False  0.294315  False    -0.333743   0.522818   \n",
       "4         False -1.168274   False -0.889902  False     0.125518  -0.236941   \n",
       "...         ...       ...     ...       ...    ...          ...        ...   \n",
       "8688      False -0.978724    True  0.851594   True    -0.333743   3.990274   \n",
       "8689       True  1.758999   False -0.750583  False    -0.333743  -0.280785   \n",
       "8690      False  1.760953   False -0.193304  False    -0.333743  -0.280785   \n",
       "8691      False  0.017878   False  0.224655  False    -0.333743   0.376253   \n",
       "8692      False  0.017878   False  1.060573  False    -0.142763   2.655529   \n",
       "\n",
       "      ShoppingMall       Spa    VRDeck  ...  PSO J318.5-22  TRAPPIST-1e  A  B  \\\n",
       "0        -0.282832 -0.271469 -0.263361  ...              0            1  0  1   \n",
       "1        -0.241196  0.220460 -0.224520  ...              0            1  0  0   \n",
       "2        -0.282832  5.745469 -0.220106  ...              0            1  1  0   \n",
       "3         0.335048  2.711463 -0.092988  ...              0            1  1  0   \n",
       "4        -0.031350  0.234796 -0.261596  ...              0            1  0  0   \n",
       "...            ...       ...       ...  ...            ...          ... .. ..   \n",
       "8688     -0.282832  1.200732 -0.198037  ...              0            0  1  0   \n",
       "8689     -0.282832 -0.271469 -0.263361  ...              1            0  0  0   \n",
       "8690      2.834877 -0.270573 -0.263361  ...              0            1  0  0   \n",
       "8691     -0.282832  0.044835  2.592370  ...              0            0  0  0   \n",
       "8692     -0.282832 -0.271469 -0.252768  ...              0            1  0  0   \n",
       "\n",
       "      C  D  E  F  G  T  \n",
       "0     0  0  0  0  0  0  \n",
       "1     0  0  0  1  0  0  \n",
       "2     0  0  0  0  0  0  \n",
       "3     0  0  0  0  0  0  \n",
       "4     0  0  0  1  0  0  \n",
       "...  .. .. .. .. .. ..  \n",
       "8688  0  0  0  0  0  0  \n",
       "8689  0  0  0  0  1  0  \n",
       "8690  0  0  0  0  1  0  \n",
       "8691  0  0  1  0  0  0  \n",
       "8692  0  0  1  0  0  0  \n",
       "\n",
       "[8590 rows x 25 columns]"
      ]
     },
     "execution_count": 44,
     "metadata": {},
     "output_type": "execute_result"
    }
   ],
   "source": [
    "data_scaled(data, col)"
   ]
  },
  {
   "cell_type": "markdown",
   "id": "90de5461",
   "metadata": {},
   "source": [
    "# 알고리즘 명 삽입"
   ]
  },
  {
   "cell_type": "code",
   "execution_count": 63,
   "id": "c9075eff",
   "metadata": {
    "ExecuteTime": {
     "end_time": "2022-11-22T08:01:29.833935Z",
     "start_time": "2022-11-22T08:01:29.821801Z"
    }
   },
   "outputs": [],
   "source": [
    "# xgb_search_space = {'max_depth': hp.quniform('max_depth', 5, 15, 1),\n",
    "#                    'min_child_weight': hp.quniform('min_child_weight', 1, 20, 1),\n",
    "#                    'colsample_bytree': hp.uniform('colsample_bytree', 0.5, 0.95),\n",
    "#                    'learning_rate': hp.uniform('learning_rate', 0.01, 0.4),\n",
    "#                    'gamma': hp.uniform('gamma', 0, 4)}"
   ]
  },
  {
   "cell_type": "code",
   "execution_count": 67,
   "id": "51421a14",
   "metadata": {
    "ExecuteTime": {
     "end_time": "2022-11-22T08:03:30.048133Z",
     "start_time": "2022-11-22T08:03:30.032133Z"
    }
   },
   "outputs": [],
   "source": [
    "# # fmin()에서 호출 시 search_space 값으로 XGBClassifier 교차 검증 학습 후 -1 * roc_auc 평균 값을 반환\n",
    "# def bin_objective_func(search_space):\n",
    "#     xgb_clf = xgb.XGBClassifier(n_estimators=100, max_depth=int(search_space['max_depth']),\n",
    "#                             min_child_weight=int(search_space['min_child_weight']),\n",
    "#                             colsample_bytree=search_space['colsample_bytree'],\n",
    "#                             learning_rate=search_space['learning_rate'],\n",
    "#                             gamma=search_space['gamma'])\n",
    "    \n",
    "#     # 3개 k-fold 방식으로 평가된 roc_auc 지표를 담는 list\n",
    "#     roc_auc_list = []\n",
    "    \n",
    "#     # 3개 k-fold 방식 적용\n",
    "#     kf = KFold(n_splits=3)\n",
    "    \n",
    "#     # X_train을 다시 학습과 검증용 데이터로 분리\n",
    "#     for tr_index, val_index in kf.split(X_train):\n",
    "#         # kf.split(X_train)으로 추출된 학습과 검증 index 값으로 학습과 검증 데이터 세트 분리\n",
    "#         X_tr, y_tr = X_train.iloc[tr_index], y_train.iloc[tr_index]\n",
    "#         X_val, y_val = X_train.iloc[val_index], y_train.iloc[val_index]\n",
    "        \n",
    "#         # early stopping은 30회로 설정하고 추출된 학습과 검증 데이터로 XGBClassifier 학습 수행\n",
    "#         xgb_clf.fit(X_tr, y_tr, early_stopping_rounds=30, eval_metric=\"auc\",\n",
    "#                    eval_set=[(X_tr, y_tr), (X_val, y_val)])\n",
    "        \n",
    "#         # 1로 예측한 확률값 추출 후 roc auc 계산하고 평균 roc auc 계산을 위해 list에 결과값 담음.\n",
    "#         score = roc_auc_score(y_val, xgb_clf.predict_proba(X_val)[:,1])\n",
    "#         roc_auc_list.append(score)\n",
    "        \n",
    "#     # 3개 k-fold로 계산된 roc_auc 값의 평균값을 반환하되,\n",
    "#     # HyperOPT는 목적함수의 최솟값을 위한 입력값을 찾으므로 -1을 곱한 뒤 반환\n",
    "#     return -1*np.mean(roc_auc_list)"
   ]
  },
  {
   "cell_type": "code",
   "execution_count": 74,
   "id": "7bc70314",
   "metadata": {
    "ExecuteTime": {
     "end_time": "2022-11-22T08:08:29.154780Z",
     "start_time": "2022-11-22T08:08:29.147692Z"
    }
   },
   "outputs": [],
   "source": [
    "# # 평가용 함수\n",
    "# def  get_clf_eval(y_test, pred=None, pred_proba=None):\n",
    "#     confusion = confusion_matrix(y_test, pred)\n",
    "#     accuracy = accuracy_score(y_test, pred)\n",
    "#     precision = precision_score(y_test, pred)\n",
    "#     recall = recall_score(y_test, pred)\n",
    "#     f1 = f1_score(y_test, pred)\n",
    "# #     roc_auc = roc_auc_score(y_test, pred_proba)\n",
    "    \n",
    "#     print('오차 행렬')\n",
    "#     print(confusion)\n",
    " \n",
    "#     print('정확도: {0:.4f}, 정밀도: {1:.4f}, \\\n",
    "#     재현율: {2:.4f}, F1: {3:.4f}'.format(accuracy, precision, recall, f1))"
   ]
  },
  {
   "cell_type": "code",
   "execution_count": 76,
   "id": "276a650b",
   "metadata": {
    "ExecuteTime": {
     "end_time": "2022-11-22T08:08:51.806367Z",
     "start_time": "2022-11-22T08:08:51.766369Z"
    }
   },
   "outputs": [],
   "source": [
    "# train_pred = xgbo.predict(X_train)\n",
    "# train_proba = xgbo.predict_proba(X_train)\n",
    "\n",
    "# test_pred = xgbo.predict(X_test)\n",
    "# test_proba = xgbo.predict_proba(X_test)\n",
    "\n",
    "# val_pred = xgbo.predict(X_val)\n",
    "# val_proba = xgbo.predict_proba(X_val)"
   ]
  },
  {
   "cell_type": "code",
   "execution_count": 77,
   "id": "abb4f828",
   "metadata": {
    "ExecuteTime": {
     "end_time": "2022-11-22T08:08:53.940426Z",
     "start_time": "2022-11-22T08:08:53.931429Z"
    }
   },
   "outputs": [
    {
     "name": "stdout",
     "output_type": "stream",
     "text": [
      "오차 행렬\n",
      "[[2189  222]\n",
      " [ 261 2159]]\n",
      "정확도: 0.9000, 정밀도: 0.9068,     재현율: 0.8921, F1: 0.8994\n"
     ]
    }
   ],
   "source": [
    "# get_clf_eval(y_train, train_pred, train_proba)"
   ]
  },
  {
   "cell_type": "code",
   "execution_count": 78,
   "id": "89d3492b",
   "metadata": {
    "ExecuteTime": {
     "end_time": "2022-11-22T08:09:10.742239Z",
     "start_time": "2022-11-22T08:09:10.729244Z"
    },
    "scrolled": true
   },
   "outputs": [
    {
     "name": "stdout",
     "output_type": "stream",
     "text": [
      "오차 행렬\n",
      "[[854 213]\n",
      " [233 848]]\n",
      "정확도: 0.7924, 정밀도: 0.7992,     재현율: 0.7845, F1: 0.7918\n"
     ]
    }
   ],
   "source": [
    "# get_clf_eval(y_test, test_pred, test_proba)"
   ]
  },
  {
   "cell_type": "code",
   "execution_count": 79,
   "id": "936a45f5",
   "metadata": {
    "ExecuteTime": {
     "end_time": "2022-11-22T08:09:24.641279Z",
     "start_time": "2022-11-22T08:09:24.633279Z"
    }
   },
   "outputs": [
    {
     "name": "stdout",
     "output_type": "stream",
     "text": [
      "오차 행렬\n",
      "[[632 147]\n",
      " [155 677]]\n",
      "정확도: 0.8125, 정밀도: 0.8216,     재현율: 0.8137, F1: 0.8176\n"
     ]
    }
   ],
   "source": [
    "# get_clf_eval(y_val, val_pred, val_proba)"
   ]
  }
 ],
 "metadata": {
  "kernelspec": {
   "display_name": "Python 3 (ipykernel)",
   "language": "python",
   "name": "python3"
  },
  "language_info": {
   "codemirror_mode": {
    "name": "ipython",
    "version": 3
   },
   "file_extension": ".py",
   "mimetype": "text/x-python",
   "name": "python",
   "nbconvert_exporter": "python",
   "pygments_lexer": "ipython3",
   "version": "3.9.7"
  },
  "toc": {
   "base_numbering": 1,
   "nav_menu": {},
   "number_sections": true,
   "sideBar": true,
   "skip_h1_title": false,
   "title_cell": "Table of Contents",
   "title_sidebar": "Contents",
   "toc_cell": false,
   "toc_position": {},
   "toc_section_display": true,
   "toc_window_display": true
  }
 },
 "nbformat": 4,
 "nbformat_minor": 5
}
