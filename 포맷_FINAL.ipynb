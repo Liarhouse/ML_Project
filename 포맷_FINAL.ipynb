{
 "cells": [
  {
   "cell_type": "markdown",
   "id": "e36151e8",
   "metadata": {},
   "source": [
    "# 라이브러리 호출"
   ]
  },
  {
   "cell_type": "code",
   "execution_count": 1,
   "id": "93a37513",
   "metadata": {
    "ExecuteTime": {
     "end_time": "2022-11-25T02:39:14.841707Z",
     "start_time": "2022-11-25T02:39:09.572158Z"
    }
   },
   "outputs": [
    {
     "name": "stderr",
     "output_type": "stream",
     "text": [
      "[nltk_data] Downloading package names to\n",
      "[nltk_data]     C:\\Users\\admin\\AppData\\Roaming\\nltk_data...\n",
      "[nltk_data]   Package names is already up-to-date!\n"
     ]
    }
   ],
   "source": [
    "import numpy as np # Numpy\n",
    "import pandas as pd # Pandas\n",
    "import matplotlib as mpl #Matplotlib 세팅용\n",
    "import matplotlib.pyplot as plt # 시각화 도구\n",
    "import seaborn as sns # 시각화 도구\n",
    "from sklearn.preprocessing import StandardScaler, MinMaxScaler # 스케일링\n",
    "from sklearn.model_selection import train_test_split # 데이터셋 분리\n",
    "from sklearn.model_selection import KFold # KFold 교차검증\n",
    "from sklearn.cluster import KMeans # 클러스터링\n",
    "from sklearn.metrics import silhouette_score # 실루엣 점수\n",
    "import xgboost as xgb # XGBoost\n",
    "from sklearn.model_selection import GridSearchCV # 그리드 서치\n",
    "from sklearn.metrics import accuracy_score, precision_score # 평가 지표\n",
    "from sklearn.metrics import recall_score, confusion_matrix, roc_auc_score, f1_score # 평가 지표\n",
    "from imblearn.combine import SMOTEENN, SMOTETomek # 복합샘플링\n",
    "from hyperopt import hp, fmin, tpe, Trials # HyperOPT\n",
    "from nltk.corpus import names # nltk\n",
    "import nltk\n",
    "nltk.download(\"names\")\n",
    "from nltk import NaiveBayesClassifier\n",
    "from scipy import stats\n",
    "from collections import Counter\n",
    "import random\n",
    "\n",
    "import warnings # 경고문 제거용\n",
    "\n",
    "\n",
    "%matplotlib inline\n",
    "%config Inlinebackend.figure_format = 'retina'\n",
    "\n",
    "# 한글 폰트 설정\n",
    "mpl.rc('font', family='D2Coding')\n",
    "# 유니코드에서 음수 부호 설정\n",
    "mpl.rc('axes', unicode_minus = False)\n",
    "\n",
    "warnings.filterwarnings('ignore')\n",
    "sns.set(font=\"D2Coding\", rc={\"axes.unicode_minus\":False}, style='darkgrid')\n",
    "plt.rc('figure', figsize=(10,8))"
   ]
  },
  {
   "cell_type": "markdown",
   "id": "4ec34e8c",
   "metadata": {},
   "source": [
    "# 데이터로딩"
   ]
  },
  {
   "cell_type": "code",
   "execution_count": 2,
   "id": "1bcaa6f0",
   "metadata": {
    "ExecuteTime": {
     "end_time": "2022-11-25T02:39:17.300105Z",
     "start_time": "2022-11-25T02:39:14.843685Z"
    }
   },
   "outputs": [
    {
     "name": "stdout",
     "output_type": "stream",
     "text": [
      "<class 'pandas.core.frame.DataFrame'>\n",
      "RangeIndex: 8693 entries, 0 to 8692\n",
      "Data columns (total 18 columns):\n",
      " #   Column        Non-Null Count  Dtype  \n",
      "---  ------        --------------  -----  \n",
      " 0   PassengerId   8693 non-null   object \n",
      " 1   HomePlanet    8693 non-null   object \n",
      " 2   CryoSleep     8693 non-null   bool   \n",
      " 3   Cabin1        8590 non-null   object \n",
      " 4   Cabin2        8590 non-null   float64\n",
      " 5   Combi         8590 non-null   object \n",
      " 6   Cabin3        8590 non-null   object \n",
      " 7   Cabin         8590 non-null   object \n",
      " 8   Destination   8693 non-null   object \n",
      " 9   Age           8693 non-null   int64  \n",
      " 10  VIP           8693 non-null   bool   \n",
      " 11  RoomService   8693 non-null   int64  \n",
      " 12  FoodCourt     8693 non-null   int64  \n",
      " 13  ShoppingMall  8693 non-null   int64  \n",
      " 14  Spa           8693 non-null   int64  \n",
      " 15  VRDeck        8693 non-null   int64  \n",
      " 16  Name          8493 non-null   object \n",
      " 17  Transported   8693 non-null   bool   \n",
      "dtypes: bool(3), float64(1), int64(6), object(8)\n",
      "memory usage: 1.0+ MB\n"
     ]
    }
   ],
   "source": [
    "data = pd.read_excel('train_test_na_filled.xlsx', sheet_name='Train')\n",
    "data.info()"
   ]
  },
  {
   "cell_type": "code",
   "execution_count": 3,
   "id": "7add291b",
   "metadata": {
    "ExecuteTime": {
     "end_time": "2022-11-25T02:39:18.664875Z",
     "start_time": "2022-11-25T02:39:17.301093Z"
    }
   },
   "outputs": [
    {
     "data": {
      "text/html": [
       "<div>\n",
       "<style scoped>\n",
       "    .dataframe tbody tr th:only-of-type {\n",
       "        vertical-align: middle;\n",
       "    }\n",
       "\n",
       "    .dataframe tbody tr th {\n",
       "        vertical-align: top;\n",
       "    }\n",
       "\n",
       "    .dataframe thead th {\n",
       "        text-align: right;\n",
       "    }\n",
       "</style>\n",
       "<table border=\"1\" class=\"dataframe\">\n",
       "  <thead>\n",
       "    <tr style=\"text-align: right;\">\n",
       "      <th></th>\n",
       "      <th>PassengerId</th>\n",
       "      <th>HomePlanet</th>\n",
       "      <th>CryoSleep</th>\n",
       "      <th>Cabin1</th>\n",
       "      <th>Cabin2</th>\n",
       "      <th>Combi</th>\n",
       "      <th>Cabin3</th>\n",
       "      <th>Cabin</th>\n",
       "      <th>Destination</th>\n",
       "      <th>Age</th>\n",
       "      <th>VIP</th>\n",
       "      <th>RoomService</th>\n",
       "      <th>FoodCourt</th>\n",
       "      <th>ShoppingMall</th>\n",
       "      <th>Spa</th>\n",
       "      <th>VRDeck</th>\n",
       "      <th>Name</th>\n",
       "      <th>Transported</th>\n",
       "    </tr>\n",
       "  </thead>\n",
       "  <tbody>\n",
       "    <tr>\n",
       "      <th>0</th>\n",
       "      <td>0013_01</td>\n",
       "      <td>Earth</td>\n",
       "      <td>True</td>\n",
       "      <td>G</td>\n",
       "      <td>3.0</td>\n",
       "      <td>G3</td>\n",
       "      <td>S</td>\n",
       "      <td>G/3/S</td>\n",
       "      <td>TRAPPIST-1e</td>\n",
       "      <td>27</td>\n",
       "      <td>False</td>\n",
       "      <td>0</td>\n",
       "      <td>0</td>\n",
       "      <td>0</td>\n",
       "      <td>0</td>\n",
       "      <td>0</td>\n",
       "      <td>Nelly Carsoning</td>\n",
       "      <td>NaN</td>\n",
       "    </tr>\n",
       "    <tr>\n",
       "      <th>1</th>\n",
       "      <td>0018_01</td>\n",
       "      <td>Earth</td>\n",
       "      <td>False</td>\n",
       "      <td>F</td>\n",
       "      <td>4.0</td>\n",
       "      <td>F4</td>\n",
       "      <td>S</td>\n",
       "      <td>F/4/S</td>\n",
       "      <td>TRAPPIST-1e</td>\n",
       "      <td>19</td>\n",
       "      <td>False</td>\n",
       "      <td>0</td>\n",
       "      <td>9</td>\n",
       "      <td>0</td>\n",
       "      <td>2823</td>\n",
       "      <td>0</td>\n",
       "      <td>Lerome Peckers</td>\n",
       "      <td>NaN</td>\n",
       "    </tr>\n",
       "    <tr>\n",
       "      <th>2</th>\n",
       "      <td>0019_01</td>\n",
       "      <td>Europa</td>\n",
       "      <td>True</td>\n",
       "      <td>C</td>\n",
       "      <td>0.0</td>\n",
       "      <td>C0</td>\n",
       "      <td>S</td>\n",
       "      <td>C/0/S</td>\n",
       "      <td>55 Cancri e</td>\n",
       "      <td>31</td>\n",
       "      <td>False</td>\n",
       "      <td>0</td>\n",
       "      <td>0</td>\n",
       "      <td>0</td>\n",
       "      <td>0</td>\n",
       "      <td>0</td>\n",
       "      <td>Sabih Unhearfus</td>\n",
       "      <td>NaN</td>\n",
       "    </tr>\n",
       "    <tr>\n",
       "      <th>3</th>\n",
       "      <td>0021_01</td>\n",
       "      <td>Europa</td>\n",
       "      <td>False</td>\n",
       "      <td>C</td>\n",
       "      <td>1.0</td>\n",
       "      <td>C1</td>\n",
       "      <td>S</td>\n",
       "      <td>C/1/S</td>\n",
       "      <td>TRAPPIST-1e</td>\n",
       "      <td>38</td>\n",
       "      <td>False</td>\n",
       "      <td>0</td>\n",
       "      <td>6652</td>\n",
       "      <td>0</td>\n",
       "      <td>181</td>\n",
       "      <td>585</td>\n",
       "      <td>Meratz Caltilter</td>\n",
       "      <td>NaN</td>\n",
       "    </tr>\n",
       "    <tr>\n",
       "      <th>4</th>\n",
       "      <td>0023_01</td>\n",
       "      <td>Earth</td>\n",
       "      <td>False</td>\n",
       "      <td>F</td>\n",
       "      <td>5.0</td>\n",
       "      <td>F5</td>\n",
       "      <td>S</td>\n",
       "      <td>F/5/S</td>\n",
       "      <td>TRAPPIST-1e</td>\n",
       "      <td>20</td>\n",
       "      <td>False</td>\n",
       "      <td>10</td>\n",
       "      <td>0</td>\n",
       "      <td>635</td>\n",
       "      <td>0</td>\n",
       "      <td>0</td>\n",
       "      <td>Brence Harperez</td>\n",
       "      <td>NaN</td>\n",
       "    </tr>\n",
       "  </tbody>\n",
       "</table>\n",
       "</div>"
      ],
      "text/plain": [
       "  PassengerId HomePlanet  CryoSleep Cabin1  Cabin2 Combi Cabin3  Cabin  \\\n",
       "0     0013_01      Earth       True      G     3.0    G3      S  G/3/S   \n",
       "1     0018_01      Earth      False      F     4.0    F4      S  F/4/S   \n",
       "2     0019_01     Europa       True      C     0.0    C0      S  C/0/S   \n",
       "3     0021_01     Europa      False      C     1.0    C1      S  C/1/S   \n",
       "4     0023_01      Earth      False      F     5.0    F5      S  F/5/S   \n",
       "\n",
       "   Destination  Age    VIP  RoomService  FoodCourt  ShoppingMall   Spa  \\\n",
       "0  TRAPPIST-1e   27  False            0          0             0     0   \n",
       "1  TRAPPIST-1e   19  False            0          9             0  2823   \n",
       "2  55 Cancri e   31  False            0          0             0     0   \n",
       "3  TRAPPIST-1e   38  False            0       6652             0   181   \n",
       "4  TRAPPIST-1e   20  False           10          0           635     0   \n",
       "\n",
       "   VRDeck              Name  Transported  \n",
       "0       0   Nelly Carsoning          NaN  \n",
       "1       0    Lerome Peckers          NaN  \n",
       "2       0   Sabih Unhearfus          NaN  \n",
       "3     585  Meratz Caltilter          NaN  \n",
       "4       0   Brence Harperez          NaN  "
      ]
     },
     "execution_count": 3,
     "metadata": {},
     "output_type": "execute_result"
    }
   ],
   "source": [
    "test = pd.read_excel('train_test_na_filled.xlsx', sheet_name='Test')\n",
    "test.head()"
   ]
  },
  {
   "cell_type": "markdown",
   "id": "c6815030",
   "metadata": {},
   "source": [
    "# 탐색"
   ]
  },
  {
   "cell_type": "markdown",
   "id": "110e02ce",
   "metadata": {},
   "source": [
    "## ANOVA 분석"
   ]
  },
  {
   "cell_type": "code",
   "execution_count": 4,
   "id": "49910a0f",
   "metadata": {
    "ExecuteTime": {
     "end_time": "2022-11-25T02:39:18.709756Z",
     "start_time": "2022-11-25T02:39:18.666871Z"
    },
    "scrolled": true
   },
   "outputs": [
    {
     "name": "stdout",
     "output_type": "stream",
     "text": [
      "Cabin2은/는 예측에 중요하지않은 feature입니다.\n",
      "Age은/는 예측에 중요한 feature입니다.\n",
      "RoomService은/는 예측에 중요한 feature입니다.\n",
      "FoodCourt은/는 예측에 중요한 feature입니다.\n",
      "ShoppingMall은/는 예측에 중요하지않은 feature입니다.\n",
      "Spa은/는 예측에 중요한 feature입니다.\n",
      "VRDeck은/는 예측에 중요한 feature입니다.\n"
     ]
    }
   ],
   "source": [
    "numeric_data = [column for column in data.select_dtypes([\"int\", \"float\"])]\n",
    "\n",
    "for column in numeric_data:\n",
    "  df_anova = data[[column,'Transported']]\n",
    "  grouped_anova = df_anova.groupby(['Transported'])\n",
    "  f_value, p_value = stats.f_oneway(grouped_anova.get_group(True)[column],\n",
    "                                    grouped_anova.get_group(False)[column])\n",
    "  result = \"\"\n",
    "  if p_value < 0.05:\n",
    "    result = \"{}은/는 예측에 중요한 feature입니다.\".format(column)\n",
    "  else:\n",
    "    result = \"{}은/는 예측에 중요하지않은 feature입니다.\".format(column)\n",
    "  print(result)"
   ]
  },
  {
   "cell_type": "code",
   "execution_count": 5,
   "id": "bd761bd6",
   "metadata": {
    "ExecuteTime": {
     "end_time": "2022-11-25T02:39:18.724716Z",
     "start_time": "2022-11-25T02:39:18.710753Z"
    }
   },
   "outputs": [],
   "source": [
    "def outlier_detection_train(df, n, columns):\n",
    "    rows = []\n",
    "    will_drop_train = []\n",
    "    for col in columns:\n",
    "        Q1 = np.nanpercentile(df[col], 25)\n",
    "        Q3 = np.nanpercentile(df[col], 75)\n",
    "        IQR = Q3 - Q1\n",
    "        outlier_point = 1.5 * IQR\n",
    "        rows.extend(df[(df[col] < Q1 - outlier_point)|(df[col] > Q3 + outlier_point)].index)\n",
    "    for r, c in Counter(rows).items():\n",
    "        if c >= n: will_drop_train.append(r)\n",
    "    return will_drop_train"
   ]
  },
  {
   "cell_type": "code",
   "execution_count": 6,
   "id": "d2d05ec3",
   "metadata": {
    "ExecuteTime": {
     "end_time": "2022-11-25T02:39:18.739676Z",
     "start_time": "2022-11-25T02:39:18.725713Z"
    },
    "scrolled": true
   },
   "outputs": [],
   "source": [
    "data.drop('Cabin2', inplace=True, axis=1)"
   ]
  },
  {
   "cell_type": "code",
   "execution_count": 7,
   "id": "5a9c24b1",
   "metadata": {
    "ExecuteTime": {
     "end_time": "2022-11-25T02:39:18.754637Z",
     "start_time": "2022-11-25T02:39:18.740673Z"
    }
   },
   "outputs": [],
   "source": [
    "test.drop('Cabin2', inplace=True, axis=1)"
   ]
  },
  {
   "cell_type": "code",
   "execution_count": 8,
   "id": "6a57b4f7",
   "metadata": {
    "ExecuteTime": {
     "end_time": "2022-11-25T02:39:18.770113Z",
     "start_time": "2022-11-25T02:39:18.756631Z"
    }
   },
   "outputs": [
    {
     "data": {
      "text/plain": [
       "Index(['PassengerId', 'HomePlanet', 'CryoSleep', 'Cabin1', 'Combi', 'Cabin3',\n",
       "       'Cabin', 'Destination', 'Age', 'VIP', 'RoomService', 'FoodCourt',\n",
       "       'ShoppingMall', 'Spa', 'VRDeck', 'Name', 'Transported'],\n",
       "      dtype='object')"
      ]
     },
     "execution_count": 8,
     "metadata": {},
     "output_type": "execute_result"
    }
   ],
   "source": [
    "data.columns"
   ]
  },
  {
   "cell_type": "markdown",
   "id": "420df8f2",
   "metadata": {},
   "source": [
    "# 또처리~"
   ]
  },
  {
   "cell_type": "code",
   "execution_count": null,
   "id": "88b0fe21",
   "metadata": {
    "ExecuteTime": {
     "end_time": "2022-11-23T05:28:49.496781Z",
     "start_time": "2022-11-23T05:28:49.467563Z"
    }
   },
   "outputs": [],
   "source": []
  },
  {
   "cell_type": "markdown",
   "id": "1476a238",
   "metadata": {},
   "source": [
    "## 이상치 확인 및 제거"
   ]
  },
  {
   "cell_type": "code",
   "execution_count": 9,
   "id": "e18e5389",
   "metadata": {
    "ExecuteTime": {
     "end_time": "2022-11-25T02:39:18.785072Z",
     "start_time": "2022-11-25T02:39:18.772110Z"
    }
   },
   "outputs": [],
   "source": [
    "def outlier_detection_train(df, n, columns):\n",
    "    rows = []\n",
    "    will_drop_train = []\n",
    "    for col in columns:\n",
    "        Q1 = np.nanpercentile(data[col], 25)\n",
    "        Q3 = np.nanpercentile(data[col], 75)\n",
    "        IQR = Q3 - Q1\n",
    "        outlier_point = 1.5 * IQR\n",
    "        rows.extend(df[(df[col] < Q1 - outlier_point)|(df[col] > Q3 + outlier_point)].index)\n",
    "    for r, c in Counter(rows).items():\n",
    "        if c >= n: will_drop_train.append(r)\n",
    "    return will_drop_train"
   ]
  },
  {
   "cell_type": "code",
   "execution_count": 10,
   "id": "b51ff506",
   "metadata": {
    "ExecuteTime": {
     "end_time": "2022-11-25T02:39:18.814991Z",
     "start_time": "2022-11-25T02:39:18.789075Z"
    }
   },
   "outputs": [
    {
     "data": {
      "text/plain": [
       "[338,\n",
       " 1390,\n",
       " 6469,\n",
       " 7038,\n",
       " 1936,\n",
       " 3317,\n",
       " 3980,\n",
       " 4762,\n",
       " 6509,\n",
       " 7007,\n",
       " 7065,\n",
       " 7294,\n",
       " 7689,\n",
       " 7957,\n",
       " 8064]"
      ]
     },
     "execution_count": 10,
     "metadata": {},
     "output_type": "execute_result"
    }
   ],
   "source": [
    "will_drop_train = outlier_detection_train(data, 5 ,data.select_dtypes([\"float\", \"int\"]).columns)\n",
    "will_drop_train"
   ]
  },
  {
   "cell_type": "code",
   "execution_count": 11,
   "id": "e641e1ff",
   "metadata": {
    "ExecuteTime": {
     "end_time": "2022-11-25T02:39:18.829954Z",
     "start_time": "2022-11-25T02:39:18.816987Z"
    }
   },
   "outputs": [],
   "source": [
    "data.drop(will_drop_train, inplace = True, axis = 0)"
   ]
  },
  {
   "cell_type": "markdown",
   "id": "f1ff624b",
   "metadata": {},
   "source": [
    "## 새로운 feature 생성"
   ]
  },
  {
   "cell_type": "markdown",
   "id": "add80a5c",
   "metadata": {},
   "source": [
    "### 총 사용금액, 그리고 사용한 금액에 따라 poor, middle, rich로 분류"
   ]
  },
  {
   "cell_type": "code",
   "execution_count": 12,
   "id": "4dd441f5",
   "metadata": {
    "ExecuteTime": {
     "end_time": "2022-11-25T02:39:18.844916Z",
     "start_time": "2022-11-25T02:39:18.830949Z"
    }
   },
   "outputs": [],
   "source": [
    "data[\"Total\"] = data[\"RoomService\"] + data[\"FoodCourt\"] + data[\"ShoppingMall\"] + data[\"Spa\"] +\\\n",
    "data[\"VRDeck\"] \n",
    "data[\"RichPoor\"] = data[\"Total\"].apply(lambda x: \"poor\" if x < 5000\\\n",
    "                                       else (\"middle\" if x>=5000 and x<20000 else \"rich\"))\n",
    "\n",
    "test[\"Total\"] = test[\"RoomService\"] + test[\"FoodCourt\"] + test[\"ShoppingMall\"] + test[\"Spa\"] +\\\n",
    "test[\"VRDeck\"] \n",
    "test[\"RichPoor\"] = test[\"Total\"].apply(lambda x: \"poor\" if x < 5000\\\n",
    "                                       else (\"middle\" if x>=5000 and x<20000 else \"rich\"))"
   ]
  },
  {
   "cell_type": "markdown",
   "id": "ed7cb334",
   "metadata": {},
   "source": [
    "### 그룹여행객 여부"
   ]
  },
  {
   "cell_type": "code",
   "execution_count": 13,
   "id": "c00842f5",
   "metadata": {
    "ExecuteTime": {
     "end_time": "2022-11-25T02:39:19.429993Z",
     "start_time": "2022-11-25T02:39:18.846915Z"
    }
   },
   "outputs": [],
   "source": [
    "data[\"GroupId\"] = data[\"PassengerId\"].apply(lambda x: x.split(\"_\")[0])\n",
    "test[\"GroupId\"] = test[\"PassengerId\"].apply(lambda x: x.split(\"_\")[0])\n",
    "data[\"GroupNo\"] = data[\"PassengerId\"].apply(lambda x: x.split(\"_\")[1])\n",
    "test[\"GroupNo\"] = test[\"PassengerId\"].apply(lambda x: x.split(\"_\")[1])\n",
    "\n",
    "train_g = data[data[\"GroupId\"].duplicated()][\"GroupId\"]\n",
    "test_g = test[test[\"GroupId\"].duplicated()][\"GroupId\"]\n",
    "data[\"Group\"] = data[\"GroupId\"].apply(lambda x: x in train_g.values)\n",
    "test[\"Group\"] = test[\"GroupId\"].apply(lambda x: x in test_g.values)"
   ]
  },
  {
   "cell_type": "code",
   "execution_count": 14,
   "id": "1553eecf",
   "metadata": {
    "ExecuteTime": {
     "end_time": "2022-11-25T02:39:19.460611Z",
     "start_time": "2022-11-25T02:39:19.430724Z"
    }
   },
   "outputs": [
    {
     "name": "stdout",
     "output_type": "stream",
     "text": [
      "<class 'pandas.core.frame.DataFrame'>\n",
      "Int64Index: 8678 entries, 0 to 8692\n",
      "Data columns (total 22 columns):\n",
      " #   Column        Non-Null Count  Dtype \n",
      "---  ------        --------------  ----- \n",
      " 0   PassengerId   8678 non-null   object\n",
      " 1   HomePlanet    8678 non-null   object\n",
      " 2   CryoSleep     8678 non-null   bool  \n",
      " 3   Cabin1        8575 non-null   object\n",
      " 4   Combi         8575 non-null   object\n",
      " 5   Cabin3        8575 non-null   object\n",
      " 6   Cabin         8575 non-null   object\n",
      " 7   Destination   8678 non-null   object\n",
      " 8   Age           8678 non-null   int64 \n",
      " 9   VIP           8678 non-null   bool  \n",
      " 10  RoomService   8678 non-null   int64 \n",
      " 11  FoodCourt     8678 non-null   int64 \n",
      " 12  ShoppingMall  8678 non-null   int64 \n",
      " 13  Spa           8678 non-null   int64 \n",
      " 14  VRDeck        8678 non-null   int64 \n",
      " 15  Name          8478 non-null   object\n",
      " 16  Transported   8678 non-null   bool  \n",
      " 17  Total         8678 non-null   int64 \n",
      " 18  RichPoor      8678 non-null   object\n",
      " 19  GroupId       8678 non-null   object\n",
      " 20  GroupNo       8678 non-null   object\n",
      " 21  Group         8678 non-null   bool  \n",
      "dtypes: bool(4), int64(7), object(11)\n",
      "memory usage: 1.3+ MB\n"
     ]
    }
   ],
   "source": [
    "data.info()"
   ]
  },
  {
   "cell_type": "markdown",
   "id": "770cf97f",
   "metadata": {},
   "source": [
    "### 나이브 베어스를 활용한 이름을 통한 성별 분류"
   ]
  },
  {
   "cell_type": "code",
   "execution_count": 15,
   "id": "3a681a48",
   "metadata": {
    "ExecuteTime": {
     "end_time": "2022-11-25T02:39:19.475588Z",
     "start_time": "2022-11-25T02:39:19.461601Z"
    }
   },
   "outputs": [],
   "source": [
    "# Train_Data\n",
    "names_train_data = []\n",
    "for n in data[\"Name\"]:\n",
    "    n = str(n)\n",
    "    a = n.split()\n",
    "    names_train_data.append(a[0])"
   ]
  },
  {
   "cell_type": "markdown",
   "id": "45dfb8f1",
   "metadata": {},
   "source": [
    "#### 훈련셋"
   ]
  },
  {
   "cell_type": "code",
   "execution_count": 16,
   "id": "763ad2af",
   "metadata": {
    "ExecuteTime": {
     "end_time": "2022-11-25T02:39:19.490530Z",
     "start_time": "2022-11-25T02:39:19.476560Z"
    }
   },
   "outputs": [],
   "source": [
    "# 이름과 성 분리\n",
    "names_train_data = []\n",
    "for i in data[\"Name\"]:\n",
    "    i = str(i)\n",
    "    a = i.split()\n",
    "    names_train_data.append(a[0])"
   ]
  },
  {
   "cell_type": "code",
   "execution_count": 17,
   "id": "41aac228",
   "metadata": {
    "ExecuteTime": {
     "end_time": "2022-11-25T02:39:19.520442Z",
     "start_time": "2022-11-25T02:39:19.491521Z"
    }
   },
   "outputs": [],
   "source": [
    "# NLTK의 names 파일을 활용하여 이름을 여성과 남성으로 분리\n",
    "labeled_names = [(name, \"female\") for name in names.words(\"female.txt\")] + \\\n",
    "[(name, \"male\") for name in names.words(\"male.txt\")]\n",
    "random.shuffle(labeled_names)"
   ]
  },
  {
   "cell_type": "code",
   "execution_count": 18,
   "id": "b64b839d",
   "metadata": {
    "ExecuteTime": {
     "end_time": "2022-11-25T02:39:19.535403Z",
     "start_time": "2022-11-25T02:39:19.522437Z"
    }
   },
   "outputs": [],
   "source": [
    "# 이름의 마지막 단어 가져오는 함수\n",
    "def gender_features(word):\n",
    "    return {'last_letter': word[-1]}"
   ]
  },
  {
   "cell_type": "code",
   "execution_count": 19,
   "id": "576e9dd1",
   "metadata": {
    "ExecuteTime": {
     "end_time": "2022-11-25T02:39:19.565322Z",
     "start_time": "2022-11-25T02:39:19.536400Z"
    }
   },
   "outputs": [
    {
     "data": {
      "text/plain": [
       "['Maham',\n",
       " 'Juanna',\n",
       " 'Altark',\n",
       " 'Solam',\n",
       " 'Willy',\n",
       " 'Sandie',\n",
       " 'Billex',\n",
       " 'Candra',\n",
       " 'Andona',\n",
       " 'Erraiam',\n",
       " 'Altardr',\n",
       " 'Wezena',\n",
       " 'Berers',\n",
       " 'Reney',\n",
       " 'Elle',\n",
       " 'Justie',\n",
       " 'Flats',\n",
       " 'Carry',\n",
       " 'Alus',\n",
       " 'Lyde',\n",
       " 'Philda',\n",
       " 'Almary',\n",
       " 'Glendy',\n",
       " 'Mollen',\n",
       " 'Breney',\n",
       " 'Mael',\n",
       " 'Terta',\n",
       " 'nan',\n",
       " 'Penton',\n",
       " 'Karard',\n",
       " 'Anyoni',\n",
       " 'Ceros',\n",
       " 'Ginia',\n",
       " 'Coobix',\n",
       " 'Cinets',\n",
       " 'Dontch',\n",
       " 'Ziba',\n",
       " 'Luse',\n",
       " 'Marina',\n",
       " 'Loise',\n",
       " 'Jorgie',\n",
       " 'Margia',\n",
       " 'Ankalik',\n",
       " 'Jodye',\n",
       " 'Kayne',\n",
       " 'Cassa',\n",
       " 'Zelowl',\n",
       " 'Mass',\n",
       " 'Sony',\n",
       " 'Vivia',\n",
       " 'Elaney',\n",
       " 'Elson',\n",
       " 'Okulas',\n",
       " 'Instab',\n",
       " 'Zinoces',\n",
       " 'Warry',\n",
       " 'Shanya',\n",
       " 'Sterry',\n",
       " 'nan',\n",
       " 'Colatz',\n",
       " 'Diandy',\n",
       " 'Ninaha',\n",
       " 'Celine',\n",
       " 'Velyne',\n",
       " 'Cinst',\n",
       " 'nan',\n",
       " 'Meremy',\n",
       " 'Nelly',\n",
       " 'Thell',\n",
       " 'Gorn',\n",
       " 'Aldibah',\n",
       " 'Conk',\n",
       " 'Pon',\n",
       " 'Spuri',\n",
       " 'Dellie',\n",
       " 'Totse',\n",
       " 'Eaturs',\n",
       " 'nan',\n",
       " 'Coren',\n",
       " 'Furudah',\n",
       " 'Jodye',\n",
       " 'Stmeal',\n",
       " 'Heremy',\n",
       " 'Deanne',\n",
       " 'Tinez',\n",
       " 'Gracy',\n",
       " 'Stald',\n",
       " 'Tiney',\n",
       " 'Alchium',\n",
       " 'Doria',\n",
       " 'Leence',\n",
       " 'Aliey',\n",
       " 'Thewis',\n",
       " 'Book',\n",
       " 'Ritany',\n",
       " 'Arlen',\n",
       " 'Shaele',\n",
       " 'Fanne',\n",
       " 'Carry',\n",
       " 'Coobix',\n",
       " 'Natald',\n",
       " 'nan',\n",
       " 'Oline',\n",
       " 'Graviph',\n",
       " 'Aldeba',\n",
       " 'Alaratz',\n",
       " 'Izark',\n",
       " 'Aldera',\n",
       " 'Moth',\n",
       " 'Idary',\n",
       " 'Maura',\n",
       " 'Rohs',\n",
       " 'Alhenah',\n",
       " 'Batan',\n",
       " 'Kleeiak',\n",
       " 'Bees',\n",
       " 'Shelle',\n",
       " 'Iree',\n",
       " 'Milly',\n",
       " 'Miloss',\n",
       " 'Grohs',\n",
       " 'Barave',\n",
       " 'Race',\n",
       " 'Flynx',\n",
       " 'Egrasp',\n",
       " 'Camina',\n",
       " 'nan',\n",
       " 'Fayene',\n",
       " 'Monah',\n",
       " 'Charda',\n",
       " 'Evaley',\n",
       " 'Verney',\n",
       " 'Pyrohs',\n",
       " 'Guadae',\n",
       " 'Verly',\n",
       " 'Samie',\n",
       " 'Corsh',\n",
       " 'Billya',\n",
       " 'Shanie',\n",
       " 'Andan',\n",
       " 'Gory',\n",
       " 'Kabiton',\n",
       " 'Scharab',\n",
       " 'Fany',\n",
       " 'Ianya',\n",
       " 'Graven',\n",
       " 'Miten',\n",
       " 'Rios',\n",
       " 'Wandy',\n",
       " 'Mollie',\n",
       " 'Coracy',\n",
       " 'Hanna',\n",
       " 'Hilip',\n",
       " 'Doryn',\n",
       " 'Toperon',\n",
       " 'Wees',\n",
       " 'Elaney',\n",
       " 'Raque',\n",
       " 'Sallyl',\n",
       " 'Nancis',\n",
       " 'Ksorab',\n",
       " 'Stany',\n",
       " 'Camiet',\n",
       " 'Branda',\n",
       " 'Helly',\n",
       " 'nan',\n",
       " 'Tance',\n",
       " 'Robyny',\n",
       " 'Lilace',\n",
       " 'Sps',\n",
       " 'Frook',\n",
       " 'Goles',\n",
       " 'Bar',\n",
       " 'Caper',\n",
       " 'Astrak',\n",
       " 'Jeroy',\n",
       " 'Regana',\n",
       " 'Elia',\n",
       " 'Kaffias',\n",
       " 'Edaruma',\n",
       " 'Pomera',\n",
       " 'Vegas',\n",
       " 'Ancham',\n",
       " 'Carma',\n",
       " 'Nuson',\n",
       " 'Thony',\n",
       " 'Arraid',\n",
       " 'Pebuts',\n",
       " 'Corsh',\n",
       " 'Picers',\n",
       " 'Inen',\n",
       " 'Shally',\n",
       " 'Carita',\n",
       " 'Searla',\n",
       " 'Prilly',\n",
       " 'Nica',\n",
       " 'Tyle',\n",
       " 'Wena',\n",
       " 'Branca',\n",
       " 'Dont',\n",
       " 'Velyne',\n",
       " 'Weney',\n",
       " 'Guye',\n",
       " 'Cowhex',\n",
       " 'Yogark',\n",
       " 'Jacks',\n",
       " 'Eerch',\n",
       " 'Panbug',\n",
       " 'Gran',\n",
       " 'Rohs',\n",
       " 'Gone',\n",
       " 'Colf',\n",
       " 'Grake',\n",
       " 'Evan',\n",
       " 'Blues',\n",
       " 'Carly',\n",
       " 'Done',\n",
       " 'Krus',\n",
       " 'Nica',\n",
       " 'Teda',\n",
       " 'Keitha',\n",
       " 'Weias',\n",
       " 'Diedow',\n",
       " 'Puffes',\n",
       " 'Alas',\n",
       " 'Almone',\n",
       " 'Lilace',\n",
       " 'Froos',\n",
       " 'Tous',\n",
       " 'Glueba',\n",
       " 'Anchib',\n",
       " 'Mele',\n",
       " 'Genifi',\n",
       " 'Camily',\n",
       " 'Diphah',\n",
       " 'Leenny',\n",
       " 'Dawne',\n",
       " 'Race',\n",
       " 'Ashir',\n",
       " 'Errohs',\n",
       " 'Squars',\n",
       " 'Feryla',\n",
       " 'Segino',\n",
       " 'Dord',\n",
       " 'Maen',\n",
       " 'Etair',\n",
       " 'Lilace',\n",
       " 'Lerome',\n",
       " 'Cathya',\n",
       " 'Terf',\n",
       " 'Byront',\n",
       " 'Judya',\n",
       " 'Marice',\n",
       " 'Derine',\n",
       " 'Valex',\n",
       " 'Jacky',\n",
       " 'Roydo',\n",
       " 'Krabik',\n",
       " 'Grasath',\n",
       " 'Carita',\n",
       " 'Tetra',\n",
       " 'Alasym',\n",
       " 'Gory',\n",
       " 'Furuson',\n",
       " 'Skaton',\n",
       " 'Algor',\n",
       " 'Dhenar',\n",
       " 'Atino',\n",
       " 'Castab',\n",
       " 'Phonons',\n",
       " 'Ernice',\n",
       " 'Ashird',\n",
       " 'Margia',\n",
       " 'Lesley',\n",
       " 'Oraryn',\n",
       " 'Betena',\n",
       " 'Suhelik',\n",
       " 'Dony',\n",
       " 'Natald',\n",
       " 'Billya',\n",
       " 'Naviton',\n",
       " 'Briney',\n",
       " 'Jona',\n",
       " 'Jaimer',\n",
       " 'Hary',\n",
       " 'Kell',\n",
       " 'Adriet',\n",
       " 'Hallah',\n",
       " 'Beneba',\n",
       " 'Breney',\n",
       " 'Garley',\n",
       " 'Quites',\n",
       " 'Annya',\n",
       " 'Carma',\n",
       " 'Charly',\n",
       " 'Jasony',\n",
       " 'Bellah',\n",
       " 'nan',\n",
       " 'Hekaton',\n",
       " 'Lewise',\n",
       " 'Phios',\n",
       " 'Unfly',\n",
       " 'Maura',\n",
       " 'Guanch',\n",
       " 'Weros',\n",
       " 'nan',\n",
       " 'Ireen',\n",
       " 'Pentard',\n",
       " 'Lorian',\n",
       " 'Meremy',\n",
       " 'Berios',\n",
       " 'Lynney',\n",
       " 'Cousk',\n",
       " 'Stray',\n",
       " 'Weet',\n",
       " 'Loresa',\n",
       " 'Hits',\n",
       " 'Tricky',\n",
       " 'Pharmus',\n",
       " 'Eduard',\n",
       " 'Ronna',\n",
       " 'Dandy',\n",
       " 'Celine',\n",
       " 'Elancy',\n",
       " 'Virgie',\n",
       " 'Dandra',\n",
       " 'Resers',\n",
       " 'Batech',\n",
       " 'Veroy',\n",
       " 'Tine',\n",
       " 'Chrey',\n",
       " 'nan',\n",
       " 'Billex',\n",
       " 'Luzel',\n",
       " 'Francy',\n",
       " 'Wezncha',\n",
       " 'Bram',\n",
       " 'Marfak',\n",
       " 'Muonons',\n",
       " 'Polaton',\n",
       " 'Sollum',\n",
       " 'Achib',\n",
       " 'Brita',\n",
       " 'Zinopus',\n",
       " 'Mesatan',\n",
       " 'Aston',\n",
       " 'Blanie',\n",
       " 'Phia',\n",
       " 'Evane',\n",
       " 'Cliney',\n",
       " 'Ellard',\n",
       " 'Tanley',\n",
       " 'Verek',\n",
       " 'Fanna',\n",
       " 'Elanda',\n",
       " 'Dabik',\n",
       " 'Ward',\n",
       " 'Meropus',\n",
       " 'Hadyon',\n",
       " 'Brinez',\n",
       " 'Graw',\n",
       " 'Wales',\n",
       " 'Luse',\n",
       " 'Parney',\n",
       " 'Teron',\n",
       " 'Push',\n",
       " 'Denis',\n",
       " 'Dandy',\n",
       " 'Luzel',\n",
       " 'Dennya',\n",
       " 'Cus',\n",
       " 'Mats',\n",
       " 'Tyrona',\n",
       " 'Benny',\n",
       " 'Baton',\n",
       " 'Elina',\n",
       " 'Iney',\n",
       " 'Lesatik',\n",
       " 'Mirark',\n",
       " 'Enifik',\n",
       " 'Syrmark',\n",
       " 'Blesh',\n",
       " 'Cowns',\n",
       " 'Ree',\n",
       " 'Algor',\n",
       " 'Chargin',\n",
       " 'Aino',\n",
       " 'Taurak',\n",
       " 'Eliana',\n",
       " 'Fronch',\n",
       " 'Caper',\n",
       " 'Hekark',\n",
       " 'Naosura',\n",
       " 'Row',\n",
       " 'Allie',\n",
       " 'Sallyl',\n",
       " 'Lilace',\n",
       " 'Lynnee',\n",
       " 'Debora',\n",
       " 'Dyonon',\n",
       " 'Izarino',\n",
       " 'Loree',\n",
       " 'Elica',\n",
       " 'Camonk',\n",
       " 'Colal',\n",
       " 'Loria',\n",
       " 'Rice',\n",
       " 'Hadira',\n",
       " 'Ferry',\n",
       " 'Elara',\n",
       " 'nan',\n",
       " 'Nathy',\n",
       " 'Swafox',\n",
       " 'Aldun',\n",
       " 'Minopus',\n",
       " 'Wezena',\n",
       " 'Tabius',\n",
       " 'Etair',\n",
       " 'Hallux',\n",
       " 'Lulah',\n",
       " 'Leonyl',\n",
       " 'Sallyl',\n",
       " 'Joela',\n",
       " 'Zanin',\n",
       " 'Hardy',\n",
       " 'Shawne',\n",
       " 'Shany',\n",
       " 'Warry',\n",
       " 'Len',\n",
       " 'Ronia',\n",
       " 'Grats',\n",
       " 'Flamal',\n",
       " 'Deandy',\n",
       " 'Kyley',\n",
       " 'Aude',\n",
       " 'Haryn',\n",
       " 'Aptal',\n",
       " 'Jurs',\n",
       " 'Astab',\n",
       " 'Izarino',\n",
       " 'Stene',\n",
       " 'Nicey',\n",
       " 'Danie',\n",
       " 'Coves',\n",
       " 'Book',\n",
       " 'Beah',\n",
       " 'Benny',\n",
       " 'Chrisa',\n",
       " 'Gera',\n",
       " 'Anny',\n",
       " 'Isaacy',\n",
       " 'Furudah',\n",
       " 'Sadirak',\n",
       " 'Chery',\n",
       " 'Hanne',\n",
       " 'Batomam',\n",
       " 'Kastrak',\n",
       " 'Eclass',\n",
       " 'Yogark',\n",
       " 'Ots',\n",
       " 'Hadirk',\n",
       " 'Pigars',\n",
       " 'Gal',\n",
       " 'Torms',\n",
       " 'Pios',\n",
       " 'Thabius',\n",
       " 'Mirfar',\n",
       " 'Sterops',\n",
       " 'Tauria',\n",
       " 'Azharga',\n",
       " 'Alheneb',\n",
       " 'Kad',\n",
       " 'Kylen',\n",
       " 'Astrark',\n",
       " 'Sadirak',\n",
       " 'Ankalik',\n",
       " 'Rayley',\n",
       " 'Alramix',\n",
       " 'Vindem',\n",
       " 'Jandy',\n",
       " 'Soyos',\n",
       " 'Ryany',\n",
       " 'Bel',\n",
       " 'Hery',\n",
       " 'Glenry',\n",
       " 'Helley',\n",
       " 'Wenise',\n",
       " 'Supce',\n",
       " 'Llat',\n",
       " 'Alasmon',\n",
       " 'Ericia',\n",
       " 'Estine',\n",
       " 'Darley',\n",
       " 'Tops',\n",
       " 'Asellux',\n",
       " 'Weia',\n",
       " 'Kylen',\n",
       " 'Walla',\n",
       " 'Tard',\n",
       " 'Achyon',\n",
       " 'Alderak',\n",
       " 'Betenif',\n",
       " 'Mardyon',\n",
       " 'Jell',\n",
       " 'Rantax',\n",
       " 'Landa',\n",
       " 'Kaye',\n",
       " 'Shawne',\n",
       " 'Trick',\n",
       " 'Kariel',\n",
       " 'Warets',\n",
       " 'Guans',\n",
       " 'Maen',\n",
       " 'Stene',\n",
       " 'Minkab',\n",
       " 'Tope',\n",
       " 'Gluinol',\n",
       " 'Alraixa',\n",
       " 'Alhain',\n",
       " 'Jilla',\n",
       " 'Margia',\n",
       " 'Anniey',\n",
       " 'Tonyn',\n",
       " 'Annah',\n",
       " 'Jessa',\n",
       " 'Hamsp',\n",
       " 'Bath',\n",
       " 'Taura',\n",
       " 'Aldibi',\n",
       " 'Cines',\n",
       " 'Muls',\n",
       " 'Jeron',\n",
       " 'Enibik',\n",
       " 'Pentard',\n",
       " 'Tin',\n",
       " 'Chard',\n",
       " 'Branev',\n",
       " 'Alchium',\n",
       " 'Bahoton',\n",
       " 'Izark',\n",
       " 'Polam',\n",
       " 'Hasich',\n",
       " 'Isoton',\n",
       " 'Lesley',\n",
       " 'Deandy',\n",
       " 'Minoton',\n",
       " 'Melice',\n",
       " 'Gwendy',\n",
       " 'Greggy',\n",
       " 'Scotty',\n",
       " 'Guye',\n",
       " 'Chael',\n",
       " 'Dicks',\n",
       " 'Muebix',\n",
       " 'Beeres',\n",
       " 'Cricks',\n",
       " 'Graven',\n",
       " 'Sugard',\n",
       " 'Flams',\n",
       " 'Askeid',\n",
       " 'Gorn',\n",
       " 'Camiet',\n",
       " 'Maya',\n",
       " 'Chelsa',\n",
       " 'Loreen',\n",
       " 'Hon',\n",
       " 'Joana',\n",
       " 'Cores',\n",
       " 'Ton',\n",
       " 'Arllia',\n",
       " 'Bertle',\n",
       " 'Gabrin',\n",
       " 'Losp',\n",
       " 'Bases',\n",
       " 'Apple',\n",
       " 'Honjay',\n",
       " 'Muonon',\n",
       " 'Seats',\n",
       " 'Oats',\n",
       " 'Rana',\n",
       " 'Lyny',\n",
       " 'Dyonium',\n",
       " 'Mino',\n",
       " 'Pola',\n",
       " 'Maril',\n",
       " 'Guteda',\n",
       " 'Erie',\n",
       " 'Paulas',\n",
       " 'Achyon',\n",
       " 'Feline',\n",
       " 'Blancy',\n",
       " 'Elina',\n",
       " 'Stance',\n",
       " 'Philda',\n",
       " 'Troyce',\n",
       " 'Scellus',\n",
       " 'Ankabit',\n",
       " 'Ellene',\n",
       " 'Joela',\n",
       " 'Rickie',\n",
       " 'Cord',\n",
       " 'Croos',\n",
       " 'Cakes',\n",
       " 'Patoya',\n",
       " 'Ronna',\n",
       " 'Millia',\n",
       " 'Craine',\n",
       " 'Loresa',\n",
       " 'Cowl',\n",
       " 'Eleonon',\n",
       " 'Dory',\n",
       " 'Krisa',\n",
       " 'Dilatik',\n",
       " 'Aviton',\n",
       " 'Chabik',\n",
       " 'Tachir',\n",
       " 'Duhrk',\n",
       " 'Tran',\n",
       " 'Hadlam',\n",
       " 'Troyra',\n",
       " 'Errim',\n",
       " 'Lidex',\n",
       " 'Anack',\n",
       " 'Oareel',\n",
       " 'Eulah',\n",
       " 'Rionk',\n",
       " 'Phios',\n",
       " 'Nicey',\n",
       " 'nan',\n",
       " 'Glenna',\n",
       " 'Ernice',\n",
       " 'Stal',\n",
       " 'Leonyl',\n",
       " 'Misadr',\n",
       " 'Jeroy',\n",
       " 'Jabba',\n",
       " 'Cineys',\n",
       " 'Lix',\n",
       " 'Rician',\n",
       " 'Elanie',\n",
       " 'Veroy',\n",
       " 'Josey',\n",
       " 'Grette',\n",
       " 'Lorian',\n",
       " 'Bettie',\n",
       " 'Vana',\n",
       " 'Garyan',\n",
       " 'Annard',\n",
       " 'Joandy',\n",
       " 'Grany',\n",
       " 'Wheals',\n",
       " 'Sug',\n",
       " 'Trohs',\n",
       " 'Jack',\n",
       " 'Arl',\n",
       " 'Permit',\n",
       " 'Cheat',\n",
       " 'Lix',\n",
       " 'Goos',\n",
       " 'Chard',\n",
       " 'Yapich',\n",
       " 'Bubbix',\n",
       " 'Fis',\n",
       " 'Moss',\n",
       " 'Mothab',\n",
       " 'Tetraix',\n",
       " 'Stany',\n",
       " 'Dixiel',\n",
       " 'Roswal',\n",
       " 'Flyros',\n",
       " 'Menkibi',\n",
       " 'Briane',\n",
       " 'Brank',\n",
       " 'Adanne',\n",
       " 'Denny',\n",
       " 'Jorgie',\n",
       " 'Astorux',\n",
       " 'Thaban',\n",
       " 'Props',\n",
       " 'Nute',\n",
       " 'Pik',\n",
       " 'Crans',\n",
       " 'Vivia',\n",
       " 'Erie',\n",
       " 'Claine',\n",
       " 'Sony',\n",
       " 'Charry',\n",
       " 'Jeanny',\n",
       " 'Man',\n",
       " 'Brene',\n",
       " 'Izarfik',\n",
       " 'Alendy',\n",
       " 'Naros',\n",
       " 'Mela',\n",
       " 'Verly',\n",
       " 'Branda',\n",
       " 'Johna',\n",
       " 'Briam',\n",
       " 'Jilla',\n",
       " 'Lulah',\n",
       " 'Elinda',\n",
       " 'Lerion',\n",
       " 'Charmus',\n",
       " 'Ran',\n",
       " 'Dyonevi',\n",
       " 'Zaurah',\n",
       " 'Thab',\n",
       " 'Loree',\n",
       " 'Milyla',\n",
       " 'Tiney',\n",
       " 'Mesarix',\n",
       " 'nan',\n",
       " 'Matan',\n",
       " 'Atikard',\n",
       " 'Ashelik',\n",
       " 'Ranon',\n",
       " 'Hadalm',\n",
       " 'Mins',\n",
       " 'Izarki',\n",
       " 'Elody',\n",
       " 'Danna',\n",
       " 'Frus',\n",
       " 'Ponts',\n",
       " 'Francy',\n",
       " 'Maiam',\n",
       " 'Arix',\n",
       " 'Astrah',\n",
       " 'Alendy',\n",
       " 'Sanney',\n",
       " 'Hughy',\n",
       " 'Kimmy',\n",
       " 'Harlen',\n",
       " 'nan',\n",
       " 'Troyra',\n",
       " 'Minoton',\n",
       " 'Halleth',\n",
       " 'Weia',\n",
       " 'Arrain',\n",
       " 'Gwendy',\n",
       " 'Breney',\n",
       " 'Wasalm',\n",
       " 'Holey',\n",
       " 'Diandy',\n",
       " 'Clus',\n",
       " 'Grafirk',\n",
       " 'Francy',\n",
       " 'Robyny',\n",
       " 'Ritany',\n",
       " 'nan',\n",
       " 'Mesath',\n",
       " 'Auvan',\n",
       " 'Zaninon',\n",
       " 'Fanne',\n",
       " 'Neila',\n",
       " 'Millie',\n",
       " 'Nakes',\n",
       " 'Squars',\n",
       " 'Pristy',\n",
       " 'Alatrix',\n",
       " 'Hery',\n",
       " 'Ecco',\n",
       " 'Genibah',\n",
       " 'Plat',\n",
       " 'Glueba',\n",
       " 'Deaney',\n",
       " 'Bonyam',\n",
       " 'Benew',\n",
       " 'Oaters',\n",
       " 'Crin',\n",
       " 'Smal',\n",
       " 'Wales',\n",
       " 'Ranutz',\n",
       " 'Pan',\n",
       " 'Phams',\n",
       " 'Frouse',\n",
       " 'Wenise',\n",
       " 'Giedir',\n",
       " 'Carona',\n",
       " 'Ksorab',\n",
       " 'Patsya',\n",
       " 'Hanry',\n",
       " 'Sus',\n",
       " 'Scotte',\n",
       " 'Chadie',\n",
       " 'Wenten',\n",
       " 'Teda',\n",
       " 'Alendy',\n",
       " 'Danna',\n",
       " 'Juliey',\n",
       " 'Rosey',\n",
       " 'Myrace',\n",
       " 'Eilan',\n",
       " 'Tarmus',\n",
       " 'Garry',\n",
       " 'Briane',\n",
       " 'Set',\n",
       " 'Grumak',\n",
       " 'Ebonyd',\n",
       " 'Achbah',\n",
       " 'Tera',\n",
       " 'Sts',\n",
       " 'Monam',\n",
       " 'Cellum',\n",
       " 'Tareson',\n",
       " 'Koops',\n",
       " 'Iandy',\n",
       " 'Hamelik',\n",
       " 'Eleaha',\n",
       " 'nan',\n",
       " 'Jone',\n",
       " 'Lynez',\n",
       " 'Rald',\n",
       " 'nan',\n",
       " 'Neutria',\n",
       " 'Ernice',\n",
       " 'Ianya',\n",
       " 'Hilley',\n",
       " 'Dessie',\n",
       " 'Polar',\n",
       " 'Garyan',\n",
       " 'Breney',\n",
       " 'nan',\n",
       " 'Teryla',\n",
       " 'Hallus',\n",
       " 'Sceres',\n",
       " 'Therta',\n",
       " 'Gollux',\n",
       " 'Elson',\n",
       " 'Chelsa',\n",
       " 'Velyne',\n",
       " 'Marfak',\n",
       " 'Izaron',\n",
       " 'nan',\n",
       " 'Rica',\n",
       " 'Jilla',\n",
       " 'Evane',\n",
       " 'Allene',\n",
       " 'Grake',\n",
       " 'Duana',\n",
       " 'Nelley',\n",
       " 'Wein',\n",
       " 'Gicks',\n",
       " 'Gwenda',\n",
       " 'Achah',\n",
       " 'Marinon',\n",
       " 'Violey',\n",
       " 'Angars',\n",
       " 'Froops',\n",
       " 'Dyonon',\n",
       " 'Shail',\n",
       " 'Jerrye',\n",
       " 'Caseye',\n",
       " 'Hery',\n",
       " 'Gracy',\n",
       " 'Shaiam',\n",
       " 'Achyon',\n",
       " 'Hadaron',\n",
       " 'Alpha',\n",
       " 'Jona',\n",
       " 'Skix',\n",
       " 'Varkes',\n",
       " 'Almone',\n",
       " 'Minchib',\n",
       " 'Alkeson',\n",
       " 'Emmax',\n",
       " 'Elene',\n",
       " 'Arlie',\n",
       " 'Elanie',\n",
       " 'Therie',\n",
       " 'Boats',\n",
       " 'nan',\n",
       " 'Astorux',\n",
       " 'Terly',\n",
       " 'Earlie',\n",
       " 'Walles',\n",
       " 'Tiney',\n",
       " 'Eulah',\n",
       " 'Armen',\n",
       " 'Carita',\n",
       " 'Triple',\n",
       " 'Hilley',\n",
       " 'Terrie',\n",
       " 'Verly',\n",
       " 'Lyny',\n",
       " 'Benny',\n",
       " 'Done',\n",
       " 'Grios',\n",
       " 'Erice',\n",
       " 'Glena',\n",
       " 'Jimen',\n",
       " 'Waffs',\n",
       " 'Lorian',\n",
       " 'Gailia',\n",
       " 'Alderak',\n",
       " 'Weidus',\n",
       " 'Wacks',\n",
       " 'Duana',\n",
       " 'Tyrona',\n",
       " 'Lar',\n",
       " 'Tamie',\n",
       " 'nan',\n",
       " 'Glendy',\n",
       " 'Allena',\n",
       " 'Tonyn',\n",
       " 'Lesley',\n",
       " 'Gimph',\n",
       " 'Eriky',\n",
       " 'Joyton',\n",
       " 'Teremy',\n",
       " 'Wen',\n",
       " 'nan',\n",
       " 'Morrie',\n",
       " 'Lyde',\n",
       " 'Greggy',\n",
       " 'Walley',\n",
       " 'Shery',\n",
       " 'Alancy',\n",
       " 'Dory',\n",
       " 'Fayen',\n",
       " 'Lyne',\n",
       " 'Jeresa',\n",
       " 'Kayd',\n",
       " 'Tonia',\n",
       " 'Bethew',\n",
       " 'Zino',\n",
       " 'Tareson',\n",
       " 'Matan',\n",
       " 'Naosa',\n",
       " 'Sinon',\n",
       " 'Weidus',\n",
       " 'Juanie',\n",
       " 'Ellene',\n",
       " 'Dell',\n",
       " 'Chabik',\n",
       " 'Berios',\n",
       " 'Muonin',\n",
       " 'Alus',\n",
       " 'Nadie',\n",
       " 'Caish',\n",
       " 'Bun',\n",
       " 'Spuffs',\n",
       " 'Aldun',\n",
       " 'Coreee',\n",
       " 'Velyne',\n",
       " 'Stany',\n",
       " 'Stenny',\n",
       " 'Wasatz',\n",
       " 'Wimpha',\n",
       " 'Camie',\n",
       " 'Kaye',\n",
       " 'Valey',\n",
       " 'Weslie',\n",
       " 'Ranuts',\n",
       " 'Wilmay',\n",
       " 'Joya',\n",
       " 'Elaney',\n",
       " 'Melia',\n",
       " 'Appers',\n",
       " 'Melvia',\n",
       " 'Verly',\n",
       " 'Myrace',\n",
       " 'Bellee',\n",
       " 'Bethew',\n",
       " 'Chrisa',\n",
       " 'Lilace',\n",
       " 'Cort',\n",
       " 'Anamse',\n",
       " 'Basps',\n",
       " 'Trine',\n",
       " 'Crowk',\n",
       " 'Jorgie',\n",
       " 'Warry',\n",
       " 'Aude',\n",
       " 'Ericky',\n",
       " 'Aliedy',\n",
       " 'Nutz',\n",
       " 'Laude',\n",
       " 'Naomie',\n",
       " 'Clard',\n",
       " 'Algrafi',\n",
       " 'Gwenda',\n",
       " 'Halsham',\n",
       " 'Shail',\n",
       " 'Wena',\n",
       " 'nan',\n",
       " 'Deany',\n",
       " 'Ockies',\n",
       " 'Yakers',\n",
       " 'Frandy',\n",
       " 'Leenny',\n",
       " 'Rald',\n",
       " 'Blanie',\n",
       " 'Cineys',\n",
       " 'Otlios',\n",
       " 'Cherkar',\n",
       " 'Keithy',\n",
       " 'Willip',\n",
       " 'Erina',\n",
       " 'Markar',\n",
       " 'Aldebah',\n",
       " ...]"
      ]
     },
     "execution_count": 19,
     "metadata": {},
     "output_type": "execute_result"
    }
   ],
   "source": [
    "names_train_data"
   ]
  },
  {
   "cell_type": "code",
   "execution_count": 20,
   "id": "43e0203a",
   "metadata": {
    "ExecuteTime": {
     "end_time": "2022-11-25T02:39:19.655082Z",
     "start_time": "2022-11-25T02:39:19.566320Z"
    }
   },
   "outputs": [],
   "source": [
    "# 나이브 베어스 모델 학습\n",
    "featuresets = [(gender_features(n), gender) for (n, gender) in labeled_names]\n",
    "classifier = NaiveBayesClassifier.train(featuresets)"
   ]
  },
  {
   "cell_type": "code",
   "execution_count": 21,
   "id": "92df7fdc",
   "metadata": {
    "ExecuteTime": {
     "end_time": "2022-11-25T02:39:19.744847Z",
     "start_time": "2022-11-25T02:39:19.656079Z"
    }
   },
   "outputs": [],
   "source": [
    "# 성별 feature 생성\n",
    "names_gender = []\n",
    "for i in names_train_data:\n",
    "    names_gender.append(classifier.classify(gender_features(i)))\n",
    "\n",
    "# create new column called 'gender'    \n",
    "data[\"Gender\"] = names_gender"
   ]
  },
  {
   "cell_type": "code",
   "execution_count": 22,
   "id": "f5f23816",
   "metadata": {
    "ExecuteTime": {
     "end_time": "2022-11-25T02:39:19.759807Z",
     "start_time": "2022-11-25T02:39:19.745839Z"
    }
   },
   "outputs": [],
   "source": [
    "data.Gender[data.Name.isna()] = 'female'"
   ]
  },
  {
   "cell_type": "code",
   "execution_count": 23,
   "id": "4517b510",
   "metadata": {
    "ExecuteTime": {
     "end_time": "2022-11-25T02:39:19.775270Z",
     "start_time": "2022-11-25T02:39:19.760799Z"
    }
   },
   "outputs": [
    {
     "data": {
      "text/plain": [
       "array(['female'], dtype=object)"
      ]
     },
     "execution_count": 23,
     "metadata": {},
     "output_type": "execute_result"
    }
   ],
   "source": [
    "data.Gender[data.Name.isna()].unique()"
   ]
  },
  {
   "cell_type": "markdown",
   "id": "2a8a93c7",
   "metadata": {},
   "source": [
    "#### 테스트셋"
   ]
  },
  {
   "cell_type": "code",
   "execution_count": 24,
   "id": "b8b0ea42",
   "metadata": {
    "ExecuteTime": {
     "end_time": "2022-11-25T02:39:19.790230Z",
     "start_time": "2022-11-25T02:39:19.777267Z"
    }
   },
   "outputs": [],
   "source": [
    "# 이름과 성 분리\n",
    "names_test_data = []\n",
    "for i in test[\"Name\"]:\n",
    "    i = str(i)\n",
    "    a = i.split()\n",
    "    names_test_data.append(a[0])"
   ]
  },
  {
   "cell_type": "code",
   "execution_count": 25,
   "id": "a3a5c5b5",
   "metadata": {
    "ExecuteTime": {
     "end_time": "2022-11-25T02:39:19.805190Z",
     "start_time": "2022-11-25T02:39:19.791229Z"
    }
   },
   "outputs": [],
   "source": [
    "# NLTK의 names 파일을 활용하여 이름을 여성과 남성으로 분리\n",
    "labeled_names = [(name, \"female\") for name in names.words(\"female.txt\")] + \\\n",
    "[(name, \"male\") for name in names.words(\"male.txt\")]\n",
    "random.shuffle(labeled_names)"
   ]
  },
  {
   "cell_type": "code",
   "execution_count": 26,
   "id": "df61f1df",
   "metadata": {
    "ExecuteTime": {
     "end_time": "2022-11-25T02:39:19.835115Z",
     "start_time": "2022-11-25T02:39:19.806187Z"
    }
   },
   "outputs": [],
   "source": [
    "# 나이브 베어스 모델 학습\n",
    "featuresets = [(gender_features(n), gender) for (n, gender) in labeled_names]\n",
    "classifier = NaiveBayesClassifier.train(featuresets)"
   ]
  },
  {
   "cell_type": "code",
   "execution_count": 27,
   "id": "6a1a1eee",
   "metadata": {
    "ExecuteTime": {
     "end_time": "2022-11-25T02:39:19.850080Z",
     "start_time": "2022-11-25T02:39:19.836107Z"
    }
   },
   "outputs": [],
   "source": [
    "# 이름의 마지막 단어 가져오는 함수\n",
    "def gender_features(word):\n",
    "    return {'last_letter': word[-1]}"
   ]
  },
  {
   "cell_type": "code",
   "execution_count": 28,
   "id": "4147d715",
   "metadata": {
    "ExecuteTime": {
     "end_time": "2022-11-25T02:39:19.909917Z",
     "start_time": "2022-11-25T02:39:19.853062Z"
    }
   },
   "outputs": [],
   "source": [
    "# 성별 feature 생성\n",
    "names_gender = []\n",
    "for i in names_test_data:\n",
    "    names_gender.append(classifier.classify(gender_features(i)))"
   ]
  },
  {
   "cell_type": "code",
   "execution_count": 29,
   "id": "bde95e40",
   "metadata": {
    "ExecuteTime": {
     "end_time": "2022-11-25T02:39:19.924870Z",
     "start_time": "2022-11-25T02:39:19.910907Z"
    }
   },
   "outputs": [],
   "source": [
    "test[\"Gender\"] = pd.Series(names_gender)"
   ]
  },
  {
   "cell_type": "code",
   "execution_count": 30,
   "id": "1f06c0d4",
   "metadata": {
    "ExecuteTime": {
     "end_time": "2022-11-25T02:39:19.939829Z",
     "start_time": "2022-11-25T02:39:19.925867Z"
    }
   },
   "outputs": [],
   "source": [
    "test.Gender[test.Name.isna()] = 'female'"
   ]
  },
  {
   "cell_type": "code",
   "execution_count": 31,
   "id": "c50a44fb",
   "metadata": {
    "ExecuteTime": {
     "end_time": "2022-11-25T02:39:19.954790Z",
     "start_time": "2022-11-25T02:39:19.940827Z"
    }
   },
   "outputs": [
    {
     "data": {
      "text/plain": [
       "array(['female'], dtype=object)"
      ]
     },
     "execution_count": 31,
     "metadata": {},
     "output_type": "execute_result"
    }
   ],
   "source": [
    "data.Gender[data.Name.isna()].unique()"
   ]
  },
  {
   "cell_type": "markdown",
   "id": "7a8f94c5",
   "metadata": {},
   "source": [
    "## Cabin 결측값들 제거"
   ]
  },
  {
   "cell_type": "code",
   "execution_count": 32,
   "id": "3b68edc0",
   "metadata": {
    "ExecuteTime": {
     "end_time": "2022-11-25T02:39:19.984900Z",
     "start_time": "2022-11-25T02:39:19.955787Z"
    }
   },
   "outputs": [],
   "source": [
    "data.dropna(axis=0, inplace=True)"
   ]
  },
  {
   "cell_type": "markdown",
   "id": "7e52aa14",
   "metadata": {},
   "source": [
    "## 필요없는 features 제거"
   ]
  },
  {
   "cell_type": "code",
   "execution_count": 33,
   "id": "93e6980a",
   "metadata": {
    "ExecuteTime": {
     "end_time": "2022-11-25T02:39:19.999671Z",
     "start_time": "2022-11-25T02:39:19.986706Z"
    }
   },
   "outputs": [],
   "source": [
    "target = data['Transported']\n",
    "data = data.drop([\"PassengerId\", \"Name\", \"Cabin\", \"Combi\", \"Total\", \"GroupId\",\\\n",
    "                  \"GroupNo\", \"Transported\"], axis = 1)\n",
    "test = test.drop([\"PassengerId\", \"Name\", \"Cabin\", \"Combi\", \"Total\", \"GroupId\",\\\n",
    "                  \"GroupNo\", \"Transported\"], axis = 1)\n"
   ]
  },
  {
   "cell_type": "markdown",
   "id": "9f9b34ea",
   "metadata": {},
   "source": [
    "## 째려보기"
   ]
  },
  {
   "cell_type": "code",
   "execution_count": 34,
   "id": "d2a312b6",
   "metadata": {
    "ExecuteTime": {
     "end_time": "2022-11-25T02:39:20.014629Z",
     "start_time": "2022-11-25T02:39:20.000667Z"
    }
   },
   "outputs": [
    {
     "name": "stdout",
     "output_type": "stream",
     "text": [
      "<class 'pandas.core.frame.DataFrame'>\n",
      "Int64Index: 8375 entries, 0 to 8692\n",
      "Data columns (total 15 columns):\n",
      " #   Column        Non-Null Count  Dtype \n",
      "---  ------        --------------  ----- \n",
      " 0   HomePlanet    8375 non-null   object\n",
      " 1   CryoSleep     8375 non-null   bool  \n",
      " 2   Cabin1        8375 non-null   object\n",
      " 3   Cabin3        8375 non-null   object\n",
      " 4   Destination   8375 non-null   object\n",
      " 5   Age           8375 non-null   int64 \n",
      " 6   VIP           8375 non-null   bool  \n",
      " 7   RoomService   8375 non-null   int64 \n",
      " 8   FoodCourt     8375 non-null   int64 \n",
      " 9   ShoppingMall  8375 non-null   int64 \n",
      " 10  Spa           8375 non-null   int64 \n",
      " 11  VRDeck        8375 non-null   int64 \n",
      " 12  RichPoor      8375 non-null   object\n",
      " 13  Group         8375 non-null   bool  \n",
      " 14  Gender        8375 non-null   object\n",
      "dtypes: bool(3), int64(6), object(6)\n",
      "memory usage: 875.1+ KB\n"
     ]
    }
   ],
   "source": [
    "data.info()"
   ]
  },
  {
   "cell_type": "code",
   "execution_count": 35,
   "id": "aff13723",
   "metadata": {
    "ExecuteTime": {
     "end_time": "2022-11-25T02:39:20.029593Z",
     "start_time": "2022-11-25T02:39:20.015627Z"
    },
    "scrolled": true
   },
   "outputs": [
    {
     "name": "stdout",
     "output_type": "stream",
     "text": [
      "<class 'pandas.core.frame.DataFrame'>\n",
      "RangeIndex: 4277 entries, 0 to 4276\n",
      "Data columns (total 15 columns):\n",
      " #   Column        Non-Null Count  Dtype \n",
      "---  ------        --------------  ----- \n",
      " 0   HomePlanet    4277 non-null   object\n",
      " 1   CryoSleep     4277 non-null   bool  \n",
      " 2   Cabin1        4214 non-null   object\n",
      " 3   Cabin3        4214 non-null   object\n",
      " 4   Destination   4277 non-null   object\n",
      " 5   Age           4277 non-null   int64 \n",
      " 6   VIP           4277 non-null   bool  \n",
      " 7   RoomService   4277 non-null   int64 \n",
      " 8   FoodCourt     4277 non-null   int64 \n",
      " 9   ShoppingMall  4277 non-null   int64 \n",
      " 10  Spa           4277 non-null   int64 \n",
      " 11  VRDeck        4277 non-null   int64 \n",
      " 12  RichPoor      4277 non-null   object\n",
      " 13  Group         4277 non-null   bool  \n",
      " 14  Gender        4277 non-null   object\n",
      "dtypes: bool(3), int64(6), object(6)\n",
      "memory usage: 413.6+ KB\n"
     ]
    }
   ],
   "source": [
    "test.info()"
   ]
  },
  {
   "cell_type": "markdown",
   "id": "11abb105",
   "metadata": {},
   "source": [
    "## 원핫인코딩"
   ]
  },
  {
   "cell_type": "markdown",
   "id": "b9fc5d99",
   "metadata": {},
   "source": [
    "### boolean 타입 피처들 object로 캐스팅"
   ]
  },
  {
   "cell_type": "code",
   "execution_count": 36,
   "id": "b3fb23b7",
   "metadata": {
    "ExecuteTime": {
     "end_time": "2022-11-25T02:39:20.044549Z",
     "start_time": "2022-11-25T02:39:20.031585Z"
    }
   },
   "outputs": [
    {
     "data": {
      "text/plain": [
       "['CryoSleep', 'VIP', 'Group']"
      ]
     },
     "execution_count": 36,
     "metadata": {},
     "output_type": "execute_result"
    }
   ],
   "source": [
    "bool_data = [column for column in data.select_dtypes([\"bool\"])]\n",
    "\n",
    "bool_data"
   ]
  },
  {
   "cell_type": "code",
   "execution_count": 37,
   "id": "be93b421",
   "metadata": {
    "ExecuteTime": {
     "end_time": "2022-11-25T02:39:20.074470Z",
     "start_time": "2022-11-25T02:39:20.045548Z"
    }
   },
   "outputs": [],
   "source": [
    "data[\"VIP\"] = data[\"VIP\"].replace(to_replace = [False, True], \n",
    "                                  value = [\"No\", \"Yes\"]).astype(\"object\")\n",
    "data[\"CryoSleep\"] = data[\"CryoSleep\"].replace(to_replace = [False, True], \n",
    "                                  value = [\"No\", \"Yes\"]).astype(\"object\")\n",
    "data[\"Group\"] = data[\"Group\"].replace(to_replace = [False, True], \n",
    "                                  value = [\"No\", \"Yes\"]).astype(\"object\")\n",
    "\n",
    "test[\"VIP\"] = test[\"VIP\"].replace(to_replace = [False, True], \n",
    "                                  value = [\"No\", \"Yes\"]).astype(\"object\")\n",
    "test[\"CryoSleep\"] = test[\"CryoSleep\"].replace(to_replace = [False, True], \n",
    "                                  value = [\"No\", \"Yes\"]).astype(\"object\")\n",
    "test[\"Group\"] = test[\"Group\"].replace(to_replace = [False, True], \n",
    "                                  value = [\"No\", \"Yes\"]).astype(\"object\")"
   ]
  },
  {
   "cell_type": "code",
   "execution_count": 38,
   "id": "c71e72b8",
   "metadata": {
    "ExecuteTime": {
     "end_time": "2022-11-25T02:39:20.089431Z",
     "start_time": "2022-11-25T02:39:20.075467Z"
    }
   },
   "outputs": [
    {
     "name": "stdout",
     "output_type": "stream",
     "text": [
      "<class 'pandas.core.frame.DataFrame'>\n",
      "Int64Index: 8375 entries, 0 to 8692\n",
      "Data columns (total 15 columns):\n",
      " #   Column        Non-Null Count  Dtype \n",
      "---  ------        --------------  ----- \n",
      " 0   HomePlanet    8375 non-null   object\n",
      " 1   CryoSleep     8375 non-null   object\n",
      " 2   Cabin1        8375 non-null   object\n",
      " 3   Cabin3        8375 non-null   object\n",
      " 4   Destination   8375 non-null   object\n",
      " 5   Age           8375 non-null   int64 \n",
      " 6   VIP           8375 non-null   object\n",
      " 7   RoomService   8375 non-null   int64 \n",
      " 8   FoodCourt     8375 non-null   int64 \n",
      " 9   ShoppingMall  8375 non-null   int64 \n",
      " 10  Spa           8375 non-null   int64 \n",
      " 11  VRDeck        8375 non-null   int64 \n",
      " 12  RichPoor      8375 non-null   object\n",
      " 13  Group         8375 non-null   object\n",
      " 14  Gender        8375 non-null   object\n",
      "dtypes: int64(6), object(9)\n",
      "memory usage: 1.0+ MB\n"
     ]
    }
   ],
   "source": [
    "data.info()"
   ]
  },
  {
   "cell_type": "code",
   "execution_count": 39,
   "id": "2087d81c",
   "metadata": {
    "ExecuteTime": {
     "end_time": "2022-11-25T02:39:20.104393Z",
     "start_time": "2022-11-25T02:39:20.090429Z"
    }
   },
   "outputs": [
    {
     "name": "stdout",
     "output_type": "stream",
     "text": [
      "<class 'pandas.core.frame.DataFrame'>\n",
      "RangeIndex: 4277 entries, 0 to 4276\n",
      "Data columns (total 15 columns):\n",
      " #   Column        Non-Null Count  Dtype \n",
      "---  ------        --------------  ----- \n",
      " 0   HomePlanet    4277 non-null   object\n",
      " 1   CryoSleep     4277 non-null   object\n",
      " 2   Cabin1        4214 non-null   object\n",
      " 3   Cabin3        4214 non-null   object\n",
      " 4   Destination   4277 non-null   object\n",
      " 5   Age           4277 non-null   int64 \n",
      " 6   VIP           4277 non-null   object\n",
      " 7   RoomService   4277 non-null   int64 \n",
      " 8   FoodCourt     4277 non-null   int64 \n",
      " 9   ShoppingMall  4277 non-null   int64 \n",
      " 10  Spa           4277 non-null   int64 \n",
      " 11  VRDeck        4277 non-null   int64 \n",
      " 12  RichPoor      4277 non-null   object\n",
      " 13  Group         4277 non-null   object\n",
      " 14  Gender        4277 non-null   object\n",
      "dtypes: int64(6), object(9)\n",
      "memory usage: 501.3+ KB\n"
     ]
    }
   ],
   "source": [
    "test.info()"
   ]
  },
  {
   "cell_type": "markdown",
   "id": "b7e8557d",
   "metadata": {},
   "source": [
    "### 더미화"
   ]
  },
  {
   "cell_type": "code",
   "execution_count": 40,
   "id": "3ef28125",
   "metadata": {
    "ExecuteTime": {
     "end_time": "2022-11-25T02:39:20.149277Z",
     "start_time": "2022-11-25T02:39:20.105387Z"
    }
   },
   "outputs": [],
   "source": [
    "# drop_first 첫번째 범주는 제거하고 더미화\n",
    "# 다른 범주가 전부 0이면 자동적으로 첫번째 범주가 1인걸 알 수 있기에 사용\n",
    "df = pd.get_dummies(data, drop_first = True)\n",
    "t_df = pd.get_dummies(test, drop_first=True)"
   ]
  },
  {
   "cell_type": "code",
   "execution_count": 41,
   "id": "db3cbbbd",
   "metadata": {
    "ExecuteTime": {
     "end_time": "2022-11-25T02:39:20.164230Z",
     "start_time": "2022-11-25T02:39:20.150266Z"
    }
   },
   "outputs": [
    {
     "name": "stdout",
     "output_type": "stream",
     "text": [
      "<class 'pandas.core.frame.DataFrame'>\n",
      "Int64Index: 8375 entries, 0 to 8692\n",
      "Data columns (total 24 columns):\n",
      " #   Column                     Non-Null Count  Dtype\n",
      "---  ------                     --------------  -----\n",
      " 0   Age                        8375 non-null   int64\n",
      " 1   RoomService                8375 non-null   int64\n",
      " 2   FoodCourt                  8375 non-null   int64\n",
      " 3   ShoppingMall               8375 non-null   int64\n",
      " 4   Spa                        8375 non-null   int64\n",
      " 5   VRDeck                     8375 non-null   int64\n",
      " 6   HomePlanet_Europa          8375 non-null   uint8\n",
      " 7   HomePlanet_Mars            8375 non-null   uint8\n",
      " 8   CryoSleep_Yes              8375 non-null   uint8\n",
      " 9   Cabin1_B                   8375 non-null   uint8\n",
      " 10  Cabin1_C                   8375 non-null   uint8\n",
      " 11  Cabin1_D                   8375 non-null   uint8\n",
      " 12  Cabin1_E                   8375 non-null   uint8\n",
      " 13  Cabin1_F                   8375 non-null   uint8\n",
      " 14  Cabin1_G                   8375 non-null   uint8\n",
      " 15  Cabin1_T                   8375 non-null   uint8\n",
      " 16  Cabin3_S                   8375 non-null   uint8\n",
      " 17  Destination_PSO J318.5-22  8375 non-null   uint8\n",
      " 18  Destination_TRAPPIST-1e    8375 non-null   uint8\n",
      " 19  VIP_Yes                    8375 non-null   uint8\n",
      " 20  RichPoor_poor              8375 non-null   uint8\n",
      " 21  RichPoor_rich              8375 non-null   uint8\n",
      " 22  Group_Yes                  8375 non-null   uint8\n",
      " 23  Gender_male                8375 non-null   uint8\n",
      "dtypes: int64(6), uint8(18)\n",
      "memory usage: 605.2 KB\n"
     ]
    }
   ],
   "source": [
    "df.info()"
   ]
  },
  {
   "cell_type": "code",
   "execution_count": 42,
   "id": "fbbcad6d",
   "metadata": {
    "ExecuteTime": {
     "end_time": "2022-11-25T02:39:20.194149Z",
     "start_time": "2022-11-25T02:39:20.165227Z"
    }
   },
   "outputs": [
    {
     "name": "stdout",
     "output_type": "stream",
     "text": [
      "<class 'pandas.core.frame.DataFrame'>\n",
      "RangeIndex: 4277 entries, 0 to 4276\n",
      "Data columns (total 24 columns):\n",
      " #   Column                     Non-Null Count  Dtype\n",
      "---  ------                     --------------  -----\n",
      " 0   Age                        4277 non-null   int64\n",
      " 1   RoomService                4277 non-null   int64\n",
      " 2   FoodCourt                  4277 non-null   int64\n",
      " 3   ShoppingMall               4277 non-null   int64\n",
      " 4   Spa                        4277 non-null   int64\n",
      " 5   VRDeck                     4277 non-null   int64\n",
      " 6   HomePlanet_Europa          4277 non-null   uint8\n",
      " 7   HomePlanet_Mars            4277 non-null   uint8\n",
      " 8   CryoSleep_Yes              4277 non-null   uint8\n",
      " 9   Cabin1_B                   4277 non-null   uint8\n",
      " 10  Cabin1_C                   4277 non-null   uint8\n",
      " 11  Cabin1_D                   4277 non-null   uint8\n",
      " 12  Cabin1_E                   4277 non-null   uint8\n",
      " 13  Cabin1_F                   4277 non-null   uint8\n",
      " 14  Cabin1_G                   4277 non-null   uint8\n",
      " 15  Cabin1_T                   4277 non-null   uint8\n",
      " 16  Cabin3_S                   4277 non-null   uint8\n",
      " 17  Destination_PSO J318.5-22  4277 non-null   uint8\n",
      " 18  Destination_TRAPPIST-1e    4277 non-null   uint8\n",
      " 19  VIP_Yes                    4277 non-null   uint8\n",
      " 20  RichPoor_poor              4277 non-null   uint8\n",
      " 21  RichPoor_rich              4277 non-null   uint8\n",
      " 22  Group_Yes                  4277 non-null   uint8\n",
      " 23  Gender_male                4277 non-null   uint8\n",
      "dtypes: int64(6), uint8(18)\n",
      "memory usage: 275.8 KB\n"
     ]
    }
   ],
   "source": [
    "t_df.info()"
   ]
  },
  {
   "cell_type": "markdown",
   "id": "e600df4f",
   "metadata": {},
   "source": [
    "## 스케일링"
   ]
  },
  {
   "cell_type": "code",
   "execution_count": 43,
   "id": "8a797967",
   "metadata": {
    "ExecuteTime": {
     "end_time": "2022-11-25T02:39:20.224074Z",
     "start_time": "2022-11-25T02:39:20.195148Z"
    }
   },
   "outputs": [],
   "source": [
    "scaler = StandardScaler()\n",
    "scaler.fit(df)\n",
    "df = scaler.transform(df)\n",
    "t_df = scaler.transform(t_df)"
   ]
  },
  {
   "cell_type": "markdown",
   "id": "889db984",
   "metadata": {},
   "source": [
    "# 데이터셋 분리"
   ]
  },
  {
   "cell_type": "code",
   "execution_count": 44,
   "id": "553800e0",
   "metadata": {
    "ExecuteTime": {
     "end_time": "2022-11-25T02:39:20.239029Z",
     "start_time": "2022-11-25T02:39:20.225067Z"
    }
   },
   "outputs": [],
   "source": [
    "X_train, X_test, y_train, y_test = train_test_split(df, target, shuffle = True, random_state = 109)\n",
    "X_train, X_val, y_train, y_val = train_test_split(df, target, shuffle = True,\\\n",
    "                                                  test_size=0.15, random_state = 109)"
   ]
  },
  {
   "cell_type": "markdown",
   "id": "70b80233",
   "metadata": {},
   "source": [
    "# 알고리즘명"
   ]
  },
  {
   "cell_type": "code",
   "execution_count": null,
   "id": "b1920b5a",
   "metadata": {},
   "outputs": [],
   "source": []
  }
 ],
 "metadata": {
  "kernelspec": {
   "display_name": "Python 3 (ipykernel)",
   "language": "python",
   "name": "python3"
  },
  "language_info": {
   "codemirror_mode": {
    "name": "ipython",
    "version": 3
   },
   "file_extension": ".py",
   "mimetype": "text/x-python",
   "name": "python",
   "nbconvert_exporter": "python",
   "pygments_lexer": "ipython3",
   "version": "3.9.7"
  },
  "toc": {
   "base_numbering": 1,
   "nav_menu": {},
   "number_sections": true,
   "sideBar": true,
   "skip_h1_title": false,
   "title_cell": "Table of Contents",
   "title_sidebar": "Contents",
   "toc_cell": false,
   "toc_position": {},
   "toc_section_display": true,
   "toc_window_display": true
  }
 },
 "nbformat": 4,
 "nbformat_minor": 5
}
