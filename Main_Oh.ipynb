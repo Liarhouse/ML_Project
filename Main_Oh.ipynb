{
 "cells": [
  {
   "cell_type": "markdown",
   "id": "ef0e9e3c",
   "metadata": {},
   "source": [
    "# 사용할 라이브러리 로딩"
   ]
  },
  {
   "cell_type": "code",
   "execution_count": 1,
   "id": "662696a4",
   "metadata": {
    "ExecuteTime": {
     "end_time": "2022-11-18T08:04:26.963947Z",
     "start_time": "2022-11-18T08:04:26.931034Z"
    }
   },
   "outputs": [],
   "source": [
    "import numpy as np # Numpy\n",
    "import pandas as pd # Pandas\n",
    "import matplotlib as mpl #Matplotlib 세팅용\n",
    "import matplotlib.pyplot as plt # 시각화 도구\n",
    "import seaborn as sns # 시각화 도구\n",
    "from sklearn.model_selection import train_test_split # 데이터셋 분리\n",
    "from sklearn.cluster import KMeans # 클러스터링\n",
    "from sklearn.metrics import silhouette_score # 실루엣 점수\n",
    "from xgboost import XGBClassifier  # XGBoostClassifier\n",
    "import xgboost as xgb # XGBoost\n",
    "from sklearn.ensemble import RandomForestClassifier # 랜덤 포레스트\n",
    "from hyperopt import hp, STATUS_OK, fmin, tpe, Trials # 최적의 파람\n",
    "from sklearn.model_selection import GridSearchCV # 그리드 서치\n",
    "from sklearn.model_selection import cross_val_score # 교차 스코어\n",
    "from sklearn.metrics import accuracy_score, precision_score # 평가 지표\n",
    "from sklearn.metrics import recall_score, confusion_matrix, roc_auc_score, f1_score # 평가 지표\n",
    "\n",
    "\n",
    "import warnings # 경고문 제거용\n",
    "\n",
    "\n",
    "%matplotlib inline\n",
    "%config Inlinebackend.figure_format = 'retina'\n",
    "\n",
    "# 한글 폰트 설정\n",
    "mpl.rc('font', family='D2Coding')\n",
    "# 유니코드에서 음수 부호 설정\n",
    "mpl.rc('axes', unicode_minus = False)\n",
    "\n",
    "warnings.filterwarnings('ignore')\n",
    "sns.set(font=\"D2Coding\", rc={\"axes.unicode_minus\":False}, style='darkgrid')\n",
    "plt.rc('figure', figsize=(10,8))"
   ]
  },
  {
   "cell_type": "markdown",
   "id": "a1db4c3f",
   "metadata": {},
   "source": [
    "# 데이터 로딩"
   ]
  },
  {
   "cell_type": "code",
   "execution_count": 2,
   "id": "6a05849d",
   "metadata": {
    "ExecuteTime": {
     "end_time": "2022-11-18T06:59:19.778264Z",
     "start_time": "2022-11-18T06:59:19.749296Z"
    }
   },
   "outputs": [],
   "source": [
    "data = pd.read_csv('C:/Users/admin/Desktop/sparta/train.csv')"
   ]
  },
  {
   "cell_type": "markdown",
   "id": "54bc037e",
   "metadata": {},
   "source": [
    "## 데이터 탐색"
   ]
  },
  {
   "cell_type": "code",
   "execution_count": 3,
   "id": "bcf6a8b9",
   "metadata": {
    "ExecuteTime": {
     "end_time": "2022-11-18T06:59:19.808138Z",
     "start_time": "2022-11-18T06:59:19.779216Z"
    },
    "scrolled": true
   },
   "outputs": [
    {
     "data": {
      "text/html": [
       "<div>\n",
       "<style scoped>\n",
       "    .dataframe tbody tr th:only-of-type {\n",
       "        vertical-align: middle;\n",
       "    }\n",
       "\n",
       "    .dataframe tbody tr th {\n",
       "        vertical-align: top;\n",
       "    }\n",
       "\n",
       "    .dataframe thead th {\n",
       "        text-align: right;\n",
       "    }\n",
       "</style>\n",
       "<table border=\"1\" class=\"dataframe\">\n",
       "  <thead>\n",
       "    <tr style=\"text-align: right;\">\n",
       "      <th></th>\n",
       "      <th>PassengerId</th>\n",
       "      <th>HomePlanet</th>\n",
       "      <th>CryoSleep</th>\n",
       "      <th>Cabin</th>\n",
       "      <th>Destination</th>\n",
       "      <th>Age</th>\n",
       "      <th>VIP</th>\n",
       "      <th>RoomService</th>\n",
       "      <th>FoodCourt</th>\n",
       "      <th>ShoppingMall</th>\n",
       "      <th>Spa</th>\n",
       "      <th>VRDeck</th>\n",
       "      <th>Name</th>\n",
       "      <th>Transported</th>\n",
       "    </tr>\n",
       "  </thead>\n",
       "  <tbody>\n",
       "    <tr>\n",
       "      <th>0</th>\n",
       "      <td>0001_01</td>\n",
       "      <td>Europa</td>\n",
       "      <td>False</td>\n",
       "      <td>B/0/P</td>\n",
       "      <td>TRAPPIST-1e</td>\n",
       "      <td>39.0</td>\n",
       "      <td>False</td>\n",
       "      <td>0.0</td>\n",
       "      <td>0.0</td>\n",
       "      <td>0.0</td>\n",
       "      <td>0.0</td>\n",
       "      <td>0.0</td>\n",
       "      <td>Maham Ofracculy</td>\n",
       "      <td>False</td>\n",
       "    </tr>\n",
       "    <tr>\n",
       "      <th>1</th>\n",
       "      <td>0002_01</td>\n",
       "      <td>Earth</td>\n",
       "      <td>False</td>\n",
       "      <td>F/0/S</td>\n",
       "      <td>TRAPPIST-1e</td>\n",
       "      <td>24.0</td>\n",
       "      <td>False</td>\n",
       "      <td>109.0</td>\n",
       "      <td>9.0</td>\n",
       "      <td>25.0</td>\n",
       "      <td>549.0</td>\n",
       "      <td>44.0</td>\n",
       "      <td>Juanna Vines</td>\n",
       "      <td>True</td>\n",
       "    </tr>\n",
       "    <tr>\n",
       "      <th>2</th>\n",
       "      <td>0003_01</td>\n",
       "      <td>Europa</td>\n",
       "      <td>False</td>\n",
       "      <td>A/0/S</td>\n",
       "      <td>TRAPPIST-1e</td>\n",
       "      <td>58.0</td>\n",
       "      <td>True</td>\n",
       "      <td>43.0</td>\n",
       "      <td>3576.0</td>\n",
       "      <td>0.0</td>\n",
       "      <td>6715.0</td>\n",
       "      <td>49.0</td>\n",
       "      <td>Altark Susent</td>\n",
       "      <td>False</td>\n",
       "    </tr>\n",
       "    <tr>\n",
       "      <th>3</th>\n",
       "      <td>0003_02</td>\n",
       "      <td>Europa</td>\n",
       "      <td>False</td>\n",
       "      <td>A/0/S</td>\n",
       "      <td>TRAPPIST-1e</td>\n",
       "      <td>33.0</td>\n",
       "      <td>False</td>\n",
       "      <td>0.0</td>\n",
       "      <td>1283.0</td>\n",
       "      <td>371.0</td>\n",
       "      <td>3329.0</td>\n",
       "      <td>193.0</td>\n",
       "      <td>Solam Susent</td>\n",
       "      <td>False</td>\n",
       "    </tr>\n",
       "    <tr>\n",
       "      <th>4</th>\n",
       "      <td>0004_01</td>\n",
       "      <td>Earth</td>\n",
       "      <td>False</td>\n",
       "      <td>F/1/S</td>\n",
       "      <td>TRAPPIST-1e</td>\n",
       "      <td>16.0</td>\n",
       "      <td>False</td>\n",
       "      <td>303.0</td>\n",
       "      <td>70.0</td>\n",
       "      <td>151.0</td>\n",
       "      <td>565.0</td>\n",
       "      <td>2.0</td>\n",
       "      <td>Willy Santantines</td>\n",
       "      <td>True</td>\n",
       "    </tr>\n",
       "  </tbody>\n",
       "</table>\n",
       "</div>"
      ],
      "text/plain": [
       "  PassengerId HomePlanet CryoSleep  Cabin  Destination   Age    VIP  \\\n",
       "0     0001_01     Europa     False  B/0/P  TRAPPIST-1e  39.0  False   \n",
       "1     0002_01      Earth     False  F/0/S  TRAPPIST-1e  24.0  False   \n",
       "2     0003_01     Europa     False  A/0/S  TRAPPIST-1e  58.0   True   \n",
       "3     0003_02     Europa     False  A/0/S  TRAPPIST-1e  33.0  False   \n",
       "4     0004_01      Earth     False  F/1/S  TRAPPIST-1e  16.0  False   \n",
       "\n",
       "   RoomService  FoodCourt  ShoppingMall     Spa  VRDeck               Name  \\\n",
       "0          0.0        0.0           0.0     0.0     0.0    Maham Ofracculy   \n",
       "1        109.0        9.0          25.0   549.0    44.0       Juanna Vines   \n",
       "2         43.0     3576.0           0.0  6715.0    49.0      Altark Susent   \n",
       "3          0.0     1283.0         371.0  3329.0   193.0       Solam Susent   \n",
       "4        303.0       70.0         151.0   565.0     2.0  Willy Santantines   \n",
       "\n",
       "   Transported  \n",
       "0        False  \n",
       "1         True  \n",
       "2        False  \n",
       "3        False  \n",
       "4         True  "
      ]
     },
     "execution_count": 3,
     "metadata": {},
     "output_type": "execute_result"
    }
   ],
   "source": [
    "data.head()"
   ]
  },
  {
   "cell_type": "code",
   "execution_count": 4,
   "id": "53191299",
   "metadata": {
    "ExecuteTime": {
     "end_time": "2022-11-18T06:59:19.823099Z",
     "start_time": "2022-11-18T06:59:19.810132Z"
    }
   },
   "outputs": [
    {
     "data": {
      "text/plain": [
       "Index(['PassengerId', 'HomePlanet', 'CryoSleep', 'Cabin', 'Destination', 'Age',\n",
       "       'VIP', 'RoomService', 'FoodCourt', 'ShoppingMall', 'Spa', 'VRDeck',\n",
       "       'Name', 'Transported'],\n",
       "      dtype='object')"
      ]
     },
     "execution_count": 4,
     "metadata": {},
     "output_type": "execute_result"
    }
   ],
   "source": [
    "data.columns"
   ]
  },
  {
   "cell_type": "code",
   "execution_count": 5,
   "id": "098a764b",
   "metadata": {
    "ExecuteTime": {
     "end_time": "2022-11-18T06:59:19.854016Z",
     "start_time": "2022-11-18T06:59:19.824095Z"
    },
    "scrolled": false
   },
   "outputs": [
    {
     "name": "stdout",
     "output_type": "stream",
     "text": [
      "<class 'pandas.core.frame.DataFrame'>\n",
      "RangeIndex: 8693 entries, 0 to 8692\n",
      "Data columns (total 14 columns):\n",
      " #   Column        Non-Null Count  Dtype  \n",
      "---  ------        --------------  -----  \n",
      " 0   PassengerId   8693 non-null   object \n",
      " 1   HomePlanet    8492 non-null   object \n",
      " 2   CryoSleep     8476 non-null   object \n",
      " 3   Cabin         8494 non-null   object \n",
      " 4   Destination   8511 non-null   object \n",
      " 5   Age           8514 non-null   float64\n",
      " 6   VIP           8490 non-null   object \n",
      " 7   RoomService   8512 non-null   float64\n",
      " 8   FoodCourt     8510 non-null   float64\n",
      " 9   ShoppingMall  8485 non-null   float64\n",
      " 10  Spa           8510 non-null   float64\n",
      " 11  VRDeck        8505 non-null   float64\n",
      " 12  Name          8493 non-null   object \n",
      " 13  Transported   8693 non-null   bool   \n",
      "dtypes: bool(1), float64(6), object(7)\n",
      "memory usage: 891.5+ KB\n"
     ]
    }
   ],
   "source": [
    "data.info()"
   ]
  },
  {
   "cell_type": "code",
   "execution_count": 6,
   "id": "43c1e15d",
   "metadata": {
    "ExecuteTime": {
     "end_time": "2022-11-18T06:59:19.883935Z",
     "start_time": "2022-11-18T06:59:19.856013Z"
    }
   },
   "outputs": [
    {
     "data": {
      "text/plain": [
       "PassengerId       0\n",
       "HomePlanet      201\n",
       "CryoSleep       217\n",
       "Cabin           199\n",
       "Destination     182\n",
       "Age             179\n",
       "VIP             203\n",
       "RoomService     181\n",
       "FoodCourt       183\n",
       "ShoppingMall    208\n",
       "Spa             183\n",
       "VRDeck          188\n",
       "Name            200\n",
       "Transported       0\n",
       "dtype: int64"
      ]
     },
     "execution_count": 6,
     "metadata": {},
     "output_type": "execute_result"
    }
   ],
   "source": [
    "data.isna().sum()"
   ]
  },
  {
   "cell_type": "markdown",
   "id": "f3db12df",
   "metadata": {
    "ExecuteTime": {
     "end_time": "2022-11-18T05:13:16.189954Z",
     "start_time": "2022-11-18T05:13:16.173985Z"
    }
   },
   "source": [
    "## Cabin 결측값 처리\n",
    "- 결측값 확인 후 우선 Cabin부터 채워넣기로 함\n",
    "- PassengerId의 첫 4자리 숫자는 승객의 그룹을 의미함으로 Cabin 결측값 중 그룹이 있으면 그룹의 Cabin으로 채워넣음\n",
    "- train뿐만 아니라 test에도 결측값이 있기에 같이 처리하기로 함\n",
    "- 그렇게 처리하고 나온 파일이 하단의 파일"
   ]
  },
  {
   "cell_type": "code",
   "execution_count": 7,
   "id": "23d648e9",
   "metadata": {
    "ExecuteTime": {
     "end_time": "2022-11-18T06:59:22.848182Z",
     "start_time": "2022-11-18T06:59:19.884932Z"
    }
   },
   "outputs": [],
   "source": [
    "data = pd.read_excel('C:/Users/admin/Desktop/sparta/train_test_origin.xlsx')"
   ]
  },
  {
   "cell_type": "code",
   "execution_count": 8,
   "id": "68457bb1",
   "metadata": {
    "ExecuteTime": {
     "end_time": "2022-11-18T06:59:22.877929Z",
     "start_time": "2022-11-18T06:59:22.850003Z"
    }
   },
   "outputs": [
    {
     "data": {
      "text/html": [
       "<div>\n",
       "<style scoped>\n",
       "    .dataframe tbody tr th:only-of-type {\n",
       "        vertical-align: middle;\n",
       "    }\n",
       "\n",
       "    .dataframe tbody tr th {\n",
       "        vertical-align: top;\n",
       "    }\n",
       "\n",
       "    .dataframe thead th {\n",
       "        text-align: right;\n",
       "    }\n",
       "</style>\n",
       "<table border=\"1\" class=\"dataframe\">\n",
       "  <thead>\n",
       "    <tr style=\"text-align: right;\">\n",
       "      <th></th>\n",
       "      <th>PassengerId</th>\n",
       "      <th>HomePlanet</th>\n",
       "      <th>CryoSleep</th>\n",
       "      <th>Cabin1</th>\n",
       "      <th>Cabin2</th>\n",
       "      <th>Combi</th>\n",
       "      <th>Cabin3</th>\n",
       "      <th>Cabin</th>\n",
       "      <th>Destination</th>\n",
       "      <th>Age</th>\n",
       "      <th>VIP</th>\n",
       "      <th>RoomService</th>\n",
       "      <th>FoodCourt</th>\n",
       "      <th>ShoppingMall</th>\n",
       "      <th>Spa</th>\n",
       "      <th>VRDeck</th>\n",
       "      <th>Name</th>\n",
       "      <th>Transported</th>\n",
       "    </tr>\n",
       "  </thead>\n",
       "  <tbody>\n",
       "    <tr>\n",
       "      <th>0</th>\n",
       "      <td>0001_01</td>\n",
       "      <td>Europa</td>\n",
       "      <td>0.0</td>\n",
       "      <td>B</td>\n",
       "      <td>0.0</td>\n",
       "      <td>B0</td>\n",
       "      <td>P</td>\n",
       "      <td>B/0/P</td>\n",
       "      <td>TRAPPIST-1e</td>\n",
       "      <td>39.0</td>\n",
       "      <td>0.0</td>\n",
       "      <td>0.0</td>\n",
       "      <td>0.0</td>\n",
       "      <td>0.0</td>\n",
       "      <td>0.0</td>\n",
       "      <td>0.0</td>\n",
       "      <td>Maham Ofracculy</td>\n",
       "      <td>0.0</td>\n",
       "    </tr>\n",
       "    <tr>\n",
       "      <th>1</th>\n",
       "      <td>0002_01</td>\n",
       "      <td>Earth</td>\n",
       "      <td>0.0</td>\n",
       "      <td>F</td>\n",
       "      <td>0.0</td>\n",
       "      <td>F0</td>\n",
       "      <td>S</td>\n",
       "      <td>F/0/S</td>\n",
       "      <td>TRAPPIST-1e</td>\n",
       "      <td>24.0</td>\n",
       "      <td>0.0</td>\n",
       "      <td>109.0</td>\n",
       "      <td>9.0</td>\n",
       "      <td>25.0</td>\n",
       "      <td>549.0</td>\n",
       "      <td>44.0</td>\n",
       "      <td>Juanna Vines</td>\n",
       "      <td>1.0</td>\n",
       "    </tr>\n",
       "    <tr>\n",
       "      <th>2</th>\n",
       "      <td>0003_01</td>\n",
       "      <td>Europa</td>\n",
       "      <td>0.0</td>\n",
       "      <td>A</td>\n",
       "      <td>0.0</td>\n",
       "      <td>A0</td>\n",
       "      <td>S</td>\n",
       "      <td>A/0/S</td>\n",
       "      <td>TRAPPIST-1e</td>\n",
       "      <td>58.0</td>\n",
       "      <td>1.0</td>\n",
       "      <td>43.0</td>\n",
       "      <td>3576.0</td>\n",
       "      <td>0.0</td>\n",
       "      <td>6715.0</td>\n",
       "      <td>49.0</td>\n",
       "      <td>Altark Susent</td>\n",
       "      <td>0.0</td>\n",
       "    </tr>\n",
       "    <tr>\n",
       "      <th>3</th>\n",
       "      <td>0003_02</td>\n",
       "      <td>Europa</td>\n",
       "      <td>0.0</td>\n",
       "      <td>A</td>\n",
       "      <td>0.0</td>\n",
       "      <td>A0</td>\n",
       "      <td>S</td>\n",
       "      <td>A/0/S</td>\n",
       "      <td>TRAPPIST-1e</td>\n",
       "      <td>33.0</td>\n",
       "      <td>0.0</td>\n",
       "      <td>0.0</td>\n",
       "      <td>1283.0</td>\n",
       "      <td>371.0</td>\n",
       "      <td>3329.0</td>\n",
       "      <td>193.0</td>\n",
       "      <td>Solam Susent</td>\n",
       "      <td>0.0</td>\n",
       "    </tr>\n",
       "    <tr>\n",
       "      <th>4</th>\n",
       "      <td>0004_01</td>\n",
       "      <td>Earth</td>\n",
       "      <td>0.0</td>\n",
       "      <td>F</td>\n",
       "      <td>1.0</td>\n",
       "      <td>F1</td>\n",
       "      <td>S</td>\n",
       "      <td>F/1/S</td>\n",
       "      <td>TRAPPIST-1e</td>\n",
       "      <td>16.0</td>\n",
       "      <td>0.0</td>\n",
       "      <td>303.0</td>\n",
       "      <td>70.0</td>\n",
       "      <td>151.0</td>\n",
       "      <td>565.0</td>\n",
       "      <td>2.0</td>\n",
       "      <td>Willy Santantines</td>\n",
       "      <td>1.0</td>\n",
       "    </tr>\n",
       "  </tbody>\n",
       "</table>\n",
       "</div>"
      ],
      "text/plain": [
       "  PassengerId HomePlanet  CryoSleep Cabin1  Cabin2 Combi Cabin3  Cabin  \\\n",
       "0     0001_01     Europa        0.0      B     0.0    B0      P  B/0/P   \n",
       "1     0002_01      Earth        0.0      F     0.0    F0      S  F/0/S   \n",
       "2     0003_01     Europa        0.0      A     0.0    A0      S  A/0/S   \n",
       "3     0003_02     Europa        0.0      A     0.0    A0      S  A/0/S   \n",
       "4     0004_01      Earth        0.0      F     1.0    F1      S  F/1/S   \n",
       "\n",
       "   Destination   Age  VIP  RoomService  FoodCourt  ShoppingMall     Spa  \\\n",
       "0  TRAPPIST-1e  39.0  0.0          0.0        0.0           0.0     0.0   \n",
       "1  TRAPPIST-1e  24.0  0.0        109.0        9.0          25.0   549.0   \n",
       "2  TRAPPIST-1e  58.0  1.0         43.0     3576.0           0.0  6715.0   \n",
       "3  TRAPPIST-1e  33.0  0.0          0.0     1283.0         371.0  3329.0   \n",
       "4  TRAPPIST-1e  16.0  0.0        303.0       70.0         151.0   565.0   \n",
       "\n",
       "   VRDeck               Name  Transported  \n",
       "0     0.0    Maham Ofracculy          0.0  \n",
       "1    44.0       Juanna Vines          1.0  \n",
       "2    49.0      Altark Susent          0.0  \n",
       "3   193.0       Solam Susent          0.0  \n",
       "4     2.0  Willy Santantines          1.0  "
      ]
     },
     "execution_count": 8,
     "metadata": {},
     "output_type": "execute_result"
    }
   ],
   "source": [
    "data.head()"
   ]
  },
  {
   "cell_type": "code",
   "execution_count": 9,
   "id": "ad35c7d5",
   "metadata": {
    "ExecuteTime": {
     "end_time": "2022-11-18T06:59:22.892888Z",
     "start_time": "2022-11-18T06:59:22.878925Z"
    }
   },
   "outputs": [
    {
     "data": {
      "text/plain": [
       "Index(['PassengerId', 'HomePlanet', 'CryoSleep', 'Cabin1', 'Cabin2', 'Combi',\n",
       "       'Cabin3', 'Cabin', 'Destination', 'Age', 'VIP', 'RoomService',\n",
       "       'FoodCourt', 'ShoppingMall', 'Spa', 'VRDeck', 'Name', 'Transported'],\n",
       "      dtype='object')"
      ]
     },
     "execution_count": 9,
     "metadata": {},
     "output_type": "execute_result"
    }
   ],
   "source": [
    "# 결측값을 처리하면 Cabin을 나눠서 구분함\n",
    "# Cabin은 섹터/방번호/측면으로 구분되어 있음\n",
    "# Cabin1은 섹터\n",
    "# Cabin2는 방번호\n",
    "# Combi는 Cabin1+Cabin2\n",
    "# Cabin3는 측면(P(ort)는 좌현, S(tarboard)는 우현)\n",
    "data.columns"
   ]
  },
  {
   "cell_type": "code",
   "execution_count": 10,
   "id": "8ff34a25",
   "metadata": {
    "ExecuteTime": {
     "end_time": "2022-11-18T06:59:22.922813Z",
     "start_time": "2022-11-18T06:59:22.894882Z"
    },
    "scrolled": false
   },
   "outputs": [
    {
     "name": "stdout",
     "output_type": "stream",
     "text": [
      "<class 'pandas.core.frame.DataFrame'>\n",
      "RangeIndex: 12970 entries, 0 to 12969\n",
      "Data columns (total 18 columns):\n",
      " #   Column        Non-Null Count  Dtype  \n",
      "---  ------        --------------  -----  \n",
      " 0   PassengerId   12970 non-null  object \n",
      " 1   HomePlanet    12691 non-null  object \n",
      " 2   CryoSleep     12660 non-null  float64\n",
      " 3   Cabin1        12804 non-null  object \n",
      " 4   Cabin2        12804 non-null  float64\n",
      " 5   Combi         12804 non-null  object \n",
      " 6   Cabin3        12804 non-null  object \n",
      " 7   Cabin         12804 non-null  object \n",
      " 8   Destination   12704 non-null  object \n",
      " 9   Age           12700 non-null  float64\n",
      " 10  VIP           12674 non-null  float64\n",
      " 11  RoomService   12776 non-null  float64\n",
      " 12  FoodCourt     12752 non-null  float64\n",
      " 13  ShoppingMall  12760 non-null  float64\n",
      " 14  Spa           12754 non-null  float64\n",
      " 15  VRDeck        12766 non-null  float64\n",
      " 16  Name          12676 non-null  object \n",
      " 17  Transported   8693 non-null   float64\n",
      "dtypes: float64(10), object(8)\n",
      "memory usage: 1.8+ MB\n"
     ]
    }
   ],
   "source": [
    "data.info()"
   ]
  },
  {
   "cell_type": "markdown",
   "id": "4d1a21ff",
   "metadata": {},
   "source": [
    "- test 데이터는 Kaggle에 제출해야하는 데이터이기에 target인 Transported가 전부 결측임"
   ]
  },
  {
   "cell_type": "code",
   "execution_count": 11,
   "id": "477247d5",
   "metadata": {
    "ExecuteTime": {
     "end_time": "2022-11-18T06:59:22.937768Z",
     "start_time": "2022-11-18T06:59:22.923805Z"
    }
   },
   "outputs": [
    {
     "data": {
      "text/plain": [
       "PassengerId        0\n",
       "HomePlanet       279\n",
       "CryoSleep        310\n",
       "Cabin1           166\n",
       "Cabin2           166\n",
       "Combi            166\n",
       "Cabin3           166\n",
       "Cabin            166\n",
       "Destination      266\n",
       "Age              270\n",
       "VIP              296\n",
       "RoomService      194\n",
       "FoodCourt        218\n",
       "ShoppingMall     210\n",
       "Spa              216\n",
       "VRDeck           204\n",
       "Name             294\n",
       "Transported     4277\n",
       "dtype: int64"
      ]
     },
     "execution_count": 11,
     "metadata": {},
     "output_type": "execute_result"
    }
   ],
   "source": [
    "data.isna().sum()"
   ]
  },
  {
   "cell_type": "markdown",
   "id": "948aefc8",
   "metadata": {},
   "source": [
    "- 나머지 결측값을 처리하기 위해 클러스터링을 해보기로 함\n",
    "- 클러스터링 하기 전에 전처리를 진행해야함"
   ]
  },
  {
   "cell_type": "markdown",
   "id": "171193e4",
   "metadata": {},
   "source": [
    "# 전처리"
   ]
  },
  {
   "cell_type": "markdown",
   "id": "007417a1",
   "metadata": {},
   "source": [
    "## 필요없는 feature 제거"
   ]
  },
  {
   "cell_type": "code",
   "execution_count": 12,
   "id": "e0150919",
   "metadata": {
    "ExecuteTime": {
     "end_time": "2022-11-18T06:59:22.952728Z",
     "start_time": "2022-11-18T06:59:22.938765Z"
    }
   },
   "outputs": [],
   "source": [
    "# 분류하는데 필요없다고 예상되는 'PassengerId', 'Name' feature 제거\n",
    "data.drop(['PassengerId', 'Name'], inplace=True, axis=1)"
   ]
  },
  {
   "cell_type": "code",
   "execution_count": 13,
   "id": "d6a16943",
   "metadata": {
    "ExecuteTime": {
     "end_time": "2022-11-18T06:59:22.967690Z",
     "start_time": "2022-11-18T06:59:22.953730Z"
    }
   },
   "outputs": [
    {
     "name": "stdout",
     "output_type": "stream",
     "text": [
      "<class 'pandas.core.frame.DataFrame'>\n",
      "RangeIndex: 12970 entries, 0 to 12969\n",
      "Data columns (total 16 columns):\n",
      " #   Column        Non-Null Count  Dtype  \n",
      "---  ------        --------------  -----  \n",
      " 0   HomePlanet    12691 non-null  object \n",
      " 1   CryoSleep     12660 non-null  float64\n",
      " 2   Cabin1        12804 non-null  object \n",
      " 3   Cabin2        12804 non-null  float64\n",
      " 4   Combi         12804 non-null  object \n",
      " 5   Cabin3        12804 non-null  object \n",
      " 6   Cabin         12804 non-null  object \n",
      " 7   Destination   12704 non-null  object \n",
      " 8   Age           12700 non-null  float64\n",
      " 9   VIP           12674 non-null  float64\n",
      " 10  RoomService   12776 non-null  float64\n",
      " 11  FoodCourt     12752 non-null  float64\n",
      " 12  ShoppingMall  12760 non-null  float64\n",
      " 13  Spa           12754 non-null  float64\n",
      " 14  VRDeck        12766 non-null  float64\n",
      " 15  Transported   8693 non-null   float64\n",
      "dtypes: float64(10), object(6)\n",
      "memory usage: 1.6+ MB\n"
     ]
    }
   ],
   "source": [
    "# 제거 확인\n",
    "data.info()"
   ]
  },
  {
   "cell_type": "markdown",
   "id": "1d059ad3",
   "metadata": {},
   "source": [
    "## CryoSleep, VIP, Cabin3 boolean 타입으로 캐스팅"
   ]
  },
  {
   "cell_type": "code",
   "execution_count": 14,
   "id": "7f4d22f7",
   "metadata": {
    "ExecuteTime": {
     "end_time": "2022-11-18T06:59:22.982648Z",
     "start_time": "2022-11-18T06:59:22.968685Z"
    }
   },
   "outputs": [],
   "source": [
    "# Cabin3의 P(좌현)를 False으로 S(우현)를 True로 변경\n",
    "data['Cabin3'].replace({'P': 'True','S': 'False'}, inplace=True)"
   ]
  },
  {
   "cell_type": "code",
   "execution_count": 15,
   "id": "01d2230c",
   "metadata": {
    "ExecuteTime": {
     "end_time": "2022-11-18T06:59:22.997620Z",
     "start_time": "2022-11-18T06:59:22.983646Z"
    }
   },
   "outputs": [],
   "source": [
    "# boolean으로 변환\n",
    "data['CryoSleep'] = data['CryoSleep'].astype(bool)\n",
    "data['VIP'] = data['VIP'].astype(bool)\n",
    "data['Cabin3'] = data['Cabin3'].astype(bool)"
   ]
  },
  {
   "cell_type": "code",
   "execution_count": 16,
   "id": "5df54ff5",
   "metadata": {
    "ExecuteTime": {
     "end_time": "2022-11-18T06:59:23.012567Z",
     "start_time": "2022-11-18T06:59:22.998605Z"
    }
   },
   "outputs": [
    {
     "name": "stdout",
     "output_type": "stream",
     "text": [
      "<class 'pandas.core.frame.DataFrame'>\n",
      "RangeIndex: 12970 entries, 0 to 12969\n",
      "Data columns (total 16 columns):\n",
      " #   Column        Non-Null Count  Dtype  \n",
      "---  ------        --------------  -----  \n",
      " 0   HomePlanet    12691 non-null  object \n",
      " 1   CryoSleep     12970 non-null  bool   \n",
      " 2   Cabin1        12804 non-null  object \n",
      " 3   Cabin2        12804 non-null  float64\n",
      " 4   Combi         12804 non-null  object \n",
      " 5   Cabin3        12970 non-null  bool   \n",
      " 6   Cabin         12804 non-null  object \n",
      " 7   Destination   12704 non-null  object \n",
      " 8   Age           12700 non-null  float64\n",
      " 9   VIP           12970 non-null  bool   \n",
      " 10  RoomService   12776 non-null  float64\n",
      " 11  FoodCourt     12752 non-null  float64\n",
      " 12  ShoppingMall  12760 non-null  float64\n",
      " 13  Spa           12754 non-null  float64\n",
      " 14  VRDeck        12766 non-null  float64\n",
      " 15  Transported   8693 non-null   float64\n",
      "dtypes: bool(3), float64(8), object(5)\n",
      "memory usage: 1.3+ MB\n"
     ]
    }
   ],
   "source": [
    "# 변환 확인\n",
    "data.info()"
   ]
  },
  {
   "cell_type": "code",
   "execution_count": 17,
   "id": "8d9a7a31",
   "metadata": {
    "ExecuteTime": {
     "end_time": "2022-11-18T06:59:23.027528Z",
     "start_time": "2022-11-18T06:59:23.014563Z"
    }
   },
   "outputs": [],
   "source": [
    "# target 값을 제외하고 다른 변수에 저장\n",
    "df = data.iloc[:,:15]"
   ]
  },
  {
   "cell_type": "code",
   "execution_count": 18,
   "id": "996f7f99",
   "metadata": {
    "ExecuteTime": {
     "end_time": "2022-11-18T06:59:23.057547Z",
     "start_time": "2022-11-18T06:59:23.028527Z"
    }
   },
   "outputs": [
    {
     "name": "stdout",
     "output_type": "stream",
     "text": [
      "<class 'pandas.core.frame.DataFrame'>\n",
      "RangeIndex: 12970 entries, 0 to 12969\n",
      "Data columns (total 15 columns):\n",
      " #   Column        Non-Null Count  Dtype  \n",
      "---  ------        --------------  -----  \n",
      " 0   HomePlanet    12691 non-null  object \n",
      " 1   CryoSleep     12970 non-null  bool   \n",
      " 2   Cabin1        12804 non-null  object \n",
      " 3   Cabin2        12804 non-null  float64\n",
      " 4   Combi         12804 non-null  object \n",
      " 5   Cabin3        12970 non-null  bool   \n",
      " 6   Cabin         12804 non-null  object \n",
      " 7   Destination   12704 non-null  object \n",
      " 8   Age           12700 non-null  float64\n",
      " 9   VIP           12970 non-null  bool   \n",
      " 10  RoomService   12776 non-null  float64\n",
      " 11  FoodCourt     12752 non-null  float64\n",
      " 12  ShoppingMall  12760 non-null  float64\n",
      " 13  Spa           12754 non-null  float64\n",
      " 14  VRDeck        12766 non-null  float64\n",
      "dtypes: bool(3), float64(7), object(5)\n",
      "memory usage: 1.2+ MB\n"
     ]
    }
   ],
   "source": [
    "df.info()"
   ]
  },
  {
   "cell_type": "markdown",
   "id": "ae08e756",
   "metadata": {},
   "source": [
    "## 클러스터링을 위해 다른 결측값들을 전부 제거"
   ]
  },
  {
   "cell_type": "code",
   "execution_count": 19,
   "id": "8bf0a85d",
   "metadata": {
    "ExecuteTime": {
     "end_time": "2022-11-18T06:59:23.087368Z",
     "start_time": "2022-11-18T06:59:23.058445Z"
    }
   },
   "outputs": [
    {
     "name": "stdout",
     "output_type": "stream",
     "text": [
      "<class 'pandas.core.frame.DataFrame'>\n",
      "Int64Index: 11076 entries, 0 to 12969\n",
      "Data columns (total 15 columns):\n",
      " #   Column        Non-Null Count  Dtype  \n",
      "---  ------        --------------  -----  \n",
      " 0   HomePlanet    11076 non-null  object \n",
      " 1   CryoSleep     11076 non-null  bool   \n",
      " 2   Cabin1        11076 non-null  object \n",
      " 3   Cabin2        11076 non-null  float64\n",
      " 4   Combi         11076 non-null  object \n",
      " 5   Cabin3        11076 non-null  bool   \n",
      " 6   Cabin         11076 non-null  object \n",
      " 7   Destination   11076 non-null  object \n",
      " 8   Age           11076 non-null  float64\n",
      " 9   VIP           11076 non-null  bool   \n",
      " 10  RoomService   11076 non-null  float64\n",
      " 11  FoodCourt     11076 non-null  float64\n",
      " 12  ShoppingMall  11076 non-null  float64\n",
      " 13  Spa           11076 non-null  float64\n",
      " 14  VRDeck        11076 non-null  float64\n",
      "dtypes: bool(3), float64(7), object(5)\n",
      "memory usage: 1.1+ MB\n"
     ]
    }
   ],
   "source": [
    "df.dropna(inplace=True)\n",
    "df.info()"
   ]
  },
  {
   "cell_type": "markdown",
   "id": "bf858a99",
   "metadata": {},
   "source": [
    "## 원핫인코딩"
   ]
  },
  {
   "cell_type": "code",
   "execution_count": 20,
   "id": "fbeaab98",
   "metadata": {
    "ExecuteTime": {
     "end_time": "2022-11-18T06:59:23.117288Z",
     "start_time": "2022-11-18T06:59:23.088364Z"
    }
   },
   "outputs": [],
   "source": [
    "# object 타입의 데이터들 더미화\n",
    "train_encoding = pd.get_dummies(df['HomePlanet'])\n",
    "df=df.drop('HomePlanet',axis=1)\n",
    "df = df.join(train_encoding)\n",
    "\n",
    "train_encoding = pd.get_dummies(df['Destination'])\n",
    "# 기존의 팀명 컬러 삭제\n",
    "df=df.drop('Destination',axis=1)\n",
    "df = df.join(train_encoding)\n",
    "\n",
    "train_encoding = pd.get_dummies(df['Cabin1'])\n",
    "# 기존의 팀명 컬러 삭제\n",
    "df=df.drop('Cabin1',axis=1)\n",
    "df = df.join(train_encoding)"
   ]
  },
  {
   "cell_type": "code",
   "execution_count": 21,
   "id": "3d3a1b1a",
   "metadata": {
    "ExecuteTime": {
     "end_time": "2022-11-18T06:59:23.132248Z",
     "start_time": "2022-11-18T06:59:23.118286Z"
    }
   },
   "outputs": [
    {
     "name": "stdout",
     "output_type": "stream",
     "text": [
      "<class 'pandas.core.frame.DataFrame'>\n",
      "Int64Index: 11076 entries, 0 to 12969\n",
      "Data columns (total 26 columns):\n",
      " #   Column         Non-Null Count  Dtype  \n",
      "---  ------         --------------  -----  \n",
      " 0   CryoSleep      11076 non-null  bool   \n",
      " 1   Cabin2         11076 non-null  float64\n",
      " 2   Combi          11076 non-null  object \n",
      " 3   Cabin3         11076 non-null  bool   \n",
      " 4   Cabin          11076 non-null  object \n",
      " 5   Age            11076 non-null  float64\n",
      " 6   VIP            11076 non-null  bool   \n",
      " 7   RoomService    11076 non-null  float64\n",
      " 8   FoodCourt      11076 non-null  float64\n",
      " 9   ShoppingMall   11076 non-null  float64\n",
      " 10  Spa            11076 non-null  float64\n",
      " 11  VRDeck         11076 non-null  float64\n",
      " 12  Earth          11076 non-null  uint8  \n",
      " 13  Europa         11076 non-null  uint8  \n",
      " 14  Mars           11076 non-null  uint8  \n",
      " 15  55 Cancri e    11076 non-null  uint8  \n",
      " 16  PSO J318.5-22  11076 non-null  uint8  \n",
      " 17  TRAPPIST-1e    11076 non-null  uint8  \n",
      " 18  A              11076 non-null  uint8  \n",
      " 19  B              11076 non-null  uint8  \n",
      " 20  C              11076 non-null  uint8  \n",
      " 21  D              11076 non-null  uint8  \n",
      " 22  E              11076 non-null  uint8  \n",
      " 23  F              11076 non-null  uint8  \n",
      " 24  G              11076 non-null  uint8  \n",
      " 25  T              11076 non-null  uint8  \n",
      "dtypes: bool(3), float64(7), object(2), uint8(14)\n",
      "memory usage: 1.3+ MB\n"
     ]
    }
   ],
   "source": [
    "# 데이터 확인\n",
    "df.info()"
   ]
  },
  {
   "cell_type": "markdown",
   "id": "aedb7034",
   "metadata": {},
   "source": [
    "## 스케일링"
   ]
  },
  {
   "cell_type": "code",
   "execution_count": 22,
   "id": "414075b5",
   "metadata": {
    "ExecuteTime": {
     "end_time": "2022-11-18T06:59:23.147264Z",
     "start_time": "2022-11-18T06:59:23.133245Z"
    }
   },
   "outputs": [],
   "source": [
    "# 스케일링을 위한 함수 생성\n",
    "col = ['Cabin2', 'Age', 'RoomService','FoodCourt','ShoppingMall','Spa','VRDeck']\n",
    "def data_scaled(df, col):\n",
    "    for i in col:\n",
    "        data_mean = df[i].mean()\n",
    "        data_std = df[i].std()\n",
    "        scaled = (df[i]-data_mean)/data_std\n",
    "        df[i]=scaled\n",
    "    return df"
   ]
  },
  {
   "cell_type": "code",
   "execution_count": 23,
   "id": "10928d1d",
   "metadata": {
    "ExecuteTime": {
     "end_time": "2022-11-18T06:59:23.192139Z",
     "start_time": "2022-11-18T06:59:23.148255Z"
    }
   },
   "outputs": [
    {
     "data": {
      "text/html": [
       "<div>\n",
       "<style scoped>\n",
       "    .dataframe tbody tr th:only-of-type {\n",
       "        vertical-align: middle;\n",
       "    }\n",
       "\n",
       "    .dataframe tbody tr th {\n",
       "        vertical-align: top;\n",
       "    }\n",
       "\n",
       "    .dataframe thead th {\n",
       "        text-align: right;\n",
       "    }\n",
       "</style>\n",
       "<table border=\"1\" class=\"dataframe\">\n",
       "  <thead>\n",
       "    <tr style=\"text-align: right;\">\n",
       "      <th></th>\n",
       "      <th>CryoSleep</th>\n",
       "      <th>Cabin2</th>\n",
       "      <th>Combi</th>\n",
       "      <th>Cabin3</th>\n",
       "      <th>Cabin</th>\n",
       "      <th>Age</th>\n",
       "      <th>VIP</th>\n",
       "      <th>RoomService</th>\n",
       "      <th>FoodCourt</th>\n",
       "      <th>ShoppingMall</th>\n",
       "      <th>...</th>\n",
       "      <th>PSO J318.5-22</th>\n",
       "      <th>TRAPPIST-1e</th>\n",
       "      <th>A</th>\n",
       "      <th>B</th>\n",
       "      <th>C</th>\n",
       "      <th>D</th>\n",
       "      <th>E</th>\n",
       "      <th>F</th>\n",
       "      <th>G</th>\n",
       "      <th>T</th>\n",
       "    </tr>\n",
       "  </thead>\n",
       "  <tbody>\n",
       "    <tr>\n",
       "      <th>0</th>\n",
       "      <td>False</td>\n",
       "      <td>-1.171058</td>\n",
       "      <td>B0</td>\n",
       "      <td>True</td>\n",
       "      <td>B/0/P</td>\n",
       "      <td>0.707877</td>\n",
       "      <td>False</td>\n",
       "      <td>-0.334616</td>\n",
       "      <td>-0.282674</td>\n",
       "      <td>-0.285975</td>\n",
       "      <td>...</td>\n",
       "      <td>0</td>\n",
       "      <td>1</td>\n",
       "      <td>0</td>\n",
       "      <td>1</td>\n",
       "      <td>0</td>\n",
       "      <td>0</td>\n",
       "      <td>0</td>\n",
       "      <td>0</td>\n",
       "      <td>0</td>\n",
       "      <td>0</td>\n",
       "    </tr>\n",
       "    <tr>\n",
       "      <th>1</th>\n",
       "      <td>False</td>\n",
       "      <td>-1.171058</td>\n",
       "      <td>F0</td>\n",
       "      <td>True</td>\n",
       "      <td>F/0/S</td>\n",
       "      <td>-0.329018</td>\n",
       "      <td>False</td>\n",
       "      <td>-0.166861</td>\n",
       "      <td>-0.277057</td>\n",
       "      <td>-0.244125</td>\n",
       "      <td>...</td>\n",
       "      <td>0</td>\n",
       "      <td>1</td>\n",
       "      <td>0</td>\n",
       "      <td>0</td>\n",
       "      <td>0</td>\n",
       "      <td>0</td>\n",
       "      <td>0</td>\n",
       "      <td>1</td>\n",
       "      <td>0</td>\n",
       "      <td>0</td>\n",
       "    </tr>\n",
       "    <tr>\n",
       "      <th>2</th>\n",
       "      <td>False</td>\n",
       "      <td>-1.171058</td>\n",
       "      <td>A0</td>\n",
       "      <td>True</td>\n",
       "      <td>A/0/S</td>\n",
       "      <td>2.021278</td>\n",
       "      <td>True</td>\n",
       "      <td>-0.268437</td>\n",
       "      <td>1.949128</td>\n",
       "      <td>-0.285975</td>\n",
       "      <td>...</td>\n",
       "      <td>0</td>\n",
       "      <td>1</td>\n",
       "      <td>1</td>\n",
       "      <td>0</td>\n",
       "      <td>0</td>\n",
       "      <td>0</td>\n",
       "      <td>0</td>\n",
       "      <td>0</td>\n",
       "      <td>0</td>\n",
       "      <td>0</td>\n",
       "    </tr>\n",
       "    <tr>\n",
       "      <th>3</th>\n",
       "      <td>False</td>\n",
       "      <td>-1.171058</td>\n",
       "      <td>A0</td>\n",
       "      <td>True</td>\n",
       "      <td>A/0/S</td>\n",
       "      <td>0.293119</td>\n",
       "      <td>False</td>\n",
       "      <td>-0.334616</td>\n",
       "      <td>0.518053</td>\n",
       "      <td>0.335083</td>\n",
       "      <td>...</td>\n",
       "      <td>0</td>\n",
       "      <td>1</td>\n",
       "      <td>1</td>\n",
       "      <td>0</td>\n",
       "      <td>0</td>\n",
       "      <td>0</td>\n",
       "      <td>0</td>\n",
       "      <td>0</td>\n",
       "      <td>0</td>\n",
       "      <td>0</td>\n",
       "    </tr>\n",
       "    <tr>\n",
       "      <th>4</th>\n",
       "      <td>False</td>\n",
       "      <td>-1.169112</td>\n",
       "      <td>F1</td>\n",
       "      <td>True</td>\n",
       "      <td>F/1/S</td>\n",
       "      <td>-0.882029</td>\n",
       "      <td>False</td>\n",
       "      <td>0.131712</td>\n",
       "      <td>-0.238987</td>\n",
       "      <td>-0.033199</td>\n",
       "      <td>...</td>\n",
       "      <td>0</td>\n",
       "      <td>1</td>\n",
       "      <td>0</td>\n",
       "      <td>0</td>\n",
       "      <td>0</td>\n",
       "      <td>0</td>\n",
       "      <td>0</td>\n",
       "      <td>1</td>\n",
       "      <td>0</td>\n",
       "      <td>0</td>\n",
       "    </tr>\n",
       "    <tr>\n",
       "      <th>...</th>\n",
       "      <td>...</td>\n",
       "      <td>...</td>\n",
       "      <td>...</td>\n",
       "      <td>...</td>\n",
       "      <td>...</td>\n",
       "      <td>...</td>\n",
       "      <td>...</td>\n",
       "      <td>...</td>\n",
       "      <td>...</td>\n",
       "      <td>...</td>\n",
       "      <td>...</td>\n",
       "      <td>...</td>\n",
       "      <td>...</td>\n",
       "      <td>...</td>\n",
       "      <td>...</td>\n",
       "      <td>...</td>\n",
       "      <td>...</td>\n",
       "      <td>...</td>\n",
       "      <td>...</td>\n",
       "      <td>...</td>\n",
       "      <td>...</td>\n",
       "    </tr>\n",
       "    <tr>\n",
       "      <th>12962</th>\n",
       "      <td>True</td>\n",
       "      <td>1.737845</td>\n",
       "      <td>G1495</td>\n",
       "      <td>True</td>\n",
       "      <td>G/1495/S</td>\n",
       "      <td>0.984383</td>\n",
       "      <td>False</td>\n",
       "      <td>-0.334616</td>\n",
       "      <td>-0.282674</td>\n",
       "      <td>-0.285975</td>\n",
       "      <td>...</td>\n",
       "      <td>0</td>\n",
       "      <td>1</td>\n",
       "      <td>0</td>\n",
       "      <td>0</td>\n",
       "      <td>0</td>\n",
       "      <td>0</td>\n",
       "      <td>0</td>\n",
       "      <td>0</td>\n",
       "      <td>1</td>\n",
       "      <td>0</td>\n",
       "    </tr>\n",
       "    <tr>\n",
       "      <th>12963</th>\n",
       "      <td>False</td>\n",
       "      <td>-0.630138</td>\n",
       "      <td>D278</td>\n",
       "      <td>True</td>\n",
       "      <td>D/278/S</td>\n",
       "      <td>0.984383</td>\n",
       "      <td>False</td>\n",
       "      <td>-0.262281</td>\n",
       "      <td>-0.282674</td>\n",
       "      <td>6.160647</td>\n",
       "      <td>...</td>\n",
       "      <td>0</td>\n",
       "      <td>1</td>\n",
       "      <td>0</td>\n",
       "      <td>0</td>\n",
       "      <td>0</td>\n",
       "      <td>1</td>\n",
       "      <td>0</td>\n",
       "      <td>0</td>\n",
       "      <td>0</td>\n",
       "      <td>0</td>\n",
       "    </tr>\n",
       "    <tr>\n",
       "      <th>12964</th>\n",
       "      <td>False</td>\n",
       "      <td>2.323517</td>\n",
       "      <td>F1796</td>\n",
       "      <td>True</td>\n",
       "      <td>F/1796/S</td>\n",
       "      <td>0.777004</td>\n",
       "      <td>False</td>\n",
       "      <td>-0.334616</td>\n",
       "      <td>0.257177</td>\n",
       "      <td>-0.285975</td>\n",
       "      <td>...</td>\n",
       "      <td>0</td>\n",
       "      <td>1</td>\n",
       "      <td>0</td>\n",
       "      <td>0</td>\n",
       "      <td>0</td>\n",
       "      <td>0</td>\n",
       "      <td>0</td>\n",
       "      <td>1</td>\n",
       "      <td>0</td>\n",
       "      <td>0</td>\n",
       "    </tr>\n",
       "    <tr>\n",
       "      <th>12965</th>\n",
       "      <td>True</td>\n",
       "      <td>1.739790</td>\n",
       "      <td>G1496</td>\n",
       "      <td>True</td>\n",
       "      <td>G/1496/S</td>\n",
       "      <td>0.362246</td>\n",
       "      <td>False</td>\n",
       "      <td>-0.334616</td>\n",
       "      <td>-0.282674</td>\n",
       "      <td>-0.285975</td>\n",
       "      <td>...</td>\n",
       "      <td>0</td>\n",
       "      <td>1</td>\n",
       "      <td>0</td>\n",
       "      <td>0</td>\n",
       "      <td>0</td>\n",
       "      <td>0</td>\n",
       "      <td>0</td>\n",
       "      <td>0</td>\n",
       "      <td>1</td>\n",
       "      <td>0</td>\n",
       "    </tr>\n",
       "    <tr>\n",
       "      <th>12969</th>\n",
       "      <td>True</td>\n",
       "      <td>1.743682</td>\n",
       "      <td>G1498</td>\n",
       "      <td>True</td>\n",
       "      <td>G/1498/S</td>\n",
       "      <td>0.984383</td>\n",
       "      <td>False</td>\n",
       "      <td>-0.334616</td>\n",
       "      <td>-0.282674</td>\n",
       "      <td>-0.285975</td>\n",
       "      <td>...</td>\n",
       "      <td>1</td>\n",
       "      <td>0</td>\n",
       "      <td>0</td>\n",
       "      <td>0</td>\n",
       "      <td>0</td>\n",
       "      <td>0</td>\n",
       "      <td>0</td>\n",
       "      <td>0</td>\n",
       "      <td>1</td>\n",
       "      <td>0</td>\n",
       "    </tr>\n",
       "  </tbody>\n",
       "</table>\n",
       "<p>11076 rows × 26 columns</p>\n",
       "</div>"
      ],
      "text/plain": [
       "       CryoSleep    Cabin2  Combi  Cabin3     Cabin       Age    VIP  \\\n",
       "0          False -1.171058     B0    True     B/0/P  0.707877  False   \n",
       "1          False -1.171058     F0    True     F/0/S -0.329018  False   \n",
       "2          False -1.171058     A0    True     A/0/S  2.021278   True   \n",
       "3          False -1.171058     A0    True     A/0/S  0.293119  False   \n",
       "4          False -1.169112     F1    True     F/1/S -0.882029  False   \n",
       "...          ...       ...    ...     ...       ...       ...    ...   \n",
       "12962       True  1.737845  G1495    True  G/1495/S  0.984383  False   \n",
       "12963      False -0.630138   D278    True   D/278/S  0.984383  False   \n",
       "12964      False  2.323517  F1796    True  F/1796/S  0.777004  False   \n",
       "12965       True  1.739790  G1496    True  G/1496/S  0.362246  False   \n",
       "12969       True  1.743682  G1498    True  G/1498/S  0.984383  False   \n",
       "\n",
       "       RoomService  FoodCourt  ShoppingMall  ...  PSO J318.5-22  TRAPPIST-1e  \\\n",
       "0        -0.334616  -0.282674     -0.285975  ...              0            1   \n",
       "1        -0.166861  -0.277057     -0.244125  ...              0            1   \n",
       "2        -0.268437   1.949128     -0.285975  ...              0            1   \n",
       "3        -0.334616   0.518053      0.335083  ...              0            1   \n",
       "4         0.131712  -0.238987     -0.033199  ...              0            1   \n",
       "...            ...        ...           ...  ...            ...          ...   \n",
       "12962    -0.334616  -0.282674     -0.285975  ...              0            1   \n",
       "12963    -0.262281  -0.282674      6.160647  ...              0            1   \n",
       "12964    -0.334616   0.257177     -0.285975  ...              0            1   \n",
       "12965    -0.334616  -0.282674     -0.285975  ...              0            1   \n",
       "12969    -0.334616  -0.282674     -0.285975  ...              1            0   \n",
       "\n",
       "       A  B  C  D  E  F  G  T  \n",
       "0      0  1  0  0  0  0  0  0  \n",
       "1      0  0  0  0  0  1  0  0  \n",
       "2      1  0  0  0  0  0  0  0  \n",
       "3      1  0  0  0  0  0  0  0  \n",
       "4      0  0  0  0  0  1  0  0  \n",
       "...   .. .. .. .. .. .. .. ..  \n",
       "12962  0  0  0  0  0  0  1  0  \n",
       "12963  0  0  0  1  0  0  0  0  \n",
       "12964  0  0  0  0  0  1  0  0  \n",
       "12965  0  0  0  0  0  0  1  0  \n",
       "12969  0  0  0  0  0  0  1  0  \n",
       "\n",
       "[11076 rows x 26 columns]"
      ]
     },
     "execution_count": 23,
     "metadata": {},
     "output_type": "execute_result"
    }
   ],
   "source": [
    "data_scaled(df, col)"
   ]
  },
  {
   "cell_type": "code",
   "execution_count": 24,
   "id": "59dcd3b8",
   "metadata": {
    "ExecuteTime": {
     "end_time": "2022-11-18T06:59:23.222058Z",
     "start_time": "2022-11-18T06:59:23.193134Z"
    }
   },
   "outputs": [
    {
     "data": {
      "text/html": [
       "<div>\n",
       "<style scoped>\n",
       "    .dataframe tbody tr th:only-of-type {\n",
       "        vertical-align: middle;\n",
       "    }\n",
       "\n",
       "    .dataframe tbody tr th {\n",
       "        vertical-align: top;\n",
       "    }\n",
       "\n",
       "    .dataframe thead th {\n",
       "        text-align: right;\n",
       "    }\n",
       "</style>\n",
       "<table border=\"1\" class=\"dataframe\">\n",
       "  <thead>\n",
       "    <tr style=\"text-align: right;\">\n",
       "      <th></th>\n",
       "      <th>CryoSleep</th>\n",
       "      <th>Cabin2</th>\n",
       "      <th>Combi</th>\n",
       "      <th>Cabin3</th>\n",
       "      <th>Cabin</th>\n",
       "      <th>Age</th>\n",
       "      <th>VIP</th>\n",
       "      <th>RoomService</th>\n",
       "      <th>FoodCourt</th>\n",
       "      <th>ShoppingMall</th>\n",
       "      <th>...</th>\n",
       "      <th>PSO J318.5-22</th>\n",
       "      <th>TRAPPIST-1e</th>\n",
       "      <th>A</th>\n",
       "      <th>B</th>\n",
       "      <th>C</th>\n",
       "      <th>D</th>\n",
       "      <th>E</th>\n",
       "      <th>F</th>\n",
       "      <th>G</th>\n",
       "      <th>T</th>\n",
       "    </tr>\n",
       "  </thead>\n",
       "  <tbody>\n",
       "    <tr>\n",
       "      <th>0</th>\n",
       "      <td>False</td>\n",
       "      <td>-1.171058</td>\n",
       "      <td>B0</td>\n",
       "      <td>True</td>\n",
       "      <td>B/0/P</td>\n",
       "      <td>0.707877</td>\n",
       "      <td>False</td>\n",
       "      <td>-0.334616</td>\n",
       "      <td>-0.282674</td>\n",
       "      <td>-0.285975</td>\n",
       "      <td>...</td>\n",
       "      <td>0</td>\n",
       "      <td>1</td>\n",
       "      <td>0</td>\n",
       "      <td>1</td>\n",
       "      <td>0</td>\n",
       "      <td>0</td>\n",
       "      <td>0</td>\n",
       "      <td>0</td>\n",
       "      <td>0</td>\n",
       "      <td>0</td>\n",
       "    </tr>\n",
       "    <tr>\n",
       "      <th>1</th>\n",
       "      <td>False</td>\n",
       "      <td>-1.171058</td>\n",
       "      <td>F0</td>\n",
       "      <td>True</td>\n",
       "      <td>F/0/S</td>\n",
       "      <td>-0.329018</td>\n",
       "      <td>False</td>\n",
       "      <td>-0.166861</td>\n",
       "      <td>-0.277057</td>\n",
       "      <td>-0.244125</td>\n",
       "      <td>...</td>\n",
       "      <td>0</td>\n",
       "      <td>1</td>\n",
       "      <td>0</td>\n",
       "      <td>0</td>\n",
       "      <td>0</td>\n",
       "      <td>0</td>\n",
       "      <td>0</td>\n",
       "      <td>1</td>\n",
       "      <td>0</td>\n",
       "      <td>0</td>\n",
       "    </tr>\n",
       "    <tr>\n",
       "      <th>2</th>\n",
       "      <td>False</td>\n",
       "      <td>-1.171058</td>\n",
       "      <td>A0</td>\n",
       "      <td>True</td>\n",
       "      <td>A/0/S</td>\n",
       "      <td>2.021278</td>\n",
       "      <td>True</td>\n",
       "      <td>-0.268437</td>\n",
       "      <td>1.949128</td>\n",
       "      <td>-0.285975</td>\n",
       "      <td>...</td>\n",
       "      <td>0</td>\n",
       "      <td>1</td>\n",
       "      <td>1</td>\n",
       "      <td>0</td>\n",
       "      <td>0</td>\n",
       "      <td>0</td>\n",
       "      <td>0</td>\n",
       "      <td>0</td>\n",
       "      <td>0</td>\n",
       "      <td>0</td>\n",
       "    </tr>\n",
       "    <tr>\n",
       "      <th>3</th>\n",
       "      <td>False</td>\n",
       "      <td>-1.171058</td>\n",
       "      <td>A0</td>\n",
       "      <td>True</td>\n",
       "      <td>A/0/S</td>\n",
       "      <td>0.293119</td>\n",
       "      <td>False</td>\n",
       "      <td>-0.334616</td>\n",
       "      <td>0.518053</td>\n",
       "      <td>0.335083</td>\n",
       "      <td>...</td>\n",
       "      <td>0</td>\n",
       "      <td>1</td>\n",
       "      <td>1</td>\n",
       "      <td>0</td>\n",
       "      <td>0</td>\n",
       "      <td>0</td>\n",
       "      <td>0</td>\n",
       "      <td>0</td>\n",
       "      <td>0</td>\n",
       "      <td>0</td>\n",
       "    </tr>\n",
       "    <tr>\n",
       "      <th>4</th>\n",
       "      <td>False</td>\n",
       "      <td>-1.169112</td>\n",
       "      <td>F1</td>\n",
       "      <td>True</td>\n",
       "      <td>F/1/S</td>\n",
       "      <td>-0.882029</td>\n",
       "      <td>False</td>\n",
       "      <td>0.131712</td>\n",
       "      <td>-0.238987</td>\n",
       "      <td>-0.033199</td>\n",
       "      <td>...</td>\n",
       "      <td>0</td>\n",
       "      <td>1</td>\n",
       "      <td>0</td>\n",
       "      <td>0</td>\n",
       "      <td>0</td>\n",
       "      <td>0</td>\n",
       "      <td>0</td>\n",
       "      <td>1</td>\n",
       "      <td>0</td>\n",
       "      <td>0</td>\n",
       "    </tr>\n",
       "  </tbody>\n",
       "</table>\n",
       "<p>5 rows × 26 columns</p>\n",
       "</div>"
      ],
      "text/plain": [
       "   CryoSleep    Cabin2 Combi  Cabin3  Cabin       Age    VIP  RoomService  \\\n",
       "0      False -1.171058    B0    True  B/0/P  0.707877  False    -0.334616   \n",
       "1      False -1.171058    F0    True  F/0/S -0.329018  False    -0.166861   \n",
       "2      False -1.171058    A0    True  A/0/S  2.021278   True    -0.268437   \n",
       "3      False -1.171058    A0    True  A/0/S  0.293119  False    -0.334616   \n",
       "4      False -1.169112    F1    True  F/1/S -0.882029  False     0.131712   \n",
       "\n",
       "   FoodCourt  ShoppingMall  ...  PSO J318.5-22  TRAPPIST-1e  A  B  C  D  E  F  \\\n",
       "0  -0.282674     -0.285975  ...              0            1  0  1  0  0  0  0   \n",
       "1  -0.277057     -0.244125  ...              0            1  0  0  0  0  0  1   \n",
       "2   1.949128     -0.285975  ...              0            1  1  0  0  0  0  0   \n",
       "3   0.518053      0.335083  ...              0            1  1  0  0  0  0  0   \n",
       "4  -0.238987     -0.033199  ...              0            1  0  0  0  0  0  1   \n",
       "\n",
       "   G  T  \n",
       "0  0  0  \n",
       "1  0  0  \n",
       "2  0  0  \n",
       "3  0  0  \n",
       "4  0  0  \n",
       "\n",
       "[5 rows x 26 columns]"
      ]
     },
     "execution_count": 24,
     "metadata": {},
     "output_type": "execute_result"
    }
   ],
   "source": [
    "df.head()"
   ]
  },
  {
   "cell_type": "markdown",
   "id": "ecb78a82",
   "metadata": {},
   "source": [
    "## 클러스터링\n",
    "- 필요없는 feature 추가로 제거한 후 진행"
   ]
  },
  {
   "cell_type": "code",
   "execution_count": 25,
   "id": "104b25ea",
   "metadata": {
    "ExecuteTime": {
     "end_time": "2022-11-18T06:59:23.237019Z",
     "start_time": "2022-11-18T06:59:23.223054Z"
    }
   },
   "outputs": [],
   "source": [
    "dt = df.drop(['Combi', 'Cabin'], axis=1)"
   ]
  },
  {
   "cell_type": "code",
   "execution_count": 26,
   "id": "838e1acb",
   "metadata": {
    "ExecuteTime": {
     "end_time": "2022-11-18T07:00:34.249314Z",
     "start_time": "2022-11-18T06:59:23.239013Z"
    }
   },
   "outputs": [
    {
     "name": "stdout",
     "output_type": "stream",
     "text": [
      "k: 2, score: 0.39969018335468287\n",
      "k: 3, score: 0.14185156575717311\n",
      "k: 4, score: 0.15151784045362093\n",
      "k: 5, score: 0.1559061192440089\n",
      "k: 6, score: 0.13272243195725927\n",
      "k: 7, score: 0.14264793143217322\n",
      "k: 8, score: 0.1523939867296424\n",
      "k: 9, score: 0.15855572438088006\n",
      "k: 10, score: 0.16848717649649886\n",
      "k: 11, score: 0.1719417766830233\n",
      "k: 12, score: 0.1767525504160753\n",
      "k: 13, score: 0.15301345015328918\n",
      "k: 14, score: 0.16995625293762828\n",
      "k: 15, score: 0.17547035906816716\n",
      "k: 16, score: 0.15851569352600384\n",
      "k: 17, score: 0.16866166334971966\n",
      "k: 18, score: 0.17945282042894817\n",
      "k: 19, score: 0.1782550670939478\n",
      "k: 20, score: 0.17939509762456127\n",
      "k: 21, score: 0.17489397195225823\n",
      "k: 22, score: 0.17714857616304974\n",
      "k: 23, score: 0.1736955166982367\n",
      "k: 24, score: 0.1745671601499613\n",
      "k: 25, score: 0.17714199923930266\n",
      "k: 26, score: 0.17156985331968433\n",
      "k: 27, score: 0.17462637551984989\n",
      "k: 28, score: 0.17879420423015113\n",
      "k: 29, score: 0.18481786330498226\n",
      "\n",
      " best K: 2, best Score: 0.39969018335468287\n"
     ]
    }
   ],
   "source": [
    "k_range = range(2,30)\n",
    "\n",
    "best_k = -1\n",
    "best_silhouette_score = -1\n",
    "\n",
    "for k in k_range:\n",
    "    km = KMeans(n_clusters = k, random_state=109)\n",
    "    km.fit(dt)\n",
    "    clusters= km.predict(dt)\n",
    "    \n",
    "    score = silhouette_score(dt, clusters)\n",
    "    \n",
    "    print('k: {}, score: {}'.format(k, score))\n",
    "    if score > best_silhouette_score:\n",
    "        best_k = k\n",
    "        best_silhouette_score = score\n",
    "        \n",
    "print('\\n best K: {}, best Score: {}'.format(best_k, best_silhouette_score))"
   ]
  },
  {
   "cell_type": "markdown",
   "id": "c8a43715",
   "metadata": {},
   "source": [
    "- 군집화를 시켜보니 실루엣 점수가 너무 낮아서 이를 포기하고 feature 별로 분류하여 결측값을 채우기로 함"
   ]
  },
  {
   "cell_type": "markdown",
   "id": "531f044c",
   "metadata": {},
   "source": [
    "## CryoSleep 결측값 채우기\n",
    "- XGBoost 활용하기"
   ]
  },
  {
   "cell_type": "markdown",
   "id": "27298d94",
   "metadata": {},
   "source": [
    "### 훈련셋 테스트셋 검증셋 분리"
   ]
  },
  {
   "cell_type": "code",
   "execution_count": 27,
   "id": "94a5d778",
   "metadata": {
    "ExecuteTime": {
     "end_time": "2022-11-18T07:00:34.266097Z",
     "start_time": "2022-11-18T07:00:34.250309Z"
    }
   },
   "outputs": [],
   "source": [
    "X_train, X_test, y_train, y_test = train_test_split(dt.drop(['CryoSleep'],axis=1),dt.CryoSleep,\n",
    "                                                    random_state=109)\n",
    "X_train, X_val, y_train, y_val = train_test_split(X_train, y_train)"
   ]
  },
  {
   "cell_type": "markdown",
   "id": "ef241804",
   "metadata": {},
   "source": [
    "### 모델 생성(그리드서치)"
   ]
  },
  {
   "cell_type": "code",
   "execution_count": 28,
   "id": "8f040ff7",
   "metadata": {
    "ExecuteTime": {
     "end_time": "2022-11-18T07:41:43.904924Z",
     "start_time": "2022-11-18T07:11:56.002694Z"
    }
   },
   "outputs": [],
   "source": [
    "# xgbo = xgb.XGBClassifier()\n",
    "\n",
    "# params = {\n",
    "#     'max_depth':[2, 3, 4, 5, 6, 7, 8, 9, 10, 11, 12, 13, 14, 15, 16, 17, 18, 19, 20, 21, 22, 23, 24, 25, None],\n",
    "#     'learning_rate':[0.01, 0.05, 0.1, 0.15, 0.2, 0.25, 0.3, 0.35, 0.4],\n",
    "#     'gamma':[0.5, 1, 1.5, 2, 2.5, 3, 3.5, 4, 4.5, 5],\n",
    "#     'random_state':[109]\n",
    "# }\n",
    "\n",
    "# gs = GridSearchCV(xgbo, param_grid = params, cv = 3, refit = True, n_jobs=-1)\n",
    "# gs.fit(X_train, y_train)"
   ]
  },
  {
   "cell_type": "markdown",
   "id": "935bdb16",
   "metadata": {},
   "source": [
    "### 결과확인"
   ]
  },
  {
   "cell_type": "code",
   "execution_count": 29,
   "id": "d1ae84af",
   "metadata": {
    "ExecuteTime": {
     "end_time": "2022-11-18T07:50:09.323643Z",
     "start_time": "2022-11-18T07:50:09.288737Z"
    },
    "scrolled": true
   },
   "outputs": [],
   "source": [
    "# model = gs.best_estimator_\n",
    "# print(model.score(X_train, y_train))\n",
    "# print(model.score(X_test, y_test))\n",
    "# print(model.score(X_val, y_val))"
   ]
  },
  {
   "cell_type": "code",
   "execution_count": 30,
   "id": "abc118af",
   "metadata": {
    "ExecuteTime": {
     "end_time": "2022-11-18T07:46:44.087473Z",
     "start_time": "2022-11-18T07:46:44.074507Z"
    }
   },
   "outputs": [],
   "source": [
    "# # 최적의 파라미터값\n",
    "# print(gs.best_params_)"
   ]
  },
  {
   "cell_type": "code",
   "execution_count": 31,
   "id": "e9fcacf8",
   "metadata": {
    "ExecuteTime": {
     "end_time": "2022-11-18T07:49:14.960344Z",
     "start_time": "2022-11-18T07:49:14.608281Z"
    }
   },
   "outputs": [
    {
     "data": {
      "text/html": [
       "<style>#sk-container-id-1 {color: black;background-color: white;}#sk-container-id-1 pre{padding: 0;}#sk-container-id-1 div.sk-toggleable {background-color: white;}#sk-container-id-1 label.sk-toggleable__label {cursor: pointer;display: block;width: 100%;margin-bottom: 0;padding: 0.3em;box-sizing: border-box;text-align: center;}#sk-container-id-1 label.sk-toggleable__label-arrow:before {content: \"▸\";float: left;margin-right: 0.25em;color: #696969;}#sk-container-id-1 label.sk-toggleable__label-arrow:hover:before {color: black;}#sk-container-id-1 div.sk-estimator:hover label.sk-toggleable__label-arrow:before {color: black;}#sk-container-id-1 div.sk-toggleable__content {max-height: 0;max-width: 0;overflow: hidden;text-align: left;background-color: #f0f8ff;}#sk-container-id-1 div.sk-toggleable__content pre {margin: 0.2em;color: black;border-radius: 0.25em;background-color: #f0f8ff;}#sk-container-id-1 input.sk-toggleable__control:checked~div.sk-toggleable__content {max-height: 200px;max-width: 100%;overflow: auto;}#sk-container-id-1 input.sk-toggleable__control:checked~label.sk-toggleable__label-arrow:before {content: \"▾\";}#sk-container-id-1 div.sk-estimator input.sk-toggleable__control:checked~label.sk-toggleable__label {background-color: #d4ebff;}#sk-container-id-1 div.sk-label input.sk-toggleable__control:checked~label.sk-toggleable__label {background-color: #d4ebff;}#sk-container-id-1 input.sk-hidden--visually {border: 0;clip: rect(1px 1px 1px 1px);clip: rect(1px, 1px, 1px, 1px);height: 1px;margin: -1px;overflow: hidden;padding: 0;position: absolute;width: 1px;}#sk-container-id-1 div.sk-estimator {font-family: monospace;background-color: #f0f8ff;border: 1px dotted black;border-radius: 0.25em;box-sizing: border-box;margin-bottom: 0.5em;}#sk-container-id-1 div.sk-estimator:hover {background-color: #d4ebff;}#sk-container-id-1 div.sk-parallel-item::after {content: \"\";width: 100%;border-bottom: 1px solid gray;flex-grow: 1;}#sk-container-id-1 div.sk-label:hover label.sk-toggleable__label {background-color: #d4ebff;}#sk-container-id-1 div.sk-serial::before {content: \"\";position: absolute;border-left: 1px solid gray;box-sizing: border-box;top: 0;bottom: 0;left: 50%;z-index: 0;}#sk-container-id-1 div.sk-serial {display: flex;flex-direction: column;align-items: center;background-color: white;padding-right: 0.2em;padding-left: 0.2em;position: relative;}#sk-container-id-1 div.sk-item {position: relative;z-index: 1;}#sk-container-id-1 div.sk-parallel {display: flex;align-items: stretch;justify-content: center;background-color: white;position: relative;}#sk-container-id-1 div.sk-item::before, #sk-container-id-1 div.sk-parallel-item::before {content: \"\";position: absolute;border-left: 1px solid gray;box-sizing: border-box;top: 0;bottom: 0;left: 50%;z-index: -1;}#sk-container-id-1 div.sk-parallel-item {display: flex;flex-direction: column;z-index: 1;position: relative;background-color: white;}#sk-container-id-1 div.sk-parallel-item:first-child::after {align-self: flex-end;width: 50%;}#sk-container-id-1 div.sk-parallel-item:last-child::after {align-self: flex-start;width: 50%;}#sk-container-id-1 div.sk-parallel-item:only-child::after {width: 0;}#sk-container-id-1 div.sk-dashed-wrapped {border: 1px dashed gray;margin: 0 0.4em 0.5em 0.4em;box-sizing: border-box;padding-bottom: 0.4em;background-color: white;}#sk-container-id-1 div.sk-label label {font-family: monospace;font-weight: bold;display: inline-block;line-height: 1.2em;}#sk-container-id-1 div.sk-label-container {text-align: center;}#sk-container-id-1 div.sk-container {/* jupyter's `normalize.less` sets `[hidden] { display: none; }` but bootstrap.min.css set `[hidden] { display: none !important; }` so we also need the `!important` here to be able to override the default hidden behavior on the sphinx rendered scikit-learn.org. See: https://github.com/scikit-learn/scikit-learn/issues/21755 */display: inline-block !important;position: relative;}#sk-container-id-1 div.sk-text-repr-fallback {display: none;}</style><div id=\"sk-container-id-1\" class=\"sk-top-container\"><div class=\"sk-text-repr-fallback\"><pre>XGBClassifier(base_score=0.5, booster=&#x27;gbtree&#x27;, callbacks=None,\n",
       "              colsample_bylevel=1, colsample_bynode=1, colsample_bytree=1,\n",
       "              early_stopping_rounds=None, enable_categorical=False,\n",
       "              eval_metric=None, feature_types=None, gamma=4, gpu_id=-1,\n",
       "              grow_policy=&#x27;depthwise&#x27;, importance_type=None,\n",
       "              interaction_constraints=&#x27;&#x27;, learning_rate=0.3, max_bin=256,\n",
       "              max_cat_threshold=64, max_cat_to_onehot=4, max_delta_step=0,\n",
       "              max_depth=11, max_leaves=0, min_child_weight=1, missing=nan,\n",
       "              monotone_constraints=&#x27;()&#x27;, n_estimators=100, n_jobs=0,\n",
       "              num_parallel_tree=1, predictor=&#x27;auto&#x27;, random_state=109, ...)</pre><b>In a Jupyter environment, please rerun this cell to show the HTML representation or trust the notebook. <br />On GitHub, the HTML representation is unable to render, please try loading this page with nbviewer.org.</b></div><div class=\"sk-container\" hidden><div class=\"sk-item\"><div class=\"sk-estimator sk-toggleable\"><input class=\"sk-toggleable__control sk-hidden--visually\" id=\"sk-estimator-id-1\" type=\"checkbox\" checked><label for=\"sk-estimator-id-1\" class=\"sk-toggleable__label sk-toggleable__label-arrow\">XGBClassifier</label><div class=\"sk-toggleable__content\"><pre>XGBClassifier(base_score=0.5, booster=&#x27;gbtree&#x27;, callbacks=None,\n",
       "              colsample_bylevel=1, colsample_bynode=1, colsample_bytree=1,\n",
       "              early_stopping_rounds=None, enable_categorical=False,\n",
       "              eval_metric=None, feature_types=None, gamma=4, gpu_id=-1,\n",
       "              grow_policy=&#x27;depthwise&#x27;, importance_type=None,\n",
       "              interaction_constraints=&#x27;&#x27;, learning_rate=0.3, max_bin=256,\n",
       "              max_cat_threshold=64, max_cat_to_onehot=4, max_delta_step=0,\n",
       "              max_depth=11, max_leaves=0, min_child_weight=1, missing=nan,\n",
       "              monotone_constraints=&#x27;()&#x27;, n_estimators=100, n_jobs=0,\n",
       "              num_parallel_tree=1, predictor=&#x27;auto&#x27;, random_state=109, ...)</pre></div></div></div></div></div>"
      ],
      "text/plain": [
       "XGBClassifier(base_score=0.5, booster='gbtree', callbacks=None,\n",
       "              colsample_bylevel=1, colsample_bynode=1, colsample_bytree=1,\n",
       "              early_stopping_rounds=None, enable_categorical=False,\n",
       "              eval_metric=None, feature_types=None, gamma=4, gpu_id=-1,\n",
       "              grow_policy='depthwise', importance_type=None,\n",
       "              interaction_constraints='', learning_rate=0.3, max_bin=256,\n",
       "              max_cat_threshold=64, max_cat_to_onehot=4, max_delta_step=0,\n",
       "              max_depth=11, max_leaves=0, min_child_weight=1, missing=nan,\n",
       "              monotone_constraints='()', n_estimators=100, n_jobs=0,\n",
       "              num_parallel_tree=1, predictor='auto', random_state=109, ...)"
      ]
     },
     "execution_count": 31,
     "metadata": {},
     "output_type": "execute_result"
    }
   ],
   "source": [
    "xgbo = xgb.XGBClassifier(gamma=4, learning_rate=0.3, max_depth=11, random_state=109)\n",
    "xgbo.fit(X_train, y_train)"
   ]
  },
  {
   "cell_type": "code",
   "execution_count": 32,
   "id": "c7daa634",
   "metadata": {
    "ExecuteTime": {
     "end_time": "2022-11-18T08:06:44.273633Z",
     "start_time": "2022-11-18T08:06:44.208275Z"
    }
   },
   "outputs": [],
   "source": [
    "train_pred = xgbo.predict(X_train)\n",
    "train_proba = xgbo.predict_proba(X_train)\n",
    "\n",
    "test_pred = xgbo.predict(X_test)\n",
    "test_proba = xgbo.predict_proba(X_test)\n",
    "\n",
    "val_pred = xgbo.predict(X_val)\n",
    "val_proba = xgbo.predict_proba(X_val)"
   ]
  },
  {
   "cell_type": "code",
   "execution_count": 33,
   "id": "4ecc6ae2",
   "metadata": {
    "ExecuteTime": {
     "end_time": "2022-11-18T08:08:54.096298Z",
     "start_time": "2022-11-18T08:08:54.087322Z"
    }
   },
   "outputs": [],
   "source": [
    "# 평가용 함수\n",
    "def  get_clf_eval(y_test, pred=None, pred_proba=None):\n",
    "    confusion = confusion_matrix(y_test, pred)\n",
    "    accuracy = accuracy_score(y_test, pred)\n",
    "    precision = precision_score(y_test, pred)\n",
    "    recall = recall_score(y_test, pred)\n",
    "    f1 = f1_score(y_test, pred)\n",
    "#     roc_auc = roc_auc_score(y_test, pred_proba)\n",
    "    \n",
    "    print('오차 행렬')\n",
    "    print(confusion)\n",
    " \n",
    "    print('정확도: {0:.4f}, 정밀도: {1:.4f}, \\\n",
    "    재현율: {2:.4f}, F1: {3:.4f}'.format(accuracy, precision, recall, f1))"
   ]
  },
  {
   "cell_type": "markdown",
   "id": "3ae23ad3",
   "metadata": {},
   "source": [
    "#### 훈련셋 평가"
   ]
  },
  {
   "cell_type": "code",
   "execution_count": 34,
   "id": "12b16d1d",
   "metadata": {
    "ExecuteTime": {
     "end_time": "2022-11-18T08:08:55.941963Z",
     "start_time": "2022-11-18T08:08:55.903827Z"
    },
    "scrolled": true
   },
   "outputs": [
    {
     "name": "stdout",
     "output_type": "stream",
     "text": [
      "오차 행렬\n",
      "[[3614  180]\n",
      " [ 155 2281]]\n",
      "정확도: 0.9462, 정밀도: 0.9269,     재현율: 0.9364, F1: 0.9316\n"
     ]
    }
   ],
   "source": [
    "get_clf_eval(y_train, train_pred, train_proba)"
   ]
  },
  {
   "cell_type": "markdown",
   "id": "9cc9db34",
   "metadata": {},
   "source": [
    "#### 테스트셋 평가"
   ]
  },
  {
   "cell_type": "code",
   "execution_count": 35,
   "id": "98c7029a",
   "metadata": {
    "ExecuteTime": {
     "end_time": "2022-11-18T08:10:29.452579Z",
     "start_time": "2022-11-18T08:10:29.431638Z"
    }
   },
   "outputs": [
    {
     "name": "stdout",
     "output_type": "stream",
     "text": [
      "오차 행렬\n",
      "[[1590   96]\n",
      " [  69 1014]]\n",
      "정확도: 0.9404, 정밀도: 0.9135,     재현율: 0.9363, F1: 0.9248\n"
     ]
    }
   ],
   "source": [
    "get_clf_eval(y_test, test_pred, test_proba)"
   ]
  },
  {
   "cell_type": "markdown",
   "id": "3fc77835",
   "metadata": {},
   "source": [
    "#### 검증셋 평가"
   ]
  },
  {
   "cell_type": "code",
   "execution_count": 36,
   "id": "22142581",
   "metadata": {
    "ExecuteTime": {
     "end_time": "2022-11-18T08:10:30.625739Z",
     "start_time": "2022-11-18T08:10:30.599788Z"
    }
   },
   "outputs": [
    {
     "name": "stdout",
     "output_type": "stream",
     "text": [
      "오차 행렬\n",
      "[[1175   64]\n",
      " [  63  775]]\n",
      "정확도: 0.9389, 정밀도: 0.9237,     재현율: 0.9248, F1: 0.9243\n"
     ]
    }
   ],
   "source": [
    "get_clf_eval(y_val, val_pred, val_proba)"
   ]
  },
  {
   "cell_type": "markdown",
   "id": "d4804b51",
   "metadata": {},
   "source": [
    "- CryoSleep XGBoost 모델은 0.93이상의 정확도와 다른 지표도 좋아 결측값 예측에 사용하기로 함"
   ]
  },
  {
   "cell_type": "markdown",
   "id": "a0525a6e",
   "metadata": {},
   "source": [
    "# HomePlanet 결측치 채우기\n",
    "## 사본 df생성"
   ]
  },
  {
   "cell_type": "code",
   "execution_count": 72,
   "id": "3d4d756f",
   "metadata": {},
   "outputs": [],
   "source": [
    "# target 값을 제외하고 다른 변수에 저장\n",
    "hp = data.iloc[:,:15]\n",
    "# 그 외 사용하지 않는 피처 삭제\n",
    "hp = hp.drop(['Cabin','Combi'], axis=1)"
   ]
  },
  {
   "cell_type": "code",
   "execution_count": 73,
   "id": "3986a05e",
   "metadata": {},
   "outputs": [
    {
     "data": {
      "text/html": [
       "<div>\n",
       "<style scoped>\n",
       "    .dataframe tbody tr th:only-of-type {\n",
       "        vertical-align: middle;\n",
       "    }\n",
       "\n",
       "    .dataframe tbody tr th {\n",
       "        vertical-align: top;\n",
       "    }\n",
       "\n",
       "    .dataframe thead th {\n",
       "        text-align: right;\n",
       "    }\n",
       "</style>\n",
       "<table border=\"1\" class=\"dataframe\">\n",
       "  <thead>\n",
       "    <tr style=\"text-align: right;\">\n",
       "      <th></th>\n",
       "      <th>HomePlanet</th>\n",
       "      <th>CryoSleep</th>\n",
       "      <th>Cabin1</th>\n",
       "      <th>Cabin2</th>\n",
       "      <th>Cabin3</th>\n",
       "      <th>Destination</th>\n",
       "      <th>Age</th>\n",
       "      <th>VIP</th>\n",
       "      <th>RoomService</th>\n",
       "      <th>FoodCourt</th>\n",
       "      <th>ShoppingMall</th>\n",
       "      <th>Spa</th>\n",
       "      <th>VRDeck</th>\n",
       "    </tr>\n",
       "  </thead>\n",
       "  <tbody>\n",
       "    <tr>\n",
       "      <th>0</th>\n",
       "      <td>Europa</td>\n",
       "      <td>False</td>\n",
       "      <td>B</td>\n",
       "      <td>0.0</td>\n",
       "      <td>True</td>\n",
       "      <td>TRAPPIST-1e</td>\n",
       "      <td>39.0</td>\n",
       "      <td>False</td>\n",
       "      <td>0.0</td>\n",
       "      <td>0.0</td>\n",
       "      <td>0.0</td>\n",
       "      <td>0.0</td>\n",
       "      <td>0.0</td>\n",
       "    </tr>\n",
       "    <tr>\n",
       "      <th>1</th>\n",
       "      <td>Earth</td>\n",
       "      <td>False</td>\n",
       "      <td>F</td>\n",
       "      <td>0.0</td>\n",
       "      <td>True</td>\n",
       "      <td>TRAPPIST-1e</td>\n",
       "      <td>24.0</td>\n",
       "      <td>False</td>\n",
       "      <td>109.0</td>\n",
       "      <td>9.0</td>\n",
       "      <td>25.0</td>\n",
       "      <td>549.0</td>\n",
       "      <td>44.0</td>\n",
       "    </tr>\n",
       "    <tr>\n",
       "      <th>2</th>\n",
       "      <td>Europa</td>\n",
       "      <td>False</td>\n",
       "      <td>A</td>\n",
       "      <td>0.0</td>\n",
       "      <td>True</td>\n",
       "      <td>TRAPPIST-1e</td>\n",
       "      <td>58.0</td>\n",
       "      <td>True</td>\n",
       "      <td>43.0</td>\n",
       "      <td>3576.0</td>\n",
       "      <td>0.0</td>\n",
       "      <td>6715.0</td>\n",
       "      <td>49.0</td>\n",
       "    </tr>\n",
       "    <tr>\n",
       "      <th>3</th>\n",
       "      <td>Europa</td>\n",
       "      <td>False</td>\n",
       "      <td>A</td>\n",
       "      <td>0.0</td>\n",
       "      <td>True</td>\n",
       "      <td>TRAPPIST-1e</td>\n",
       "      <td>33.0</td>\n",
       "      <td>False</td>\n",
       "      <td>0.0</td>\n",
       "      <td>1283.0</td>\n",
       "      <td>371.0</td>\n",
       "      <td>3329.0</td>\n",
       "      <td>193.0</td>\n",
       "    </tr>\n",
       "    <tr>\n",
       "      <th>4</th>\n",
       "      <td>Earth</td>\n",
       "      <td>False</td>\n",
       "      <td>F</td>\n",
       "      <td>1.0</td>\n",
       "      <td>True</td>\n",
       "      <td>TRAPPIST-1e</td>\n",
       "      <td>16.0</td>\n",
       "      <td>False</td>\n",
       "      <td>303.0</td>\n",
       "      <td>70.0</td>\n",
       "      <td>151.0</td>\n",
       "      <td>565.0</td>\n",
       "      <td>2.0</td>\n",
       "    </tr>\n",
       "    <tr>\n",
       "      <th>...</th>\n",
       "      <td>...</td>\n",
       "      <td>...</td>\n",
       "      <td>...</td>\n",
       "      <td>...</td>\n",
       "      <td>...</td>\n",
       "      <td>...</td>\n",
       "      <td>...</td>\n",
       "      <td>...</td>\n",
       "      <td>...</td>\n",
       "      <td>...</td>\n",
       "      <td>...</td>\n",
       "      <td>...</td>\n",
       "      <td>...</td>\n",
       "    </tr>\n",
       "    <tr>\n",
       "      <th>12965</th>\n",
       "      <td>Earth</td>\n",
       "      <td>True</td>\n",
       "      <td>G</td>\n",
       "      <td>1496.0</td>\n",
       "      <td>True</td>\n",
       "      <td>TRAPPIST-1e</td>\n",
       "      <td>34.0</td>\n",
       "      <td>False</td>\n",
       "      <td>0.0</td>\n",
       "      <td>0.0</td>\n",
       "      <td>0.0</td>\n",
       "      <td>0.0</td>\n",
       "      <td>0.0</td>\n",
       "    </tr>\n",
       "    <tr>\n",
       "      <th>12966</th>\n",
       "      <td>Earth</td>\n",
       "      <td>False</td>\n",
       "      <td>NaN</td>\n",
       "      <td>NaN</td>\n",
       "      <td>True</td>\n",
       "      <td>TRAPPIST-1e</td>\n",
       "      <td>42.0</td>\n",
       "      <td>False</td>\n",
       "      <td>0.0</td>\n",
       "      <td>847.0</td>\n",
       "      <td>17.0</td>\n",
       "      <td>10.0</td>\n",
       "      <td>144.0</td>\n",
       "    </tr>\n",
       "    <tr>\n",
       "      <th>12967</th>\n",
       "      <td>Mars</td>\n",
       "      <td>True</td>\n",
       "      <td>D</td>\n",
       "      <td>296.0</td>\n",
       "      <td>True</td>\n",
       "      <td>55 Cancri e</td>\n",
       "      <td>NaN</td>\n",
       "      <td>False</td>\n",
       "      <td>0.0</td>\n",
       "      <td>0.0</td>\n",
       "      <td>0.0</td>\n",
       "      <td>0.0</td>\n",
       "      <td>0.0</td>\n",
       "    </tr>\n",
       "    <tr>\n",
       "      <th>12968</th>\n",
       "      <td>Europa</td>\n",
       "      <td>False</td>\n",
       "      <td>D</td>\n",
       "      <td>297.0</td>\n",
       "      <td>True</td>\n",
       "      <td>NaN</td>\n",
       "      <td>NaN</td>\n",
       "      <td>False</td>\n",
       "      <td>0.0</td>\n",
       "      <td>2680.0</td>\n",
       "      <td>0.0</td>\n",
       "      <td>0.0</td>\n",
       "      <td>523.0</td>\n",
       "    </tr>\n",
       "    <tr>\n",
       "      <th>12969</th>\n",
       "      <td>Earth</td>\n",
       "      <td>True</td>\n",
       "      <td>G</td>\n",
       "      <td>1498.0</td>\n",
       "      <td>True</td>\n",
       "      <td>PSO J318.5-22</td>\n",
       "      <td>43.0</td>\n",
       "      <td>False</td>\n",
       "      <td>0.0</td>\n",
       "      <td>0.0</td>\n",
       "      <td>0.0</td>\n",
       "      <td>0.0</td>\n",
       "      <td>0.0</td>\n",
       "    </tr>\n",
       "  </tbody>\n",
       "</table>\n",
       "<p>12970 rows × 13 columns</p>\n",
       "</div>"
      ],
      "text/plain": [
       "      HomePlanet  CryoSleep Cabin1  Cabin2  Cabin3    Destination   Age  \\\n",
       "0         Europa      False      B     0.0    True    TRAPPIST-1e  39.0   \n",
       "1          Earth      False      F     0.0    True    TRAPPIST-1e  24.0   \n",
       "2         Europa      False      A     0.0    True    TRAPPIST-1e  58.0   \n",
       "3         Europa      False      A     0.0    True    TRAPPIST-1e  33.0   \n",
       "4          Earth      False      F     1.0    True    TRAPPIST-1e  16.0   \n",
       "...          ...        ...    ...     ...     ...            ...   ...   \n",
       "12965      Earth       True      G  1496.0    True    TRAPPIST-1e  34.0   \n",
       "12966      Earth      False    NaN     NaN    True    TRAPPIST-1e  42.0   \n",
       "12967       Mars       True      D   296.0    True    55 Cancri e   NaN   \n",
       "12968     Europa      False      D   297.0    True            NaN   NaN   \n",
       "12969      Earth       True      G  1498.0    True  PSO J318.5-22  43.0   \n",
       "\n",
       "         VIP  RoomService  FoodCourt  ShoppingMall     Spa  VRDeck  \n",
       "0      False          0.0        0.0           0.0     0.0     0.0  \n",
       "1      False        109.0        9.0          25.0   549.0    44.0  \n",
       "2       True         43.0     3576.0           0.0  6715.0    49.0  \n",
       "3      False          0.0     1283.0         371.0  3329.0   193.0  \n",
       "4      False        303.0       70.0         151.0   565.0     2.0  \n",
       "...      ...          ...        ...           ...     ...     ...  \n",
       "12965  False          0.0        0.0           0.0     0.0     0.0  \n",
       "12966  False          0.0      847.0          17.0    10.0   144.0  \n",
       "12967  False          0.0        0.0           0.0     0.0     0.0  \n",
       "12968  False          0.0     2680.0           0.0     0.0   523.0  \n",
       "12969  False          0.0        0.0           0.0     0.0     0.0  \n",
       "\n",
       "[12970 rows x 13 columns]"
      ]
     },
     "execution_count": 73,
     "metadata": {},
     "output_type": "execute_result"
    }
   ],
   "source": [
    "hp"
   ]
  },
  {
   "cell_type": "code",
   "execution_count": 74,
   "id": "45ce5cf1",
   "metadata": {},
   "outputs": [
    {
     "name": "stdout",
     "output_type": "stream",
     "text": [
      "<class 'pandas.core.frame.DataFrame'>\n",
      "Int64Index: 11076 entries, 0 to 12969\n",
      "Data columns (total 13 columns):\n",
      " #   Column        Non-Null Count  Dtype  \n",
      "---  ------        --------------  -----  \n",
      " 0   HomePlanet    11076 non-null  object \n",
      " 1   CryoSleep     11076 non-null  bool   \n",
      " 2   Cabin1        11076 non-null  object \n",
      " 3   Cabin2        11076 non-null  float64\n",
      " 4   Cabin3        11076 non-null  bool   \n",
      " 5   Destination   11076 non-null  object \n",
      " 6   Age           11076 non-null  float64\n",
      " 7   VIP           11076 non-null  bool   \n",
      " 8   RoomService   11076 non-null  float64\n",
      " 9   FoodCourt     11076 non-null  float64\n",
      " 10  ShoppingMall  11076 non-null  float64\n",
      " 11  Spa           11076 non-null  float64\n",
      " 12  VRDeck        11076 non-null  float64\n",
      "dtypes: bool(3), float64(7), object(3)\n",
      "memory usage: 984.3+ KB\n"
     ]
    }
   ],
   "source": [
    "hp.dropna(inplace=True)\n",
    "hp.info()"
   ]
  },
  {
   "cell_type": "code",
   "execution_count": 75,
   "id": "7134be98",
   "metadata": {},
   "outputs": [],
   "source": [
    "# homeplanet이 타깃으로 할거라서 홈플레닛 값을 0,1,2로 치환하여 사용\n",
    "hp.HomePlanet = hp['HomePlanet'].map({'Earth':0, 'Europa':1, 'Mars':2})"
   ]
  },
  {
   "cell_type": "code",
   "execution_count": 41,
   "id": "6840f823",
   "metadata": {},
   "outputs": [
    {
     "data": {
      "text/plain": [
       "array([1, 0, 2], dtype=int64)"
      ]
     },
     "execution_count": 41,
     "metadata": {},
     "output_type": "execute_result"
    }
   ],
   "source": [
    "hp.HomePlanet.unique() # 변경 확인"
   ]
  },
  {
   "cell_type": "markdown",
   "id": "4d0fe8c0",
   "metadata": {},
   "source": [
    "## 원-핫 인코딩"
   ]
  },
  {
   "cell_type": "code",
   "execution_count": 76,
   "id": "1fe594a5",
   "metadata": {},
   "outputs": [],
   "source": [
    "# 원-핫 인코딩 (cabin1, destination)\n",
    "## Cabin1\n",
    "encoding = pd.get_dummies(hp.Cabin1)\n",
    "hp = hp.drop('Cabin1', axis =1) # 기존 삭제\n",
    "hp = hp.join(encoding) # 적용\n",
    "## Destination\n",
    "encoding = pd.get_dummies(hp.Destination)\n",
    "hp = hp.drop('Destination', axis =1)\n",
    "hp = hp.join(encoding)"
   ]
  },
  {
   "cell_type": "code",
   "execution_count": 77,
   "id": "0f217c9a",
   "metadata": {},
   "outputs": [
    {
     "data": {
      "text/html": [
       "<div>\n",
       "<style scoped>\n",
       "    .dataframe tbody tr th:only-of-type {\n",
       "        vertical-align: middle;\n",
       "    }\n",
       "\n",
       "    .dataframe tbody tr th {\n",
       "        vertical-align: top;\n",
       "    }\n",
       "\n",
       "    .dataframe thead th {\n",
       "        text-align: right;\n",
       "    }\n",
       "</style>\n",
       "<table border=\"1\" class=\"dataframe\">\n",
       "  <thead>\n",
       "    <tr style=\"text-align: right;\">\n",
       "      <th></th>\n",
       "      <th>HomePlanet</th>\n",
       "      <th>CryoSleep</th>\n",
       "      <th>Cabin2</th>\n",
       "      <th>Cabin3</th>\n",
       "      <th>Age</th>\n",
       "      <th>VIP</th>\n",
       "      <th>RoomService</th>\n",
       "      <th>FoodCourt</th>\n",
       "      <th>ShoppingMall</th>\n",
       "      <th>Spa</th>\n",
       "      <th>...</th>\n",
       "      <th>B</th>\n",
       "      <th>C</th>\n",
       "      <th>D</th>\n",
       "      <th>E</th>\n",
       "      <th>F</th>\n",
       "      <th>G</th>\n",
       "      <th>T</th>\n",
       "      <th>55 Cancri e</th>\n",
       "      <th>PSO J318.5-22</th>\n",
       "      <th>TRAPPIST-1e</th>\n",
       "    </tr>\n",
       "  </thead>\n",
       "  <tbody>\n",
       "    <tr>\n",
       "      <th>0</th>\n",
       "      <td>1</td>\n",
       "      <td>False</td>\n",
       "      <td>0.0</td>\n",
       "      <td>True</td>\n",
       "      <td>39.0</td>\n",
       "      <td>False</td>\n",
       "      <td>0.0</td>\n",
       "      <td>0.0</td>\n",
       "      <td>0.0</td>\n",
       "      <td>0.0</td>\n",
       "      <td>...</td>\n",
       "      <td>1</td>\n",
       "      <td>0</td>\n",
       "      <td>0</td>\n",
       "      <td>0</td>\n",
       "      <td>0</td>\n",
       "      <td>0</td>\n",
       "      <td>0</td>\n",
       "      <td>0</td>\n",
       "      <td>0</td>\n",
       "      <td>1</td>\n",
       "    </tr>\n",
       "    <tr>\n",
       "      <th>1</th>\n",
       "      <td>0</td>\n",
       "      <td>False</td>\n",
       "      <td>0.0</td>\n",
       "      <td>True</td>\n",
       "      <td>24.0</td>\n",
       "      <td>False</td>\n",
       "      <td>109.0</td>\n",
       "      <td>9.0</td>\n",
       "      <td>25.0</td>\n",
       "      <td>549.0</td>\n",
       "      <td>...</td>\n",
       "      <td>0</td>\n",
       "      <td>0</td>\n",
       "      <td>0</td>\n",
       "      <td>0</td>\n",
       "      <td>1</td>\n",
       "      <td>0</td>\n",
       "      <td>0</td>\n",
       "      <td>0</td>\n",
       "      <td>0</td>\n",
       "      <td>1</td>\n",
       "    </tr>\n",
       "    <tr>\n",
       "      <th>2</th>\n",
       "      <td>1</td>\n",
       "      <td>False</td>\n",
       "      <td>0.0</td>\n",
       "      <td>True</td>\n",
       "      <td>58.0</td>\n",
       "      <td>True</td>\n",
       "      <td>43.0</td>\n",
       "      <td>3576.0</td>\n",
       "      <td>0.0</td>\n",
       "      <td>6715.0</td>\n",
       "      <td>...</td>\n",
       "      <td>0</td>\n",
       "      <td>0</td>\n",
       "      <td>0</td>\n",
       "      <td>0</td>\n",
       "      <td>0</td>\n",
       "      <td>0</td>\n",
       "      <td>0</td>\n",
       "      <td>0</td>\n",
       "      <td>0</td>\n",
       "      <td>1</td>\n",
       "    </tr>\n",
       "    <tr>\n",
       "      <th>3</th>\n",
       "      <td>1</td>\n",
       "      <td>False</td>\n",
       "      <td>0.0</td>\n",
       "      <td>True</td>\n",
       "      <td>33.0</td>\n",
       "      <td>False</td>\n",
       "      <td>0.0</td>\n",
       "      <td>1283.0</td>\n",
       "      <td>371.0</td>\n",
       "      <td>3329.0</td>\n",
       "      <td>...</td>\n",
       "      <td>0</td>\n",
       "      <td>0</td>\n",
       "      <td>0</td>\n",
       "      <td>0</td>\n",
       "      <td>0</td>\n",
       "      <td>0</td>\n",
       "      <td>0</td>\n",
       "      <td>0</td>\n",
       "      <td>0</td>\n",
       "      <td>1</td>\n",
       "    </tr>\n",
       "    <tr>\n",
       "      <th>4</th>\n",
       "      <td>0</td>\n",
       "      <td>False</td>\n",
       "      <td>1.0</td>\n",
       "      <td>True</td>\n",
       "      <td>16.0</td>\n",
       "      <td>False</td>\n",
       "      <td>303.0</td>\n",
       "      <td>70.0</td>\n",
       "      <td>151.0</td>\n",
       "      <td>565.0</td>\n",
       "      <td>...</td>\n",
       "      <td>0</td>\n",
       "      <td>0</td>\n",
       "      <td>0</td>\n",
       "      <td>0</td>\n",
       "      <td>1</td>\n",
       "      <td>0</td>\n",
       "      <td>0</td>\n",
       "      <td>0</td>\n",
       "      <td>0</td>\n",
       "      <td>1</td>\n",
       "    </tr>\n",
       "  </tbody>\n",
       "</table>\n",
       "<p>5 rows × 22 columns</p>\n",
       "</div>"
      ],
      "text/plain": [
       "   HomePlanet  CryoSleep  Cabin2  Cabin3   Age    VIP  RoomService  FoodCourt  \\\n",
       "0           1      False     0.0    True  39.0  False          0.0        0.0   \n",
       "1           0      False     0.0    True  24.0  False        109.0        9.0   \n",
       "2           1      False     0.0    True  58.0   True         43.0     3576.0   \n",
       "3           1      False     0.0    True  33.0  False          0.0     1283.0   \n",
       "4           0      False     1.0    True  16.0  False        303.0       70.0   \n",
       "\n",
       "   ShoppingMall     Spa  ...  B  C  D  E  F  G  T  55 Cancri e  PSO J318.5-22  \\\n",
       "0           0.0     0.0  ...  1  0  0  0  0  0  0            0              0   \n",
       "1          25.0   549.0  ...  0  0  0  0  1  0  0            0              0   \n",
       "2           0.0  6715.0  ...  0  0  0  0  0  0  0            0              0   \n",
       "3         371.0  3329.0  ...  0  0  0  0  0  0  0            0              0   \n",
       "4         151.0   565.0  ...  0  0  0  0  1  0  0            0              0   \n",
       "\n",
       "   TRAPPIST-1e  \n",
       "0            1  \n",
       "1            1  \n",
       "2            1  \n",
       "3            1  \n",
       "4            1  \n",
       "\n",
       "[5 rows x 22 columns]"
      ]
     },
     "execution_count": 77,
     "metadata": {},
     "output_type": "execute_result"
    }
   ],
   "source": [
    "hp.head()"
   ]
  },
  {
   "cell_type": "markdown",
   "id": "2fe25131",
   "metadata": {},
   "source": [
    "## 스케일링"
   ]
  },
  {
   "cell_type": "code",
   "execution_count": 78,
   "id": "53968357",
   "metadata": {},
   "outputs": [
    {
     "data": {
      "text/html": [
       "<div>\n",
       "<style scoped>\n",
       "    .dataframe tbody tr th:only-of-type {\n",
       "        vertical-align: middle;\n",
       "    }\n",
       "\n",
       "    .dataframe tbody tr th {\n",
       "        vertical-align: top;\n",
       "    }\n",
       "\n",
       "    .dataframe thead th {\n",
       "        text-align: right;\n",
       "    }\n",
       "</style>\n",
       "<table border=\"1\" class=\"dataframe\">\n",
       "  <thead>\n",
       "    <tr style=\"text-align: right;\">\n",
       "      <th></th>\n",
       "      <th>HomePlanet</th>\n",
       "      <th>CryoSleep</th>\n",
       "      <th>Cabin2</th>\n",
       "      <th>Cabin3</th>\n",
       "      <th>Age</th>\n",
       "      <th>VIP</th>\n",
       "      <th>RoomService</th>\n",
       "      <th>FoodCourt</th>\n",
       "      <th>ShoppingMall</th>\n",
       "      <th>Spa</th>\n",
       "      <th>...</th>\n",
       "      <th>B</th>\n",
       "      <th>C</th>\n",
       "      <th>D</th>\n",
       "      <th>E</th>\n",
       "      <th>F</th>\n",
       "      <th>G</th>\n",
       "      <th>T</th>\n",
       "      <th>55 Cancri e</th>\n",
       "      <th>PSO J318.5-22</th>\n",
       "      <th>TRAPPIST-1e</th>\n",
       "    </tr>\n",
       "  </thead>\n",
       "  <tbody>\n",
       "    <tr>\n",
       "      <th>0</th>\n",
       "      <td>1</td>\n",
       "      <td>False</td>\n",
       "      <td>-1.171058</td>\n",
       "      <td>True</td>\n",
       "      <td>0.707877</td>\n",
       "      <td>False</td>\n",
       "      <td>-0.334616</td>\n",
       "      <td>-0.282674</td>\n",
       "      <td>-0.285975</td>\n",
       "      <td>-0.271173</td>\n",
       "      <td>...</td>\n",
       "      <td>1</td>\n",
       "      <td>0</td>\n",
       "      <td>0</td>\n",
       "      <td>0</td>\n",
       "      <td>0</td>\n",
       "      <td>0</td>\n",
       "      <td>0</td>\n",
       "      <td>0</td>\n",
       "      <td>0</td>\n",
       "      <td>1</td>\n",
       "    </tr>\n",
       "    <tr>\n",
       "      <th>1</th>\n",
       "      <td>0</td>\n",
       "      <td>False</td>\n",
       "      <td>-1.171058</td>\n",
       "      <td>True</td>\n",
       "      <td>-0.329018</td>\n",
       "      <td>False</td>\n",
       "      <td>-0.166861</td>\n",
       "      <td>-0.277057</td>\n",
       "      <td>-0.244125</td>\n",
       "      <td>0.217775</td>\n",
       "      <td>...</td>\n",
       "      <td>0</td>\n",
       "      <td>0</td>\n",
       "      <td>0</td>\n",
       "      <td>0</td>\n",
       "      <td>1</td>\n",
       "      <td>0</td>\n",
       "      <td>0</td>\n",
       "      <td>0</td>\n",
       "      <td>0</td>\n",
       "      <td>1</td>\n",
       "    </tr>\n",
       "    <tr>\n",
       "      <th>2</th>\n",
       "      <td>1</td>\n",
       "      <td>False</td>\n",
       "      <td>-1.171058</td>\n",
       "      <td>True</td>\n",
       "      <td>2.021278</td>\n",
       "      <td>True</td>\n",
       "      <td>-0.268437</td>\n",
       "      <td>1.949128</td>\n",
       "      <td>-0.285975</td>\n",
       "      <td>5.709312</td>\n",
       "      <td>...</td>\n",
       "      <td>0</td>\n",
       "      <td>0</td>\n",
       "      <td>0</td>\n",
       "      <td>0</td>\n",
       "      <td>0</td>\n",
       "      <td>0</td>\n",
       "      <td>0</td>\n",
       "      <td>0</td>\n",
       "      <td>0</td>\n",
       "      <td>1</td>\n",
       "    </tr>\n",
       "    <tr>\n",
       "      <th>3</th>\n",
       "      <td>1</td>\n",
       "      <td>False</td>\n",
       "      <td>-1.171058</td>\n",
       "      <td>True</td>\n",
       "      <td>0.293119</td>\n",
       "      <td>False</td>\n",
       "      <td>-0.334616</td>\n",
       "      <td>0.518053</td>\n",
       "      <td>0.335083</td>\n",
       "      <td>2.693687</td>\n",
       "      <td>...</td>\n",
       "      <td>0</td>\n",
       "      <td>0</td>\n",
       "      <td>0</td>\n",
       "      <td>0</td>\n",
       "      <td>0</td>\n",
       "      <td>0</td>\n",
       "      <td>0</td>\n",
       "      <td>0</td>\n",
       "      <td>0</td>\n",
       "      <td>1</td>\n",
       "    </tr>\n",
       "    <tr>\n",
       "      <th>4</th>\n",
       "      <td>0</td>\n",
       "      <td>False</td>\n",
       "      <td>-1.169112</td>\n",
       "      <td>True</td>\n",
       "      <td>-0.882029</td>\n",
       "      <td>False</td>\n",
       "      <td>0.131712</td>\n",
       "      <td>-0.238987</td>\n",
       "      <td>-0.033199</td>\n",
       "      <td>0.232025</td>\n",
       "      <td>...</td>\n",
       "      <td>0</td>\n",
       "      <td>0</td>\n",
       "      <td>0</td>\n",
       "      <td>0</td>\n",
       "      <td>1</td>\n",
       "      <td>0</td>\n",
       "      <td>0</td>\n",
       "      <td>0</td>\n",
       "      <td>0</td>\n",
       "      <td>1</td>\n",
       "    </tr>\n",
       "    <tr>\n",
       "      <th>...</th>\n",
       "      <td>...</td>\n",
       "      <td>...</td>\n",
       "      <td>...</td>\n",
       "      <td>...</td>\n",
       "      <td>...</td>\n",
       "      <td>...</td>\n",
       "      <td>...</td>\n",
       "      <td>...</td>\n",
       "      <td>...</td>\n",
       "      <td>...</td>\n",
       "      <td>...</td>\n",
       "      <td>...</td>\n",
       "      <td>...</td>\n",
       "      <td>...</td>\n",
       "      <td>...</td>\n",
       "      <td>...</td>\n",
       "      <td>...</td>\n",
       "      <td>...</td>\n",
       "      <td>...</td>\n",
       "      <td>...</td>\n",
       "      <td>...</td>\n",
       "    </tr>\n",
       "    <tr>\n",
       "      <th>12962</th>\n",
       "      <td>0</td>\n",
       "      <td>True</td>\n",
       "      <td>1.737845</td>\n",
       "      <td>True</td>\n",
       "      <td>0.984383</td>\n",
       "      <td>False</td>\n",
       "      <td>-0.334616</td>\n",
       "      <td>-0.282674</td>\n",
       "      <td>-0.285975</td>\n",
       "      <td>-0.271173</td>\n",
       "      <td>...</td>\n",
       "      <td>0</td>\n",
       "      <td>0</td>\n",
       "      <td>0</td>\n",
       "      <td>0</td>\n",
       "      <td>0</td>\n",
       "      <td>1</td>\n",
       "      <td>0</td>\n",
       "      <td>0</td>\n",
       "      <td>0</td>\n",
       "      <td>1</td>\n",
       "    </tr>\n",
       "    <tr>\n",
       "      <th>12963</th>\n",
       "      <td>2</td>\n",
       "      <td>False</td>\n",
       "      <td>-0.630138</td>\n",
       "      <td>True</td>\n",
       "      <td>0.984383</td>\n",
       "      <td>False</td>\n",
       "      <td>-0.262281</td>\n",
       "      <td>-0.282674</td>\n",
       "      <td>6.160647</td>\n",
       "      <td>-0.271173</td>\n",
       "      <td>...</td>\n",
       "      <td>0</td>\n",
       "      <td>0</td>\n",
       "      <td>1</td>\n",
       "      <td>0</td>\n",
       "      <td>0</td>\n",
       "      <td>0</td>\n",
       "      <td>0</td>\n",
       "      <td>0</td>\n",
       "      <td>0</td>\n",
       "      <td>1</td>\n",
       "    </tr>\n",
       "    <tr>\n",
       "      <th>12964</th>\n",
       "      <td>0</td>\n",
       "      <td>False</td>\n",
       "      <td>2.323517</td>\n",
       "      <td>True</td>\n",
       "      <td>0.777004</td>\n",
       "      <td>False</td>\n",
       "      <td>-0.334616</td>\n",
       "      <td>0.257177</td>\n",
       "      <td>-0.285975</td>\n",
       "      <td>-0.268502</td>\n",
       "      <td>...</td>\n",
       "      <td>0</td>\n",
       "      <td>0</td>\n",
       "      <td>0</td>\n",
       "      <td>0</td>\n",
       "      <td>1</td>\n",
       "      <td>0</td>\n",
       "      <td>0</td>\n",
       "      <td>0</td>\n",
       "      <td>0</td>\n",
       "      <td>1</td>\n",
       "    </tr>\n",
       "    <tr>\n",
       "      <th>12965</th>\n",
       "      <td>0</td>\n",
       "      <td>True</td>\n",
       "      <td>1.739790</td>\n",
       "      <td>True</td>\n",
       "      <td>0.362246</td>\n",
       "      <td>False</td>\n",
       "      <td>-0.334616</td>\n",
       "      <td>-0.282674</td>\n",
       "      <td>-0.285975</td>\n",
       "      <td>-0.271173</td>\n",
       "      <td>...</td>\n",
       "      <td>0</td>\n",
       "      <td>0</td>\n",
       "      <td>0</td>\n",
       "      <td>0</td>\n",
       "      <td>0</td>\n",
       "      <td>1</td>\n",
       "      <td>0</td>\n",
       "      <td>0</td>\n",
       "      <td>0</td>\n",
       "      <td>1</td>\n",
       "    </tr>\n",
       "    <tr>\n",
       "      <th>12969</th>\n",
       "      <td>0</td>\n",
       "      <td>True</td>\n",
       "      <td>1.743682</td>\n",
       "      <td>True</td>\n",
       "      <td>0.984383</td>\n",
       "      <td>False</td>\n",
       "      <td>-0.334616</td>\n",
       "      <td>-0.282674</td>\n",
       "      <td>-0.285975</td>\n",
       "      <td>-0.271173</td>\n",
       "      <td>...</td>\n",
       "      <td>0</td>\n",
       "      <td>0</td>\n",
       "      <td>0</td>\n",
       "      <td>0</td>\n",
       "      <td>0</td>\n",
       "      <td>1</td>\n",
       "      <td>0</td>\n",
       "      <td>0</td>\n",
       "      <td>1</td>\n",
       "      <td>0</td>\n",
       "    </tr>\n",
       "  </tbody>\n",
       "</table>\n",
       "<p>11076 rows × 22 columns</p>\n",
       "</div>"
      ],
      "text/plain": [
       "       HomePlanet  CryoSleep    Cabin2  Cabin3       Age    VIP  RoomService  \\\n",
       "0               1      False -1.171058    True  0.707877  False    -0.334616   \n",
       "1               0      False -1.171058    True -0.329018  False    -0.166861   \n",
       "2               1      False -1.171058    True  2.021278   True    -0.268437   \n",
       "3               1      False -1.171058    True  0.293119  False    -0.334616   \n",
       "4               0      False -1.169112    True -0.882029  False     0.131712   \n",
       "...           ...        ...       ...     ...       ...    ...          ...   \n",
       "12962           0       True  1.737845    True  0.984383  False    -0.334616   \n",
       "12963           2      False -0.630138    True  0.984383  False    -0.262281   \n",
       "12964           0      False  2.323517    True  0.777004  False    -0.334616   \n",
       "12965           0       True  1.739790    True  0.362246  False    -0.334616   \n",
       "12969           0       True  1.743682    True  0.984383  False    -0.334616   \n",
       "\n",
       "       FoodCourt  ShoppingMall       Spa  ...  B  C  D  E  F  G  T  \\\n",
       "0      -0.282674     -0.285975 -0.271173  ...  1  0  0  0  0  0  0   \n",
       "1      -0.277057     -0.244125  0.217775  ...  0  0  0  0  1  0  0   \n",
       "2       1.949128     -0.285975  5.709312  ...  0  0  0  0  0  0  0   \n",
       "3       0.518053      0.335083  2.693687  ...  0  0  0  0  0  0  0   \n",
       "4      -0.238987     -0.033199  0.232025  ...  0  0  0  0  1  0  0   \n",
       "...          ...           ...       ...  ... .. .. .. .. .. .. ..   \n",
       "12962  -0.282674     -0.285975 -0.271173  ...  0  0  0  0  0  1  0   \n",
       "12963  -0.282674      6.160647 -0.271173  ...  0  0  1  0  0  0  0   \n",
       "12964   0.257177     -0.285975 -0.268502  ...  0  0  0  0  1  0  0   \n",
       "12965  -0.282674     -0.285975 -0.271173  ...  0  0  0  0  0  1  0   \n",
       "12969  -0.282674     -0.285975 -0.271173  ...  0  0  0  0  0  1  0   \n",
       "\n",
       "       55 Cancri e  PSO J318.5-22  TRAPPIST-1e  \n",
       "0                0              0            1  \n",
       "1                0              0            1  \n",
       "2                0              0            1  \n",
       "3                0              0            1  \n",
       "4                0              0            1  \n",
       "...            ...            ...          ...  \n",
       "12962            0              0            1  \n",
       "12963            0              0            1  \n",
       "12964            0              0            1  \n",
       "12965            0              0            1  \n",
       "12969            0              1            0  \n",
       "\n",
       "[11076 rows x 22 columns]"
      ]
     },
     "execution_count": 78,
     "metadata": {},
     "output_type": "execute_result"
    }
   ],
   "source": [
    "# 위에 정의된 스케일링 함수 호출\n",
    "data_scaled(hp, col)"
   ]
  },
  {
   "cell_type": "markdown",
   "id": "1cdeb4b3",
   "metadata": {},
   "source": [
    "## 모델링_랜덤포레스트"
   ]
  },
  {
   "cell_type": "code",
   "execution_count": 45,
   "id": "30cd46ec",
   "metadata": {},
   "outputs": [],
   "source": [
    "# 데이터 타깃 분리\n",
    "hp_data = hp.drop('HomePlanet', axis=1)\n",
    "hp_label = hp['HomePlanet']"
   ]
  },
  {
   "cell_type": "code",
   "execution_count": 46,
   "id": "77a21bf3",
   "metadata": {},
   "outputs": [
    {
     "ename": "IndentationError",
     "evalue": "unexpected indent (Temp/ipykernel_17356/1118589729.py, line 5)",
     "output_type": "error",
     "traceback": [
      "\u001b[1;36m  File \u001b[1;32m\"C:\\Users\\admin\\AppData\\Local\\Temp/ipykernel_17356/1118589729.py\"\u001b[1;36m, line \u001b[1;32m5\u001b[0m\n\u001b[1;33m    'n_estimators': [50,90,100,150,200, 250],\u001b[0m\n\u001b[1;37m    ^\u001b[0m\n\u001b[1;31mIndentationError\u001b[0m\u001b[1;31m:\u001b[0m unexpected indent\n"
     ]
    }
   ],
   "source": [
    "# 임시 모델 설정\n",
    "rfc = RandomForestClassifier()\n",
    "# 그리드 서치\n",
    "#grid = {\n",
    "#    'n_estimators': [50,90,100,150,200, 250],\n",
    "#    'max_depth': [3,5,7,9,13,15],\n",
    "#    'min_samples_leaf':[3,5,7,9,13,15],\n",
    "#    'min_samples_split': [3,5,7,9,13,15]\n",
    "#}\n",
    "# 그리드 객체\n",
    "#rfc_grid = GridSearchCV(rfc, param_grid = grid, scoring = 'accuracy', cv=5, n_jobs=-1, \n",
    "                       verbose =1)\n",
    "# fitting\n",
    "#rfc_grid.fit(hp_data, hp_label)\n",
    "#print('최고 평균 정확도 : {}'.format(rfc_grid.best_score_))\n",
    "#print('최고 파라미터: {}', rfc_grid.best_params_)"
   ]
  },
  {
   "cell_type": "code",
   "execution_count": 47,
   "id": "45b4f371",
   "metadata": {},
   "outputs": [
    {
     "name": "stdout",
     "output_type": "stream",
     "text": [
      "정확도 :  0.9656915854098953\n"
     ]
    }
   ],
   "source": [
    "# 최적의 파라미터를 이용한 모델링\n",
    "rfc_model = RandomForestClassifier(n_estimators=200, max_depth=15, \n",
    "                                   min_samples_leaf=3, min_samples_split=9, random_state=109)\n",
    "\n",
    "# fitting\n",
    "rfc_model.fit(hp_data, hp_label)\n",
    "\n",
    "# pred \n",
    "rfc_pred = rfc_model.predict(hp_data)\n",
    "print('정확도 : ', accuracy_score(hp_label, rfc_pred))"
   ]
  },
  {
   "cell_type": "code",
   "execution_count": 48,
   "id": "a6b8cd63",
   "metadata": {},
   "outputs": [
    {
     "data": {
      "text/plain": [
       "array([[5830,    5,   98],\n",
       "       [  13, 2742,   46],\n",
       "       [ 170,   48, 2124]], dtype=int64)"
      ]
     },
     "execution_count": 48,
     "metadata": {},
     "output_type": "execute_result"
    }
   ],
   "source": [
    "# 혼돈행렬\n",
    "confusion_matrix(hp_label, rfc_pred)"
   ]
  },
  {
   "cell_type": "markdown",
   "id": "a7ff241c",
   "metadata": {},
   "source": [
    "### 세트 분리 후 모델링"
   ]
  },
  {
   "cell_type": "code",
   "execution_count": 50,
   "id": "a607063c",
   "metadata": {},
   "outputs": [],
   "source": [
    "X_train, X_test, y_train, y_test = train_test_split(\n",
    "hp.drop('HomePlanet', axis =1),hp['HomePlanet'], random_state =109) "
   ]
  },
  {
   "cell_type": "code",
   "execution_count": 51,
   "id": "3740e5c8",
   "metadata": {},
   "outputs": [
    {
     "name": "stdout",
     "output_type": "stream",
     "text": [
      "Fitting 5 folds for each of 1296 candidates, totalling 6480 fits\n"
     ]
    },
    {
     "ename": "NameError",
     "evalue": "name 'rfc_grid' is not defined",
     "output_type": "error",
     "traceback": [
      "\u001b[1;31m---------------------------------------------------------------------------\u001b[0m",
      "\u001b[1;31mNameError\u001b[0m                                 Traceback (most recent call last)",
      "\u001b[1;32m~\\AppData\\Local\\Temp/ipykernel_17356/2613475430.py\u001b[0m in \u001b[0;36m<module>\u001b[1;34m\u001b[0m\n\u001b[0;32m      9\u001b[0m \u001b[1;33m\u001b[0m\u001b[0m\n\u001b[0;32m     10\u001b[0m \u001b[0mclf_grid\u001b[0m\u001b[1;33m.\u001b[0m\u001b[0mfit\u001b[0m\u001b[1;33m(\u001b[0m\u001b[0mX_train\u001b[0m\u001b[1;33m,\u001b[0m \u001b[0my_train\u001b[0m\u001b[1;33m)\u001b[0m\u001b[1;33m\u001b[0m\u001b[1;33m\u001b[0m\u001b[0m\n\u001b[1;32m---> 11\u001b[1;33m \u001b[0mprint\u001b[0m\u001b[1;33m(\u001b[0m\u001b[1;34m'최고 평균 정확도 : {}'\u001b[0m\u001b[1;33m.\u001b[0m\u001b[0mformat\u001b[0m\u001b[1;33m(\u001b[0m\u001b[0mrfc_grid\u001b[0m\u001b[1;33m.\u001b[0m\u001b[0mbest_score_\u001b[0m\u001b[1;33m)\u001b[0m\u001b[1;33m)\u001b[0m\u001b[1;33m\u001b[0m\u001b[1;33m\u001b[0m\u001b[0m\n\u001b[0m\u001b[0;32m     12\u001b[0m \u001b[0mprint\u001b[0m\u001b[1;33m(\u001b[0m\u001b[1;34m'최고 파라미터: {}'\u001b[0m\u001b[1;33m,\u001b[0m \u001b[0mrfc_grid\u001b[0m\u001b[1;33m.\u001b[0m\u001b[0mbest_params_\u001b[0m\u001b[1;33m)\u001b[0m\u001b[1;33m\u001b[0m\u001b[1;33m\u001b[0m\u001b[0m\n",
      "\u001b[1;31mNameError\u001b[0m: name 'rfc_grid' is not defined"
     ]
    }
   ],
   "source": [
    "rf_clf = RandomForestClassifier()\n",
    "grid = {\n",
    "    'n_estimators': [50,90,100,150,200, 250],\n",
    "    'max_depth': [3,5,7,9,13,15],\n",
    "    'min_samples_leaf':[3,5,7,9,13,15],\n",
    "    'min_samples_split': [3,5,7,9,13,15]}\n",
    "\n",
    "clf_grid = GridSearchCV(rf_clf, param_grid = grid, scoring='accuracy', verbose=1, cv= 5, n_jobs=-1)\n",
    "\n",
    "clf_grid.fit(X_train, y_train)\n"
   ]
  },
  {
   "cell_type": "code",
   "execution_count": 52,
   "id": "df373b01",
   "metadata": {},
   "outputs": [
    {
     "name": "stdout",
     "output_type": "stream",
     "text": [
      "최고 평균 정확도 : 0.9388473155298411\n",
      "최고 파라미터: {} {'max_depth': 15, 'min_samples_leaf': 3, 'min_samples_split': 5, 'n_estimators': 150}\n"
     ]
    }
   ],
   "source": [
    "print('최고 평균 정확도 : {}'.format(clf_grid.best_score_))\n",
    "print('최고 파라미터: {}', clf_grid.best_params_)"
   ]
  },
  {
   "cell_type": "code",
   "execution_count": 53,
   "id": "f1e327a6",
   "metadata": {},
   "outputs": [
    {
     "name": "stdout",
     "output_type": "stream",
     "text": [
      "정확도 :  0.9461899602744673\n"
     ]
    }
   ],
   "source": [
    "# 최적의 파라미터를 이용한 모델링\n",
    "clf_model = RandomForestClassifier(n_estimators=150, max_depth=15, \n",
    "                                   min_samples_leaf=3, min_samples_split=5, random_state=109)\n",
    "\n",
    "# fitting\n",
    "clf_model.fit(X_train, y_train)\n",
    "\n",
    "# pred \n",
    "clf_pred = clf_model.predict(X_test)\n",
    "print('정확도 : ', accuracy_score(y_test, clf_pred))"
   ]
  },
  {
   "cell_type": "code",
   "execution_count": 54,
   "id": "ad18aaca",
   "metadata": {},
   "outputs": [
    {
     "data": {
      "text/plain": [
       "array([[1446,    1,   30],\n",
       "       [   5,  694,   11],\n",
       "       [  87,   15,  480]], dtype=int64)"
      ]
     },
     "execution_count": 54,
     "metadata": {},
     "output_type": "execute_result"
    }
   ],
   "source": [
    "confusion_matrix(y_test, clf_pred)"
   ]
  },
  {
   "cell_type": "code",
   "execution_count": 98,
   "id": "c3bf33fd",
   "metadata": {},
   "outputs": [
    {
     "data": {
      "text/plain": [
       "0.8247422680412371"
      ]
     },
     "execution_count": 98,
     "metadata": {},
     "output_type": "execute_result"
    }
   ],
   "source": [
    "# Mars의 예측 정확도가 다소 낮은걸 확인\n",
    "480/(87+15+480)"
   ]
  },
  {
   "cell_type": "markdown",
   "id": "d8b52604",
   "metadata": {},
   "source": [
    "## 모델링_XGBoost"
   ]
  },
  {
   "cell_type": "code",
   "execution_count": 88,
   "id": "556926b5",
   "metadata": {},
   "outputs": [],
   "source": [
    "# hyperopt 적용을 위한 설정 값 담기\n",
    "xgb_search_space = {'max_depth': hp.quniform('max_depth', 5, 20, 1),\n",
    "                    'min_child_weight': hp.quniform('min_child_weight', 1, 2, 1),\n",
    "                    'learning_rate': hp.uniform('learning_rate', 0.01, 0.2),\n",
    "                    'colsample_bytree': hp.uniform('colsample_bytree', 0.5, 1)\n",
    "               }"
   ]
  },
  {
   "cell_type": "code",
   "execution_count": 84,
   "id": "497f1dcd",
   "metadata": {},
   "outputs": [],
   "source": [
    "# 실행을 위한 함수 정의\n",
    "def objective_func(search_space):\n",
    "    xgb_clf = XGBClassifier(n_estimators=100, max_depth=int(search_space['max_depth']),\n",
    "                            min_child_weight=int(search_space['min_child_weight']),\n",
    "                            learning_rate=search_space['learning_rate'],\n",
    "                            colsample_bytree=search_space['colsample_bytree'], \n",
    "                            eval_metric='logloss')\n",
    "    accuracy = cross_val_score(xgb_clf, X_train, y_train, scoring='accuracy', cv=3)\n",
    "    return {'loss':-1 * np.mean(accuracy), 'status': STATUS_OK}\n"
   ]
  },
  {
   "cell_type": "code",
   "execution_count": 92,
   "id": "5bcdd6d1",
   "metadata": {
    "scrolled": false
   },
   "outputs": [
    {
     "name": "stdout",
     "output_type": "stream",
     "text": [
      "100%|███████████████████████████████████████████████| 50/50 [02:04<00:00,  2.49s/trial, best loss: -0.9445046346454796]\n",
      "best: {'colsample_bytree': 0.5200342563927247, 'learning_rate': 0.12222072139496226, 'max_depth': 9.0, 'min_child_weight': 2.0}\n"
     ]
    }
   ],
   "source": [
    "# 최적의 파라미터 찾기\n",
    "trial_val = Trials()\n",
    "best = fmin(fn=objective_func,\n",
    "            space=xgb_search_space,\n",
    "            algo=tpe.suggest,\n",
    "            max_evals=50,\n",
    "            trials=trial_val, rstate=np.random.default_rng(seed=9))\n",
    "print('best:', best)"
   ]
  },
  {
   "cell_type": "code",
   "execution_count": 93,
   "id": "343c0b01",
   "metadata": {},
   "outputs": [
    {
     "name": "stdout",
     "output_type": "stream",
     "text": [
      "정확도 :  0.9472733838931022\n",
      "혼돈행렬 :  [[1428    2   47]\n",
      " [   2  689   19]\n",
      " [  65   11  506]]\n"
     ]
    }
   ],
   "source": [
    "# 모델링\n",
    "xgb_model = XGBClassifier(n_estimators=200, learning_rate=round(best['learning_rate'], 5), \n",
    "                            max_depth=int(best['max_depth']), min_child_weight=int(best['min_child_weight']),\n",
    "                            colsample_bytree=round(best['colsample_bytree'], 5)\n",
    "                           )\n",
    "xgb_model.fit(X_train, y_train)\n",
    "pred= xgb_model.predict(X_test)\n",
    "print('정확도 : ', accuracy_score(y_test, pred))\n",
    "print('혼돈행렬 : \\n', confusion_matrix(y_test, pred))"
   ]
  }
 ],
 "metadata": {
  "kernelspec": {
   "display_name": "Python 3 (ipykernel)",
   "language": "python",
   "name": "python3"
  },
  "language_info": {
   "codemirror_mode": {
    "name": "ipython",
    "version": 3
   },
   "file_extension": ".py",
   "mimetype": "text/x-python",
   "name": "python",
   "nbconvert_exporter": "python",
   "pygments_lexer": "ipython3",
   "version": "3.9.7"
  },
  "toc": {
   "base_numbering": 1,
   "nav_menu": {},
   "number_sections": true,
   "sideBar": true,
   "skip_h1_title": false,
   "title_cell": "Table of Contents",
   "title_sidebar": "Contents",
   "toc_cell": false,
   "toc_position": {},
   "toc_section_display": true,
   "toc_window_display": true
  }
 },
 "nbformat": 4,
 "nbformat_minor": 5
}
