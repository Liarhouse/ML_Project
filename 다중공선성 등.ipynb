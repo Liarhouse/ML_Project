{
 "cells": [
  {
   "cell_type": "markdown",
   "id": "e3cfa5c9",
   "metadata": {},
   "source": [
    "# 라이브러리 로딩"
   ]
  },
  {
   "cell_type": "code",
   "execution_count": 1,
   "id": "a2d09060",
   "metadata": {
    "ExecuteTime": {
     "end_time": "2022-11-24T07:49:50.987440Z",
     "start_time": "2022-11-24T07:49:46.731641Z"
    }
   },
   "outputs": [],
   "source": [
    "import numpy as np # Numpy\n",
    "import pandas as pd # Pandas\n",
    "import matplotlib as mpl #Matplotlib 세팅용\n",
    "import matplotlib.pyplot as plt # 시각화 도구\n",
    "import seaborn as sns # 시각화 도구\n",
    "from sklearn.model_selection import train_test_split # 데이터셋 분리\n",
    "from sklearn.model_selection import KFold # KFold 교차검증\n",
    "from sklearn.cluster import KMeans # 클러스터링\n",
    "from sklearn.metrics import silhouette_score # 실루엣 점수\n",
    "import xgboost as xgb # XGBoost\n",
    "from sklearn.model_selection import GridSearchCV # 그리드 서치\n",
    "from sklearn.metrics import accuracy_score, precision_score # 평가 지표\n",
    "from sklearn.metrics import recall_score, confusion_matrix, roc_auc_score, f1_score # 평가 지표\n",
    "from imblearn.combine import SMOTEENN, SMOTETomek # 복합샘플링\n",
    "from hyperopt import hp, fmin, tpe, Trials # HyperOPT\n",
    "\n",
    "import warnings # 경고문 제거용\n",
    "\n",
    "\n",
    "%matplotlib inline\n",
    "%config Inlinebackend.figure_format = 'retina'\n",
    "\n",
    "# 한글 폰트 설정\n",
    "mpl.rc('font', family='D2Coding')\n",
    "# 유니코드에서 음수 부호 설정\n",
    "mpl.rc('axes', unicode_minus = False)\n",
    "\n",
    "warnings.filterwarnings('ignore')\n",
    "sns.set(font=\"D2Coding\", rc={\"axes.unicode_minus\":False}, style='darkgrid')\n",
    "plt.rc('figure', figsize=(10,8))"
   ]
  },
  {
   "cell_type": "markdown",
   "id": "5ac23d52",
   "metadata": {},
   "source": [
    "# 데이터 불러오기"
   ]
  },
  {
   "cell_type": "code",
   "execution_count": 2,
   "id": "328c04aa",
   "metadata": {
    "ExecuteTime": {
     "end_time": "2022-11-24T07:49:53.382743Z",
     "start_time": "2022-11-24T07:49:50.988432Z"
    }
   },
   "outputs": [],
   "source": [
    "data = pd.read_excel('train_test_na_filled.xlsx', sheet_name='Train')"
   ]
  },
  {
   "cell_type": "markdown",
   "id": "5e759f61",
   "metadata": {},
   "source": [
    "# 데이터 탐색"
   ]
  },
  {
   "cell_type": "code",
   "execution_count": 3,
   "id": "48bb9702",
   "metadata": {
    "ExecuteTime": {
     "end_time": "2022-11-24T07:49:53.412391Z",
     "start_time": "2022-11-24T07:49:53.383468Z"
    }
   },
   "outputs": [
    {
     "name": "stdout",
     "output_type": "stream",
     "text": [
      "<class 'pandas.core.frame.DataFrame'>\n",
      "RangeIndex: 8693 entries, 0 to 8692\n",
      "Data columns (total 18 columns):\n",
      " #   Column        Non-Null Count  Dtype  \n",
      "---  ------        --------------  -----  \n",
      " 0   PassengerId   8693 non-null   object \n",
      " 1   HomePlanet    8693 non-null   object \n",
      " 2   CryoSleep     8693 non-null   bool   \n",
      " 3   Cabin1        8590 non-null   object \n",
      " 4   Cabin2        8590 non-null   float64\n",
      " 5   Combi         8590 non-null   object \n",
      " 6   Cabin3        8590 non-null   object \n",
      " 7   Cabin         8590 non-null   object \n",
      " 8   Destination   8693 non-null   object \n",
      " 9   Age           8693 non-null   int64  \n",
      " 10  VIP           8693 non-null   bool   \n",
      " 11  RoomService   8693 non-null   int64  \n",
      " 12  FoodCourt     8693 non-null   int64  \n",
      " 13  ShoppingMall  8693 non-null   int64  \n",
      " 14  Spa           8693 non-null   int64  \n",
      " 15  VRDeck        8693 non-null   int64  \n",
      " 16  Name          8493 non-null   object \n",
      " 17  Transported   8693 non-null   bool   \n",
      "dtypes: bool(3), float64(1), int64(6), object(8)\n",
      "memory usage: 1.0+ MB\n"
     ]
    }
   ],
   "source": [
    "data.info()"
   ]
  },
  {
   "cell_type": "code",
   "execution_count": 4,
   "id": "74921d37",
   "metadata": {
    "ExecuteTime": {
     "end_time": "2022-11-24T07:49:53.442672Z",
     "start_time": "2022-11-24T07:49:53.414385Z"
    }
   },
   "outputs": [
    {
     "data": {
      "text/plain": [
       "PassengerId       0\n",
       "HomePlanet        0\n",
       "CryoSleep         0\n",
       "Cabin1          103\n",
       "Cabin2          103\n",
       "Combi           103\n",
       "Cabin3          103\n",
       "Cabin           103\n",
       "Destination       0\n",
       "Age               0\n",
       "VIP               0\n",
       "RoomService       0\n",
       "FoodCourt         0\n",
       "ShoppingMall      0\n",
       "Spa               0\n",
       "VRDeck            0\n",
       "Name            200\n",
       "Transported       0\n",
       "dtype: int64"
      ]
     },
     "execution_count": 4,
     "metadata": {},
     "output_type": "execute_result"
    }
   ],
   "source": [
    "data.isna().sum()"
   ]
  },
  {
   "cell_type": "code",
   "execution_count": 5,
   "id": "6e807f6b",
   "metadata": {
    "ExecuteTime": {
     "end_time": "2022-11-24T07:49:53.458527Z",
     "start_time": "2022-11-24T07:49:53.443309Z"
    }
   },
   "outputs": [],
   "source": [
    "# 필요없는 features 제거\n",
    "data.drop(['PassengerId', 'Cabin', 'Combi', 'Name',], axis=1, inplace=True)"
   ]
  },
  {
   "cell_type": "code",
   "execution_count": 6,
   "id": "0845ec22",
   "metadata": {
    "ExecuteTime": {
     "end_time": "2022-11-24T07:49:53.473231Z",
     "start_time": "2022-11-24T07:49:53.460263Z"
    }
   },
   "outputs": [
    {
     "name": "stdout",
     "output_type": "stream",
     "text": [
      "<class 'pandas.core.frame.DataFrame'>\n",
      "RangeIndex: 8693 entries, 0 to 8692\n",
      "Data columns (total 14 columns):\n",
      " #   Column        Non-Null Count  Dtype  \n",
      "---  ------        --------------  -----  \n",
      " 0   HomePlanet    8693 non-null   object \n",
      " 1   CryoSleep     8693 non-null   bool   \n",
      " 2   Cabin1        8590 non-null   object \n",
      " 3   Cabin2        8590 non-null   float64\n",
      " 4   Cabin3        8590 non-null   object \n",
      " 5   Destination   8693 non-null   object \n",
      " 6   Age           8693 non-null   int64  \n",
      " 7   VIP           8693 non-null   bool   \n",
      " 8   RoomService   8693 non-null   int64  \n",
      " 9   FoodCourt     8693 non-null   int64  \n",
      " 10  ShoppingMall  8693 non-null   int64  \n",
      " 11  Spa           8693 non-null   int64  \n",
      " 12  VRDeck        8693 non-null   int64  \n",
      " 13  Transported   8693 non-null   bool   \n",
      "dtypes: bool(3), float64(1), int64(6), object(4)\n",
      "memory usage: 772.6+ KB\n"
     ]
    }
   ],
   "source": [
    "data.info()"
   ]
  },
  {
   "cell_type": "code",
   "execution_count": 7,
   "id": "9d949941",
   "metadata": {
    "ExecuteTime": {
     "end_time": "2022-11-24T07:49:53.488187Z",
     "start_time": "2022-11-24T07:49:53.474225Z"
    }
   },
   "outputs": [],
   "source": [
    "# 결측값들 제거(Cabin)\n",
    "data.dropna(axis=0, inplace=True)"
   ]
  },
  {
   "cell_type": "code",
   "execution_count": 8,
   "id": "d0dc1d00",
   "metadata": {
    "ExecuteTime": {
     "end_time": "2022-11-24T07:49:53.503149Z",
     "start_time": "2022-11-24T07:49:53.489188Z"
    },
    "scrolled": true
   },
   "outputs": [
    {
     "data": {
      "text/plain": [
       "HomePlanet      0\n",
       "CryoSleep       0\n",
       "Cabin1          0\n",
       "Cabin2          0\n",
       "Cabin3          0\n",
       "Destination     0\n",
       "Age             0\n",
       "VIP             0\n",
       "RoomService     0\n",
       "FoodCourt       0\n",
       "ShoppingMall    0\n",
       "Spa             0\n",
       "VRDeck          0\n",
       "Transported     0\n",
       "dtype: int64"
      ]
     },
     "execution_count": 8,
     "metadata": {},
     "output_type": "execute_result"
    }
   ],
   "source": [
    "data.isna().sum()"
   ]
  },
  {
   "cell_type": "code",
   "execution_count": 9,
   "id": "a3283ed2",
   "metadata": {
    "ExecuteTime": {
     "end_time": "2022-11-24T07:49:53.518110Z",
     "start_time": "2022-11-24T07:49:53.504147Z"
    }
   },
   "outputs": [],
   "source": [
    "data['Cabin3'].replace({'P': True,'S': False}, inplace=True)\n",
    "data['Cabin3'] = data['Cabin3'].astype(bool)"
   ]
  },
  {
   "cell_type": "code",
   "execution_count": 10,
   "id": "0e063625",
   "metadata": {
    "ExecuteTime": {
     "end_time": "2022-11-24T07:49:53.548305Z",
     "start_time": "2022-11-24T07:49:53.521099Z"
    }
   },
   "outputs": [],
   "source": [
    "train_encoding = pd.get_dummies(data['HomePlanet'])\n",
    "data=data.drop('HomePlanet',axis=1)\n",
    "data = data.join(train_encoding)\n",
    "\n",
    "train_encoding = pd.get_dummies(data['Destination'])\n",
    "data=data.drop('Destination',axis=1)\n",
    "data = data.join(train_encoding)\n",
    "\n",
    "train_encoding = pd.get_dummies(data['Cabin1'])\n",
    "data=data.drop('Cabin1',axis=1)\n",
    "data = data.join(train_encoding)"
   ]
  },
  {
   "cell_type": "code",
   "execution_count": 11,
   "id": "fd1d0cc6",
   "metadata": {
    "ExecuteTime": {
     "end_time": "2022-11-24T07:49:53.563266Z",
     "start_time": "2022-11-24T07:49:53.549303Z"
    },
    "scrolled": true
   },
   "outputs": [
    {
     "name": "stdout",
     "output_type": "stream",
     "text": [
      "<class 'pandas.core.frame.DataFrame'>\n",
      "Int64Index: 8590 entries, 0 to 8692\n",
      "Data columns (total 25 columns):\n",
      " #   Column         Non-Null Count  Dtype  \n",
      "---  ------         --------------  -----  \n",
      " 0   CryoSleep      8590 non-null   bool   \n",
      " 1   Cabin2         8590 non-null   float64\n",
      " 2   Cabin3         8590 non-null   bool   \n",
      " 3   Age            8590 non-null   int64  \n",
      " 4   VIP            8590 non-null   bool   \n",
      " 5   RoomService    8590 non-null   int64  \n",
      " 6   FoodCourt      8590 non-null   int64  \n",
      " 7   ShoppingMall   8590 non-null   int64  \n",
      " 8   Spa            8590 non-null   int64  \n",
      " 9   VRDeck         8590 non-null   int64  \n",
      " 10  Transported    8590 non-null   bool   \n",
      " 11  Earth          8590 non-null   uint8  \n",
      " 12  Europa         8590 non-null   uint8  \n",
      " 13  Mars           8590 non-null   uint8  \n",
      " 14  55 Cancri e    8590 non-null   uint8  \n",
      " 15  PSO J318.5-22  8590 non-null   uint8  \n",
      " 16  TRAPPIST-1e    8590 non-null   uint8  \n",
      " 17  A              8590 non-null   uint8  \n",
      " 18  B              8590 non-null   uint8  \n",
      " 19  C              8590 non-null   uint8  \n",
      " 20  D              8590 non-null   uint8  \n",
      " 21  E              8590 non-null   uint8  \n",
      " 22  F              8590 non-null   uint8  \n",
      " 23  G              8590 non-null   uint8  \n",
      " 24  T              8590 non-null   uint8  \n",
      "dtypes: bool(4), float64(1), int64(6), uint8(14)\n",
      "memory usage: 945.9 KB\n"
     ]
    }
   ],
   "source": [
    "data.info()"
   ]
  },
  {
   "cell_type": "code",
   "execution_count": 12,
   "id": "18f27abd",
   "metadata": {
    "ExecuteTime": {
     "end_time": "2022-11-24T07:49:53.578225Z",
     "start_time": "2022-11-24T07:49:53.564263Z"
    }
   },
   "outputs": [],
   "source": [
    "col = ['Cabin2', 'Age', 'RoomService','FoodCourt','ShoppingMall','Spa','VRDeck']\n",
    "def data_scaled(df, col):\n",
    "    for i in col:\n",
    "        data_mean = df[i].mean()\n",
    "        data_std = df[i].std()\n",
    "        scaled = (df[i]-data_mean)/data_std\n",
    "        df[i]=scaled\n",
    "    return df"
   ]
  },
  {
   "cell_type": "code",
   "execution_count": 13,
   "id": "1f300f41",
   "metadata": {
    "ExecuteTime": {
     "end_time": "2022-11-24T07:49:53.623105Z",
     "start_time": "2022-11-24T07:49:53.579224Z"
    }
   },
   "outputs": [
    {
     "data": {
      "text/html": [
       "<div>\n",
       "<style scoped>\n",
       "    .dataframe tbody tr th:only-of-type {\n",
       "        vertical-align: middle;\n",
       "    }\n",
       "\n",
       "    .dataframe tbody tr th {\n",
       "        vertical-align: top;\n",
       "    }\n",
       "\n",
       "    .dataframe thead th {\n",
       "        text-align: right;\n",
       "    }\n",
       "</style>\n",
       "<table border=\"1\" class=\"dataframe\">\n",
       "  <thead>\n",
       "    <tr style=\"text-align: right;\">\n",
       "      <th></th>\n",
       "      <th>CryoSleep</th>\n",
       "      <th>Cabin2</th>\n",
       "      <th>Cabin3</th>\n",
       "      <th>Age</th>\n",
       "      <th>VIP</th>\n",
       "      <th>RoomService</th>\n",
       "      <th>FoodCourt</th>\n",
       "      <th>ShoppingMall</th>\n",
       "      <th>Spa</th>\n",
       "      <th>VRDeck</th>\n",
       "      <th>...</th>\n",
       "      <th>PSO J318.5-22</th>\n",
       "      <th>TRAPPIST-1e</th>\n",
       "      <th>A</th>\n",
       "      <th>B</th>\n",
       "      <th>C</th>\n",
       "      <th>D</th>\n",
       "      <th>E</th>\n",
       "      <th>F</th>\n",
       "      <th>G</th>\n",
       "      <th>T</th>\n",
       "    </tr>\n",
       "  </thead>\n",
       "  <tbody>\n",
       "    <tr>\n",
       "      <th>0</th>\n",
       "      <td>False</td>\n",
       "      <td>-1.170228</td>\n",
       "      <td>True</td>\n",
       "      <td>0.712274</td>\n",
       "      <td>False</td>\n",
       "      <td>-0.333743</td>\n",
       "      <td>-0.280785</td>\n",
       "      <td>-0.282832</td>\n",
       "      <td>-0.271469</td>\n",
       "      <td>-0.263361</td>\n",
       "      <td>...</td>\n",
       "      <td>0</td>\n",
       "      <td>1</td>\n",
       "      <td>0</td>\n",
       "      <td>1</td>\n",
       "      <td>0</td>\n",
       "      <td>0</td>\n",
       "      <td>0</td>\n",
       "      <td>0</td>\n",
       "      <td>0</td>\n",
       "      <td>0</td>\n",
       "    </tr>\n",
       "    <tr>\n",
       "      <th>1</th>\n",
       "      <td>False</td>\n",
       "      <td>-1.170228</td>\n",
       "      <td>False</td>\n",
       "      <td>-0.332624</td>\n",
       "      <td>False</td>\n",
       "      <td>-0.168530</td>\n",
       "      <td>-0.275148</td>\n",
       "      <td>-0.241196</td>\n",
       "      <td>0.220460</td>\n",
       "      <td>-0.224520</td>\n",
       "      <td>...</td>\n",
       "      <td>0</td>\n",
       "      <td>1</td>\n",
       "      <td>0</td>\n",
       "      <td>0</td>\n",
       "      <td>0</td>\n",
       "      <td>0</td>\n",
       "      <td>0</td>\n",
       "      <td>1</td>\n",
       "      <td>0</td>\n",
       "      <td>0</td>\n",
       "    </tr>\n",
       "    <tr>\n",
       "      <th>2</th>\n",
       "      <td>False</td>\n",
       "      <td>-1.170228</td>\n",
       "      <td>False</td>\n",
       "      <td>2.035811</td>\n",
       "      <td>True</td>\n",
       "      <td>-0.268567</td>\n",
       "      <td>1.959032</td>\n",
       "      <td>-0.282832</td>\n",
       "      <td>5.745469</td>\n",
       "      <td>-0.220106</td>\n",
       "      <td>...</td>\n",
       "      <td>0</td>\n",
       "      <td>1</td>\n",
       "      <td>1</td>\n",
       "      <td>0</td>\n",
       "      <td>0</td>\n",
       "      <td>0</td>\n",
       "      <td>0</td>\n",
       "      <td>0</td>\n",
       "      <td>0</td>\n",
       "      <td>0</td>\n",
       "    </tr>\n",
       "    <tr>\n",
       "      <th>3</th>\n",
       "      <td>False</td>\n",
       "      <td>-1.170228</td>\n",
       "      <td>False</td>\n",
       "      <td>0.294315</td>\n",
       "      <td>False</td>\n",
       "      <td>-0.333743</td>\n",
       "      <td>0.522818</td>\n",
       "      <td>0.335048</td>\n",
       "      <td>2.711463</td>\n",
       "      <td>-0.092988</td>\n",
       "      <td>...</td>\n",
       "      <td>0</td>\n",
       "      <td>1</td>\n",
       "      <td>1</td>\n",
       "      <td>0</td>\n",
       "      <td>0</td>\n",
       "      <td>0</td>\n",
       "      <td>0</td>\n",
       "      <td>0</td>\n",
       "      <td>0</td>\n",
       "      <td>0</td>\n",
       "    </tr>\n",
       "    <tr>\n",
       "      <th>4</th>\n",
       "      <td>False</td>\n",
       "      <td>-1.168274</td>\n",
       "      <td>False</td>\n",
       "      <td>-0.889902</td>\n",
       "      <td>False</td>\n",
       "      <td>0.125518</td>\n",
       "      <td>-0.236941</td>\n",
       "      <td>-0.031350</td>\n",
       "      <td>0.234796</td>\n",
       "      <td>-0.261596</td>\n",
       "      <td>...</td>\n",
       "      <td>0</td>\n",
       "      <td>1</td>\n",
       "      <td>0</td>\n",
       "      <td>0</td>\n",
       "      <td>0</td>\n",
       "      <td>0</td>\n",
       "      <td>0</td>\n",
       "      <td>1</td>\n",
       "      <td>0</td>\n",
       "      <td>0</td>\n",
       "    </tr>\n",
       "    <tr>\n",
       "      <th>...</th>\n",
       "      <td>...</td>\n",
       "      <td>...</td>\n",
       "      <td>...</td>\n",
       "      <td>...</td>\n",
       "      <td>...</td>\n",
       "      <td>...</td>\n",
       "      <td>...</td>\n",
       "      <td>...</td>\n",
       "      <td>...</td>\n",
       "      <td>...</td>\n",
       "      <td>...</td>\n",
       "      <td>...</td>\n",
       "      <td>...</td>\n",
       "      <td>...</td>\n",
       "      <td>...</td>\n",
       "      <td>...</td>\n",
       "      <td>...</td>\n",
       "      <td>...</td>\n",
       "      <td>...</td>\n",
       "      <td>...</td>\n",
       "      <td>...</td>\n",
       "    </tr>\n",
       "    <tr>\n",
       "      <th>8688</th>\n",
       "      <td>False</td>\n",
       "      <td>-0.978724</td>\n",
       "      <td>True</td>\n",
       "      <td>0.851594</td>\n",
       "      <td>True</td>\n",
       "      <td>-0.333743</td>\n",
       "      <td>3.990274</td>\n",
       "      <td>-0.282832</td>\n",
       "      <td>1.200732</td>\n",
       "      <td>-0.198037</td>\n",
       "      <td>...</td>\n",
       "      <td>0</td>\n",
       "      <td>0</td>\n",
       "      <td>1</td>\n",
       "      <td>0</td>\n",
       "      <td>0</td>\n",
       "      <td>0</td>\n",
       "      <td>0</td>\n",
       "      <td>0</td>\n",
       "      <td>0</td>\n",
       "      <td>0</td>\n",
       "    </tr>\n",
       "    <tr>\n",
       "      <th>8689</th>\n",
       "      <td>True</td>\n",
       "      <td>1.758999</td>\n",
       "      <td>False</td>\n",
       "      <td>-0.750583</td>\n",
       "      <td>False</td>\n",
       "      <td>-0.333743</td>\n",
       "      <td>-0.280785</td>\n",
       "      <td>-0.282832</td>\n",
       "      <td>-0.271469</td>\n",
       "      <td>-0.263361</td>\n",
       "      <td>...</td>\n",
       "      <td>1</td>\n",
       "      <td>0</td>\n",
       "      <td>0</td>\n",
       "      <td>0</td>\n",
       "      <td>0</td>\n",
       "      <td>0</td>\n",
       "      <td>0</td>\n",
       "      <td>0</td>\n",
       "      <td>1</td>\n",
       "      <td>0</td>\n",
       "    </tr>\n",
       "    <tr>\n",
       "      <th>8690</th>\n",
       "      <td>False</td>\n",
       "      <td>1.760953</td>\n",
       "      <td>False</td>\n",
       "      <td>-0.193304</td>\n",
       "      <td>False</td>\n",
       "      <td>-0.333743</td>\n",
       "      <td>-0.280785</td>\n",
       "      <td>2.834877</td>\n",
       "      <td>-0.270573</td>\n",
       "      <td>-0.263361</td>\n",
       "      <td>...</td>\n",
       "      <td>0</td>\n",
       "      <td>1</td>\n",
       "      <td>0</td>\n",
       "      <td>0</td>\n",
       "      <td>0</td>\n",
       "      <td>0</td>\n",
       "      <td>0</td>\n",
       "      <td>0</td>\n",
       "      <td>1</td>\n",
       "      <td>0</td>\n",
       "    </tr>\n",
       "    <tr>\n",
       "      <th>8691</th>\n",
       "      <td>False</td>\n",
       "      <td>0.017878</td>\n",
       "      <td>False</td>\n",
       "      <td>0.224655</td>\n",
       "      <td>False</td>\n",
       "      <td>-0.333743</td>\n",
       "      <td>0.376253</td>\n",
       "      <td>-0.282832</td>\n",
       "      <td>0.044835</td>\n",
       "      <td>2.592370</td>\n",
       "      <td>...</td>\n",
       "      <td>0</td>\n",
       "      <td>0</td>\n",
       "      <td>0</td>\n",
       "      <td>0</td>\n",
       "      <td>0</td>\n",
       "      <td>0</td>\n",
       "      <td>1</td>\n",
       "      <td>0</td>\n",
       "      <td>0</td>\n",
       "      <td>0</td>\n",
       "    </tr>\n",
       "    <tr>\n",
       "      <th>8692</th>\n",
       "      <td>False</td>\n",
       "      <td>0.017878</td>\n",
       "      <td>False</td>\n",
       "      <td>1.060573</td>\n",
       "      <td>False</td>\n",
       "      <td>-0.142763</td>\n",
       "      <td>2.655529</td>\n",
       "      <td>-0.282832</td>\n",
       "      <td>-0.271469</td>\n",
       "      <td>-0.252768</td>\n",
       "      <td>...</td>\n",
       "      <td>0</td>\n",
       "      <td>1</td>\n",
       "      <td>0</td>\n",
       "      <td>0</td>\n",
       "      <td>0</td>\n",
       "      <td>0</td>\n",
       "      <td>1</td>\n",
       "      <td>0</td>\n",
       "      <td>0</td>\n",
       "      <td>0</td>\n",
       "    </tr>\n",
       "  </tbody>\n",
       "</table>\n",
       "<p>8590 rows × 25 columns</p>\n",
       "</div>"
      ],
      "text/plain": [
       "      CryoSleep    Cabin2  Cabin3       Age    VIP  RoomService  FoodCourt  \\\n",
       "0         False -1.170228    True  0.712274  False    -0.333743  -0.280785   \n",
       "1         False -1.170228   False -0.332624  False    -0.168530  -0.275148   \n",
       "2         False -1.170228   False  2.035811   True    -0.268567   1.959032   \n",
       "3         False -1.170228   False  0.294315  False    -0.333743   0.522818   \n",
       "4         False -1.168274   False -0.889902  False     0.125518  -0.236941   \n",
       "...         ...       ...     ...       ...    ...          ...        ...   \n",
       "8688      False -0.978724    True  0.851594   True    -0.333743   3.990274   \n",
       "8689       True  1.758999   False -0.750583  False    -0.333743  -0.280785   \n",
       "8690      False  1.760953   False -0.193304  False    -0.333743  -0.280785   \n",
       "8691      False  0.017878   False  0.224655  False    -0.333743   0.376253   \n",
       "8692      False  0.017878   False  1.060573  False    -0.142763   2.655529   \n",
       "\n",
       "      ShoppingMall       Spa    VRDeck  ...  PSO J318.5-22  TRAPPIST-1e  A  B  \\\n",
       "0        -0.282832 -0.271469 -0.263361  ...              0            1  0  1   \n",
       "1        -0.241196  0.220460 -0.224520  ...              0            1  0  0   \n",
       "2        -0.282832  5.745469 -0.220106  ...              0            1  1  0   \n",
       "3         0.335048  2.711463 -0.092988  ...              0            1  1  0   \n",
       "4        -0.031350  0.234796 -0.261596  ...              0            1  0  0   \n",
       "...            ...       ...       ...  ...            ...          ... .. ..   \n",
       "8688     -0.282832  1.200732 -0.198037  ...              0            0  1  0   \n",
       "8689     -0.282832 -0.271469 -0.263361  ...              1            0  0  0   \n",
       "8690      2.834877 -0.270573 -0.263361  ...              0            1  0  0   \n",
       "8691     -0.282832  0.044835  2.592370  ...              0            0  0  0   \n",
       "8692     -0.282832 -0.271469 -0.252768  ...              0            1  0  0   \n",
       "\n",
       "      C  D  E  F  G  T  \n",
       "0     0  0  0  0  0  0  \n",
       "1     0  0  0  1  0  0  \n",
       "2     0  0  0  0  0  0  \n",
       "3     0  0  0  0  0  0  \n",
       "4     0  0  0  1  0  0  \n",
       "...  .. .. .. .. .. ..  \n",
       "8688  0  0  0  0  0  0  \n",
       "8689  0  0  0  0  1  0  \n",
       "8690  0  0  0  0  1  0  \n",
       "8691  0  0  1  0  0  0  \n",
       "8692  0  0  1  0  0  0  \n",
       "\n",
       "[8590 rows x 25 columns]"
      ]
     },
     "execution_count": 13,
     "metadata": {},
     "output_type": "execute_result"
    }
   ],
   "source": [
    "data_scaled(data, col)"
   ]
  },
  {
   "cell_type": "markdown",
   "id": "ecaa013f",
   "metadata": {},
   "source": [
    "## 상관계수"
   ]
  },
  {
   "cell_type": "code",
   "execution_count": 14,
   "id": "38a328d3",
   "metadata": {
    "ExecuteTime": {
     "end_time": "2022-11-24T07:49:53.712865Z",
     "start_time": "2022-11-24T07:49:53.624119Z"
    }
   },
   "outputs": [
    {
     "data": {
      "text/plain": [
       "Transported      1.000000\n",
       "CryoSleep        0.460021\n",
       "Europa           0.180744\n",
       "B                0.145726\n",
       "C                0.109910\n",
       "55 Cancri e      0.106853\n",
       "Mars             0.021006\n",
       "G                0.014997\n",
       "A               -0.000215\n",
       "PSO J318.5-22   -0.001317\n",
       "T               -0.014694\n",
       "D               -0.034417\n",
       "VIP             -0.042770\n",
       "Cabin2          -0.048462\n",
       "Age             -0.070738\n",
       "F               -0.090295\n",
       "TRAPPIST-1e     -0.093785\n",
       "E               -0.097682\n",
       "Cabin3          -0.103993\n",
       "Earth           -0.174332\n",
       "FoodCourt       -0.186012\n",
       "ShoppingMall    -0.227211\n",
       "VRDeck          -0.346649\n",
       "RoomService     -0.364049\n",
       "Spa             -0.366036\n",
       "dtype: float64"
      ]
     },
     "execution_count": 14,
     "metadata": {},
     "output_type": "execute_result"
    }
   ],
   "source": [
    "data.corrwith(data.Transported, method='spearman').sort_values(ascending=False)"
   ]
  },
  {
   "cell_type": "markdown",
   "id": "bc21b074",
   "metadata": {},
   "source": [
    "## 다중공선성"
   ]
  },
  {
   "cell_type": "markdown",
   "id": "03ebb4c2",
   "metadata": {},
   "source": [
    "### OLS(Ordinary Least Squares)"
   ]
  },
  {
   "cell_type": "code",
   "execution_count": 15,
   "id": "8aa7e9f4",
   "metadata": {
    "ExecuteTime": {
     "end_time": "2022-11-24T07:49:53.727825Z",
     "start_time": "2022-11-24T07:49:53.713862Z"
    }
   },
   "outputs": [
    {
     "data": {
      "text/plain": [
       "Index(['CryoSleep', 'Cabin2', 'Cabin3', 'Age', 'VIP', 'RoomService',\n",
       "       'FoodCourt', 'ShoppingMall', 'Spa', 'VRDeck', 'Transported', 'Earth',\n",
       "       'Europa', 'Mars', '55 Cancri e', 'PSO J318.5-22', 'TRAPPIST-1e', 'A',\n",
       "       'B', 'C', 'D', 'E', 'F', 'G', 'T'],\n",
       "      dtype='object')"
      ]
     },
     "execution_count": 15,
     "metadata": {},
     "output_type": "execute_result"
    }
   ],
   "source": [
    "data.columns"
   ]
  },
  {
   "cell_type": "code",
   "execution_count": 16,
   "id": "872ef90d",
   "metadata": {
    "ExecuteTime": {
     "end_time": "2022-11-24T07:49:53.742791Z",
     "start_time": "2022-11-24T07:49:53.728822Z"
    }
   },
   "outputs": [],
   "source": [
    "df = data.iloc[:,:]"
   ]
  },
  {
   "cell_type": "code",
   "execution_count": 17,
   "id": "f0c71d11",
   "metadata": {
    "ExecuteTime": {
     "end_time": "2022-11-24T07:49:53.757744Z",
     "start_time": "2022-11-24T07:49:53.743782Z"
    }
   },
   "outputs": [],
   "source": [
    "df['Transported'] = df.Transported.replace({True:1, False:0})"
   ]
  },
  {
   "cell_type": "code",
   "execution_count": 18,
   "id": "4b771b8f",
   "metadata": {
    "ExecuteTime": {
     "end_time": "2022-11-24T07:49:54.041985Z",
     "start_time": "2022-11-24T07:49:53.758743Z"
    }
   },
   "outputs": [
    {
     "data": {
      "text/html": [
       "<table class=\"simpletable\">\n",
       "<caption>OLS Regression Results</caption>\n",
       "<tr>\n",
       "  <th>Dep. Variable:</th>       <td>Transported</td>   <th>  R-squared:         </th> <td>   0.358</td>\n",
       "</tr>\n",
       "<tr>\n",
       "  <th>Model:</th>                   <td>OLS</td>       <th>  Adj. R-squared:    </th> <td>   0.357</td>\n",
       "</tr>\n",
       "<tr>\n",
       "  <th>Method:</th>             <td>Least Squares</td>  <th>  F-statistic:       </th> <td>   251.4</td>\n",
       "</tr>\n",
       "<tr>\n",
       "  <th>Date:</th>             <td>Thu, 24 Nov 2022</td> <th>  Prob (F-statistic):</th>  <td>  0.00</td> \n",
       "</tr>\n",
       "<tr>\n",
       "  <th>Time:</th>                 <td>16:49:54</td>     <th>  Log-Likelihood:    </th> <td> -4331.3</td>\n",
       "</tr>\n",
       "<tr>\n",
       "  <th>No. Observations:</th>      <td>  8590</td>      <th>  AIC:               </th> <td>   8703.</td>\n",
       "</tr>\n",
       "<tr>\n",
       "  <th>Df Residuals:</th>          <td>  8570</td>      <th>  BIC:               </th> <td>   8844.</td>\n",
       "</tr>\n",
       "<tr>\n",
       "  <th>Df Model:</th>              <td>    19</td>      <th>                     </th>     <td> </td>   \n",
       "</tr>\n",
       "<tr>\n",
       "  <th>Covariance Type:</th>      <td>nonrobust</td>    <th>                     </th>     <td> </td>   \n",
       "</tr>\n",
       "</table>\n",
       "<table class=\"simpletable\">\n",
       "<tr>\n",
       "          <td></td>             <th>coef</th>     <th>std err</th>      <th>t</th>      <th>P>|t|</th>  <th>[0.025</th>    <th>0.975]</th>  \n",
       "</tr>\n",
       "<tr>\n",
       "  <th>Intercept</th>         <td>    0.2974</td> <td>    0.017</td> <td>   17.474</td> <td> 0.000</td> <td>    0.264</td> <td>    0.331</td>\n",
       "</tr>\n",
       "<tr>\n",
       "  <th>CryoSleep[T.True]</th> <td>    0.3781</td> <td>    0.012</td> <td>   32.602</td> <td> 0.000</td> <td>    0.355</td> <td>    0.401</td>\n",
       "</tr>\n",
       "<tr>\n",
       "  <th>Cabin3[T.True]</th>    <td>   -0.0866</td> <td>    0.009</td> <td>   -9.986</td> <td> 0.000</td> <td>   -0.104</td> <td>   -0.070</td>\n",
       "</tr>\n",
       "<tr>\n",
       "  <th>VIP[T.True]</th>       <td>   -0.0469</td> <td>    0.029</td> <td>   -1.625</td> <td> 0.104</td> <td>   -0.104</td> <td>    0.010</td>\n",
       "</tr>\n",
       "<tr>\n",
       "  <th>Cabin2</th>            <td>    0.0164</td> <td>    0.006</td> <td>    2.917</td> <td> 0.004</td> <td>    0.005</td> <td>    0.027</td>\n",
       "</tr>\n",
       "<tr>\n",
       "  <th>Age</th>               <td>   -0.0350</td> <td>    0.005</td> <td>   -7.744</td> <td> 0.000</td> <td>   -0.044</td> <td>   -0.026</td>\n",
       "</tr>\n",
       "<tr>\n",
       "  <th>RoomService</th>       <td>   -0.0780</td> <td>    0.005</td> <td>  -16.619</td> <td> 0.000</td> <td>   -0.087</td> <td>   -0.069</td>\n",
       "</tr>\n",
       "<tr>\n",
       "  <th>FoodCourt</th>         <td>    0.0685</td> <td>    0.005</td> <td>   13.990</td> <td> 0.000</td> <td>    0.059</td> <td>    0.078</td>\n",
       "</tr>\n",
       "<tr>\n",
       "  <th>ShoppingMall</th>      <td>    0.0470</td> <td>    0.004</td> <td>   10.486</td> <td> 0.000</td> <td>    0.038</td> <td>    0.056</td>\n",
       "</tr>\n",
       "<tr>\n",
       "  <th>Spa</th>               <td>   -0.0979</td> <td>    0.005</td> <td>  -21.029</td> <td> 0.000</td> <td>   -0.107</td> <td>   -0.089</td>\n",
       "</tr>\n",
       "<tr>\n",
       "  <th>VRDeck</th>            <td>   -0.0942</td> <td>    0.005</td> <td>  -20.036</td> <td> 0.000</td> <td>   -0.103</td> <td>   -0.085</td>\n",
       "</tr>\n",
       "<tr>\n",
       "  <th>Earth</th>             <td>   -0.0232</td> <td>    0.014</td> <td>   -1.611</td> <td> 0.107</td> <td>   -0.051</td> <td>    0.005</td>\n",
       "</tr>\n",
       "<tr>\n",
       "  <th>Europa</th>            <td>    0.2362</td> <td>    0.018</td> <td>   13.129</td> <td> 0.000</td> <td>    0.201</td> <td>    0.271</td>\n",
       "</tr>\n",
       "<tr>\n",
       "  <th>Mars</th>              <td>    0.0843</td> <td>    0.013</td> <td>    6.308</td> <td> 0.000</td> <td>    0.058</td> <td>    0.111</td>\n",
       "</tr>\n",
       "<tr>\n",
       "  <th>A</th>                 <td>   -0.0220</td> <td>    0.033</td> <td>   -0.669</td> <td> 0.503</td> <td>   -0.087</td> <td>    0.042</td>\n",
       "</tr>\n",
       "<tr>\n",
       "  <th>B</th>                 <td>    0.0898</td> <td>    0.027</td> <td>    3.279</td> <td> 0.001</td> <td>    0.036</td> <td>    0.143</td>\n",
       "</tr>\n",
       "<tr>\n",
       "  <th>C</th>                 <td>    0.1232</td> <td>    0.028</td> <td>    4.475</td> <td> 0.000</td> <td>    0.069</td> <td>    0.177</td>\n",
       "</tr>\n",
       "<tr>\n",
       "  <th>D</th>                 <td>    0.0339</td> <td>    0.027</td> <td>    1.247</td> <td> 0.212</td> <td>   -0.019</td> <td>    0.087</td>\n",
       "</tr>\n",
       "<tr>\n",
       "  <th>E</th>                 <td>   -0.0085</td> <td>    0.026</td> <td>   -0.322</td> <td> 0.748</td> <td>   -0.060</td> <td>    0.043</td>\n",
       "</tr>\n",
       "<tr>\n",
       "  <th>F</th>                 <td>    0.0726</td> <td>    0.027</td> <td>    2.656</td> <td> 0.008</td> <td>    0.019</td> <td>    0.126</td>\n",
       "</tr>\n",
       "<tr>\n",
       "  <th>G</th>                 <td>    0.0383</td> <td>    0.029</td> <td>    1.331</td> <td> 0.183</td> <td>   -0.018</td> <td>    0.095</td>\n",
       "</tr>\n",
       "<tr>\n",
       "  <th>T</th>                 <td>   -0.0299</td> <td>    0.160</td> <td>   -0.187</td> <td> 0.851</td> <td>   -0.343</td> <td>    0.283</td>\n",
       "</tr>\n",
       "</table>\n",
       "<table class=\"simpletable\">\n",
       "<tr>\n",
       "  <th>Omnibus:</th>       <td>597.313</td> <th>  Durbin-Watson:     </th> <td>   1.944</td>\n",
       "</tr>\n",
       "<tr>\n",
       "  <th>Prob(Omnibus):</th> <td> 0.000</td>  <th>  Jarque-Bera (JB):  </th> <td> 240.163</td>\n",
       "</tr>\n",
       "<tr>\n",
       "  <th>Skew:</th>          <td> 0.172</td>  <th>  Prob(JB):          </th> <td>7.07e-53</td>\n",
       "</tr>\n",
       "<tr>\n",
       "  <th>Kurtosis:</th>      <td> 2.257</td>  <th>  Cond. No.          </th> <td>1.67e+16</td>\n",
       "</tr>\n",
       "</table><br/><br/>Notes:<br/>[1] Standard Errors assume that the covariance matrix of the errors is correctly specified.<br/>[2] The smallest eigenvalue is 6.65e-29. This might indicate that there are<br/>strong multicollinearity problems or that the design matrix is singular."
      ],
      "text/plain": [
       "<class 'statsmodels.iolib.summary.Summary'>\n",
       "\"\"\"\n",
       "                            OLS Regression Results                            \n",
       "==============================================================================\n",
       "Dep. Variable:            Transported   R-squared:                       0.358\n",
       "Model:                            OLS   Adj. R-squared:                  0.357\n",
       "Method:                 Least Squares   F-statistic:                     251.4\n",
       "Date:                Thu, 24 Nov 2022   Prob (F-statistic):               0.00\n",
       "Time:                        16:49:54   Log-Likelihood:                -4331.3\n",
       "No. Observations:                8590   AIC:                             8703.\n",
       "Df Residuals:                    8570   BIC:                             8844.\n",
       "Df Model:                          19                                         \n",
       "Covariance Type:            nonrobust                                         \n",
       "=====================================================================================\n",
       "                        coef    std err          t      P>|t|      [0.025      0.975]\n",
       "-------------------------------------------------------------------------------------\n",
       "Intercept             0.2974      0.017     17.474      0.000       0.264       0.331\n",
       "CryoSleep[T.True]     0.3781      0.012     32.602      0.000       0.355       0.401\n",
       "Cabin3[T.True]       -0.0866      0.009     -9.986      0.000      -0.104      -0.070\n",
       "VIP[T.True]          -0.0469      0.029     -1.625      0.104      -0.104       0.010\n",
       "Cabin2                0.0164      0.006      2.917      0.004       0.005       0.027\n",
       "Age                  -0.0350      0.005     -7.744      0.000      -0.044      -0.026\n",
       "RoomService          -0.0780      0.005    -16.619      0.000      -0.087      -0.069\n",
       "FoodCourt             0.0685      0.005     13.990      0.000       0.059       0.078\n",
       "ShoppingMall          0.0470      0.004     10.486      0.000       0.038       0.056\n",
       "Spa                  -0.0979      0.005    -21.029      0.000      -0.107      -0.089\n",
       "VRDeck               -0.0942      0.005    -20.036      0.000      -0.103      -0.085\n",
       "Earth                -0.0232      0.014     -1.611      0.107      -0.051       0.005\n",
       "Europa                0.2362      0.018     13.129      0.000       0.201       0.271\n",
       "Mars                  0.0843      0.013      6.308      0.000       0.058       0.111\n",
       "A                    -0.0220      0.033     -0.669      0.503      -0.087       0.042\n",
       "B                     0.0898      0.027      3.279      0.001       0.036       0.143\n",
       "C                     0.1232      0.028      4.475      0.000       0.069       0.177\n",
       "D                     0.0339      0.027      1.247      0.212      -0.019       0.087\n",
       "E                    -0.0085      0.026     -0.322      0.748      -0.060       0.043\n",
       "F                     0.0726      0.027      2.656      0.008       0.019       0.126\n",
       "G                     0.0383      0.029      1.331      0.183      -0.018       0.095\n",
       "T                    -0.0299      0.160     -0.187      0.851      -0.343       0.283\n",
       "==============================================================================\n",
       "Omnibus:                      597.313   Durbin-Watson:                   1.944\n",
       "Prob(Omnibus):                  0.000   Jarque-Bera (JB):              240.163\n",
       "Skew:                           0.172   Prob(JB):                     7.07e-53\n",
       "Kurtosis:                       2.257   Cond. No.                     1.67e+16\n",
       "==============================================================================\n",
       "\n",
       "Notes:\n",
       "[1] Standard Errors assume that the covariance matrix of the errors is correctly specified.\n",
       "[2] The smallest eigenvalue is 6.65e-29. This might indicate that there are\n",
       "strong multicollinearity problems or that the design matrix is singular.\n",
       "\"\"\""
      ]
     },
     "execution_count": 18,
     "metadata": {},
     "output_type": "execute_result"
    }
   ],
   "source": [
    "from statsmodels.formula.api import ols\n",
    "\n",
    "X = df.drop('Transported', axis=1)\n",
    "y = df.Transported\n",
    "\n",
    "model = ols('Transported ~ CryoSleep + Cabin2 + Cabin3 + Age + VIP + RoomService + FoodCourt +\\\n",
    "ShoppingMall + Spa + VRDeck + Earth + Europa + Mars + A + B + C + D + E + F + G + T', df)\n",
    "\n",
    "res = model.fit()\n",
    "\n",
    "res.summary()"
   ]
  },
  {
   "cell_type": "code",
   "execution_count": 19,
   "id": "bd565232",
   "metadata": {
    "ExecuteTime": {
     "end_time": "2022-11-24T07:49:54.056944Z",
     "start_time": "2022-11-24T07:49:54.042981Z"
    }
   },
   "outputs": [
    {
     "data": {
      "text/plain": [
       "['Intercept',\n",
       " 'CryoSleep[T.True]',\n",
       " 'Cabin3[T.True]',\n",
       " 'VIP[T.True]',\n",
       " 'Cabin2',\n",
       " 'Age',\n",
       " 'RoomService',\n",
       " 'FoodCourt',\n",
       " 'ShoppingMall',\n",
       " 'Spa',\n",
       " 'VRDeck',\n",
       " 'Earth',\n",
       " 'Europa',\n",
       " 'Mars',\n",
       " 'A',\n",
       " 'B',\n",
       " 'C',\n",
       " 'D',\n",
       " 'E',\n",
       " 'F',\n",
       " 'G',\n",
       " 'T']"
      ]
     },
     "execution_count": 19,
     "metadata": {},
     "output_type": "execute_result"
    }
   ],
   "source": [
    "model.exog_names"
   ]
  },
  {
   "cell_type": "code",
   "execution_count": 20,
   "id": "6f788a51",
   "metadata": {
    "ExecuteTime": {
     "end_time": "2022-11-24T07:49:54.206544Z",
     "start_time": "2022-11-24T07:49:54.057943Z"
    }
   },
   "outputs": [
    {
     "data": {
      "text/html": [
       "<div>\n",
       "<style scoped>\n",
       "    .dataframe tbody tr th:only-of-type {\n",
       "        vertical-align: middle;\n",
       "    }\n",
       "\n",
       "    .dataframe tbody tr th {\n",
       "        vertical-align: top;\n",
       "    }\n",
       "\n",
       "    .dataframe thead th {\n",
       "        text-align: right;\n",
       "    }\n",
       "</style>\n",
       "<table border=\"1\" class=\"dataframe\">\n",
       "  <thead>\n",
       "    <tr style=\"text-align: right;\">\n",
       "      <th></th>\n",
       "      <th>컬럼</th>\n",
       "      <th>VIF</th>\n",
       "    </tr>\n",
       "  </thead>\n",
       "  <tbody>\n",
       "    <tr>\n",
       "      <th>0</th>\n",
       "      <td>CryoSleep[T.True]</td>\n",
       "      <td>1.631634</td>\n",
       "    </tr>\n",
       "    <tr>\n",
       "      <th>1</th>\n",
       "      <td>Cabin3[T.True]</td>\n",
       "      <td>1.003878</td>\n",
       "    </tr>\n",
       "    <tr>\n",
       "      <th>2</th>\n",
       "      <td>VIP[T.True]</td>\n",
       "      <td>1.068126</td>\n",
       "    </tr>\n",
       "    <tr>\n",
       "      <th>3</th>\n",
       "      <td>Cabin2</td>\n",
       "      <td>1.681615</td>\n",
       "    </tr>\n",
       "    <tr>\n",
       "      <th>4</th>\n",
       "      <td>Age</td>\n",
       "      <td>1.089588</td>\n",
       "    </tr>\n",
       "    <tr>\n",
       "      <th>5</th>\n",
       "      <td>RoomService</td>\n",
       "      <td>1.175189</td>\n",
       "    </tr>\n",
       "    <tr>\n",
       "      <th>6</th>\n",
       "      <td>FoodCourt</td>\n",
       "      <td>1.278511</td>\n",
       "    </tr>\n",
       "    <tr>\n",
       "      <th>7</th>\n",
       "      <td>ShoppingMall</td>\n",
       "      <td>1.073501</td>\n",
       "    </tr>\n",
       "    <tr>\n",
       "      <th>8</th>\n",
       "      <td>Spa</td>\n",
       "      <td>1.157895</td>\n",
       "    </tr>\n",
       "    <tr>\n",
       "      <th>9</th>\n",
       "      <td>VRDeck</td>\n",
       "      <td>1.178994</td>\n",
       "    </tr>\n",
       "    <tr>\n",
       "      <th>10</th>\n",
       "      <td>Earth</td>\n",
       "      <td>inf</td>\n",
       "    </tr>\n",
       "    <tr>\n",
       "      <th>11</th>\n",
       "      <td>Europa</td>\n",
       "      <td>inf</td>\n",
       "    </tr>\n",
       "    <tr>\n",
       "      <th>12</th>\n",
       "      <td>Mars</td>\n",
       "      <td>inf</td>\n",
       "    </tr>\n",
       "    <tr>\n",
       "      <th>13</th>\n",
       "      <td>A</td>\n",
       "      <td>inf</td>\n",
       "    </tr>\n",
       "    <tr>\n",
       "      <th>14</th>\n",
       "      <td>B</td>\n",
       "      <td>inf</td>\n",
       "    </tr>\n",
       "    <tr>\n",
       "      <th>15</th>\n",
       "      <td>C</td>\n",
       "      <td>inf</td>\n",
       "    </tr>\n",
       "    <tr>\n",
       "      <th>16</th>\n",
       "      <td>D</td>\n",
       "      <td>inf</td>\n",
       "    </tr>\n",
       "    <tr>\n",
       "      <th>17</th>\n",
       "      <td>E</td>\n",
       "      <td>inf</td>\n",
       "    </tr>\n",
       "    <tr>\n",
       "      <th>18</th>\n",
       "      <td>F</td>\n",
       "      <td>inf</td>\n",
       "    </tr>\n",
       "    <tr>\n",
       "      <th>19</th>\n",
       "      <td>G</td>\n",
       "      <td>inf</td>\n",
       "    </tr>\n",
       "    <tr>\n",
       "      <th>20</th>\n",
       "      <td>T</td>\n",
       "      <td>inf</td>\n",
       "    </tr>\n",
       "  </tbody>\n",
       "</table>\n",
       "</div>"
      ],
      "text/plain": [
       "                   컬럼       VIF\n",
       "0   CryoSleep[T.True]  1.631634\n",
       "1      Cabin3[T.True]  1.003878\n",
       "2         VIP[T.True]  1.068126\n",
       "3              Cabin2  1.681615\n",
       "4                 Age  1.089588\n",
       "5         RoomService  1.175189\n",
       "6           FoodCourt  1.278511\n",
       "7        ShoppingMall  1.073501\n",
       "8                 Spa  1.157895\n",
       "9              VRDeck  1.178994\n",
       "10              Earth       inf\n",
       "11             Europa       inf\n",
       "12               Mars       inf\n",
       "13                  A       inf\n",
       "14                  B       inf\n",
       "15                  C       inf\n",
       "16                  D       inf\n",
       "17                  E       inf\n",
       "18                  F       inf\n",
       "19                  G       inf\n",
       "20                  T       inf"
      ]
     },
     "execution_count": 20,
     "metadata": {},
     "output_type": "execute_result"
    }
   ],
   "source": [
    "from statsmodels.stats.outliers_influence import variance_inflation_factor\n",
    "\n",
    "pd.DataFrame({'컬럼': column, 'VIF': variance_inflation_factor(model.exog, i)} \n",
    "             for i, column in enumerate(model.exog_names)\n",
    "             if column != 'Intercept')  # 절편의 VIF는 구하지 않는다."
   ]
  },
  {
   "cell_type": "code",
   "execution_count": 21,
   "id": "97752bdf",
   "metadata": {
    "ExecuteTime": {
     "end_time": "2022-11-24T07:49:54.221505Z",
     "start_time": "2022-11-24T07:49:54.207542Z"
    }
   },
   "outputs": [
    {
     "data": {
      "text/plain": [
       "1    4333\n",
       "0    4257\n",
       "Name: Transported, dtype: int64"
      ]
     },
     "execution_count": 21,
     "metadata": {},
     "output_type": "execute_result"
    }
   ],
   "source": [
    "data.Transported.value_counts()"
   ]
  },
  {
   "cell_type": "code",
   "execution_count": 22,
   "id": "608a8fd9",
   "metadata": {
    "ExecuteTime": {
     "end_time": "2022-11-24T07:49:54.236464Z",
     "start_time": "2022-11-24T07:49:54.222502Z"
    }
   },
   "outputs": [],
   "source": [
    "def get_category(age):\n",
    "    cat = ''\n",
    "    if age <= -1: cat = 'Unknown'\n",
    "    elif age <= 5: cat = 'Baby'\n",
    "    elif age <= 12: cat = 'Child'\n",
    "    elif age <= 18: cat = 'Teenager'\n",
    "    elif age <= 25: cat = 'Student'\n",
    "    elif age <= 35: cat = 'Young Adult'\n",
    "    elif age <= 60: cat = 'Adult'\n",
    "    else : cat = 'Elderly'\n",
    "    \n",
    "    return cat"
   ]
  },
  {
   "cell_type": "code",
   "execution_count": 23,
   "id": "c2b85331",
   "metadata": {
    "ExecuteTime": {
     "end_time": "2022-11-24T07:49:54.685480Z",
     "start_time": "2022-11-24T07:49:54.237462Z"
    },
    "scrolled": false
   },
   "outputs": [
    {
     "data": {
      "image/png": "[encoded data removed]",
      "text/plain": [
       "<Figure size 720x432 with 1 Axes>"
      ]
     },
     "metadata": {},
     "output_type": "display_data"
    }
   ],
   "source": [
    "plt. figure(figsize=(10, 6))\n",
    "\n",
    "group_names = ['Unknown', 'Baby', 'Child', 'Teenager', 'Student', 'Young Adult', 'Adult', 'Elderly']\n",
    "data['Age_cat'] = data['Age'].apply(lambda x : get_category(x))\n",
    "sns.barplot(x='Age_cat', y='Transported', hue='CryoSleep', data=data, order=group_names)\n",
    "data.drop('Age_cat', axis=1, inplace=True)"
   ]
  },
  {
   "cell_type": "markdown",
   "id": "b14f39cd",
   "metadata": {},
   "source": []
  },
  {
   "cell_type": "code",
   "execution_count": 24,
   "id": "0424287e",
   "metadata": {
    "ExecuteTime": {
     "end_time": "2022-11-24T07:49:54.700240Z",
     "start_time": "2022-11-24T07:49:54.687261Z"
    }
   },
   "outputs": [],
   "source": [
    "X_train, X_test, y_train, y_test = train_test_split(df.drop(['Transported'], axis=1),\n",
    "                                                    df.Transported, random_state=109)\n",
    "X_train, X_val, y_train, y_val = train_test_split(X_train, y_train)"
   ]
  },
  {
   "cell_type": "code",
   "execution_count": 25,
   "id": "97bfba99",
   "metadata": {
    "ExecuteTime": {
     "end_time": "2022-11-24T07:49:54.715185Z",
     "start_time": "2022-11-24T07:49:54.701222Z"
    }
   },
   "outputs": [
    {
     "data": {
      "text/plain": [
       "(4831, 24)"
      ]
     },
     "execution_count": 25,
     "metadata": {},
     "output_type": "execute_result"
    }
   ],
   "source": [
    "X_train.shape"
   ]
  },
  {
   "cell_type": "code",
   "execution_count": 26,
   "id": "3456a6ce",
   "metadata": {
    "ExecuteTime": {
     "end_time": "2022-11-24T07:49:54.730618Z",
     "start_time": "2022-11-24T07:49:54.716183Z"
    }
   },
   "outputs": [
    {
     "data": {
      "text/plain": [
       "(4831,)"
      ]
     },
     "execution_count": 26,
     "metadata": {},
     "output_type": "execute_result"
    }
   ],
   "source": [
    "y_train.shape"
   ]
  },
  {
   "cell_type": "code",
   "execution_count": 27,
   "id": "7d59686f",
   "metadata": {
    "ExecuteTime": {
     "end_time": "2022-11-24T07:49:54.745580Z",
     "start_time": "2022-11-24T07:49:54.732613Z"
    }
   },
   "outputs": [
    {
     "data": {
      "text/plain": [
       "1    2464\n",
       "0    2367\n",
       "Name: Transported, dtype: int64"
      ]
     },
     "execution_count": 27,
     "metadata": {},
     "output_type": "execute_result"
    }
   ],
   "source": [
    "y_train.value_counts()"
   ]
  },
  {
   "cell_type": "code",
   "execution_count": 28,
   "id": "c9075eff",
   "metadata": {
    "ExecuteTime": {
     "end_time": "2022-11-24T07:49:54.760538Z",
     "start_time": "2022-11-24T07:49:54.750565Z"
    }
   },
   "outputs": [],
   "source": [
    "# xgb_search_space = {'max_depth': hp.quniform('max_depth', 5, 15, 1),\n",
    "#                    'min_child_weight': hp.quniform('min_child_weight', 1, 20, 1),\n",
    "#                    'colsample_bytree': hp.uniform('colsample_bytree', 0.5, 0.95),\n",
    "#                    'learning_rate': hp.uniform('learning_rate', 0.01, 0.4),\n",
    "#                    'gamma': hp.uniform('gamma', 0, 4)}"
   ]
  },
  {
   "cell_type": "code",
   "execution_count": 29,
   "id": "51421a14",
   "metadata": {
    "ExecuteTime": {
     "end_time": "2022-11-24T07:49:54.775699Z",
     "start_time": "2022-11-24T07:49:54.761536Z"
    }
   },
   "outputs": [],
   "source": [
    "# fmin()에서 호출 시 search_space 값으로 XGBClassifier 교차 검증 학습 후 -1 * roc_auc 평균 값을 반환\n",
    "def bin_objective_func(search_space):\n",
    "    xgb_clf = xgb.XGBClassifier(n_estimators=100,max_depth=int(search_space['max_depth']),\n",
    "                            min_child_weight=int(search_space['min_child_weight']),\n",
    "                            colsample_bytree=search_space['colsample_bytree'],\n",
    "                            learning_rate=search_space['learning_rate'],\n",
    "                            gamma=search_space['gamma'])\n",
    "    \n",
    "    # 3개 k-fold 방식으로 평가된 roc_auc 지표를 담는 list\n",
    "    roc_auc_list = []\n",
    "    \n",
    "    # 3개 k-fold 방식 적용\n",
    "    kf = KFold(n_splits=3)\n",
    "    \n",
    "    # X_train을 다시 학습과 검증용 데이터로 분리\n",
    "    for tr_index, val_index in kf.split(X_train):\n",
    "        # kf.split(X_train)으로 추출된 학습과 검증 index 값으로 학습과 검증 데이터 세트 분리\n",
    "        X_tr, y_tr = X_train.iloc[tr_index], y_train.iloc[tr_index]\n",
    "        X_val, y_val = X_train.iloc[val_index], y_train.iloc[val_index]\n",
    "        \n",
    "        # early stopping은 30회로 설정하고 추출된 학습과 검증 데이터로 XGBClassifier 학습 수행\n",
    "        xgb_clf.fit(X_tr, y_tr, early_stopping_rounds=30, eval_metric=\"auc\",\n",
    "                   eval_set=[(X_tr, y_tr), (X_val, y_val)])\n",
    "        \n",
    "        # 1로 예측한 확률값 추출 후 roc auc 계산하고 평균 roc auc 계산을 위해 list에 결과값 담음.\n",
    "        score = roc_auc_score(y_val, xgb_clf.predict_proba(X_val)[:,1])\n",
    "        roc_auc_list.append(score)\n",
    "        \n",
    "    # 3개 k-fold로 계산된 roc_auc 값의 평균값을 반환하되,\n",
    "    # HyperOPT는 목적함수의 최솟값을 위한 입력값을 찾으므로 -1을 곱한 뒤 반환\n",
    "    return -1*np.mean(roc_auc_list)"
   ]
  },
  {
   "cell_type": "code",
   "execution_count": 30,
   "id": "474d8873",
   "metadata": {
    "ExecuteTime": {
     "end_time": "2022-11-24T07:49:54.790822Z",
     "start_time": "2022-11-24T07:49:54.776533Z"
    }
   },
   "outputs": [],
   "source": [
    "# trials = Trials()\n",
    "\n",
    "# # fmin() 함수를 호출. max_evals 지정된 횟수만큼 반복 후 목적함수의 최솟값을 가지는 최적 입력값 추출\n",
    "# best = fmin(fn=bin_objective_func,\n",
    "#            space=xgb_search_space,\n",
    "#            algo=tpe.suggest,\n",
    "#            max_evals=50, # 최대 반복 횟수를 지정합니다\n",
    "#            trials=trials, rstate=np.random.default_rng(seed=109))\n",
    "\n",
    "# print('best:', best)"
   ]
  },
  {
   "cell_type": "code",
   "execution_count": 31,
   "id": "bedd7ce9",
   "metadata": {
    "ExecuteTime": {
     "end_time": "2022-11-24T07:49:55.120937Z",
     "start_time": "2022-11-24T07:49:54.791819Z"
    }
   },
   "outputs": [
    {
     "data": {
      "text/html": [
       "<style>#sk-container-id-1 {color: black;background-color: white;}#sk-container-id-1 pre{padding: 0;}#sk-container-id-1 div.sk-toggleable {background-color: white;}#sk-container-id-1 label.sk-toggleable__label {cursor: pointer;display: block;width: 100%;margin-bottom: 0;padding: 0.3em;box-sizing: border-box;text-align: center;}#sk-container-id-1 label.sk-toggleable__label-arrow:before {content: \"▸\";float: left;margin-right: 0.25em;color: #696969;}#sk-container-id-1 label.sk-toggleable__label-arrow:hover:before {color: black;}#sk-container-id-1 div.sk-estimator:hover label.sk-toggleable__label-arrow:before {color: black;}#sk-container-id-1 div.sk-toggleable__content {max-height: 0;max-width: 0;overflow: hidden;text-align: left;background-color: #f0f8ff;}#sk-container-id-1 div.sk-toggleable__content pre {margin: 0.2em;color: black;border-radius: 0.25em;background-color: #f0f8ff;}#sk-container-id-1 input.sk-toggleable__control:checked~div.sk-toggleable__content {max-height: 200px;max-width: 100%;overflow: auto;}#sk-container-id-1 input.sk-toggleable__control:checked~label.sk-toggleable__label-arrow:before {content: \"▾\";}#sk-container-id-1 div.sk-estimator input.sk-toggleable__control:checked~label.sk-toggleable__label {background-color: #d4ebff;}#sk-container-id-1 div.sk-label input.sk-toggleable__control:checked~label.sk-toggleable__label {background-color: #d4ebff;}#sk-container-id-1 input.sk-hidden--visually {border: 0;clip: rect(1px 1px 1px 1px);clip: rect(1px, 1px, 1px, 1px);height: 1px;margin: -1px;overflow: hidden;padding: 0;position: absolute;width: 1px;}#sk-container-id-1 div.sk-estimator {font-family: monospace;background-color: #f0f8ff;border: 1px dotted black;border-radius: 0.25em;box-sizing: border-box;margin-bottom: 0.5em;}#sk-container-id-1 div.sk-estimator:hover {background-color: #d4ebff;}#sk-container-id-1 div.sk-parallel-item::after {content: \"\";width: 100%;border-bottom: 1px solid gray;flex-grow: 1;}#sk-container-id-1 div.sk-label:hover label.sk-toggleable__label {background-color: #d4ebff;}#sk-container-id-1 div.sk-serial::before {content: \"\";position: absolute;border-left: 1px solid gray;box-sizing: border-box;top: 0;bottom: 0;left: 50%;z-index: 0;}#sk-container-id-1 div.sk-serial {display: flex;flex-direction: column;align-items: center;background-color: white;padding-right: 0.2em;padding-left: 0.2em;position: relative;}#sk-container-id-1 div.sk-item {position: relative;z-index: 1;}#sk-container-id-1 div.sk-parallel {display: flex;align-items: stretch;justify-content: center;background-color: white;position: relative;}#sk-container-id-1 div.sk-item::before, #sk-container-id-1 div.sk-parallel-item::before {content: \"\";position: absolute;border-left: 1px solid gray;box-sizing: border-box;top: 0;bottom: 0;left: 50%;z-index: -1;}#sk-container-id-1 div.sk-parallel-item {display: flex;flex-direction: column;z-index: 1;position: relative;background-color: white;}#sk-container-id-1 div.sk-parallel-item:first-child::after {align-self: flex-end;width: 50%;}#sk-container-id-1 div.sk-parallel-item:last-child::after {align-self: flex-start;width: 50%;}#sk-container-id-1 div.sk-parallel-item:only-child::after {width: 0;}#sk-container-id-1 div.sk-dashed-wrapped {border: 1px dashed gray;margin: 0 0.4em 0.5em 0.4em;box-sizing: border-box;padding-bottom: 0.4em;background-color: white;}#sk-container-id-1 div.sk-label label {font-family: monospace;font-weight: bold;display: inline-block;line-height: 1.2em;}#sk-container-id-1 div.sk-label-container {text-align: center;}#sk-container-id-1 div.sk-container {/* jupyter's `normalize.less` sets `[hidden] { display: none; }` but bootstrap.min.css set `[hidden] { display: none !important; }` so we also need the `!important` here to be able to override the default hidden behavior on the sphinx rendered scikit-learn.org. See: https://github.com/scikit-learn/scikit-learn/issues/21755 */display: inline-block !important;position: relative;}#sk-container-id-1 div.sk-text-repr-fallback {display: none;}</style><div id=\"sk-container-id-1\" class=\"sk-top-container\"><div class=\"sk-text-repr-fallback\"><pre>XGBClassifier(base_score=0.5, booster=&#x27;gbtree&#x27;, callbacks=None,\n",
       "              colsample_bylevel=1, colsample_bynode=1,\n",
       "              colsample_bytree=0.708890925020427, early_stopping_rounds=None,\n",
       "              enable_categorical=False, eval_metric=None, feature_types=None,\n",
       "              gamma=2.039476183481736, gpu_id=-1, grow_policy=&#x27;depthwise&#x27;,\n",
       "              importance_type=None, interaction_constraints=&#x27;&#x27;,\n",
       "              learning_rate=0.16202345555142844, max_bin=256,\n",
       "              max_cat_threshold=64, max_cat_to_onehot=4, max_delta_step=0,\n",
       "              max_depth=10, max_leaves=0, min_child_weight=6, missing=nan,\n",
       "              monotone_constraints=&#x27;()&#x27;, n_estimators=100, n_jobs=0,\n",
       "              num_parallel_tree=1, predictor=&#x27;auto&#x27;, random_state=109, ...)</pre><b>In a Jupyter environment, please rerun this cell to show the HTML representation or trust the notebook. <br />On GitHub, the HTML representation is unable to render, please try loading this page with nbviewer.org.</b></div><div class=\"sk-container\" hidden><div class=\"sk-item\"><div class=\"sk-estimator sk-toggleable\"><input class=\"sk-toggleable__control sk-hidden--visually\" id=\"sk-estimator-id-1\" type=\"checkbox\" checked><label for=\"sk-estimator-id-1\" class=\"sk-toggleable__label sk-toggleable__label-arrow\">XGBClassifier</label><div class=\"sk-toggleable__content\"><pre>XGBClassifier(base_score=0.5, booster=&#x27;gbtree&#x27;, callbacks=None,\n",
       "              colsample_bylevel=1, colsample_bynode=1,\n",
       "              colsample_bytree=0.708890925020427, early_stopping_rounds=None,\n",
       "              enable_categorical=False, eval_metric=None, feature_types=None,\n",
       "              gamma=2.039476183481736, gpu_id=-1, grow_policy=&#x27;depthwise&#x27;,\n",
       "              importance_type=None, interaction_constraints=&#x27;&#x27;,\n",
       "              learning_rate=0.16202345555142844, max_bin=256,\n",
       "              max_cat_threshold=64, max_cat_to_onehot=4, max_delta_step=0,\n",
       "              max_depth=10, max_leaves=0, min_child_weight=6, missing=nan,\n",
       "              monotone_constraints=&#x27;()&#x27;, n_estimators=100, n_jobs=0,\n",
       "              num_parallel_tree=1, predictor=&#x27;auto&#x27;, random_state=109, ...)</pre></div></div></div></div></div>"
      ],
      "text/plain": [
       "XGBClassifier(base_score=0.5, booster='gbtree', callbacks=None,\n",
       "              colsample_bylevel=1, colsample_bynode=1,\n",
       "              colsample_bytree=0.708890925020427, early_stopping_rounds=None,\n",
       "              enable_categorical=False, eval_metric=None, feature_types=None,\n",
       "              gamma=2.039476183481736, gpu_id=-1, grow_policy='depthwise',\n",
       "              importance_type=None, interaction_constraints='',\n",
       "              learning_rate=0.16202345555142844, max_bin=256,\n",
       "              max_cat_threshold=64, max_cat_to_onehot=4, max_delta_step=0,\n",
       "              max_depth=10, max_leaves=0, min_child_weight=6, missing=nan,\n",
       "              monotone_constraints='()', n_estimators=100, n_jobs=0,\n",
       "              num_parallel_tree=1, predictor='auto', random_state=109, ...)"
      ]
     },
     "execution_count": 31,
     "metadata": {},
     "output_type": "execute_result"
    }
   ],
   "source": [
    "xgbo = xgb.XGBClassifier(colsample_bytree=0.708890925020427, gamma=2.039476183481736,\n",
    "                         learning_rate=0.16202345555142844,\n",
    "                         max_depth=10, min_child_weight=6, n_estimators=100,\n",
    "                         random_state=109)\n",
    "xgbo.fit(X_train, y_train)"
   ]
  },
  {
   "cell_type": "code",
   "execution_count": 32,
   "id": "7bc70314",
   "metadata": {
    "ExecuteTime": {
     "end_time": "2022-11-24T07:49:55.135898Z",
     "start_time": "2022-11-24T07:49:55.121935Z"
    }
   },
   "outputs": [],
   "source": [
    "# 평가용 함수\n",
    "def  get_clf_eval(y_test, pred=None, pred_proba=None):\n",
    "    confusion = confusion_matrix(y_test, pred)\n",
    "    accuracy = accuracy_score(y_test, pred)\n",
    "    precision = precision_score(y_test, pred)\n",
    "    recall = recall_score(y_test, pred)\n",
    "    f1 = f1_score(y_test, pred)\n",
    "#     roc_auc = roc_auc_score(y_test, pred_proba)\n",
    "    \n",
    "    print('오차 행렬')\n",
    "    print(confusion)\n",
    " \n",
    "    print('정확도: {0:.4f}, 정밀도: {1:.4f}, \\\n",
    "    재현율: {2:.4f}, F1: {3:.4f}'.format(accuracy, precision, recall, f1))"
   ]
  },
  {
   "cell_type": "code",
   "execution_count": 33,
   "id": "276a650b",
   "metadata": {
    "ExecuteTime": {
     "end_time": "2022-11-24T07:49:55.196734Z",
     "start_time": "2022-11-24T07:49:55.136895Z"
    }
   },
   "outputs": [],
   "source": [
    "train_pred = xgbo.predict(X_train)\n",
    "train_proba = xgbo.predict_proba(X_train)\n",
    "\n",
    "test_pred = xgbo.predict(X_test)\n",
    "test_proba = xgbo.predict_proba(X_test)\n",
    "\n",
    "val_pred = xgbo.predict(X_val)\n",
    "val_proba = xgbo.predict_proba(X_val)"
   ]
  },
  {
   "cell_type": "code",
   "execution_count": 34,
   "id": "abb4f828",
   "metadata": {
    "ExecuteTime": {
     "end_time": "2022-11-24T07:49:55.211695Z",
     "start_time": "2022-11-24T07:49:55.197732Z"
    }
   },
   "outputs": [
    {
     "name": "stdout",
     "output_type": "stream",
     "text": [
      "오차 행렬\n",
      "[[2109  258]\n",
      " [ 252 2212]]\n",
      "정확도: 0.8944, 정밀도: 0.8955,     재현율: 0.8977, F1: 0.8966\n"
     ]
    }
   ],
   "source": [
    "get_clf_eval(y_train, train_pred, train_proba)"
   ]
  },
  {
   "cell_type": "code",
   "execution_count": 35,
   "id": "89d3492b",
   "metadata": {
    "ExecuteTime": {
     "end_time": "2022-11-24T07:49:55.226655Z",
     "start_time": "2022-11-24T07:49:55.212693Z"
    },
    "scrolled": true
   },
   "outputs": [
    {
     "name": "stdout",
     "output_type": "stream",
     "text": [
      "오차 행렬\n",
      "[[849 218]\n",
      " [218 863]]\n",
      "정확도: 0.7970, 정밀도: 0.7983,     재현율: 0.7983, F1: 0.7983\n"
     ]
    }
   ],
   "source": [
    "get_clf_eval(y_test, test_pred, test_proba)"
   ]
  },
  {
   "cell_type": "code",
   "execution_count": 36,
   "id": "936a45f5",
   "metadata": {
    "ExecuteTime": {
     "end_time": "2022-11-24T07:49:55.241615Z",
     "start_time": "2022-11-24T07:49:55.227652Z"
    }
   },
   "outputs": [
    {
     "name": "stdout",
     "output_type": "stream",
     "text": [
      "오차 행렬\n",
      "[[667 156]\n",
      " [155 633]]\n",
      "정확도: 0.8070, 정밀도: 0.8023,     재현율: 0.8033, F1: 0.8028\n"
     ]
    }
   ],
   "source": [
    "get_clf_eval(y_val, val_pred, val_proba)"
   ]
  },
  {
   "cell_type": "code",
   "execution_count": 48,
   "id": "d11913e5",
   "metadata": {
    "ExecuteTime": {
     "end_time": "2022-11-24T08:21:55.396690Z",
     "start_time": "2022-11-24T08:21:55.389709Z"
    }
   },
   "outputs": [
    {
     "data": {
      "text/plain": [
       "(24,)"
      ]
     },
     "execution_count": 48,
     "metadata": {},
     "output_type": "execute_result"
    }
   ],
   "source": [
    "xgbo.feature_importances_.shape"
   ]
  },
  {
   "cell_type": "code",
   "execution_count": 51,
   "id": "2db892d6",
   "metadata": {
    "ExecuteTime": {
     "end_time": "2022-11-24T08:26:41.644935Z",
     "start_time": "2022-11-24T08:26:41.637946Z"
    }
   },
   "outputs": [],
   "source": [
    "fi = pd.DataFrame(xgbo.feature_importances_, index=X_train.columns)"
   ]
  },
  {
   "cell_type": "code",
   "execution_count": 52,
   "id": "cc67a9cb",
   "metadata": {
    "ExecuteTime": {
     "end_time": "2022-11-24T08:26:42.634282Z",
     "start_time": "2022-11-24T08:26:42.622314Z"
    }
   },
   "outputs": [
    {
     "data": {
      "text/html": [
       "<div>\n",
       "<style scoped>\n",
       "    .dataframe tbody tr th:only-of-type {\n",
       "        vertical-align: middle;\n",
       "    }\n",
       "\n",
       "    .dataframe tbody tr th {\n",
       "        vertical-align: top;\n",
       "    }\n",
       "\n",
       "    .dataframe thead th {\n",
       "        text-align: right;\n",
       "    }\n",
       "</style>\n",
       "<table border=\"1\" class=\"dataframe\">\n",
       "  <thead>\n",
       "    <tr style=\"text-align: right;\">\n",
       "      <th></th>\n",
       "      <th>0</th>\n",
       "    </tr>\n",
       "  </thead>\n",
       "  <tbody>\n",
       "    <tr>\n",
       "      <th>CryoSleep</th>\n",
       "      <td>0.404858</td>\n",
       "    </tr>\n",
       "    <tr>\n",
       "      <th>Cabin2</th>\n",
       "      <td>0.013693</td>\n",
       "    </tr>\n",
       "    <tr>\n",
       "      <th>Cabin3</th>\n",
       "      <td>0.024119</td>\n",
       "    </tr>\n",
       "    <tr>\n",
       "      <th>Age</th>\n",
       "      <td>0.013701</td>\n",
       "    </tr>\n",
       "    <tr>\n",
       "      <th>VIP</th>\n",
       "      <td>0.002429</td>\n",
       "    </tr>\n",
       "    <tr>\n",
       "      <th>RoomService</th>\n",
       "      <td>0.043292</td>\n",
       "    </tr>\n",
       "    <tr>\n",
       "      <th>FoodCourt</th>\n",
       "      <td>0.032967</td>\n",
       "    </tr>\n",
       "    <tr>\n",
       "      <th>ShoppingMall</th>\n",
       "      <td>0.022653</td>\n",
       "    </tr>\n",
       "    <tr>\n",
       "      <th>Spa</th>\n",
       "      <td>0.040408</td>\n",
       "    </tr>\n",
       "    <tr>\n",
       "      <th>VRDeck</th>\n",
       "      <td>0.031387</td>\n",
       "    </tr>\n",
       "    <tr>\n",
       "      <th>Earth</th>\n",
       "      <td>0.097255</td>\n",
       "    </tr>\n",
       "    <tr>\n",
       "      <th>Europa</th>\n",
       "      <td>0.057619</td>\n",
       "    </tr>\n",
       "    <tr>\n",
       "      <th>Mars</th>\n",
       "      <td>0.018460</td>\n",
       "    </tr>\n",
       "    <tr>\n",
       "      <th>55 Cancri e</th>\n",
       "      <td>0.010320</td>\n",
       "    </tr>\n",
       "    <tr>\n",
       "      <th>PSO J318.5-22</th>\n",
       "      <td>0.010474</td>\n",
       "    </tr>\n",
       "    <tr>\n",
       "      <th>TRAPPIST-1e</th>\n",
       "      <td>0.016983</td>\n",
       "    </tr>\n",
       "    <tr>\n",
       "      <th>A</th>\n",
       "      <td>0.016070</td>\n",
       "    </tr>\n",
       "    <tr>\n",
       "      <th>B</th>\n",
       "      <td>0.015431</td>\n",
       "    </tr>\n",
       "    <tr>\n",
       "      <th>C</th>\n",
       "      <td>0.021391</td>\n",
       "    </tr>\n",
       "    <tr>\n",
       "      <th>D</th>\n",
       "      <td>0.004966</td>\n",
       "    </tr>\n",
       "    <tr>\n",
       "      <th>E</th>\n",
       "      <td>0.037450</td>\n",
       "    </tr>\n",
       "    <tr>\n",
       "      <th>F</th>\n",
       "      <td>0.045982</td>\n",
       "    </tr>\n",
       "    <tr>\n",
       "      <th>G</th>\n",
       "      <td>0.018092</td>\n",
       "    </tr>\n",
       "    <tr>\n",
       "      <th>T</th>\n",
       "      <td>0.000000</td>\n",
       "    </tr>\n",
       "  </tbody>\n",
       "</table>\n",
       "</div>"
      ],
      "text/plain": [
       "                      0\n",
       "CryoSleep      0.404858\n",
       "Cabin2         0.013693\n",
       "Cabin3         0.024119\n",
       "Age            0.013701\n",
       "VIP            0.002429\n",
       "RoomService    0.043292\n",
       "FoodCourt      0.032967\n",
       "ShoppingMall   0.022653\n",
       "Spa            0.040408\n",
       "VRDeck         0.031387\n",
       "Earth          0.097255\n",
       "Europa         0.057619\n",
       "Mars           0.018460\n",
       "55 Cancri e    0.010320\n",
       "PSO J318.5-22  0.010474\n",
       "TRAPPIST-1e    0.016983\n",
       "A              0.016070\n",
       "B              0.015431\n",
       "C              0.021391\n",
       "D              0.004966\n",
       "E              0.037450\n",
       "F              0.045982\n",
       "G              0.018092\n",
       "T              0.000000"
      ]
     },
     "execution_count": 52,
     "metadata": {},
     "output_type": "execute_result"
    }
   ],
   "source": [
    "fi"
   ]
  }
 ],
 "metadata": {
  "kernelspec": {
   "display_name": "Python 3 (ipykernel)",
   "language": "python",
   "name": "python3"
  },
  "language_info": {
   "codemirror_mode": {
    "name": "ipython",
    "version": 3
   },
   "file_extension": ".py",
   "mimetype": "text/x-python",
   "name": "python",
   "nbconvert_exporter": "python",
   "pygments_lexer": "ipython3",
   "version": "3.9.7"
  },
  "toc": {
   "base_numbering": 1,
   "nav_menu": {},
   "number_sections": true,
   "sideBar": true,
   "skip_h1_title": false,
   "title_cell": "Table of Contents",
   "title_sidebar": "Contents",
   "toc_cell": false,
   "toc_position": {
    "height": "calc(100% - 180px)",
    "left": "10px",
    "top": "150px",
    "width": "512px"
   },
   "toc_section_display": true,
   "toc_window_display": true
  }
 },
 "nbformat": 4,
 "nbformat_minor": 5
}
