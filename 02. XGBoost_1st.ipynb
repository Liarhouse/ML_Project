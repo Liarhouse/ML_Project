{
 "cells": [
  {
   "cell_type": "markdown",
   "id": "e3cfa5c9",
   "metadata": {},
   "source": [
    "# 라이브러리 로딩"
   ]
  },
  {
   "cell_type": "code",
   "execution_count": 1,
   "id": "a2d09060",
   "metadata": {
    "ExecuteTime": {
     "end_time": "2022-11-24T07:49:50.987440Z",
     "start_time": "2022-11-24T07:49:46.731641Z"
    }
   },
   "outputs": [],
   "source": [
    "import numpy as np # Numpy\n",
    "import pandas as pd # Pandas\n",
    "import matplotlib as mpl #Matplotlib 세팅용\n",
    "import matplotlib.pyplot as plt # 시각화 도구\n",
    "import seaborn as sns # 시각화 도구\n",
    "from sklearn.model_selection import train_test_split # 데이터셋 분리\n",
    "from sklearn.model_selection import KFold # KFold 교차검증\n",
    "from sklearn.cluster import KMeans # 클러스터링\n",
    "from sklearn.metrics import silhouette_score # 실루엣 점수\n",
    "import xgboost as xgb # XGBoost\n",
    "from sklearn.model_selection import GridSearchCV # 그리드 서치\n",
    "from sklearn.metrics import accuracy_score, precision_score # 평가 지표\n",
    "from sklearn.metrics import recall_score, confusion_matrix, roc_auc_score, f1_score # 평가 지표\n",
    "from imblearn.combine import SMOTEENN, SMOTETomek # 복합샘플링\n",
    "from hyperopt import hp, fmin, tpe, Trials # HyperOPT\n",
    "\n",
    "import warnings # 경고문 제거용\n",
    "\n",
    "\n",
    "%matplotlib inline\n",
    "%config Inlinebackend.figure_format = 'retina'\n",
    "\n",
    "# 한글 폰트 설정\n",
    "mpl.rc('font', family='D2Coding')\n",
    "# 유니코드에서 음수 부호 설정\n",
    "mpl.rc('axes', unicode_minus = False)\n",
    "\n",
    "warnings.filterwarnings('ignore')\n",
    "sns.set(font=\"D2Coding\", rc={\"axes.unicode_minus\":False}, style='darkgrid')\n",
    "plt.rc('figure', figsize=(10,8))"
   ]
  },
  {
   "cell_type": "markdown",
   "id": "5ac23d52",
   "metadata": {},
   "source": [
    "# 데이터 불러오기"
   ]
  },
  {
   "cell_type": "code",
   "execution_count": 2,
   "id": "328c04aa",
   "metadata": {
    "ExecuteTime": {
     "end_time": "2022-11-24T07:49:53.382743Z",
     "start_time": "2022-11-24T07:49:50.988432Z"
    }
   },
   "outputs": [],
   "source": [
    "data = pd.read_excel('train_test_na_filled.xlsx', sheet_name='Train')"
   ]
  },
  {
   "cell_type": "markdown",
   "id": "5382fb3d",
   "metadata": {},
   "source": [
    "# 전처리"
   ]
  },
  {
   "cell_type": "markdown",
   "id": "a215acae",
   "metadata": {},
   "source": [
    "## 필요없는 feature 제거"
   ]
  },
  {
   "cell_type": "code",
   "execution_count": null,
   "id": "eb0f1859",
   "metadata": {},
   "outputs": [],
   "source": [
    "data.drop(['PassengerId', 'Cabin', 'Combi', 'Name',], axis=1, inplace=True)"
   ]
  },
  {
   "cell_type": "markdown",
   "id": "3e9f4734",
   "metadata": {},
   "source": [
    "## 결측값 제거"
   ]
  },
  {
   "cell_type": "code",
   "execution_count": null,
   "id": "6507c08c",
   "metadata": {},
   "outputs": [],
   "source": [
    "# 결측값들 제거(Cabin)\n",
    "data.dropna(axis=0, inplace=True)"
   ]
  },
  {
   "cell_type": "markdown",
   "id": "05a62ca0",
   "metadata": {},
   "source": [
    "## 원핫 인코딩"
   ]
  },
  {
   "cell_type": "code",
   "execution_count": 9,
   "id": "a3283ed2",
   "metadata": {
    "ExecuteTime": {
     "end_time": "2022-11-24T07:49:53.518110Z",
     "start_time": "2022-11-24T07:49:53.504147Z"
    }
   },
   "outputs": [],
   "source": [
    "data['Cabin3'].replace({'P': True,'S': False}, inplace=True)\n",
    "data['Cabin3'] = data['Cabin3'].astype(bool)"
   ]
  },
  {
   "cell_type": "code",
   "execution_count": 10,
   "id": "0e063625",
   "metadata": {
    "ExecuteTime": {
     "end_time": "2022-11-24T07:49:53.548305Z",
     "start_time": "2022-11-24T07:49:53.521099Z"
    }
   },
   "outputs": [],
   "source": [
    "train_encoding = pd.get_dummies(data['HomePlanet'])\n",
    "data=data.drop('HomePlanet',axis=1)\n",
    "data = data.join(train_encoding)\n",
    "\n",
    "train_encoding = pd.get_dummies(data['Destination'])\n",
    "data=data.drop('Destination',axis=1)\n",
    "data = data.join(train_encoding)\n",
    "\n",
    "train_encoding = pd.get_dummies(data['Cabin1'])\n",
    "data=data.drop('Cabin1',axis=1)\n",
    "data = data.join(train_encoding)"
   ]
  },
  {
   "cell_type": "markdown",
   "id": "be832d24",
   "metadata": {},
   "source": [
    "## 원핫 인코딩"
   ]
  },
  {
   "cell_type": "code",
   "execution_count": 12,
   "id": "18f27abd",
   "metadata": {
    "ExecuteTime": {
     "end_time": "2022-11-24T07:49:53.578225Z",
     "start_time": "2022-11-24T07:49:53.564263Z"
    }
   },
   "outputs": [],
   "source": [
    "col = ['Cabin2', 'Age', 'RoomService','FoodCourt','ShoppingMall','Spa','VRDeck']\n",
    "def data_scaled(df, col):\n",
    "    for i in col:\n",
    "        data_mean = df[i].mean()\n",
    "        data_std = df[i].std()\n",
    "        scaled = (df[i]-data_mean)/data_std\n",
    "        df[i]=scaled\n",
    "    return df"
   ]
  },
  {
   "cell_type": "code",
   "execution_count": 13,
   "id": "1f300f41",
   "metadata": {
    "ExecuteTime": {
     "end_time": "2022-11-24T07:49:53.623105Z",
     "start_time": "2022-11-24T07:49:53.579224Z"
    }
   },
   "outputs": [
    {
     "data": {
      "text/html": [
       "<div>\n",
       "<style scoped>\n",
       "    .dataframe tbody tr th:only-of-type {\n",
       "        vertical-align: middle;\n",
       "    }\n",
       "\n",
       "    .dataframe tbody tr th {\n",
       "        vertical-align: top;\n",
       "    }\n",
       "\n",
       "    .dataframe thead th {\n",
       "        text-align: right;\n",
       "    }\n",
       "</style>\n",
       "<table border=\"1\" class=\"dataframe\">\n",
       "  <thead>\n",
       "    <tr style=\"text-align: right;\">\n",
       "      <th></th>\n",
       "      <th>CryoSleep</th>\n",
       "      <th>Cabin2</th>\n",
       "      <th>Cabin3</th>\n",
       "      <th>Age</th>\n",
       "      <th>VIP</th>\n",
       "      <th>RoomService</th>\n",
       "      <th>FoodCourt</th>\n",
       "      <th>ShoppingMall</th>\n",
       "      <th>Spa</th>\n",
       "      <th>VRDeck</th>\n",
       "      <th>...</th>\n",
       "      <th>PSO J318.5-22</th>\n",
       "      <th>TRAPPIST-1e</th>\n",
       "      <th>A</th>\n",
       "      <th>B</th>\n",
       "      <th>C</th>\n",
       "      <th>D</th>\n",
       "      <th>E</th>\n",
       "      <th>F</th>\n",
       "      <th>G</th>\n",
       "      <th>T</th>\n",
       "    </tr>\n",
       "  </thead>\n",
       "  <tbody>\n",
       "    <tr>\n",
       "      <th>0</th>\n",
       "      <td>False</td>\n",
       "      <td>-1.170228</td>\n",
       "      <td>True</td>\n",
       "      <td>0.712274</td>\n",
       "      <td>False</td>\n",
       "      <td>-0.333743</td>\n",
       "      <td>-0.280785</td>\n",
       "      <td>-0.282832</td>\n",
       "      <td>-0.271469</td>\n",
       "      <td>-0.263361</td>\n",
       "      <td>...</td>\n",
       "      <td>0</td>\n",
       "      <td>1</td>\n",
       "      <td>0</td>\n",
       "      <td>1</td>\n",
       "      <td>0</td>\n",
       "      <td>0</td>\n",
       "      <td>0</td>\n",
       "      <td>0</td>\n",
       "      <td>0</td>\n",
       "      <td>0</td>\n",
       "    </tr>\n",
       "    <tr>\n",
       "      <th>1</th>\n",
       "      <td>False</td>\n",
       "      <td>-1.170228</td>\n",
       "      <td>False</td>\n",
       "      <td>-0.332624</td>\n",
       "      <td>False</td>\n",
       "      <td>-0.168530</td>\n",
       "      <td>-0.275148</td>\n",
       "      <td>-0.241196</td>\n",
       "      <td>0.220460</td>\n",
       "      <td>-0.224520</td>\n",
       "      <td>...</td>\n",
       "      <td>0</td>\n",
       "      <td>1</td>\n",
       "      <td>0</td>\n",
       "      <td>0</td>\n",
       "      <td>0</td>\n",
       "      <td>0</td>\n",
       "      <td>0</td>\n",
       "      <td>1</td>\n",
       "      <td>0</td>\n",
       "      <td>0</td>\n",
       "    </tr>\n",
       "    <tr>\n",
       "      <th>2</th>\n",
       "      <td>False</td>\n",
       "      <td>-1.170228</td>\n",
       "      <td>False</td>\n",
       "      <td>2.035811</td>\n",
       "      <td>True</td>\n",
       "      <td>-0.268567</td>\n",
       "      <td>1.959032</td>\n",
       "      <td>-0.282832</td>\n",
       "      <td>5.745469</td>\n",
       "      <td>-0.220106</td>\n",
       "      <td>...</td>\n",
       "      <td>0</td>\n",
       "      <td>1</td>\n",
       "      <td>1</td>\n",
       "      <td>0</td>\n",
       "      <td>0</td>\n",
       "      <td>0</td>\n",
       "      <td>0</td>\n",
       "      <td>0</td>\n",
       "      <td>0</td>\n",
       "      <td>0</td>\n",
       "    </tr>\n",
       "    <tr>\n",
       "      <th>3</th>\n",
       "      <td>False</td>\n",
       "      <td>-1.170228</td>\n",
       "      <td>False</td>\n",
       "      <td>0.294315</td>\n",
       "      <td>False</td>\n",
       "      <td>-0.333743</td>\n",
       "      <td>0.522818</td>\n",
       "      <td>0.335048</td>\n",
       "      <td>2.711463</td>\n",
       "      <td>-0.092988</td>\n",
       "      <td>...</td>\n",
       "      <td>0</td>\n",
       "      <td>1</td>\n",
       "      <td>1</td>\n",
       "      <td>0</td>\n",
       "      <td>0</td>\n",
       "      <td>0</td>\n",
       "      <td>0</td>\n",
       "      <td>0</td>\n",
       "      <td>0</td>\n",
       "      <td>0</td>\n",
       "    </tr>\n",
       "    <tr>\n",
       "      <th>4</th>\n",
       "      <td>False</td>\n",
       "      <td>-1.168274</td>\n",
       "      <td>False</td>\n",
       "      <td>-0.889902</td>\n",
       "      <td>False</td>\n",
       "      <td>0.125518</td>\n",
       "      <td>-0.236941</td>\n",
       "      <td>-0.031350</td>\n",
       "      <td>0.234796</td>\n",
       "      <td>-0.261596</td>\n",
       "      <td>...</td>\n",
       "      <td>0</td>\n",
       "      <td>1</td>\n",
       "      <td>0</td>\n",
       "      <td>0</td>\n",
       "      <td>0</td>\n",
       "      <td>0</td>\n",
       "      <td>0</td>\n",
       "      <td>1</td>\n",
       "      <td>0</td>\n",
       "      <td>0</td>\n",
       "    </tr>\n",
       "    <tr>\n",
       "      <th>...</th>\n",
       "      <td>...</td>\n",
       "      <td>...</td>\n",
       "      <td>...</td>\n",
       "      <td>...</td>\n",
       "      <td>...</td>\n",
       "      <td>...</td>\n",
       "      <td>...</td>\n",
       "      <td>...</td>\n",
       "      <td>...</td>\n",
       "      <td>...</td>\n",
       "      <td>...</td>\n",
       "      <td>...</td>\n",
       "      <td>...</td>\n",
       "      <td>...</td>\n",
       "      <td>...</td>\n",
       "      <td>...</td>\n",
       "      <td>...</td>\n",
       "      <td>...</td>\n",
       "      <td>...</td>\n",
       "      <td>...</td>\n",
       "      <td>...</td>\n",
       "    </tr>\n",
       "    <tr>\n",
       "      <th>8688</th>\n",
       "      <td>False</td>\n",
       "      <td>-0.978724</td>\n",
       "      <td>True</td>\n",
       "      <td>0.851594</td>\n",
       "      <td>True</td>\n",
       "      <td>-0.333743</td>\n",
       "      <td>3.990274</td>\n",
       "      <td>-0.282832</td>\n",
       "      <td>1.200732</td>\n",
       "      <td>-0.198037</td>\n",
       "      <td>...</td>\n",
       "      <td>0</td>\n",
       "      <td>0</td>\n",
       "      <td>1</td>\n",
       "      <td>0</td>\n",
       "      <td>0</td>\n",
       "      <td>0</td>\n",
       "      <td>0</td>\n",
       "      <td>0</td>\n",
       "      <td>0</td>\n",
       "      <td>0</td>\n",
       "    </tr>\n",
       "    <tr>\n",
       "      <th>8689</th>\n",
       "      <td>True</td>\n",
       "      <td>1.758999</td>\n",
       "      <td>False</td>\n",
       "      <td>-0.750583</td>\n",
       "      <td>False</td>\n",
       "      <td>-0.333743</td>\n",
       "      <td>-0.280785</td>\n",
       "      <td>-0.282832</td>\n",
       "      <td>-0.271469</td>\n",
       "      <td>-0.263361</td>\n",
       "      <td>...</td>\n",
       "      <td>1</td>\n",
       "      <td>0</td>\n",
       "      <td>0</td>\n",
       "      <td>0</td>\n",
       "      <td>0</td>\n",
       "      <td>0</td>\n",
       "      <td>0</td>\n",
       "      <td>0</td>\n",
       "      <td>1</td>\n",
       "      <td>0</td>\n",
       "    </tr>\n",
       "    <tr>\n",
       "      <th>8690</th>\n",
       "      <td>False</td>\n",
       "      <td>1.760953</td>\n",
       "      <td>False</td>\n",
       "      <td>-0.193304</td>\n",
       "      <td>False</td>\n",
       "      <td>-0.333743</td>\n",
       "      <td>-0.280785</td>\n",
       "      <td>2.834877</td>\n",
       "      <td>-0.270573</td>\n",
       "      <td>-0.263361</td>\n",
       "      <td>...</td>\n",
       "      <td>0</td>\n",
       "      <td>1</td>\n",
       "      <td>0</td>\n",
       "      <td>0</td>\n",
       "      <td>0</td>\n",
       "      <td>0</td>\n",
       "      <td>0</td>\n",
       "      <td>0</td>\n",
       "      <td>1</td>\n",
       "      <td>0</td>\n",
       "    </tr>\n",
       "    <tr>\n",
       "      <th>8691</th>\n",
       "      <td>False</td>\n",
       "      <td>0.017878</td>\n",
       "      <td>False</td>\n",
       "      <td>0.224655</td>\n",
       "      <td>False</td>\n",
       "      <td>-0.333743</td>\n",
       "      <td>0.376253</td>\n",
       "      <td>-0.282832</td>\n",
       "      <td>0.044835</td>\n",
       "      <td>2.592370</td>\n",
       "      <td>...</td>\n",
       "      <td>0</td>\n",
       "      <td>0</td>\n",
       "      <td>0</td>\n",
       "      <td>0</td>\n",
       "      <td>0</td>\n",
       "      <td>0</td>\n",
       "      <td>1</td>\n",
       "      <td>0</td>\n",
       "      <td>0</td>\n",
       "      <td>0</td>\n",
       "    </tr>\n",
       "    <tr>\n",
       "      <th>8692</th>\n",
       "      <td>False</td>\n",
       "      <td>0.017878</td>\n",
       "      <td>False</td>\n",
       "      <td>1.060573</td>\n",
       "      <td>False</td>\n",
       "      <td>-0.142763</td>\n",
       "      <td>2.655529</td>\n",
       "      <td>-0.282832</td>\n",
       "      <td>-0.271469</td>\n",
       "      <td>-0.252768</td>\n",
       "      <td>...</td>\n",
       "      <td>0</td>\n",
       "      <td>1</td>\n",
       "      <td>0</td>\n",
       "      <td>0</td>\n",
       "      <td>0</td>\n",
       "      <td>0</td>\n",
       "      <td>1</td>\n",
       "      <td>0</td>\n",
       "      <td>0</td>\n",
       "      <td>0</td>\n",
       "    </tr>\n",
       "  </tbody>\n",
       "</table>\n",
       "<p>8590 rows × 25 columns</p>\n",
       "</div>"
      ],
      "text/plain": [
       "      CryoSleep    Cabin2  Cabin3       Age    VIP  RoomService  FoodCourt  \\\n",
       "0         False -1.170228    True  0.712274  False    -0.333743  -0.280785   \n",
       "1         False -1.170228   False -0.332624  False    -0.168530  -0.275148   \n",
       "2         False -1.170228   False  2.035811   True    -0.268567   1.959032   \n",
       "3         False -1.170228   False  0.294315  False    -0.333743   0.522818   \n",
       "4         False -1.168274   False -0.889902  False     0.125518  -0.236941   \n",
       "...         ...       ...     ...       ...    ...          ...        ...   \n",
       "8688      False -0.978724    True  0.851594   True    -0.333743   3.990274   \n",
       "8689       True  1.758999   False -0.750583  False    -0.333743  -0.280785   \n",
       "8690      False  1.760953   False -0.193304  False    -0.333743  -0.280785   \n",
       "8691      False  0.017878   False  0.224655  False    -0.333743   0.376253   \n",
       "8692      False  0.017878   False  1.060573  False    -0.142763   2.655529   \n",
       "\n",
       "      ShoppingMall       Spa    VRDeck  ...  PSO J318.5-22  TRAPPIST-1e  A  B  \\\n",
       "0        -0.282832 -0.271469 -0.263361  ...              0            1  0  1   \n",
       "1        -0.241196  0.220460 -0.224520  ...              0            1  0  0   \n",
       "2        -0.282832  5.745469 -0.220106  ...              0            1  1  0   \n",
       "3         0.335048  2.711463 -0.092988  ...              0            1  1  0   \n",
       "4        -0.031350  0.234796 -0.261596  ...              0            1  0  0   \n",
       "...            ...       ...       ...  ...            ...          ... .. ..   \n",
       "8688     -0.282832  1.200732 -0.198037  ...              0            0  1  0   \n",
       "8689     -0.282832 -0.271469 -0.263361  ...              1            0  0  0   \n",
       "8690      2.834877 -0.270573 -0.263361  ...              0            1  0  0   \n",
       "8691     -0.282832  0.044835  2.592370  ...              0            0  0  0   \n",
       "8692     -0.282832 -0.271469 -0.252768  ...              0            1  0  0   \n",
       "\n",
       "      C  D  E  F  G  T  \n",
       "0     0  0  0  0  0  0  \n",
       "1     0  0  0  1  0  0  \n",
       "2     0  0  0  0  0  0  \n",
       "3     0  0  0  0  0  0  \n",
       "4     0  0  0  1  0  0  \n",
       "...  .. .. .. .. .. ..  \n",
       "8688  0  0  0  0  0  0  \n",
       "8689  0  0  0  0  1  0  \n",
       "8690  0  0  0  0  1  0  \n",
       "8691  0  0  1  0  0  0  \n",
       "8692  0  0  1  0  0  0  \n",
       "\n",
       "[8590 rows x 25 columns]"
      ]
     },
     "execution_count": 13,
     "metadata": {},
     "output_type": "execute_result"
    }
   ],
   "source": [
    "data_scaled(data, col)"
   ]
  },
  {
   "cell_type": "code",
   "execution_count": 15,
   "id": "8aa7e9f4",
   "metadata": {
    "ExecuteTime": {
     "end_time": "2022-11-24T07:49:53.727825Z",
     "start_time": "2022-11-24T07:49:53.713862Z"
    }
   },
   "outputs": [
    {
     "data": {
      "text/plain": [
       "Index(['CryoSleep', 'Cabin2', 'Cabin3', 'Age', 'VIP', 'RoomService',\n",
       "       'FoodCourt', 'ShoppingMall', 'Spa', 'VRDeck', 'Transported', 'Earth',\n",
       "       'Europa', 'Mars', '55 Cancri e', 'PSO J318.5-22', 'TRAPPIST-1e', 'A',\n",
       "       'B', 'C', 'D', 'E', 'F', 'G', 'T'],\n",
       "      dtype='object')"
      ]
     },
     "execution_count": 15,
     "metadata": {},
     "output_type": "execute_result"
    }
   ],
   "source": [
    "data.columns"
   ]
  },
  {
   "cell_type": "code",
   "execution_count": 16,
   "id": "872ef90d",
   "metadata": {
    "ExecuteTime": {
     "end_time": "2022-11-24T07:49:53.742791Z",
     "start_time": "2022-11-24T07:49:53.728822Z"
    }
   },
   "outputs": [],
   "source": [
    "df = data.iloc[:,:]"
   ]
  },
  {
   "cell_type": "code",
   "execution_count": 17,
   "id": "f0c71d11",
   "metadata": {
    "ExecuteTime": {
     "end_time": "2022-11-24T07:49:53.757744Z",
     "start_time": "2022-11-24T07:49:53.743782Z"
    }
   },
   "outputs": [],
   "source": [
    "df['Transported'] = df.Transported.replace({True:1, False:0})"
   ]
  },
  {
   "cell_type": "markdown",
   "id": "a045c417",
   "metadata": {},
   "source": [
    "# 데이터셋 분리"
   ]
  },
  {
   "cell_type": "code",
   "execution_count": 24,
   "id": "0424287e",
   "metadata": {
    "ExecuteTime": {
     "end_time": "2022-11-24T07:49:54.700240Z",
     "start_time": "2022-11-24T07:49:54.687261Z"
    }
   },
   "outputs": [],
   "source": [
    "X_train, X_test, y_train, y_test = train_test_split(df.drop(['Transported'], axis=1),\n",
    "                                                    df.Transported, random_state=109)\n",
    "X_train, X_val, y_train, y_val = train_test_split(X_train, y_train)"
   ]
  },
  {
   "cell_type": "code",
   "execution_count": 25,
   "id": "97bfba99",
   "metadata": {
    "ExecuteTime": {
     "end_time": "2022-11-24T07:49:54.715185Z",
     "start_time": "2022-11-24T07:49:54.701222Z"
    }
   },
   "outputs": [
    {
     "data": {
      "text/plain": [
       "(4831, 24)"
      ]
     },
     "execution_count": 25,
     "metadata": {},
     "output_type": "execute_result"
    }
   ],
   "source": [
    "X_train.shape"
   ]
  },
  {
   "cell_type": "code",
   "execution_count": 26,
   "id": "3456a6ce",
   "metadata": {
    "ExecuteTime": {
     "end_time": "2022-11-24T07:49:54.730618Z",
     "start_time": "2022-11-24T07:49:54.716183Z"
    }
   },
   "outputs": [
    {
     "data": {
      "text/plain": [
       "(4831,)"
      ]
     },
     "execution_count": 26,
     "metadata": {},
     "output_type": "execute_result"
    }
   ],
   "source": [
    "y_train.shape"
   ]
  },
  {
   "cell_type": "markdown",
   "id": "9c72da15",
   "metadata": {},
   "source": [
    "# XGBoost"
   ]
  },
  {
   "cell_type": "markdown",
   "id": "30d6af89",
   "metadata": {},
   "source": [
    "## HyperOPT"
   ]
  },
  {
   "cell_type": "code",
   "execution_count": 28,
   "id": "c9075eff",
   "metadata": {
    "ExecuteTime": {
     "end_time": "2022-11-24T07:49:54.760538Z",
     "start_time": "2022-11-24T07:49:54.750565Z"
    }
   },
   "outputs": [],
   "source": [
    "xgb_search_space = {'max_depth': hp.quniform('max_depth', 5, 15, 1),\n",
    "                   'min_child_weight': hp.quniform('min_child_weight', 1, 20, 1),\n",
    "                   'colsample_bytree': hp.uniform('colsample_bytree', 0.5, 0.95),\n",
    "                   'learning_rate': hp.uniform('learning_rate', 0.01, 0.4),\n",
    "                   'gamma': hp.uniform('gamma', 0, 4)}"
   ]
  },
  {
   "cell_type": "code",
   "execution_count": 29,
   "id": "51421a14",
   "metadata": {
    "ExecuteTime": {
     "end_time": "2022-11-24T07:49:54.775699Z",
     "start_time": "2022-11-24T07:49:54.761536Z"
    }
   },
   "outputs": [],
   "source": [
    "# fmin()에서 호출 시 search_space 값으로 XGBClassifier 교차 검증 학습 후 -1 * roc_auc 평균 값을 반환\n",
    "def bin_objective_func(search_space):\n",
    "    xgb_clf = xgb.XGBClassifier(n_estimators=100,max_depth=int(search_space['max_depth']),\n",
    "                            min_child_weight=int(search_space['min_child_weight']),\n",
    "                            colsample_bytree=search_space['colsample_bytree'],\n",
    "                            learning_rate=search_space['learning_rate'],\n",
    "                            gamma=search_space['gamma'])\n",
    "    \n",
    "    # 3개 k-fold 방식으로 평가된 roc_auc 지표를 담는 list\n",
    "    roc_auc_list = []\n",
    "    \n",
    "    # 3개 k-fold 방식 적용\n",
    "    kf = KFold(n_splits=3)\n",
    "    \n",
    "    # X_train을 다시 학습과 검증용 데이터로 분리\n",
    "    for tr_index, val_index in kf.split(X_train):\n",
    "        # kf.split(X_train)으로 추출된 학습과 검증 index 값으로 학습과 검증 데이터 세트 분리\n",
    "        X_tr, y_tr = X_train.iloc[tr_index], y_train.iloc[tr_index]\n",
    "        X_val, y_val = X_train.iloc[val_index], y_train.iloc[val_index]\n",
    "        \n",
    "        # early stopping은 30회로 설정하고 추출된 학습과 검증 데이터로 XGBClassifier 학습 수행\n",
    "        xgb_clf.fit(X_tr, y_tr, early_stopping_rounds=30, eval_metric=\"auc\",\n",
    "                   eval_set=[(X_tr, y_tr), (X_val, y_val)])\n",
    "        \n",
    "        # 1로 예측한 확률값 추출 후 roc auc 계산하고 평균 roc auc 계산을 위해 list에 결과값 담음.\n",
    "        score = roc_auc_score(y_val, xgb_clf.predict_proba(X_val)[:,1])\n",
    "        roc_auc_list.append(score)\n",
    "        \n",
    "    # 3개 k-fold로 계산된 roc_auc 값의 평균값을 반환하되,\n",
    "    # HyperOPT는 목적함수의 최솟값을 위한 입력값을 찾으므로 -1을 곱한 뒤 반환\n",
    "    return -1*np.mean(roc_auc_list)"
   ]
  },
  {
   "cell_type": "code",
   "execution_count": 30,
   "id": "474d8873",
   "metadata": {
    "ExecuteTime": {
     "end_time": "2022-11-24T07:49:54.790822Z",
     "start_time": "2022-11-24T07:49:54.776533Z"
    }
   },
   "outputs": [],
   "source": [
    "trials = Trials()\n",
    "\n",
    "# fmin() 함수를 호출. max_evals 지정된 횟수만큼 반복 후 목적함수의 최솟값을 가지는 최적 입력값 추출\n",
    "best = fmin(fn=bin_objective_func,\n",
    "           space=xgb_search_space,\n",
    "           algo=tpe.suggest,\n",
    "           max_evals=50, # 최대 반복 횟수를 지정합니다\n",
    "           trials=trials, rstate=np.random.default_rng(seed=109))\n",
    "\n",
    "print('best:', best)"
   ]
  },
  {
   "cell_type": "markdown",
   "id": "cdc5ca61",
   "metadata": {},
   "source": [
    "## 모델 학습"
   ]
  },
  {
   "cell_type": "code",
   "execution_count": 31,
   "id": "bedd7ce9",
   "metadata": {
    "ExecuteTime": {
     "end_time": "2022-11-24T07:49:55.120937Z",
     "start_time": "2022-11-24T07:49:54.791819Z"
    }
   },
   "outputs": [
    {
     "data": {
      "text/html": [
       "<style>#sk-container-id-1 {color: black;background-color: white;}#sk-container-id-1 pre{padding: 0;}#sk-container-id-1 div.sk-toggleable {background-color: white;}#sk-container-id-1 label.sk-toggleable__label {cursor: pointer;display: block;width: 100%;margin-bottom: 0;padding: 0.3em;box-sizing: border-box;text-align: center;}#sk-container-id-1 label.sk-toggleable__label-arrow:before {content: \"▸\";float: left;margin-right: 0.25em;color: #696969;}#sk-container-id-1 label.sk-toggleable__label-arrow:hover:before {color: black;}#sk-container-id-1 div.sk-estimator:hover label.sk-toggleable__label-arrow:before {color: black;}#sk-container-id-1 div.sk-toggleable__content {max-height: 0;max-width: 0;overflow: hidden;text-align: left;background-color: #f0f8ff;}#sk-container-id-1 div.sk-toggleable__content pre {margin: 0.2em;color: black;border-radius: 0.25em;background-color: #f0f8ff;}#sk-container-id-1 input.sk-toggleable__control:checked~div.sk-toggleable__content {max-height: 200px;max-width: 100%;overflow: auto;}#sk-container-id-1 input.sk-toggleable__control:checked~label.sk-toggleable__label-arrow:before {content: \"▾\";}#sk-container-id-1 div.sk-estimator input.sk-toggleable__control:checked~label.sk-toggleable__label {background-color: #d4ebff;}#sk-container-id-1 div.sk-label input.sk-toggleable__control:checked~label.sk-toggleable__label {background-color: #d4ebff;}#sk-container-id-1 input.sk-hidden--visually {border: 0;clip: rect(1px 1px 1px 1px);clip: rect(1px, 1px, 1px, 1px);height: 1px;margin: -1px;overflow: hidden;padding: 0;position: absolute;width: 1px;}#sk-container-id-1 div.sk-estimator {font-family: monospace;background-color: #f0f8ff;border: 1px dotted black;border-radius: 0.25em;box-sizing: border-box;margin-bottom: 0.5em;}#sk-container-id-1 div.sk-estimator:hover {background-color: #d4ebff;}#sk-container-id-1 div.sk-parallel-item::after {content: \"\";width: 100%;border-bottom: 1px solid gray;flex-grow: 1;}#sk-container-id-1 div.sk-label:hover label.sk-toggleable__label {background-color: #d4ebff;}#sk-container-id-1 div.sk-serial::before {content: \"\";position: absolute;border-left: 1px solid gray;box-sizing: border-box;top: 0;bottom: 0;left: 50%;z-index: 0;}#sk-container-id-1 div.sk-serial {display: flex;flex-direction: column;align-items: center;background-color: white;padding-right: 0.2em;padding-left: 0.2em;position: relative;}#sk-container-id-1 div.sk-item {position: relative;z-index: 1;}#sk-container-id-1 div.sk-parallel {display: flex;align-items: stretch;justify-content: center;background-color: white;position: relative;}#sk-container-id-1 div.sk-item::before, #sk-container-id-1 div.sk-parallel-item::before {content: \"\";position: absolute;border-left: 1px solid gray;box-sizing: border-box;top: 0;bottom: 0;left: 50%;z-index: -1;}#sk-container-id-1 div.sk-parallel-item {display: flex;flex-direction: column;z-index: 1;position: relative;background-color: white;}#sk-container-id-1 div.sk-parallel-item:first-child::after {align-self: flex-end;width: 50%;}#sk-container-id-1 div.sk-parallel-item:last-child::after {align-self: flex-start;width: 50%;}#sk-container-id-1 div.sk-parallel-item:only-child::after {width: 0;}#sk-container-id-1 div.sk-dashed-wrapped {border: 1px dashed gray;margin: 0 0.4em 0.5em 0.4em;box-sizing: border-box;padding-bottom: 0.4em;background-color: white;}#sk-container-id-1 div.sk-label label {font-family: monospace;font-weight: bold;display: inline-block;line-height: 1.2em;}#sk-container-id-1 div.sk-label-container {text-align: center;}#sk-container-id-1 div.sk-container {/* jupyter's `normalize.less` sets `[hidden] { display: none; }` but bootstrap.min.css set `[hidden] { display: none !important; }` so we also need the `!important` here to be able to override the default hidden behavior on the sphinx rendered scikit-learn.org. See: https://github.com/scikit-learn/scikit-learn/issues/21755 */display: inline-block !important;position: relative;}#sk-container-id-1 div.sk-text-repr-fallback {display: none;}</style><div id=\"sk-container-id-1\" class=\"sk-top-container\"><div class=\"sk-text-repr-fallback\"><pre>XGBClassifier(base_score=0.5, booster=&#x27;gbtree&#x27;, callbacks=None,\n",
       "              colsample_bylevel=1, colsample_bynode=1,\n",
       "              colsample_bytree=0.708890925020427, early_stopping_rounds=None,\n",
       "              enable_categorical=False, eval_metric=None, feature_types=None,\n",
       "              gamma=2.039476183481736, gpu_id=-1, grow_policy=&#x27;depthwise&#x27;,\n",
       "              importance_type=None, interaction_constraints=&#x27;&#x27;,\n",
       "              learning_rate=0.16202345555142844, max_bin=256,\n",
       "              max_cat_threshold=64, max_cat_to_onehot=4, max_delta_step=0,\n",
       "              max_depth=10, max_leaves=0, min_child_weight=6, missing=nan,\n",
       "              monotone_constraints=&#x27;()&#x27;, n_estimators=100, n_jobs=0,\n",
       "              num_parallel_tree=1, predictor=&#x27;auto&#x27;, random_state=109, ...)</pre><b>In a Jupyter environment, please rerun this cell to show the HTML representation or trust the notebook. <br />On GitHub, the HTML representation is unable to render, please try loading this page with nbviewer.org.</b></div><div class=\"sk-container\" hidden><div class=\"sk-item\"><div class=\"sk-estimator sk-toggleable\"><input class=\"sk-toggleable__control sk-hidden--visually\" id=\"sk-estimator-id-1\" type=\"checkbox\" checked><label for=\"sk-estimator-id-1\" class=\"sk-toggleable__label sk-toggleable__label-arrow\">XGBClassifier</label><div class=\"sk-toggleable__content\"><pre>XGBClassifier(base_score=0.5, booster=&#x27;gbtree&#x27;, callbacks=None,\n",
       "              colsample_bylevel=1, colsample_bynode=1,\n",
       "              colsample_bytree=0.708890925020427, early_stopping_rounds=None,\n",
       "              enable_categorical=False, eval_metric=None, feature_types=None,\n",
       "              gamma=2.039476183481736, gpu_id=-1, grow_policy=&#x27;depthwise&#x27;,\n",
       "              importance_type=None, interaction_constraints=&#x27;&#x27;,\n",
       "              learning_rate=0.16202345555142844, max_bin=256,\n",
       "              max_cat_threshold=64, max_cat_to_onehot=4, max_delta_step=0,\n",
       "              max_depth=10, max_leaves=0, min_child_weight=6, missing=nan,\n",
       "              monotone_constraints=&#x27;()&#x27;, n_estimators=100, n_jobs=0,\n",
       "              num_parallel_tree=1, predictor=&#x27;auto&#x27;, random_state=109, ...)</pre></div></div></div></div></div>"
      ],
      "text/plain": [
       "XGBClassifier(base_score=0.5, booster='gbtree', callbacks=None,\n",
       "              colsample_bylevel=1, colsample_bynode=1,\n",
       "              colsample_bytree=0.708890925020427, early_stopping_rounds=None,\n",
       "              enable_categorical=False, eval_metric=None, feature_types=None,\n",
       "              gamma=2.039476183481736, gpu_id=-1, grow_policy='depthwise',\n",
       "              importance_type=None, interaction_constraints='',\n",
       "              learning_rate=0.16202345555142844, max_bin=256,\n",
       "              max_cat_threshold=64, max_cat_to_onehot=4, max_delta_step=0,\n",
       "              max_depth=10, max_leaves=0, min_child_weight=6, missing=nan,\n",
       "              monotone_constraints='()', n_estimators=100, n_jobs=0,\n",
       "              num_parallel_tree=1, predictor='auto', random_state=109, ...)"
      ]
     },
     "execution_count": 31,
     "metadata": {},
     "output_type": "execute_result"
    }
   ],
   "source": [
    "xgbo = xgb.XGBClassifier(colsample_bytree=0.708890925020427, gamma=2.039476183481736,\n",
    "                         learning_rate=0.16202345555142844,\n",
    "                         max_depth=10, min_child_weight=6, n_estimators=100,\n",
    "                         random_state=109)\n",
    "xgbo.fit(X_train, y_train)"
   ]
  },
  {
   "cell_type": "markdown",
   "id": "72f2b2c5",
   "metadata": {},
   "source": [
    "## 평가 지표"
   ]
  },
  {
   "cell_type": "code",
   "execution_count": 32,
   "id": "7bc70314",
   "metadata": {
    "ExecuteTime": {
     "end_time": "2022-11-24T07:49:55.135898Z",
     "start_time": "2022-11-24T07:49:55.121935Z"
    }
   },
   "outputs": [],
   "source": [
    "# 평가용 함수\n",
    "def  get_clf_eval(y_test, pred=None, pred_proba=None):\n",
    "    confusion = confusion_matrix(y_test, pred)\n",
    "    accuracy = accuracy_score(y_test, pred)\n",
    "    precision = precision_score(y_test, pred)\n",
    "    recall = recall_score(y_test, pred)\n",
    "    f1 = f1_score(y_test, pred)\n",
    "#     roc_auc = roc_auc_score(y_test, pred_proba)\n",
    "    \n",
    "    print('오차 행렬')\n",
    "    print(confusion)\n",
    " \n",
    "    print('정확도: {0:.4f}, 정밀도: {1:.4f}, \\\n",
    "    재현율: {2:.4f}, F1: {3:.4f}'.format(accuracy, precision, recall, f1))"
   ]
  },
  {
   "cell_type": "code",
   "execution_count": 33,
   "id": "276a650b",
   "metadata": {
    "ExecuteTime": {
     "end_time": "2022-11-24T07:49:55.196734Z",
     "start_time": "2022-11-24T07:49:55.136895Z"
    }
   },
   "outputs": [],
   "source": [
    "train_pred = xgbo.predict(X_train)\n",
    "train_proba = xgbo.predict_proba(X_train)\n",
    "\n",
    "test_pred = xgbo.predict(X_test)\n",
    "test_proba = xgbo.predict_proba(X_test)\n",
    "\n",
    "val_pred = xgbo.predict(X_val)\n",
    "val_proba = xgbo.predict_proba(X_val)"
   ]
  },
  {
   "cell_type": "markdown",
   "id": "fb0b1295",
   "metadata": {},
   "source": [
    "### 훈련셋"
   ]
  },
  {
   "cell_type": "code",
   "execution_count": 34,
   "id": "abb4f828",
   "metadata": {
    "ExecuteTime": {
     "end_time": "2022-11-24T07:49:55.211695Z",
     "start_time": "2022-11-24T07:49:55.197732Z"
    }
   },
   "outputs": [
    {
     "name": "stdout",
     "output_type": "stream",
     "text": [
      "오차 행렬\n",
      "[[2109  258]\n",
      " [ 252 2212]]\n",
      "정확도: 0.8944, 정밀도: 0.8955,     재현율: 0.8977, F1: 0.8966\n"
     ]
    }
   ],
   "source": [
    "get_clf_eval(y_train, train_pred, train_proba)"
   ]
  },
  {
   "cell_type": "markdown",
   "id": "39cc9704",
   "metadata": {},
   "source": [
    "### 테스트셋"
   ]
  },
  {
   "cell_type": "code",
   "execution_count": 35,
   "id": "89d3492b",
   "metadata": {
    "ExecuteTime": {
     "end_time": "2022-11-24T07:49:55.226655Z",
     "start_time": "2022-11-24T07:49:55.212693Z"
    },
    "scrolled": false
   },
   "outputs": [
    {
     "name": "stdout",
     "output_type": "stream",
     "text": [
      "오차 행렬\n",
      "[[849 218]\n",
      " [218 863]]\n",
      "정확도: 0.7970, 정밀도: 0.7983,     재현율: 0.7983, F1: 0.7983\n"
     ]
    }
   ],
   "source": [
    "get_clf_eval(y_test, test_pred, test_proba)"
   ]
  },
  {
   "cell_type": "markdown",
   "id": "11c0f51a",
   "metadata": {},
   "source": [
    "### 검증셋"
   ]
  },
  {
   "cell_type": "code",
   "execution_count": 36,
   "id": "936a45f5",
   "metadata": {
    "ExecuteTime": {
     "end_time": "2022-11-24T07:49:55.241615Z",
     "start_time": "2022-11-24T07:49:55.227652Z"
    },
    "scrolled": true
   },
   "outputs": [
    {
     "name": "stdout",
     "output_type": "stream",
     "text": [
      "오차 행렬\n",
      "[[667 156]\n",
      " [155 633]]\n",
      "정확도: 0.8070, 정밀도: 0.8023,     재현율: 0.8033, F1: 0.8028\n"
     ]
    }
   ],
   "source": [
    "get_clf_eval(y_val, val_pred, val_proba)"
   ]
  },
  {
   "cell_type": "markdown",
   "id": "c77ae113",
   "metadata": {},
   "source": [
    "### feature 중요도"
   ]
  },
  {
   "cell_type": "code",
   "execution_count": 48,
   "id": "d11913e5",
   "metadata": {
    "ExecuteTime": {
     "end_time": "2022-11-24T08:21:55.396690Z",
     "start_time": "2022-11-24T08:21:55.389709Z"
    }
   },
   "outputs": [
    {
     "data": {
      "text/plain": [
       "(24,)"
      ]
     },
     "execution_count": 48,
     "metadata": {},
     "output_type": "execute_result"
    }
   ],
   "source": [
    "xgbo.feature_importances_.shape"
   ]
  },
  {
   "cell_type": "code",
   "execution_count": 51,
   "id": "2db892d6",
   "metadata": {
    "ExecuteTime": {
     "end_time": "2022-11-24T08:26:41.644935Z",
     "start_time": "2022-11-24T08:26:41.637946Z"
    }
   },
   "outputs": [],
   "source": [
    "fi = pd.DataFrame(xgbo.feature_importances_, index=X_train.columns)"
   ]
  },
  {
   "cell_type": "code",
   "execution_count": 52,
   "id": "cc67a9cb",
   "metadata": {
    "ExecuteTime": {
     "end_time": "2022-11-24T08:26:42.634282Z",
     "start_time": "2022-11-24T08:26:42.622314Z"
    }
   },
   "outputs": [
    {
     "data": {
      "text/html": [
       "<div>\n",
       "<style scoped>\n",
       "    .dataframe tbody tr th:only-of-type {\n",
       "        vertical-align: middle;\n",
       "    }\n",
       "\n",
       "    .dataframe tbody tr th {\n",
       "        vertical-align: top;\n",
       "    }\n",
       "\n",
       "    .dataframe thead th {\n",
       "        text-align: right;\n",
       "    }\n",
       "</style>\n",
       "<table border=\"1\" class=\"dataframe\">\n",
       "  <thead>\n",
       "    <tr style=\"text-align: right;\">\n",
       "      <th></th>\n",
       "      <th>0</th>\n",
       "    </tr>\n",
       "  </thead>\n",
       "  <tbody>\n",
       "    <tr>\n",
       "      <th>CryoSleep</th>\n",
       "      <td>0.404858</td>\n",
       "    </tr>\n",
       "    <tr>\n",
       "      <th>Cabin2</th>\n",
       "      <td>0.013693</td>\n",
       "    </tr>\n",
       "    <tr>\n",
       "      <th>Cabin3</th>\n",
       "      <td>0.024119</td>\n",
       "    </tr>\n",
       "    <tr>\n",
       "      <th>Age</th>\n",
       "      <td>0.013701</td>\n",
       "    </tr>\n",
       "    <tr>\n",
       "      <th>VIP</th>\n",
       "      <td>0.002429</td>\n",
       "    </tr>\n",
       "    <tr>\n",
       "      <th>RoomService</th>\n",
       "      <td>0.043292</td>\n",
       "    </tr>\n",
       "    <tr>\n",
       "      <th>FoodCourt</th>\n",
       "      <td>0.032967</td>\n",
       "    </tr>\n",
       "    <tr>\n",
       "      <th>ShoppingMall</th>\n",
       "      <td>0.022653</td>\n",
       "    </tr>\n",
       "    <tr>\n",
       "      <th>Spa</th>\n",
       "      <td>0.040408</td>\n",
       "    </tr>\n",
       "    <tr>\n",
       "      <th>VRDeck</th>\n",
       "      <td>0.031387</td>\n",
       "    </tr>\n",
       "    <tr>\n",
       "      <th>Earth</th>\n",
       "      <td>0.097255</td>\n",
       "    </tr>\n",
       "    <tr>\n",
       "      <th>Europa</th>\n",
       "      <td>0.057619</td>\n",
       "    </tr>\n",
       "    <tr>\n",
       "      <th>Mars</th>\n",
       "      <td>0.018460</td>\n",
       "    </tr>\n",
       "    <tr>\n",
       "      <th>55 Cancri e</th>\n",
       "      <td>0.010320</td>\n",
       "    </tr>\n",
       "    <tr>\n",
       "      <th>PSO J318.5-22</th>\n",
       "      <td>0.010474</td>\n",
       "    </tr>\n",
       "    <tr>\n",
       "      <th>TRAPPIST-1e</th>\n",
       "      <td>0.016983</td>\n",
       "    </tr>\n",
       "    <tr>\n",
       "      <th>A</th>\n",
       "      <td>0.016070</td>\n",
       "    </tr>\n",
       "    <tr>\n",
       "      <th>B</th>\n",
       "      <td>0.015431</td>\n",
       "    </tr>\n",
       "    <tr>\n",
       "      <th>C</th>\n",
       "      <td>0.021391</td>\n",
       "    </tr>\n",
       "    <tr>\n",
       "      <th>D</th>\n",
       "      <td>0.004966</td>\n",
       "    </tr>\n",
       "    <tr>\n",
       "      <th>E</th>\n",
       "      <td>0.037450</td>\n",
       "    </tr>\n",
       "    <tr>\n",
       "      <th>F</th>\n",
       "      <td>0.045982</td>\n",
       "    </tr>\n",
       "    <tr>\n",
       "      <th>G</th>\n",
       "      <td>0.018092</td>\n",
       "    </tr>\n",
       "    <tr>\n",
       "      <th>T</th>\n",
       "      <td>0.000000</td>\n",
       "    </tr>\n",
       "  </tbody>\n",
       "</table>\n",
       "</div>"
      ],
      "text/plain": [
       "                      0\n",
       "CryoSleep      0.404858\n",
       "Cabin2         0.013693\n",
       "Cabin3         0.024119\n",
       "Age            0.013701\n",
       "VIP            0.002429\n",
       "RoomService    0.043292\n",
       "FoodCourt      0.032967\n",
       "ShoppingMall   0.022653\n",
       "Spa            0.040408\n",
       "VRDeck         0.031387\n",
       "Earth          0.097255\n",
       "Europa         0.057619\n",
       "Mars           0.018460\n",
       "55 Cancri e    0.010320\n",
       "PSO J318.5-22  0.010474\n",
       "TRAPPIST-1e    0.016983\n",
       "A              0.016070\n",
       "B              0.015431\n",
       "C              0.021391\n",
       "D              0.004966\n",
       "E              0.037450\n",
       "F              0.045982\n",
       "G              0.018092\n",
       "T              0.000000"
      ]
     },
     "execution_count": 52,
     "metadata": {},
     "output_type": "execute_result"
    }
   ],
   "source": [
    "fi"
   ]
  }
 ],
 "metadata": {
  "kernelspec": {
   "display_name": "Python 3 (ipykernel)",
   "language": "python",
   "name": "python3"
  },
  "language_info": {
   "codemirror_mode": {
    "name": "ipython",
    "version": 3
   },
   "file_extension": ".py",
   "mimetype": "text/x-python",
   "name": "python",
   "nbconvert_exporter": "python",
   "pygments_lexer": "ipython3",
   "version": "3.9.7"
  },
  "toc": {
   "base_numbering": 1,
   "nav_menu": {},
   "number_sections": true,
   "sideBar": true,
   "skip_h1_title": false,
   "title_cell": "Table of Contents",
   "title_sidebar": "Contents",
   "toc_cell": false,
   "toc_position": {
    "height": "calc(100% - 180px)",
    "left": "10px",
    "top": "150px",
    "width": "512px"
   },
   "toc_section_display": true,
   "toc_window_display": true
  }
 },
 "nbformat": 4,
 "nbformat_minor": 5
}
