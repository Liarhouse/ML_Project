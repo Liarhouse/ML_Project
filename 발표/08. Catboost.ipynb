{
 "cells": [
  {
   "cell_type": "markdown",
   "id": "e36151e8",
   "metadata": {},
   "source": [
    "# 라이브러리 호출"
   ]
  },
  {
   "cell_type": "code",
   "execution_count": 1,
   "id": "93a37513",
   "metadata": {
    "ExecuteTime": {
     "end_time": "2022-11-25T03:38:44.116446Z",
     "start_time": "2022-11-25T03:38:42.976410Z"
    }
   },
   "outputs": [
    {
     "name": "stderr",
     "output_type": "stream",
     "text": [
      "[nltk_data] Downloading package names to\n",
      "[nltk_data]     C:\\Users\\Windows\\AppData\\Roaming\\nltk_data...\n",
      "[nltk_data]   Package names is already up-to-date!\n"
     ]
    }
   ],
   "source": [
    "import numpy as np # Numpy\n",
    "import pandas as pd # Pandas\n",
    "import matplotlib as mpl #Matplotlib 세팅용\n",
    "import matplotlib.pyplot as plt # 시각화 도구\n",
    "import seaborn as sns # 시각화 도구\n",
    "from sklearn.model_selection import train_test_split # 데이터셋 분리\n",
    "from sklearn.model_selection import KFold # KFold 교차검증\n",
    "from sklearn.cluster import KMeans # 클러스터링\n",
    "from sklearn.metrics import silhouette_score # 실루엣 점수\n",
    "import xgboost as xgb # XGBoost\n",
    "from sklearn.model_selection import GridSearchCV # 그리드 서치\n",
    "from sklearn.metrics import accuracy_score, precision_score # 평가 지표\n",
    "from sklearn.metrics import recall_score, confusion_matrix, roc_auc_score, f1_score # 평가 지표\n",
    "from imblearn.combine import SMOTEENN, SMOTETomek # 복합샘플링\n",
    "from hyperopt import hp, fmin, tpe, Trials # HyperOPT\n",
    "from nltk.corpus import names # nltk\n",
    "import nltk\n",
    "nltk.download(\"names\")\n",
    "from nltk import NaiveBayesClassifier\n",
    "from scipy import stats\n",
    "from collections import Counter\n",
    "import random\n",
    "\n",
    "import warnings # 경고문 제거용\n",
    "\n",
    "\n",
    "%matplotlib inline\n",
    "%config Inlinebackend.figure_format = 'retina'\n",
    "\n",
    "# 한글 폰트 설정\n",
    "mpl.rc('font', family='D2Coding')\n",
    "# 유니코드에서 음수 부호 설정\n",
    "mpl.rc('axes', unicode_minus = False)\n",
    "\n",
    "warnings.filterwarnings('ignore')\n",
    "sns.set(font=\"D2Coding\", rc={\"axes.unicode_minus\":False}, style='darkgrid')\n",
    "plt.rc('figure', figsize=(10,8))"
   ]
  },
  {
   "cell_type": "markdown",
   "id": "4ec34e8c",
   "metadata": {},
   "source": [
    "# 데이터로딩"
   ]
  },
  {
   "cell_type": "code",
   "execution_count": 2,
   "id": "1bcaa6f0",
   "metadata": {
    "ExecuteTime": {
     "end_time": "2022-11-25T03:38:45.664443Z",
     "start_time": "2022-11-25T03:38:44.117447Z"
    }
   },
   "outputs": [
    {
     "data": {
      "text/html": [
       "<div>\n",
       "<style scoped>\n",
       "    .dataframe tbody tr th:only-of-type {\n",
       "        vertical-align: middle;\n",
       "    }\n",
       "\n",
       "    .dataframe tbody tr th {\n",
       "        vertical-align: top;\n",
       "    }\n",
       "\n",
       "    .dataframe thead th {\n",
       "        text-align: right;\n",
       "    }\n",
       "</style>\n",
       "<table border=\"1\" class=\"dataframe\">\n",
       "  <thead>\n",
       "    <tr style=\"text-align: right;\">\n",
       "      <th></th>\n",
       "      <th>PassengerId</th>\n",
       "      <th>HomePlanet</th>\n",
       "      <th>CryoSleep</th>\n",
       "      <th>Cabin1</th>\n",
       "      <th>Cabin2</th>\n",
       "      <th>Combi</th>\n",
       "      <th>Cabin3</th>\n",
       "      <th>Cabin</th>\n",
       "      <th>Destination</th>\n",
       "      <th>Age</th>\n",
       "      <th>VIP</th>\n",
       "      <th>RoomService</th>\n",
       "      <th>FoodCourt</th>\n",
       "      <th>ShoppingMall</th>\n",
       "      <th>Spa</th>\n",
       "      <th>VRDeck</th>\n",
       "      <th>Name</th>\n",
       "      <th>Transported</th>\n",
       "    </tr>\n",
       "  </thead>\n",
       "  <tbody>\n",
       "    <tr>\n",
       "      <th>0</th>\n",
       "      <td>0001_01</td>\n",
       "      <td>Europa</td>\n",
       "      <td>False</td>\n",
       "      <td>B</td>\n",
       "      <td>0.0</td>\n",
       "      <td>B0</td>\n",
       "      <td>P</td>\n",
       "      <td>B/0/P</td>\n",
       "      <td>TRAPPIST-1e</td>\n",
       "      <td>39</td>\n",
       "      <td>False</td>\n",
       "      <td>0</td>\n",
       "      <td>0</td>\n",
       "      <td>0</td>\n",
       "      <td>0</td>\n",
       "      <td>0</td>\n",
       "      <td>Maham Ofracculy</td>\n",
       "      <td>False</td>\n",
       "    </tr>\n",
       "    <tr>\n",
       "      <th>1</th>\n",
       "      <td>0002_01</td>\n",
       "      <td>Earth</td>\n",
       "      <td>False</td>\n",
       "      <td>F</td>\n",
       "      <td>0.0</td>\n",
       "      <td>F0</td>\n",
       "      <td>S</td>\n",
       "      <td>F/0/S</td>\n",
       "      <td>TRAPPIST-1e</td>\n",
       "      <td>24</td>\n",
       "      <td>False</td>\n",
       "      <td>109</td>\n",
       "      <td>9</td>\n",
       "      <td>25</td>\n",
       "      <td>549</td>\n",
       "      <td>44</td>\n",
       "      <td>Juanna Vines</td>\n",
       "      <td>True</td>\n",
       "    </tr>\n",
       "    <tr>\n",
       "      <th>2</th>\n",
       "      <td>0003_01</td>\n",
       "      <td>Europa</td>\n",
       "      <td>False</td>\n",
       "      <td>A</td>\n",
       "      <td>0.0</td>\n",
       "      <td>A0</td>\n",
       "      <td>S</td>\n",
       "      <td>A/0/S</td>\n",
       "      <td>TRAPPIST-1e</td>\n",
       "      <td>58</td>\n",
       "      <td>True</td>\n",
       "      <td>43</td>\n",
       "      <td>3576</td>\n",
       "      <td>0</td>\n",
       "      <td>6715</td>\n",
       "      <td>49</td>\n",
       "      <td>Altark Susent</td>\n",
       "      <td>False</td>\n",
       "    </tr>\n",
       "    <tr>\n",
       "      <th>3</th>\n",
       "      <td>0003_02</td>\n",
       "      <td>Europa</td>\n",
       "      <td>False</td>\n",
       "      <td>A</td>\n",
       "      <td>0.0</td>\n",
       "      <td>A0</td>\n",
       "      <td>S</td>\n",
       "      <td>A/0/S</td>\n",
       "      <td>TRAPPIST-1e</td>\n",
       "      <td>33</td>\n",
       "      <td>False</td>\n",
       "      <td>0</td>\n",
       "      <td>1283</td>\n",
       "      <td>371</td>\n",
       "      <td>3329</td>\n",
       "      <td>193</td>\n",
       "      <td>Solam Susent</td>\n",
       "      <td>False</td>\n",
       "    </tr>\n",
       "    <tr>\n",
       "      <th>4</th>\n",
       "      <td>0004_01</td>\n",
       "      <td>Earth</td>\n",
       "      <td>False</td>\n",
       "      <td>F</td>\n",
       "      <td>1.0</td>\n",
       "      <td>F1</td>\n",
       "      <td>S</td>\n",
       "      <td>F/1/S</td>\n",
       "      <td>TRAPPIST-1e</td>\n",
       "      <td>16</td>\n",
       "      <td>False</td>\n",
       "      <td>303</td>\n",
       "      <td>70</td>\n",
       "      <td>151</td>\n",
       "      <td>565</td>\n",
       "      <td>2</td>\n",
       "      <td>Willy Santantines</td>\n",
       "      <td>True</td>\n",
       "    </tr>\n",
       "  </tbody>\n",
       "</table>\n",
       "</div>"
      ],
      "text/plain": [
       "  PassengerId HomePlanet  CryoSleep Cabin1  Cabin2 Combi Cabin3  Cabin  \\\n",
       "0     0001_01     Europa      False      B     0.0    B0      P  B/0/P   \n",
       "1     0002_01      Earth      False      F     0.0    F0      S  F/0/S   \n",
       "2     0003_01     Europa      False      A     0.0    A0      S  A/0/S   \n",
       "3     0003_02     Europa      False      A     0.0    A0      S  A/0/S   \n",
       "4     0004_01      Earth      False      F     1.0    F1      S  F/1/S   \n",
       "\n",
       "   Destination  Age    VIP  RoomService  FoodCourt  ShoppingMall   Spa  \\\n",
       "0  TRAPPIST-1e   39  False            0          0             0     0   \n",
       "1  TRAPPIST-1e   24  False          109          9            25   549   \n",
       "2  TRAPPIST-1e   58   True           43       3576             0  6715   \n",
       "3  TRAPPIST-1e   33  False            0       1283           371  3329   \n",
       "4  TRAPPIST-1e   16  False          303         70           151   565   \n",
       "\n",
       "   VRDeck               Name  Transported  \n",
       "0       0    Maham Ofracculy        False  \n",
       "1      44       Juanna Vines         True  \n",
       "2      49      Altark Susent        False  \n",
       "3     193       Solam Susent        False  \n",
       "4       2  Willy Santantines         True  "
      ]
     },
     "execution_count": 2,
     "metadata": {},
     "output_type": "execute_result"
    }
   ],
   "source": [
    "data = pd.read_excel('train_test_na_filled.xlsx', sheet_name='Train')\n",
    "data.head()"
   ]
  },
  {
   "cell_type": "code",
   "execution_count": 3,
   "id": "7add291b",
   "metadata": {
    "ExecuteTime": {
     "end_time": "2022-11-25T03:38:46.521442Z",
     "start_time": "2022-11-25T03:38:45.665443Z"
    }
   },
   "outputs": [
    {
     "data": {
      "text/html": [
       "<div>\n",
       "<style scoped>\n",
       "    .dataframe tbody tr th:only-of-type {\n",
       "        vertical-align: middle;\n",
       "    }\n",
       "\n",
       "    .dataframe tbody tr th {\n",
       "        vertical-align: top;\n",
       "    }\n",
       "\n",
       "    .dataframe thead th {\n",
       "        text-align: right;\n",
       "    }\n",
       "</style>\n",
       "<table border=\"1\" class=\"dataframe\">\n",
       "  <thead>\n",
       "    <tr style=\"text-align: right;\">\n",
       "      <th></th>\n",
       "      <th>PassengerId</th>\n",
       "      <th>HomePlanet</th>\n",
       "      <th>CryoSleep</th>\n",
       "      <th>Cabin1</th>\n",
       "      <th>Cabin2</th>\n",
       "      <th>Combi</th>\n",
       "      <th>Cabin3</th>\n",
       "      <th>Cabin</th>\n",
       "      <th>Destination</th>\n",
       "      <th>Age</th>\n",
       "      <th>VIP</th>\n",
       "      <th>RoomService</th>\n",
       "      <th>FoodCourt</th>\n",
       "      <th>ShoppingMall</th>\n",
       "      <th>Spa</th>\n",
       "      <th>VRDeck</th>\n",
       "      <th>Name</th>\n",
       "      <th>Transported</th>\n",
       "    </tr>\n",
       "  </thead>\n",
       "  <tbody>\n",
       "    <tr>\n",
       "      <th>0</th>\n",
       "      <td>0013_01</td>\n",
       "      <td>Earth</td>\n",
       "      <td>True</td>\n",
       "      <td>G</td>\n",
       "      <td>3.0</td>\n",
       "      <td>G3</td>\n",
       "      <td>S</td>\n",
       "      <td>G/3/S</td>\n",
       "      <td>TRAPPIST-1e</td>\n",
       "      <td>27</td>\n",
       "      <td>False</td>\n",
       "      <td>0</td>\n",
       "      <td>0</td>\n",
       "      <td>0</td>\n",
       "      <td>0</td>\n",
       "      <td>0</td>\n",
       "      <td>Nelly Carsoning</td>\n",
       "      <td>NaN</td>\n",
       "    </tr>\n",
       "    <tr>\n",
       "      <th>1</th>\n",
       "      <td>0018_01</td>\n",
       "      <td>Earth</td>\n",
       "      <td>False</td>\n",
       "      <td>F</td>\n",
       "      <td>4.0</td>\n",
       "      <td>F4</td>\n",
       "      <td>S</td>\n",
       "      <td>F/4/S</td>\n",
       "      <td>TRAPPIST-1e</td>\n",
       "      <td>19</td>\n",
       "      <td>False</td>\n",
       "      <td>0</td>\n",
       "      <td>9</td>\n",
       "      <td>0</td>\n",
       "      <td>2823</td>\n",
       "      <td>0</td>\n",
       "      <td>Lerome Peckers</td>\n",
       "      <td>NaN</td>\n",
       "    </tr>\n",
       "    <tr>\n",
       "      <th>2</th>\n",
       "      <td>0019_01</td>\n",
       "      <td>Europa</td>\n",
       "      <td>True</td>\n",
       "      <td>C</td>\n",
       "      <td>0.0</td>\n",
       "      <td>C0</td>\n",
       "      <td>S</td>\n",
       "      <td>C/0/S</td>\n",
       "      <td>55 Cancri e</td>\n",
       "      <td>31</td>\n",
       "      <td>False</td>\n",
       "      <td>0</td>\n",
       "      <td>0</td>\n",
       "      <td>0</td>\n",
       "      <td>0</td>\n",
       "      <td>0</td>\n",
       "      <td>Sabih Unhearfus</td>\n",
       "      <td>NaN</td>\n",
       "    </tr>\n",
       "    <tr>\n",
       "      <th>3</th>\n",
       "      <td>0021_01</td>\n",
       "      <td>Europa</td>\n",
       "      <td>False</td>\n",
       "      <td>C</td>\n",
       "      <td>1.0</td>\n",
       "      <td>C1</td>\n",
       "      <td>S</td>\n",
       "      <td>C/1/S</td>\n",
       "      <td>TRAPPIST-1e</td>\n",
       "      <td>38</td>\n",
       "      <td>False</td>\n",
       "      <td>0</td>\n",
       "      <td>6652</td>\n",
       "      <td>0</td>\n",
       "      <td>181</td>\n",
       "      <td>585</td>\n",
       "      <td>Meratz Caltilter</td>\n",
       "      <td>NaN</td>\n",
       "    </tr>\n",
       "    <tr>\n",
       "      <th>4</th>\n",
       "      <td>0023_01</td>\n",
       "      <td>Earth</td>\n",
       "      <td>False</td>\n",
       "      <td>F</td>\n",
       "      <td>5.0</td>\n",
       "      <td>F5</td>\n",
       "      <td>S</td>\n",
       "      <td>F/5/S</td>\n",
       "      <td>TRAPPIST-1e</td>\n",
       "      <td>20</td>\n",
       "      <td>False</td>\n",
       "      <td>10</td>\n",
       "      <td>0</td>\n",
       "      <td>635</td>\n",
       "      <td>0</td>\n",
       "      <td>0</td>\n",
       "      <td>Brence Harperez</td>\n",
       "      <td>NaN</td>\n",
       "    </tr>\n",
       "  </tbody>\n",
       "</table>\n",
       "</div>"
      ],
      "text/plain": [
       "  PassengerId HomePlanet  CryoSleep Cabin1  Cabin2 Combi Cabin3  Cabin  \\\n",
       "0     0013_01      Earth       True      G     3.0    G3      S  G/3/S   \n",
       "1     0018_01      Earth      False      F     4.0    F4      S  F/4/S   \n",
       "2     0019_01     Europa       True      C     0.0    C0      S  C/0/S   \n",
       "3     0021_01     Europa      False      C     1.0    C1      S  C/1/S   \n",
       "4     0023_01      Earth      False      F     5.0    F5      S  F/5/S   \n",
       "\n",
       "   Destination  Age    VIP  RoomService  FoodCourt  ShoppingMall   Spa  \\\n",
       "0  TRAPPIST-1e   27  False            0          0             0     0   \n",
       "1  TRAPPIST-1e   19  False            0          9             0  2823   \n",
       "2  55 Cancri e   31  False            0          0             0     0   \n",
       "3  TRAPPIST-1e   38  False            0       6652             0   181   \n",
       "4  TRAPPIST-1e   20  False           10          0           635     0   \n",
       "\n",
       "   VRDeck              Name  Transported  \n",
       "0       0   Nelly Carsoning          NaN  \n",
       "1       0    Lerome Peckers          NaN  \n",
       "2       0   Sabih Unhearfus          NaN  \n",
       "3     585  Meratz Caltilter          NaN  \n",
       "4       0   Brence Harperez          NaN  "
      ]
     },
     "execution_count": 3,
     "metadata": {},
     "output_type": "execute_result"
    }
   ],
   "source": [
    "test = pd.read_excel('train_test_na_filled.xlsx', sheet_name='Test')\n",
    "test.head()"
   ]
  },
  {
   "cell_type": "code",
   "execution_count": 4,
   "id": "8e9d5585",
   "metadata": {
    "ExecuteTime": {
     "end_time": "2022-11-25T03:38:46.536441Z",
     "start_time": "2022-11-25T03:38:46.522442Z"
    }
   },
   "outputs": [
    {
     "name": "stdout",
     "output_type": "stream",
     "text": [
      "(8693, 18)\n",
      "(4277, 18)\n"
     ]
    }
   ],
   "source": [
    "print(data.shape)\n",
    "print(test.shape)"
   ]
  },
  {
   "cell_type": "code",
   "execution_count": 5,
   "id": "d2d05ec3",
   "metadata": {
    "ExecuteTime": {
     "end_time": "2022-11-25T03:38:46.552441Z",
     "start_time": "2022-11-25T03:38:46.536441Z"
    },
    "scrolled": true
   },
   "outputs": [],
   "source": [
    "data.drop('Cabin2', inplace=True, axis=1)"
   ]
  },
  {
   "cell_type": "code",
   "execution_count": 6,
   "id": "5a9c24b1",
   "metadata": {
    "ExecuteTime": {
     "end_time": "2022-11-25T03:38:46.568441Z",
     "start_time": "2022-11-25T03:38:46.552441Z"
    }
   },
   "outputs": [],
   "source": [
    "test.drop('Cabin2', inplace=True, axis=1)"
   ]
  },
  {
   "cell_type": "markdown",
   "id": "1476a238",
   "metadata": {},
   "source": [
    "# 이상치 확인 및 제거"
   ]
  },
  {
   "cell_type": "code",
   "execution_count": 7,
   "id": "e18e5389",
   "metadata": {
    "ExecuteTime": {
     "end_time": "2022-11-25T03:38:46.584442Z",
     "start_time": "2022-11-25T03:38:46.569442Z"
    }
   },
   "outputs": [],
   "source": [
    "def outlier_detection_train(df, n, columns):\n",
    "    rows = []\n",
    "    will_drop_train = []\n",
    "    for col in columns:\n",
    "        Q1 = np.nanpercentile(data[col], 25)\n",
    "        Q3 = np.nanpercentile(data[col], 75)\n",
    "        IQR = Q3 - Q1\n",
    "        outlier_point = 1.5 * IQR\n",
    "        rows.extend(df[(df[col] < Q1 - outlier_point)|(df[col] > Q3 + outlier_point)].index)\n",
    "    for r, c in Counter(rows).items():\n",
    "        if c >= n: will_drop_train.append(r)\n",
    "    return will_drop_train"
   ]
  },
  {
   "cell_type": "code",
   "execution_count": 8,
   "id": "b51ff506",
   "metadata": {
    "ExecuteTime": {
     "end_time": "2022-11-25T03:38:46.600441Z",
     "start_time": "2022-11-25T03:38:46.584442Z"
    }
   },
   "outputs": [
    {
     "data": {
      "text/plain": [
       "[338,\n",
       " 1390,\n",
       " 6469,\n",
       " 7038,\n",
       " 1936,\n",
       " 3317,\n",
       " 3980,\n",
       " 4762,\n",
       " 6509,\n",
       " 7007,\n",
       " 7065,\n",
       " 7294,\n",
       " 7689,\n",
       " 7957,\n",
       " 8064]"
      ]
     },
     "execution_count": 8,
     "metadata": {},
     "output_type": "execute_result"
    }
   ],
   "source": [
    "will_drop_train = outlier_detection_train(data, 5 ,data.select_dtypes([\"float\", \"int\"]).columns)\n",
    "will_drop_train"
   ]
  },
  {
   "cell_type": "code",
   "execution_count": 9,
   "id": "e641e1ff",
   "metadata": {
    "ExecuteTime": {
     "end_time": "2022-11-25T03:38:46.616441Z",
     "start_time": "2022-11-25T03:38:46.601442Z"
    }
   },
   "outputs": [],
   "source": [
    "data.drop(will_drop_train, inplace = True, axis = 0)"
   ]
  },
  {
   "cell_type": "code",
   "execution_count": 10,
   "id": "f7f0540e",
   "metadata": {
    "ExecuteTime": {
     "end_time": "2022-11-25T03:38:46.631441Z",
     "start_time": "2022-11-25T03:38:46.617441Z"
    }
   },
   "outputs": [
    {
     "name": "stdout",
     "output_type": "stream",
     "text": [
      "<class 'pandas.core.frame.DataFrame'>\n",
      "RangeIndex: 4277 entries, 0 to 4276\n",
      "Data columns (total 17 columns):\n",
      " #   Column        Non-Null Count  Dtype  \n",
      "---  ------        --------------  -----  \n",
      " 0   PassengerId   4277 non-null   object \n",
      " 1   HomePlanet    4277 non-null   object \n",
      " 2   CryoSleep     4277 non-null   bool   \n",
      " 3   Cabin1        4214 non-null   object \n",
      " 4   Combi         4214 non-null   object \n",
      " 5   Cabin3        4214 non-null   object \n",
      " 6   Cabin         4214 non-null   object \n",
      " 7   Destination   4277 non-null   object \n",
      " 8   Age           4277 non-null   int64  \n",
      " 9   VIP           4277 non-null   bool   \n",
      " 10  RoomService   4277 non-null   int64  \n",
      " 11  FoodCourt     4277 non-null   int64  \n",
      " 12  ShoppingMall  4277 non-null   int64  \n",
      " 13  Spa           4277 non-null   int64  \n",
      " 14  VRDeck        4277 non-null   int64  \n",
      " 15  Name          4183 non-null   object \n",
      " 16  Transported   0 non-null      float64\n",
      "dtypes: bool(2), float64(1), int64(6), object(8)\n",
      "memory usage: 509.7+ KB\n"
     ]
    }
   ],
   "source": [
    "test.info()"
   ]
  },
  {
   "cell_type": "code",
   "execution_count": 11,
   "id": "1c148ff8",
   "metadata": {
    "ExecuteTime": {
     "end_time": "2022-11-25T03:38:46.646441Z",
     "start_time": "2022-11-25T03:38:46.632442Z"
    }
   },
   "outputs": [
    {
     "name": "stdout",
     "output_type": "stream",
     "text": [
      "<class 'pandas.core.frame.DataFrame'>\n",
      "Int64Index: 8678 entries, 0 to 8692\n",
      "Data columns (total 17 columns):\n",
      " #   Column        Non-Null Count  Dtype \n",
      "---  ------        --------------  ----- \n",
      " 0   PassengerId   8678 non-null   object\n",
      " 1   HomePlanet    8678 non-null   object\n",
      " 2   CryoSleep     8678 non-null   bool  \n",
      " 3   Cabin1        8575 non-null   object\n",
      " 4   Combi         8575 non-null   object\n",
      " 5   Cabin3        8575 non-null   object\n",
      " 6   Cabin         8575 non-null   object\n",
      " 7   Destination   8678 non-null   object\n",
      " 8   Age           8678 non-null   int64 \n",
      " 9   VIP           8678 non-null   bool  \n",
      " 10  RoomService   8678 non-null   int64 \n",
      " 11  FoodCourt     8678 non-null   int64 \n",
      " 12  ShoppingMall  8678 non-null   int64 \n",
      " 13  Spa           8678 non-null   int64 \n",
      " 14  VRDeck        8678 non-null   int64 \n",
      " 15  Name          8478 non-null   object\n",
      " 16  Transported   8678 non-null   bool  \n",
      "dtypes: bool(3), int64(6), object(8)\n",
      "memory usage: 1.0+ MB\n"
     ]
    }
   ],
   "source": [
    "data.info()"
   ]
  },
  {
   "cell_type": "code",
   "execution_count": 12,
   "id": "f3100f3d",
   "metadata": {
    "ExecuteTime": {
     "end_time": "2022-11-25T03:38:46.662442Z",
     "start_time": "2022-11-25T03:38:46.646441Z"
    }
   },
   "outputs": [],
   "source": [
    "test['Transported']= test['Transported'].astype('bool')"
   ]
  },
  {
   "cell_type": "markdown",
   "id": "f1ff624b",
   "metadata": {},
   "source": [
    "# 새로운 feature 생성"
   ]
  },
  {
   "cell_type": "markdown",
   "id": "add80a5c",
   "metadata": {},
   "source": [
    "## 총 사용금액, 그리고 사용한 금액에 따라 poor, middle, rich로 분류"
   ]
  },
  {
   "cell_type": "code",
   "execution_count": 13,
   "id": "4dd441f5",
   "metadata": {
    "ExecuteTime": {
     "end_time": "2022-11-25T03:38:46.677441Z",
     "start_time": "2022-11-25T03:38:46.663442Z"
    }
   },
   "outputs": [],
   "source": [
    "data[\"Total\"] = data[\"RoomService\"] + data[\"FoodCourt\"] + data[\"ShoppingMall\"] + data[\"Spa\"] + data[\"VRDeck\"] \n",
    "data[\"RichPoor\"] = data[\"Total\"].apply(lambda x: \"poor\" if x < 5000\\\n",
    "                                       else (\"middle\" if x>=5000 and x<20000 else \"rich\"))\n",
    "\n",
    "test[\"Total\"] = test[\"RoomService\"] + test[\"FoodCourt\"] + test[\"ShoppingMall\"] + test[\"Spa\"] + test[\"VRDeck\"] \n",
    "test[\"RichPoor\"] = test[\"Total\"].apply(lambda x: \"poor\" if x < 5000\\\n",
    "                                       else (\"middle\" if x>=5000 and x<20000 else \"rich\"))"
   ]
  },
  {
   "cell_type": "markdown",
   "id": "ed7cb334",
   "metadata": {},
   "source": [
    "## 그룹여행객 여부"
   ]
  },
  {
   "cell_type": "code",
   "execution_count": 14,
   "id": "c00842f5",
   "metadata": {
    "ExecuteTime": {
     "end_time": "2022-11-25T03:38:46.988440Z",
     "start_time": "2022-11-25T03:38:46.677441Z"
    }
   },
   "outputs": [],
   "source": [
    "data[\"GroupId\"] = data[\"PassengerId\"].apply(lambda x: x.split(\"_\")[0])\n",
    "test[\"GroupId\"] = test[\"PassengerId\"].apply(lambda x: x.split(\"_\")[0])\n",
    "data[\"GroupNo\"] = data[\"PassengerId\"].apply(lambda x: x.split(\"_\")[1])\n",
    "test[\"GroupNo\"] = test[\"PassengerId\"].apply(lambda x: x.split(\"_\")[1])\n",
    "\n",
    "train_g = data[data[\"GroupId\"].duplicated()][\"GroupId\"]\n",
    "test_g = test[test[\"GroupId\"].duplicated()][\"GroupId\"]\n",
    "data[\"Group\"] = data[\"GroupId\"].apply(lambda x: x in train_g.values)\n",
    "test[\"Group\"] = test[\"GroupId\"].apply(lambda x: x in test_g.values)"
   ]
  },
  {
   "cell_type": "code",
   "execution_count": 15,
   "id": "1553eecf",
   "metadata": {
    "ExecuteTime": {
     "end_time": "2022-11-25T03:38:47.004441Z",
     "start_time": "2022-11-25T03:38:46.988440Z"
    }
   },
   "outputs": [
    {
     "name": "stdout",
     "output_type": "stream",
     "text": [
      "<class 'pandas.core.frame.DataFrame'>\n",
      "Int64Index: 8678 entries, 0 to 8692\n",
      "Data columns (total 22 columns):\n",
      " #   Column        Non-Null Count  Dtype \n",
      "---  ------        --------------  ----- \n",
      " 0   PassengerId   8678 non-null   object\n",
      " 1   HomePlanet    8678 non-null   object\n",
      " 2   CryoSleep     8678 non-null   bool  \n",
      " 3   Cabin1        8575 non-null   object\n",
      " 4   Combi         8575 non-null   object\n",
      " 5   Cabin3        8575 non-null   object\n",
      " 6   Cabin         8575 non-null   object\n",
      " 7   Destination   8678 non-null   object\n",
      " 8   Age           8678 non-null   int64 \n",
      " 9   VIP           8678 non-null   bool  \n",
      " 10  RoomService   8678 non-null   int64 \n",
      " 11  FoodCourt     8678 non-null   int64 \n",
      " 12  ShoppingMall  8678 non-null   int64 \n",
      " 13  Spa           8678 non-null   int64 \n",
      " 14  VRDeck        8678 non-null   int64 \n",
      " 15  Name          8478 non-null   object\n",
      " 16  Transported   8678 non-null   bool  \n",
      " 17  Total         8678 non-null   int64 \n",
      " 18  RichPoor      8678 non-null   object\n",
      " 19  GroupId       8678 non-null   object\n",
      " 20  GroupNo       8678 non-null   object\n",
      " 21  Group         8678 non-null   bool  \n",
      "dtypes: bool(4), int64(7), object(11)\n",
      "memory usage: 1.3+ MB\n"
     ]
    }
   ],
   "source": [
    "data.info()"
   ]
  },
  {
   "cell_type": "code",
   "execution_count": 16,
   "id": "528a733a",
   "metadata": {
    "ExecuteTime": {
     "end_time": "2022-11-25T03:38:47.020440Z",
     "start_time": "2022-11-25T03:38:47.004441Z"
    }
   },
   "outputs": [
    {
     "name": "stdout",
     "output_type": "stream",
     "text": [
      "<class 'pandas.core.frame.DataFrame'>\n",
      "RangeIndex: 4277 entries, 0 to 4276\n",
      "Data columns (total 22 columns):\n",
      " #   Column        Non-Null Count  Dtype \n",
      "---  ------        --------------  ----- \n",
      " 0   PassengerId   4277 non-null   object\n",
      " 1   HomePlanet    4277 non-null   object\n",
      " 2   CryoSleep     4277 non-null   bool  \n",
      " 3   Cabin1        4214 non-null   object\n",
      " 4   Combi         4214 non-null   object\n",
      " 5   Cabin3        4214 non-null   object\n",
      " 6   Cabin         4214 non-null   object\n",
      " 7   Destination   4277 non-null   object\n",
      " 8   Age           4277 non-null   int64 \n",
      " 9   VIP           4277 non-null   bool  \n",
      " 10  RoomService   4277 non-null   int64 \n",
      " 11  FoodCourt     4277 non-null   int64 \n",
      " 12  ShoppingMall  4277 non-null   int64 \n",
      " 13  Spa           4277 non-null   int64 \n",
      " 14  VRDeck        4277 non-null   int64 \n",
      " 15  Name          4183 non-null   object\n",
      " 16  Transported   4277 non-null   bool  \n",
      " 17  Total         4277 non-null   int64 \n",
      " 18  RichPoor      4277 non-null   object\n",
      " 19  GroupId       4277 non-null   object\n",
      " 20  GroupNo       4277 non-null   object\n",
      " 21  Group         4277 non-null   bool  \n",
      "dtypes: bool(4), int64(7), object(11)\n",
      "memory usage: 618.3+ KB\n"
     ]
    }
   ],
   "source": [
    "test.info()"
   ]
  },
  {
   "cell_type": "markdown",
   "id": "770cf97f",
   "metadata": {},
   "source": [
    "## 나이브 베어스를 활용한 이름을 통한 성별 분류"
   ]
  },
  {
   "cell_type": "code",
   "execution_count": 17,
   "id": "3a681a48",
   "metadata": {
    "ExecuteTime": {
     "end_time": "2022-11-25T03:38:47.036440Z",
     "start_time": "2022-11-25T03:38:47.021441Z"
    }
   },
   "outputs": [],
   "source": [
    "# Train_Data 이름과 성 분리\n",
    "names_train_data = []\n",
    "for n in data[\"Name\"]:\n",
    "    n = str(n)\n",
    "    a = n.split()\n",
    "    names_train_data.append(a[0])"
   ]
  },
  {
   "cell_type": "code",
   "execution_count": 18,
   "id": "41aac228",
   "metadata": {
    "ExecuteTime": {
     "end_time": "2022-11-25T03:38:47.052440Z",
     "start_time": "2022-11-25T03:38:47.036440Z"
    }
   },
   "outputs": [],
   "source": [
    "# NLTK의 names 파일을 활용하여 이름을 여성과 남성으로 분리\n",
    "labeled_names = [(name, \"female\") for name in names.words(\"female.txt\")] + \\\n",
    "[(name, \"male\") for name in names.words(\"male.txt\")]\n",
    "random.shuffle(labeled_names)"
   ]
  },
  {
   "cell_type": "code",
   "execution_count": 19,
   "id": "b64b839d",
   "metadata": {
    "ExecuteTime": {
     "end_time": "2022-11-25T03:38:47.068440Z",
     "start_time": "2022-11-25T03:38:47.053441Z"
    }
   },
   "outputs": [],
   "source": [
    "# 이름의 마지막 단어 가져오는 함수\n",
    "def gender_features(word):\n",
    "    return {'last_letter': word[-1]}"
   ]
  },
  {
   "cell_type": "code",
   "execution_count": 20,
   "id": "576e9dd1",
   "metadata": {
    "ExecuteTime": {
     "end_time": "2022-11-25T03:38:47.084441Z",
     "start_time": "2022-11-25T03:38:47.069441Z"
    }
   },
   "outputs": [
    {
     "data": {
      "text/plain": [
       "['Maham',\n",
       " 'Juanna',\n",
       " 'Altark',\n",
       " 'Solam',\n",
       " 'Willy',\n",
       " 'Sandie',\n",
       " 'Billex',\n",
       " 'Candra',\n",
       " 'Andona',\n",
       " 'Erraiam',\n",
       " 'Altardr',\n",
       " 'Wezena',\n",
       " 'Berers',\n",
       " 'Reney',\n",
       " 'Elle',\n",
       " 'Justie',\n",
       " 'Flats',\n",
       " 'Carry',\n",
       " 'Alus',\n",
       " 'Lyde',\n",
       " 'Philda',\n",
       " 'Almary',\n",
       " 'Glendy',\n",
       " 'Mollen',\n",
       " 'Breney',\n",
       " 'Mael',\n",
       " 'Terta',\n",
       " 'nan',\n",
       " 'Penton',\n",
       " 'Karard',\n",
       " 'Anyoni',\n",
       " 'Ceros',\n",
       " 'Ginia',\n",
       " 'Coobix',\n",
       " 'Cinets',\n",
       " 'Dontch',\n",
       " 'Ziba',\n",
       " 'Luse',\n",
       " 'Marina',\n",
       " 'Loise',\n",
       " 'Jorgie',\n",
       " 'Margia',\n",
       " 'Ankalik',\n",
       " 'Jodye',\n",
       " 'Kayne',\n",
       " 'Cassa',\n",
       " 'Zelowl',\n",
       " 'Mass',\n",
       " 'Sony',\n",
       " 'Vivia',\n",
       " 'Elaney',\n",
       " 'Elson',\n",
       " 'Okulas',\n",
       " 'Instab',\n",
       " 'Zinoces',\n",
       " 'Warry',\n",
       " 'Shanya',\n",
       " 'Sterry',\n",
       " 'nan',\n",
       " 'Colatz',\n",
       " 'Diandy',\n",
       " 'Ninaha',\n",
       " 'Celine',\n",
       " 'Velyne',\n",
       " 'Cinst',\n",
       " 'nan',\n",
       " 'Meremy',\n",
       " 'Nelly',\n",
       " 'Thell',\n",
       " 'Gorn',\n",
       " 'Aldibah',\n",
       " 'Conk',\n",
       " 'Pon',\n",
       " 'Spuri',\n",
       " 'Dellie',\n",
       " 'Totse',\n",
       " 'Eaturs',\n",
       " 'nan',\n",
       " 'Coren',\n",
       " 'Furudah',\n",
       " 'Jodye',\n",
       " 'Stmeal',\n",
       " 'Heremy',\n",
       " 'Deanne',\n",
       " 'Tinez',\n",
       " 'Gracy',\n",
       " 'Stald',\n",
       " 'Tiney',\n",
       " 'Alchium',\n",
       " 'Doria',\n",
       " 'Leence',\n",
       " 'Aliey',\n",
       " 'Thewis',\n",
       " 'Book',\n",
       " 'Ritany',\n",
       " 'Arlen',\n",
       " 'Shaele',\n",
       " 'Fanne',\n",
       " 'Carry',\n",
       " 'Coobix',\n",
       " 'Natald',\n",
       " 'nan',\n",
       " 'Oline',\n",
       " 'Graviph',\n",
       " 'Aldeba',\n",
       " 'Alaratz',\n",
       " 'Izark',\n",
       " 'Aldera',\n",
       " 'Moth',\n",
       " 'Idary',\n",
       " 'Maura',\n",
       " 'Rohs',\n",
       " 'Alhenah',\n",
       " 'Batan',\n",
       " 'Kleeiak',\n",
       " 'Bees',\n",
       " 'Shelle',\n",
       " 'Iree',\n",
       " 'Milly',\n",
       " 'Miloss',\n",
       " 'Grohs',\n",
       " 'Barave',\n",
       " 'Race',\n",
       " 'Flynx',\n",
       " 'Egrasp',\n",
       " 'Camina',\n",
       " 'nan',\n",
       " 'Fayene',\n",
       " 'Monah',\n",
       " 'Charda',\n",
       " 'Evaley',\n",
       " 'Verney',\n",
       " 'Pyrohs',\n",
       " 'Guadae',\n",
       " 'Verly',\n",
       " 'Samie',\n",
       " 'Corsh',\n",
       " 'Billya',\n",
       " 'Shanie',\n",
       " 'Andan',\n",
       " 'Gory',\n",
       " 'Kabiton',\n",
       " 'Scharab',\n",
       " 'Fany',\n",
       " 'Ianya',\n",
       " 'Graven',\n",
       " 'Miten',\n",
       " 'Rios',\n",
       " 'Wandy',\n",
       " 'Mollie',\n",
       " 'Coracy',\n",
       " 'Hanna',\n",
       " 'Hilip',\n",
       " 'Doryn',\n",
       " 'Toperon',\n",
       " 'Wees',\n",
       " 'Elaney',\n",
       " 'Raque',\n",
       " 'Sallyl',\n",
       " 'Nancis',\n",
       " 'Ksorab',\n",
       " 'Stany',\n",
       " 'Camiet',\n",
       " 'Branda',\n",
       " 'Helly',\n",
       " 'nan',\n",
       " 'Tance',\n",
       " 'Robyny',\n",
       " 'Lilace',\n",
       " 'Sps',\n",
       " 'Frook',\n",
       " 'Goles',\n",
       " 'Bar',\n",
       " 'Caper',\n",
       " 'Astrak',\n",
       " 'Jeroy',\n",
       " 'Regana',\n",
       " 'Elia',\n",
       " 'Kaffias',\n",
       " 'Edaruma',\n",
       " 'Pomera',\n",
       " 'Vegas',\n",
       " 'Ancham',\n",
       " 'Carma',\n",
       " 'Nuson',\n",
       " 'Thony',\n",
       " 'Arraid',\n",
       " 'Pebuts',\n",
       " 'Corsh',\n",
       " 'Picers',\n",
       " 'Inen',\n",
       " 'Shally',\n",
       " 'Carita',\n",
       " 'Searla',\n",
       " 'Prilly',\n",
       " 'Nica',\n",
       " 'Tyle',\n",
       " 'Wena',\n",
       " 'Branca',\n",
       " 'Dont',\n",
       " 'Velyne',\n",
       " 'Weney',\n",
       " 'Guye',\n",
       " 'Cowhex',\n",
       " 'Yogark',\n",
       " 'Jacks',\n",
       " 'Eerch',\n",
       " 'Panbug',\n",
       " 'Gran',\n",
       " 'Rohs',\n",
       " 'Gone',\n",
       " 'Colf',\n",
       " 'Grake',\n",
       " 'Evan',\n",
       " 'Blues',\n",
       " 'Carly',\n",
       " 'Done',\n",
       " 'Krus',\n",
       " 'Nica',\n",
       " 'Teda',\n",
       " 'Keitha',\n",
       " 'Weias',\n",
       " 'Diedow',\n",
       " 'Puffes',\n",
       " 'Alas',\n",
       " 'Almone',\n",
       " 'Lilace',\n",
       " 'Froos',\n",
       " 'Tous',\n",
       " 'Glueba',\n",
       " 'Anchib',\n",
       " 'Mele',\n",
       " 'Genifi',\n",
       " 'Camily',\n",
       " 'Diphah',\n",
       " 'Leenny',\n",
       " 'Dawne',\n",
       " 'Race',\n",
       " 'Ashir',\n",
       " 'Errohs',\n",
       " 'Squars',\n",
       " 'Feryla',\n",
       " 'Segino',\n",
       " 'Dord',\n",
       " 'Maen',\n",
       " 'Etair',\n",
       " 'Lilace',\n",
       " 'Lerome',\n",
       " 'Cathya',\n",
       " 'Terf',\n",
       " 'Byront',\n",
       " 'Judya',\n",
       " 'Marice',\n",
       " 'Derine',\n",
       " 'Valex',\n",
       " 'Jacky',\n",
       " 'Roydo',\n",
       " 'Krabik',\n",
       " 'Grasath',\n",
       " 'Carita',\n",
       " 'Tetra',\n",
       " 'Alasym',\n",
       " 'Gory',\n",
       " 'Furuson',\n",
       " 'Skaton',\n",
       " 'Algor',\n",
       " 'Dhenar',\n",
       " 'Atino',\n",
       " 'Castab',\n",
       " 'Phonons',\n",
       " 'Ernice',\n",
       " 'Ashird',\n",
       " 'Margia',\n",
       " 'Lesley',\n",
       " 'Oraryn',\n",
       " 'Betena',\n",
       " 'Suhelik',\n",
       " 'Dony',\n",
       " 'Natald',\n",
       " 'Billya',\n",
       " 'Naviton',\n",
       " 'Briney',\n",
       " 'Jona',\n",
       " 'Jaimer',\n",
       " 'Hary',\n",
       " 'Kell',\n",
       " 'Adriet',\n",
       " 'Hallah',\n",
       " 'Beneba',\n",
       " 'Breney',\n",
       " 'Garley',\n",
       " 'Quites',\n",
       " 'Annya',\n",
       " 'Carma',\n",
       " 'Charly',\n",
       " 'Jasony',\n",
       " 'Bellah',\n",
       " 'nan',\n",
       " 'Hekaton',\n",
       " 'Lewise',\n",
       " 'Phios',\n",
       " 'Unfly',\n",
       " 'Maura',\n",
       " 'Guanch',\n",
       " 'Weros',\n",
       " 'nan',\n",
       " 'Ireen',\n",
       " 'Pentard',\n",
       " 'Lorian',\n",
       " 'Meremy',\n",
       " 'Berios',\n",
       " 'Lynney',\n",
       " 'Cousk',\n",
       " 'Stray',\n",
       " 'Weet',\n",
       " 'Loresa',\n",
       " 'Hits',\n",
       " 'Tricky',\n",
       " 'Pharmus',\n",
       " 'Eduard',\n",
       " 'Ronna',\n",
       " 'Dandy',\n",
       " 'Celine',\n",
       " 'Elancy',\n",
       " 'Virgie',\n",
       " 'Dandra',\n",
       " 'Resers',\n",
       " 'Batech',\n",
       " 'Veroy',\n",
       " 'Tine',\n",
       " 'Chrey',\n",
       " 'nan',\n",
       " 'Billex',\n",
       " 'Luzel',\n",
       " 'Francy',\n",
       " 'Wezncha',\n",
       " 'Bram',\n",
       " 'Marfak',\n",
       " 'Muonons',\n",
       " 'Polaton',\n",
       " 'Sollum',\n",
       " 'Achib',\n",
       " 'Brita',\n",
       " 'Zinopus',\n",
       " 'Mesatan',\n",
       " 'Aston',\n",
       " 'Blanie',\n",
       " 'Phia',\n",
       " 'Evane',\n",
       " 'Cliney',\n",
       " 'Ellard',\n",
       " 'Tanley',\n",
       " 'Verek',\n",
       " 'Fanna',\n",
       " 'Elanda',\n",
       " 'Dabik',\n",
       " 'Ward',\n",
       " 'Meropus',\n",
       " 'Hadyon',\n",
       " 'Brinez',\n",
       " 'Graw',\n",
       " 'Wales',\n",
       " 'Luse',\n",
       " 'Parney',\n",
       " 'Teron',\n",
       " 'Push',\n",
       " 'Denis',\n",
       " 'Dandy',\n",
       " 'Luzel',\n",
       " 'Dennya',\n",
       " 'Cus',\n",
       " 'Mats',\n",
       " 'Tyrona',\n",
       " 'Benny',\n",
       " 'Baton',\n",
       " 'Elina',\n",
       " 'Iney',\n",
       " 'Lesatik',\n",
       " 'Mirark',\n",
       " 'Enifik',\n",
       " 'Syrmark',\n",
       " 'Blesh',\n",
       " 'Cowns',\n",
       " 'Ree',\n",
       " 'Algor',\n",
       " 'Chargin',\n",
       " 'Aino',\n",
       " 'Taurak',\n",
       " 'Eliana',\n",
       " 'Fronch',\n",
       " 'Caper',\n",
       " 'Hekark',\n",
       " 'Naosura',\n",
       " 'Row',\n",
       " 'Allie',\n",
       " 'Sallyl',\n",
       " 'Lilace',\n",
       " 'Lynnee',\n",
       " 'Debora',\n",
       " 'Dyonon',\n",
       " 'Izarino',\n",
       " 'Loree',\n",
       " 'Elica',\n",
       " 'Camonk',\n",
       " 'Colal',\n",
       " 'Loria',\n",
       " 'Rice',\n",
       " 'Hadira',\n",
       " 'Ferry',\n",
       " 'Elara',\n",
       " 'nan',\n",
       " 'Nathy',\n",
       " 'Swafox',\n",
       " 'Aldun',\n",
       " 'Minopus',\n",
       " 'Wezena',\n",
       " 'Tabius',\n",
       " 'Etair',\n",
       " 'Hallux',\n",
       " 'Lulah',\n",
       " 'Leonyl',\n",
       " 'Sallyl',\n",
       " 'Joela',\n",
       " 'Zanin',\n",
       " 'Hardy',\n",
       " 'Shawne',\n",
       " 'Shany',\n",
       " 'Warry',\n",
       " 'Len',\n",
       " 'Ronia',\n",
       " 'Grats',\n",
       " 'Flamal',\n",
       " 'Deandy',\n",
       " 'Kyley',\n",
       " 'Aude',\n",
       " 'Haryn',\n",
       " 'Aptal',\n",
       " 'Jurs',\n",
       " 'Astab',\n",
       " 'Izarino',\n",
       " 'Stene',\n",
       " 'Nicey',\n",
       " 'Danie',\n",
       " 'Coves',\n",
       " 'Book',\n",
       " 'Beah',\n",
       " 'Benny',\n",
       " 'Chrisa',\n",
       " 'Gera',\n",
       " 'Anny',\n",
       " 'Isaacy',\n",
       " 'Furudah',\n",
       " 'Sadirak',\n",
       " 'Chery',\n",
       " 'Hanne',\n",
       " 'Batomam',\n",
       " 'Kastrak',\n",
       " 'Eclass',\n",
       " 'Yogark',\n",
       " 'Ots',\n",
       " 'Hadirk',\n",
       " 'Pigars',\n",
       " 'Gal',\n",
       " 'Torms',\n",
       " 'Pios',\n",
       " 'Thabius',\n",
       " 'Mirfar',\n",
       " 'Sterops',\n",
       " 'Tauria',\n",
       " 'Azharga',\n",
       " 'Alheneb',\n",
       " 'Kad',\n",
       " 'Kylen',\n",
       " 'Astrark',\n",
       " 'Sadirak',\n",
       " 'Ankalik',\n",
       " 'Rayley',\n",
       " 'Alramix',\n",
       " 'Vindem',\n",
       " 'Jandy',\n",
       " 'Soyos',\n",
       " 'Ryany',\n",
       " 'Bel',\n",
       " 'Hery',\n",
       " 'Glenry',\n",
       " 'Helley',\n",
       " 'Wenise',\n",
       " 'Supce',\n",
       " 'Llat',\n",
       " 'Alasmon',\n",
       " 'Ericia',\n",
       " 'Estine',\n",
       " 'Darley',\n",
       " 'Tops',\n",
       " 'Asellux',\n",
       " 'Weia',\n",
       " 'Kylen',\n",
       " 'Walla',\n",
       " 'Tard',\n",
       " 'Achyon',\n",
       " 'Alderak',\n",
       " 'Betenif',\n",
       " 'Mardyon',\n",
       " 'Jell',\n",
       " 'Rantax',\n",
       " 'Landa',\n",
       " 'Kaye',\n",
       " 'Shawne',\n",
       " 'Trick',\n",
       " 'Kariel',\n",
       " 'Warets',\n",
       " 'Guans',\n",
       " 'Maen',\n",
       " 'Stene',\n",
       " 'Minkab',\n",
       " 'Tope',\n",
       " 'Gluinol',\n",
       " 'Alraixa',\n",
       " 'Alhain',\n",
       " 'Jilla',\n",
       " 'Margia',\n",
       " 'Anniey',\n",
       " 'Tonyn',\n",
       " 'Annah',\n",
       " 'Jessa',\n",
       " 'Hamsp',\n",
       " 'Bath',\n",
       " 'Taura',\n",
       " 'Aldibi',\n",
       " 'Cines',\n",
       " 'Muls',\n",
       " 'Jeron',\n",
       " 'Enibik',\n",
       " 'Pentard',\n",
       " 'Tin',\n",
       " 'Chard',\n",
       " 'Branev',\n",
       " 'Alchium',\n",
       " 'Bahoton',\n",
       " 'Izark',\n",
       " 'Polam',\n",
       " 'Hasich',\n",
       " 'Isoton',\n",
       " 'Lesley',\n",
       " 'Deandy',\n",
       " 'Minoton',\n",
       " 'Melice',\n",
       " 'Gwendy',\n",
       " 'Greggy',\n",
       " 'Scotty',\n",
       " 'Guye',\n",
       " 'Chael',\n",
       " 'Dicks',\n",
       " 'Muebix',\n",
       " 'Beeres',\n",
       " 'Cricks',\n",
       " 'Graven',\n",
       " 'Sugard',\n",
       " 'Flams',\n",
       " 'Askeid',\n",
       " 'Gorn',\n",
       " 'Camiet',\n",
       " 'Maya',\n",
       " 'Chelsa',\n",
       " 'Loreen',\n",
       " 'Hon',\n",
       " 'Joana',\n",
       " 'Cores',\n",
       " 'Ton',\n",
       " 'Arllia',\n",
       " 'Bertle',\n",
       " 'Gabrin',\n",
       " 'Losp',\n",
       " 'Bases',\n",
       " 'Apple',\n",
       " 'Honjay',\n",
       " 'Muonon',\n",
       " 'Seats',\n",
       " 'Oats',\n",
       " 'Rana',\n",
       " 'Lyny',\n",
       " 'Dyonium',\n",
       " 'Mino',\n",
       " 'Pola',\n",
       " 'Maril',\n",
       " 'Guteda',\n",
       " 'Erie',\n",
       " 'Paulas',\n",
       " 'Achyon',\n",
       " 'Feline',\n",
       " 'Blancy',\n",
       " 'Elina',\n",
       " 'Stance',\n",
       " 'Philda',\n",
       " 'Troyce',\n",
       " 'Scellus',\n",
       " 'Ankabit',\n",
       " 'Ellene',\n",
       " 'Joela',\n",
       " 'Rickie',\n",
       " 'Cord',\n",
       " 'Croos',\n",
       " 'Cakes',\n",
       " 'Patoya',\n",
       " 'Ronna',\n",
       " 'Millia',\n",
       " 'Craine',\n",
       " 'Loresa',\n",
       " 'Cowl',\n",
       " 'Eleonon',\n",
       " 'Dory',\n",
       " 'Krisa',\n",
       " 'Dilatik',\n",
       " 'Aviton',\n",
       " 'Chabik',\n",
       " 'Tachir',\n",
       " 'Duhrk',\n",
       " 'Tran',\n",
       " 'Hadlam',\n",
       " 'Troyra',\n",
       " 'Errim',\n",
       " 'Lidex',\n",
       " 'Anack',\n",
       " 'Oareel',\n",
       " 'Eulah',\n",
       " 'Rionk',\n",
       " 'Phios',\n",
       " 'Nicey',\n",
       " 'nan',\n",
       " 'Glenna',\n",
       " 'Ernice',\n",
       " 'Stal',\n",
       " 'Leonyl',\n",
       " 'Misadr',\n",
       " 'Jeroy',\n",
       " 'Jabba',\n",
       " 'Cineys',\n",
       " 'Lix',\n",
       " 'Rician',\n",
       " 'Elanie',\n",
       " 'Veroy',\n",
       " 'Josey',\n",
       " 'Grette',\n",
       " 'Lorian',\n",
       " 'Bettie',\n",
       " 'Vana',\n",
       " 'Garyan',\n",
       " 'Annard',\n",
       " 'Joandy',\n",
       " 'Grany',\n",
       " 'Wheals',\n",
       " 'Sug',\n",
       " 'Trohs',\n",
       " 'Jack',\n",
       " 'Arl',\n",
       " 'Permit',\n",
       " 'Cheat',\n",
       " 'Lix',\n",
       " 'Goos',\n",
       " 'Chard',\n",
       " 'Yapich',\n",
       " 'Bubbix',\n",
       " 'Fis',\n",
       " 'Moss',\n",
       " 'Mothab',\n",
       " 'Tetraix',\n",
       " 'Stany',\n",
       " 'Dixiel',\n",
       " 'Roswal',\n",
       " 'Flyros',\n",
       " 'Menkibi',\n",
       " 'Briane',\n",
       " 'Brank',\n",
       " 'Adanne',\n",
       " 'Denny',\n",
       " 'Jorgie',\n",
       " 'Astorux',\n",
       " 'Thaban',\n",
       " 'Props',\n",
       " 'Nute',\n",
       " 'Pik',\n",
       " 'Crans',\n",
       " 'Vivia',\n",
       " 'Erie',\n",
       " 'Claine',\n",
       " 'Sony',\n",
       " 'Charry',\n",
       " 'Jeanny',\n",
       " 'Man',\n",
       " 'Brene',\n",
       " 'Izarfik',\n",
       " 'Alendy',\n",
       " 'Naros',\n",
       " 'Mela',\n",
       " 'Verly',\n",
       " 'Branda',\n",
       " 'Johna',\n",
       " 'Briam',\n",
       " 'Jilla',\n",
       " 'Lulah',\n",
       " 'Elinda',\n",
       " 'Lerion',\n",
       " 'Charmus',\n",
       " 'Ran',\n",
       " 'Dyonevi',\n",
       " 'Zaurah',\n",
       " 'Thab',\n",
       " 'Loree',\n",
       " 'Milyla',\n",
       " 'Tiney',\n",
       " 'Mesarix',\n",
       " 'nan',\n",
       " 'Matan',\n",
       " 'Atikard',\n",
       " 'Ashelik',\n",
       " 'Ranon',\n",
       " 'Hadalm',\n",
       " 'Mins',\n",
       " 'Izarki',\n",
       " 'Elody',\n",
       " 'Danna',\n",
       " 'Frus',\n",
       " 'Ponts',\n",
       " 'Francy',\n",
       " 'Maiam',\n",
       " 'Arix',\n",
       " 'Astrah',\n",
       " 'Alendy',\n",
       " 'Sanney',\n",
       " 'Hughy',\n",
       " 'Kimmy',\n",
       " 'Harlen',\n",
       " 'nan',\n",
       " 'Troyra',\n",
       " 'Minoton',\n",
       " 'Halleth',\n",
       " 'Weia',\n",
       " 'Arrain',\n",
       " 'Gwendy',\n",
       " 'Breney',\n",
       " 'Wasalm',\n",
       " 'Holey',\n",
       " 'Diandy',\n",
       " 'Clus',\n",
       " 'Grafirk',\n",
       " 'Francy',\n",
       " 'Robyny',\n",
       " 'Ritany',\n",
       " 'nan',\n",
       " 'Mesath',\n",
       " 'Auvan',\n",
       " 'Zaninon',\n",
       " 'Fanne',\n",
       " 'Neila',\n",
       " 'Millie',\n",
       " 'Nakes',\n",
       " 'Squars',\n",
       " 'Pristy',\n",
       " 'Alatrix',\n",
       " 'Hery',\n",
       " 'Ecco',\n",
       " 'Genibah',\n",
       " 'Plat',\n",
       " 'Glueba',\n",
       " 'Deaney',\n",
       " 'Bonyam',\n",
       " 'Benew',\n",
       " 'Oaters',\n",
       " 'Crin',\n",
       " 'Smal',\n",
       " 'Wales',\n",
       " 'Ranutz',\n",
       " 'Pan',\n",
       " 'Phams',\n",
       " 'Frouse',\n",
       " 'Wenise',\n",
       " 'Giedir',\n",
       " 'Carona',\n",
       " 'Ksorab',\n",
       " 'Patsya',\n",
       " 'Hanry',\n",
       " 'Sus',\n",
       " 'Scotte',\n",
       " 'Chadie',\n",
       " 'Wenten',\n",
       " 'Teda',\n",
       " 'Alendy',\n",
       " 'Danna',\n",
       " 'Juliey',\n",
       " 'Rosey',\n",
       " 'Myrace',\n",
       " 'Eilan',\n",
       " 'Tarmus',\n",
       " 'Garry',\n",
       " 'Briane',\n",
       " 'Set',\n",
       " 'Grumak',\n",
       " 'Ebonyd',\n",
       " 'Achbah',\n",
       " 'Tera',\n",
       " 'Sts',\n",
       " 'Monam',\n",
       " 'Cellum',\n",
       " 'Tareson',\n",
       " 'Koops',\n",
       " 'Iandy',\n",
       " 'Hamelik',\n",
       " 'Eleaha',\n",
       " 'nan',\n",
       " 'Jone',\n",
       " 'Lynez',\n",
       " 'Rald',\n",
       " 'nan',\n",
       " 'Neutria',\n",
       " 'Ernice',\n",
       " 'Ianya',\n",
       " 'Hilley',\n",
       " 'Dessie',\n",
       " 'Polar',\n",
       " 'Garyan',\n",
       " 'Breney',\n",
       " 'nan',\n",
       " 'Teryla',\n",
       " 'Hallus',\n",
       " 'Sceres',\n",
       " 'Therta',\n",
       " 'Gollux',\n",
       " 'Elson',\n",
       " 'Chelsa',\n",
       " 'Velyne',\n",
       " 'Marfak',\n",
       " 'Izaron',\n",
       " 'nan',\n",
       " 'Rica',\n",
       " 'Jilla',\n",
       " 'Evane',\n",
       " 'Allene',\n",
       " 'Grake',\n",
       " 'Duana',\n",
       " 'Nelley',\n",
       " 'Wein',\n",
       " 'Gicks',\n",
       " 'Gwenda',\n",
       " 'Achah',\n",
       " 'Marinon',\n",
       " 'Violey',\n",
       " 'Angars',\n",
       " 'Froops',\n",
       " 'Dyonon',\n",
       " 'Shail',\n",
       " 'Jerrye',\n",
       " 'Caseye',\n",
       " 'Hery',\n",
       " 'Gracy',\n",
       " 'Shaiam',\n",
       " 'Achyon',\n",
       " 'Hadaron',\n",
       " 'Alpha',\n",
       " 'Jona',\n",
       " 'Skix',\n",
       " 'Varkes',\n",
       " 'Almone',\n",
       " 'Minchib',\n",
       " 'Alkeson',\n",
       " 'Emmax',\n",
       " 'Elene',\n",
       " 'Arlie',\n",
       " 'Elanie',\n",
       " 'Therie',\n",
       " 'Boats',\n",
       " 'nan',\n",
       " 'Astorux',\n",
       " 'Terly',\n",
       " 'Earlie',\n",
       " 'Walles',\n",
       " 'Tiney',\n",
       " 'Eulah',\n",
       " 'Armen',\n",
       " 'Carita',\n",
       " 'Triple',\n",
       " 'Hilley',\n",
       " 'Terrie',\n",
       " 'Verly',\n",
       " 'Lyny',\n",
       " 'Benny',\n",
       " 'Done',\n",
       " 'Grios',\n",
       " 'Erice',\n",
       " 'Glena',\n",
       " 'Jimen',\n",
       " 'Waffs',\n",
       " 'Lorian',\n",
       " 'Gailia',\n",
       " 'Alderak',\n",
       " 'Weidus',\n",
       " 'Wacks',\n",
       " 'Duana',\n",
       " 'Tyrona',\n",
       " 'Lar',\n",
       " 'Tamie',\n",
       " 'nan',\n",
       " 'Glendy',\n",
       " 'Allena',\n",
       " 'Tonyn',\n",
       " 'Lesley',\n",
       " 'Gimph',\n",
       " 'Eriky',\n",
       " 'Joyton',\n",
       " 'Teremy',\n",
       " 'Wen',\n",
       " 'nan',\n",
       " 'Morrie',\n",
       " 'Lyde',\n",
       " 'Greggy',\n",
       " 'Walley',\n",
       " 'Shery',\n",
       " 'Alancy',\n",
       " 'Dory',\n",
       " 'Fayen',\n",
       " 'Lyne',\n",
       " 'Jeresa',\n",
       " 'Kayd',\n",
       " 'Tonia',\n",
       " 'Bethew',\n",
       " 'Zino',\n",
       " 'Tareson',\n",
       " 'Matan',\n",
       " 'Naosa',\n",
       " 'Sinon',\n",
       " 'Weidus',\n",
       " 'Juanie',\n",
       " 'Ellene',\n",
       " 'Dell',\n",
       " 'Chabik',\n",
       " 'Berios',\n",
       " 'Muonin',\n",
       " 'Alus',\n",
       " 'Nadie',\n",
       " 'Caish',\n",
       " 'Bun',\n",
       " 'Spuffs',\n",
       " 'Aldun',\n",
       " 'Coreee',\n",
       " 'Velyne',\n",
       " 'Stany',\n",
       " 'Stenny',\n",
       " 'Wasatz',\n",
       " 'Wimpha',\n",
       " 'Camie',\n",
       " 'Kaye',\n",
       " 'Valey',\n",
       " 'Weslie',\n",
       " 'Ranuts',\n",
       " 'Wilmay',\n",
       " 'Joya',\n",
       " 'Elaney',\n",
       " 'Melia',\n",
       " 'Appers',\n",
       " 'Melvia',\n",
       " 'Verly',\n",
       " 'Myrace',\n",
       " 'Bellee',\n",
       " 'Bethew',\n",
       " 'Chrisa',\n",
       " 'Lilace',\n",
       " 'Cort',\n",
       " 'Anamse',\n",
       " 'Basps',\n",
       " 'Trine',\n",
       " 'Crowk',\n",
       " 'Jorgie',\n",
       " 'Warry',\n",
       " 'Aude',\n",
       " 'Ericky',\n",
       " 'Aliedy',\n",
       " 'Nutz',\n",
       " 'Laude',\n",
       " 'Naomie',\n",
       " 'Clard',\n",
       " 'Algrafi',\n",
       " 'Gwenda',\n",
       " 'Halsham',\n",
       " 'Shail',\n",
       " 'Wena',\n",
       " 'nan',\n",
       " 'Deany',\n",
       " 'Ockies',\n",
       " 'Yakers',\n",
       " 'Frandy',\n",
       " 'Leenny',\n",
       " 'Rald',\n",
       " 'Blanie',\n",
       " 'Cineys',\n",
       " 'Otlios',\n",
       " 'Cherkar',\n",
       " 'Keithy',\n",
       " 'Willip',\n",
       " 'Erina',\n",
       " 'Markar',\n",
       " 'Aldebah',\n",
       " ...]"
      ]
     },
     "execution_count": 20,
     "metadata": {},
     "output_type": "execute_result"
    }
   ],
   "source": [
    "names_train_data"
   ]
  },
  {
   "cell_type": "code",
   "execution_count": 21,
   "id": "43e0203a",
   "metadata": {
    "ExecuteTime": {
     "end_time": "2022-11-25T03:38:47.148440Z",
     "start_time": "2022-11-25T03:38:47.085441Z"
    }
   },
   "outputs": [],
   "source": [
    "# 나이브 베어스 모델 학습\n",
    "featuresets = [(gender_features(n), gender) for (n, gender) in labeled_names]\n",
    "classifier = NaiveBayesClassifier.train(featuresets)"
   ]
  },
  {
   "cell_type": "code",
   "execution_count": 22,
   "id": "92df7fdc",
   "metadata": {
    "ExecuteTime": {
     "end_time": "2022-11-25T03:38:47.212440Z",
     "start_time": "2022-11-25T03:38:47.149441Z"
    }
   },
   "outputs": [],
   "source": [
    "# 성별 feature 생성\n",
    "names_gender = []\n",
    "for i in names_train_data:\n",
    "    names_gender.append(classifier.classify(gender_features(i)))\n",
    "\n",
    "# create new column called 'gender'    \n",
    "data[\"Gender\"] = names_gender"
   ]
  },
  {
   "cell_type": "code",
   "execution_count": 23,
   "id": "f5f23816",
   "metadata": {
    "ExecuteTime": {
     "end_time": "2022-11-25T03:38:47.228440Z",
     "start_time": "2022-11-25T03:38:47.213440Z"
    }
   },
   "outputs": [],
   "source": [
    "data.Gender[data.Name.isna()] = 'female'"
   ]
  },
  {
   "cell_type": "code",
   "execution_count": 24,
   "id": "4517b510",
   "metadata": {
    "ExecuteTime": {
     "end_time": "2022-11-25T03:38:47.244440Z",
     "start_time": "2022-11-25T03:38:47.228440Z"
    }
   },
   "outputs": [
    {
     "data": {
      "text/plain": [
       "array(['female'], dtype=object)"
      ]
     },
     "execution_count": 24,
     "metadata": {},
     "output_type": "execute_result"
    }
   ],
   "source": [
    "data.Gender[data.Name.isna()].unique()"
   ]
  },
  {
   "cell_type": "code",
   "execution_count": 25,
   "id": "b8b0ea42",
   "metadata": {
    "ExecuteTime": {
     "end_time": "2022-11-25T03:38:47.260440Z",
     "start_time": "2022-11-25T03:38:47.244440Z"
    }
   },
   "outputs": [],
   "source": [
    "# 테스트 세트 이름과 성 분리\n",
    "names_test_data = []\n",
    "for i in test[\"Name\"]:\n",
    "    i = str(i)\n",
    "    a = i.split()\n",
    "    names_test_data.append(a[0])"
   ]
  },
  {
   "cell_type": "code",
   "execution_count": 26,
   "id": "a3a5c5b5",
   "metadata": {
    "ExecuteTime": {
     "end_time": "2022-11-25T03:38:47.276440Z",
     "start_time": "2022-11-25T03:38:47.261440Z"
    }
   },
   "outputs": [],
   "source": [
    "# NLTK의 names 파일을 활용하여 이름을 여성과 남성으로 분리\n",
    "labeled_names = [(name, \"female\") for name in names.words(\"female.txt\")] + \\\n",
    "[(name, \"male\") for name in names.words(\"male.txt\")]\n",
    "random.shuffle(labeled_names)"
   ]
  },
  {
   "cell_type": "code",
   "execution_count": 27,
   "id": "df61f1df",
   "metadata": {
    "ExecuteTime": {
     "end_time": "2022-11-25T03:38:47.292440Z",
     "start_time": "2022-11-25T03:38:47.277440Z"
    }
   },
   "outputs": [],
   "source": [
    "# 나이브 베어스 모델 학습\n",
    "featuresets = [(gender_features(n), gender) for (n, gender) in labeled_names]\n",
    "classifier = NaiveBayesClassifier.train(featuresets)"
   ]
  },
  {
   "cell_type": "code",
   "execution_count": 28,
   "id": "6a1a1eee",
   "metadata": {
    "ExecuteTime": {
     "end_time": "2022-11-25T03:38:47.308440Z",
     "start_time": "2022-11-25T03:38:47.294440Z"
    }
   },
   "outputs": [],
   "source": [
    "# 이름의 마지막 단어 가져오는 함수\n",
    "def gender_features(word):\n",
    "    return {'last_letter': word[-1]}"
   ]
  },
  {
   "cell_type": "code",
   "execution_count": 29,
   "id": "4147d715",
   "metadata": {
    "ExecuteTime": {
     "end_time": "2022-11-25T03:38:47.340440Z",
     "start_time": "2022-11-25T03:38:47.308440Z"
    }
   },
   "outputs": [],
   "source": [
    "# 성별 feature 생성\n",
    "names_gender = []\n",
    "for i in names_test_data:\n",
    "    names_gender.append(classifier.classify(gender_features(i)))"
   ]
  },
  {
   "cell_type": "code",
   "execution_count": 30,
   "id": "bde95e40",
   "metadata": {
    "ExecuteTime": {
     "end_time": "2022-11-25T03:38:47.356440Z",
     "start_time": "2022-11-25T03:38:47.341441Z"
    }
   },
   "outputs": [],
   "source": [
    "test[\"Gender\"] = pd.Series(names_gender)"
   ]
  },
  {
   "cell_type": "code",
   "execution_count": 31,
   "id": "1f06c0d4",
   "metadata": {
    "ExecuteTime": {
     "end_time": "2022-11-25T03:38:47.372440Z",
     "start_time": "2022-11-25T03:38:47.356440Z"
    }
   },
   "outputs": [],
   "source": [
    "test.Gender[test.Name.isna()] = 'female'"
   ]
  },
  {
   "cell_type": "code",
   "execution_count": 32,
   "id": "c50a44fb",
   "metadata": {
    "ExecuteTime": {
     "end_time": "2022-11-25T03:38:47.388440Z",
     "start_time": "2022-11-25T03:38:47.373441Z"
    }
   },
   "outputs": [
    {
     "data": {
      "text/plain": [
       "array(['female'], dtype=object)"
      ]
     },
     "execution_count": 32,
     "metadata": {},
     "output_type": "execute_result"
    }
   ],
   "source": [
    "data.Gender[data.Name.isna()].unique()"
   ]
  },
  {
   "cell_type": "markdown",
   "id": "1dd9e811",
   "metadata": {},
   "source": [
    "## 연령 분류 "
   ]
  },
  {
   "cell_type": "code",
   "execution_count": 33,
   "id": "c1512523",
   "metadata": {
    "ExecuteTime": {
     "end_time": "2022-11-25T03:38:47.419440Z",
     "start_time": "2022-11-25T03:38:47.389440Z"
    },
    "scrolled": false
   },
   "outputs": [
    {
     "data": {
      "text/html": [
       "<div>\n",
       "<style scoped>\n",
       "    .dataframe tbody tr th:only-of-type {\n",
       "        vertical-align: middle;\n",
       "    }\n",
       "\n",
       "    .dataframe tbody tr th {\n",
       "        vertical-align: top;\n",
       "    }\n",
       "\n",
       "    .dataframe thead th {\n",
       "        text-align: right;\n",
       "    }\n",
       "</style>\n",
       "<table border=\"1\" class=\"dataframe\">\n",
       "  <thead>\n",
       "    <tr style=\"text-align: right;\">\n",
       "      <th></th>\n",
       "      <th>PassengerId</th>\n",
       "      <th>HomePlanet</th>\n",
       "      <th>CryoSleep</th>\n",
       "      <th>Cabin1</th>\n",
       "      <th>Combi</th>\n",
       "      <th>Cabin3</th>\n",
       "      <th>Cabin</th>\n",
       "      <th>Destination</th>\n",
       "      <th>Age</th>\n",
       "      <th>VIP</th>\n",
       "      <th>...</th>\n",
       "      <th>Spa</th>\n",
       "      <th>VRDeck</th>\n",
       "      <th>Name</th>\n",
       "      <th>Transported</th>\n",
       "      <th>Total</th>\n",
       "      <th>RichPoor</th>\n",
       "      <th>GroupId</th>\n",
       "      <th>GroupNo</th>\n",
       "      <th>Group</th>\n",
       "      <th>Gender</th>\n",
       "    </tr>\n",
       "  </thead>\n",
       "  <tbody>\n",
       "    <tr>\n",
       "      <th>0</th>\n",
       "      <td>0001_01</td>\n",
       "      <td>Europa</td>\n",
       "      <td>False</td>\n",
       "      <td>B</td>\n",
       "      <td>B0</td>\n",
       "      <td>P</td>\n",
       "      <td>B/0/P</td>\n",
       "      <td>TRAPPIST-1e</td>\n",
       "      <td>3</td>\n",
       "      <td>False</td>\n",
       "      <td>...</td>\n",
       "      <td>0</td>\n",
       "      <td>0</td>\n",
       "      <td>Maham Ofracculy</td>\n",
       "      <td>False</td>\n",
       "      <td>0</td>\n",
       "      <td>poor</td>\n",
       "      <td>0001</td>\n",
       "      <td>01</td>\n",
       "      <td>False</td>\n",
       "      <td>male</td>\n",
       "    </tr>\n",
       "    <tr>\n",
       "      <th>1</th>\n",
       "      <td>0002_01</td>\n",
       "      <td>Earth</td>\n",
       "      <td>False</td>\n",
       "      <td>F</td>\n",
       "      <td>F0</td>\n",
       "      <td>S</td>\n",
       "      <td>F/0/S</td>\n",
       "      <td>TRAPPIST-1e</td>\n",
       "      <td>1</td>\n",
       "      <td>False</td>\n",
       "      <td>...</td>\n",
       "      <td>549</td>\n",
       "      <td>44</td>\n",
       "      <td>Juanna Vines</td>\n",
       "      <td>True</td>\n",
       "      <td>736</td>\n",
       "      <td>poor</td>\n",
       "      <td>0002</td>\n",
       "      <td>01</td>\n",
       "      <td>False</td>\n",
       "      <td>female</td>\n",
       "    </tr>\n",
       "    <tr>\n",
       "      <th>2</th>\n",
       "      <td>0003_01</td>\n",
       "      <td>Europa</td>\n",
       "      <td>False</td>\n",
       "      <td>A</td>\n",
       "      <td>A0</td>\n",
       "      <td>S</td>\n",
       "      <td>A/0/S</td>\n",
       "      <td>TRAPPIST-1e</td>\n",
       "      <td>3</td>\n",
       "      <td>True</td>\n",
       "      <td>...</td>\n",
       "      <td>6715</td>\n",
       "      <td>49</td>\n",
       "      <td>Altark Susent</td>\n",
       "      <td>False</td>\n",
       "      <td>10383</td>\n",
       "      <td>middle</td>\n",
       "      <td>0003</td>\n",
       "      <td>01</td>\n",
       "      <td>True</td>\n",
       "      <td>male</td>\n",
       "    </tr>\n",
       "    <tr>\n",
       "      <th>3</th>\n",
       "      <td>0003_02</td>\n",
       "      <td>Europa</td>\n",
       "      <td>False</td>\n",
       "      <td>A</td>\n",
       "      <td>A0</td>\n",
       "      <td>S</td>\n",
       "      <td>A/0/S</td>\n",
       "      <td>TRAPPIST-1e</td>\n",
       "      <td>2</td>\n",
       "      <td>False</td>\n",
       "      <td>...</td>\n",
       "      <td>3329</td>\n",
       "      <td>193</td>\n",
       "      <td>Solam Susent</td>\n",
       "      <td>False</td>\n",
       "      <td>5176</td>\n",
       "      <td>middle</td>\n",
       "      <td>0003</td>\n",
       "      <td>02</td>\n",
       "      <td>True</td>\n",
       "      <td>male</td>\n",
       "    </tr>\n",
       "    <tr>\n",
       "      <th>4</th>\n",
       "      <td>0004_01</td>\n",
       "      <td>Earth</td>\n",
       "      <td>False</td>\n",
       "      <td>F</td>\n",
       "      <td>F1</td>\n",
       "      <td>S</td>\n",
       "      <td>F/1/S</td>\n",
       "      <td>TRAPPIST-1e</td>\n",
       "      <td>0</td>\n",
       "      <td>False</td>\n",
       "      <td>...</td>\n",
       "      <td>565</td>\n",
       "      <td>2</td>\n",
       "      <td>Willy Santantines</td>\n",
       "      <td>True</td>\n",
       "      <td>1091</td>\n",
       "      <td>poor</td>\n",
       "      <td>0004</td>\n",
       "      <td>01</td>\n",
       "      <td>False</td>\n",
       "      <td>female</td>\n",
       "    </tr>\n",
       "    <tr>\n",
       "      <th>...</th>\n",
       "      <td>...</td>\n",
       "      <td>...</td>\n",
       "      <td>...</td>\n",
       "      <td>...</td>\n",
       "      <td>...</td>\n",
       "      <td>...</td>\n",
       "      <td>...</td>\n",
       "      <td>...</td>\n",
       "      <td>...</td>\n",
       "      <td>...</td>\n",
       "      <td>...</td>\n",
       "      <td>...</td>\n",
       "      <td>...</td>\n",
       "      <td>...</td>\n",
       "      <td>...</td>\n",
       "      <td>...</td>\n",
       "      <td>...</td>\n",
       "      <td>...</td>\n",
       "      <td>...</td>\n",
       "      <td>...</td>\n",
       "      <td>...</td>\n",
       "    </tr>\n",
       "    <tr>\n",
       "      <th>8688</th>\n",
       "      <td>9276_01</td>\n",
       "      <td>Europa</td>\n",
       "      <td>False</td>\n",
       "      <td>A</td>\n",
       "      <td>A98</td>\n",
       "      <td>P</td>\n",
       "      <td>A/98/P</td>\n",
       "      <td>55 Cancri e</td>\n",
       "      <td>3</td>\n",
       "      <td>True</td>\n",
       "      <td>...</td>\n",
       "      <td>1643</td>\n",
       "      <td>74</td>\n",
       "      <td>Gravior Noxnuther</td>\n",
       "      <td>False</td>\n",
       "      <td>8536</td>\n",
       "      <td>middle</td>\n",
       "      <td>9276</td>\n",
       "      <td>01</td>\n",
       "      <td>False</td>\n",
       "      <td>male</td>\n",
       "    </tr>\n",
       "    <tr>\n",
       "      <th>8689</th>\n",
       "      <td>9278_01</td>\n",
       "      <td>Earth</td>\n",
       "      <td>True</td>\n",
       "      <td>G</td>\n",
       "      <td>G1499</td>\n",
       "      <td>S</td>\n",
       "      <td>G/1499/S</td>\n",
       "      <td>PSO J318.5-22</td>\n",
       "      <td>1</td>\n",
       "      <td>False</td>\n",
       "      <td>...</td>\n",
       "      <td>0</td>\n",
       "      <td>0</td>\n",
       "      <td>Kurta Mondalley</td>\n",
       "      <td>False</td>\n",
       "      <td>0</td>\n",
       "      <td>poor</td>\n",
       "      <td>9278</td>\n",
       "      <td>01</td>\n",
       "      <td>False</td>\n",
       "      <td>female</td>\n",
       "    </tr>\n",
       "    <tr>\n",
       "      <th>8690</th>\n",
       "      <td>9279_01</td>\n",
       "      <td>Earth</td>\n",
       "      <td>False</td>\n",
       "      <td>G</td>\n",
       "      <td>G1500</td>\n",
       "      <td>S</td>\n",
       "      <td>G/1500/S</td>\n",
       "      <td>TRAPPIST-1e</td>\n",
       "      <td>1</td>\n",
       "      <td>False</td>\n",
       "      <td>...</td>\n",
       "      <td>1</td>\n",
       "      <td>0</td>\n",
       "      <td>Fayey Connon</td>\n",
       "      <td>True</td>\n",
       "      <td>1873</td>\n",
       "      <td>poor</td>\n",
       "      <td>9279</td>\n",
       "      <td>01</td>\n",
       "      <td>False</td>\n",
       "      <td>female</td>\n",
       "    </tr>\n",
       "    <tr>\n",
       "      <th>8691</th>\n",
       "      <td>9280_01</td>\n",
       "      <td>Europa</td>\n",
       "      <td>False</td>\n",
       "      <td>E</td>\n",
       "      <td>E608</td>\n",
       "      <td>S</td>\n",
       "      <td>E/608/S</td>\n",
       "      <td>55 Cancri e</td>\n",
       "      <td>2</td>\n",
       "      <td>False</td>\n",
       "      <td>...</td>\n",
       "      <td>353</td>\n",
       "      <td>3235</td>\n",
       "      <td>Celeon Hontichre</td>\n",
       "      <td>False</td>\n",
       "      <td>4637</td>\n",
       "      <td>poor</td>\n",
       "      <td>9280</td>\n",
       "      <td>01</td>\n",
       "      <td>True</td>\n",
       "      <td>male</td>\n",
       "    </tr>\n",
       "    <tr>\n",
       "      <th>8692</th>\n",
       "      <td>9280_02</td>\n",
       "      <td>Europa</td>\n",
       "      <td>False</td>\n",
       "      <td>E</td>\n",
       "      <td>E608</td>\n",
       "      <td>S</td>\n",
       "      <td>E/608/S</td>\n",
       "      <td>TRAPPIST-1e</td>\n",
       "      <td>3</td>\n",
       "      <td>False</td>\n",
       "      <td>...</td>\n",
       "      <td>0</td>\n",
       "      <td>12</td>\n",
       "      <td>Propsh Hontichre</td>\n",
       "      <td>True</td>\n",
       "      <td>4826</td>\n",
       "      <td>poor</td>\n",
       "      <td>9280</td>\n",
       "      <td>02</td>\n",
       "      <td>True</td>\n",
       "      <td>female</td>\n",
       "    </tr>\n",
       "  </tbody>\n",
       "</table>\n",
       "<p>8678 rows × 23 columns</p>\n",
       "</div>"
      ],
      "text/plain": [
       "     PassengerId HomePlanet  CryoSleep Cabin1  Combi Cabin3     Cabin  \\\n",
       "0        0001_01     Europa      False      B     B0      P     B/0/P   \n",
       "1        0002_01      Earth      False      F     F0      S     F/0/S   \n",
       "2        0003_01     Europa      False      A     A0      S     A/0/S   \n",
       "3        0003_02     Europa      False      A     A0      S     A/0/S   \n",
       "4        0004_01      Earth      False      F     F1      S     F/1/S   \n",
       "...          ...        ...        ...    ...    ...    ...       ...   \n",
       "8688     9276_01     Europa      False      A    A98      P    A/98/P   \n",
       "8689     9278_01      Earth       True      G  G1499      S  G/1499/S   \n",
       "8690     9279_01      Earth      False      G  G1500      S  G/1500/S   \n",
       "8691     9280_01     Europa      False      E   E608      S   E/608/S   \n",
       "8692     9280_02     Europa      False      E   E608      S   E/608/S   \n",
       "\n",
       "        Destination  Age    VIP  ...   Spa  VRDeck               Name  \\\n",
       "0       TRAPPIST-1e    3  False  ...     0       0    Maham Ofracculy   \n",
       "1       TRAPPIST-1e    1  False  ...   549      44       Juanna Vines   \n",
       "2       TRAPPIST-1e    3   True  ...  6715      49      Altark Susent   \n",
       "3       TRAPPIST-1e    2  False  ...  3329     193       Solam Susent   \n",
       "4       TRAPPIST-1e    0  False  ...   565       2  Willy Santantines   \n",
       "...             ...  ...    ...  ...   ...     ...                ...   \n",
       "8688    55 Cancri e    3   True  ...  1643      74  Gravior Noxnuther   \n",
       "8689  PSO J318.5-22    1  False  ...     0       0    Kurta Mondalley   \n",
       "8690    TRAPPIST-1e    1  False  ...     1       0       Fayey Connon   \n",
       "8691    55 Cancri e    2  False  ...   353    3235   Celeon Hontichre   \n",
       "8692    TRAPPIST-1e    3  False  ...     0      12   Propsh Hontichre   \n",
       "\n",
       "      Transported  Total RichPoor  GroupId  GroupNo  Group  Gender  \n",
       "0           False      0     poor     0001       01  False    male  \n",
       "1            True    736     poor     0002       01  False  female  \n",
       "2           False  10383   middle     0003       01   True    male  \n",
       "3           False   5176   middle     0003       02   True    male  \n",
       "4            True   1091     poor     0004       01  False  female  \n",
       "...           ...    ...      ...      ...      ...    ...     ...  \n",
       "8688        False   8536   middle     9276       01  False    male  \n",
       "8689        False      0     poor     9278       01  False  female  \n",
       "8690         True   1873     poor     9279       01  False  female  \n",
       "8691        False   4637     poor     9280       01   True    male  \n",
       "8692         True   4826     poor     9280       02   True  female  \n",
       "\n",
       "[8678 rows x 23 columns]"
      ]
     },
     "execution_count": 33,
     "metadata": {},
     "output_type": "execute_result"
    }
   ],
   "source": [
    "def get_score(v):\n",
    "    if v <= 16:\n",
    "        score = 0\n",
    "    elif v <= 26:\n",
    "        score = 1\n",
    "    elif v <= 36:\n",
    "        score = 2\n",
    "    elif v <= 62:\n",
    "        score = 3\n",
    "    else:\n",
    "        score = 4\n",
    "    return score\n",
    "\n",
    "# data 데이터 세트 진행\n",
    "data[\"Age\"] = data[\"Age\"].apply(lambda v: get_score(v))\n",
    "data"
   ]
  },
  {
   "cell_type": "code",
   "execution_count": 34,
   "id": "a9d862f4",
   "metadata": {
    "ExecuteTime": {
     "end_time": "2022-11-25T03:38:47.450439Z",
     "start_time": "2022-11-25T03:38:47.420440Z"
    }
   },
   "outputs": [
    {
     "data": {
      "text/html": [
       "<div>\n",
       "<style scoped>\n",
       "    .dataframe tbody tr th:only-of-type {\n",
       "        vertical-align: middle;\n",
       "    }\n",
       "\n",
       "    .dataframe tbody tr th {\n",
       "        vertical-align: top;\n",
       "    }\n",
       "\n",
       "    .dataframe thead th {\n",
       "        text-align: right;\n",
       "    }\n",
       "</style>\n",
       "<table border=\"1\" class=\"dataframe\">\n",
       "  <thead>\n",
       "    <tr style=\"text-align: right;\">\n",
       "      <th></th>\n",
       "      <th>PassengerId</th>\n",
       "      <th>HomePlanet</th>\n",
       "      <th>CryoSleep</th>\n",
       "      <th>Cabin1</th>\n",
       "      <th>Combi</th>\n",
       "      <th>Cabin3</th>\n",
       "      <th>Cabin</th>\n",
       "      <th>Destination</th>\n",
       "      <th>Age</th>\n",
       "      <th>VIP</th>\n",
       "      <th>...</th>\n",
       "      <th>Spa</th>\n",
       "      <th>VRDeck</th>\n",
       "      <th>Name</th>\n",
       "      <th>Transported</th>\n",
       "      <th>Total</th>\n",
       "      <th>RichPoor</th>\n",
       "      <th>GroupId</th>\n",
       "      <th>GroupNo</th>\n",
       "      <th>Group</th>\n",
       "      <th>Gender</th>\n",
       "    </tr>\n",
       "  </thead>\n",
       "  <tbody>\n",
       "    <tr>\n",
       "      <th>0</th>\n",
       "      <td>0013_01</td>\n",
       "      <td>Earth</td>\n",
       "      <td>True</td>\n",
       "      <td>G</td>\n",
       "      <td>G3</td>\n",
       "      <td>S</td>\n",
       "      <td>G/3/S</td>\n",
       "      <td>TRAPPIST-1e</td>\n",
       "      <td>2</td>\n",
       "      <td>False</td>\n",
       "      <td>...</td>\n",
       "      <td>0</td>\n",
       "      <td>0</td>\n",
       "      <td>Nelly Carsoning</td>\n",
       "      <td>True</td>\n",
       "      <td>0</td>\n",
       "      <td>poor</td>\n",
       "      <td>0013</td>\n",
       "      <td>01</td>\n",
       "      <td>False</td>\n",
       "      <td>female</td>\n",
       "    </tr>\n",
       "    <tr>\n",
       "      <th>1</th>\n",
       "      <td>0018_01</td>\n",
       "      <td>Earth</td>\n",
       "      <td>False</td>\n",
       "      <td>F</td>\n",
       "      <td>F4</td>\n",
       "      <td>S</td>\n",
       "      <td>F/4/S</td>\n",
       "      <td>TRAPPIST-1e</td>\n",
       "      <td>1</td>\n",
       "      <td>False</td>\n",
       "      <td>...</td>\n",
       "      <td>2823</td>\n",
       "      <td>0</td>\n",
       "      <td>Lerome Peckers</td>\n",
       "      <td>True</td>\n",
       "      <td>2832</td>\n",
       "      <td>poor</td>\n",
       "      <td>0018</td>\n",
       "      <td>01</td>\n",
       "      <td>False</td>\n",
       "      <td>female</td>\n",
       "    </tr>\n",
       "    <tr>\n",
       "      <th>2</th>\n",
       "      <td>0019_01</td>\n",
       "      <td>Europa</td>\n",
       "      <td>True</td>\n",
       "      <td>C</td>\n",
       "      <td>C0</td>\n",
       "      <td>S</td>\n",
       "      <td>C/0/S</td>\n",
       "      <td>55 Cancri e</td>\n",
       "      <td>2</td>\n",
       "      <td>False</td>\n",
       "      <td>...</td>\n",
       "      <td>0</td>\n",
       "      <td>0</td>\n",
       "      <td>Sabih Unhearfus</td>\n",
       "      <td>True</td>\n",
       "      <td>0</td>\n",
       "      <td>poor</td>\n",
       "      <td>0019</td>\n",
       "      <td>01</td>\n",
       "      <td>False</td>\n",
       "      <td>female</td>\n",
       "    </tr>\n",
       "    <tr>\n",
       "      <th>3</th>\n",
       "      <td>0021_01</td>\n",
       "      <td>Europa</td>\n",
       "      <td>False</td>\n",
       "      <td>C</td>\n",
       "      <td>C1</td>\n",
       "      <td>S</td>\n",
       "      <td>C/1/S</td>\n",
       "      <td>TRAPPIST-1e</td>\n",
       "      <td>3</td>\n",
       "      <td>False</td>\n",
       "      <td>...</td>\n",
       "      <td>181</td>\n",
       "      <td>585</td>\n",
       "      <td>Meratz Caltilter</td>\n",
       "      <td>True</td>\n",
       "      <td>7418</td>\n",
       "      <td>middle</td>\n",
       "      <td>0021</td>\n",
       "      <td>01</td>\n",
       "      <td>False</td>\n",
       "      <td>male</td>\n",
       "    </tr>\n",
       "    <tr>\n",
       "      <th>4</th>\n",
       "      <td>0023_01</td>\n",
       "      <td>Earth</td>\n",
       "      <td>False</td>\n",
       "      <td>F</td>\n",
       "      <td>F5</td>\n",
       "      <td>S</td>\n",
       "      <td>F/5/S</td>\n",
       "      <td>TRAPPIST-1e</td>\n",
       "      <td>1</td>\n",
       "      <td>False</td>\n",
       "      <td>...</td>\n",
       "      <td>0</td>\n",
       "      <td>0</td>\n",
       "      <td>Brence Harperez</td>\n",
       "      <td>True</td>\n",
       "      <td>645</td>\n",
       "      <td>poor</td>\n",
       "      <td>0023</td>\n",
       "      <td>01</td>\n",
       "      <td>False</td>\n",
       "      <td>female</td>\n",
       "    </tr>\n",
       "    <tr>\n",
       "      <th>...</th>\n",
       "      <td>...</td>\n",
       "      <td>...</td>\n",
       "      <td>...</td>\n",
       "      <td>...</td>\n",
       "      <td>...</td>\n",
       "      <td>...</td>\n",
       "      <td>...</td>\n",
       "      <td>...</td>\n",
       "      <td>...</td>\n",
       "      <td>...</td>\n",
       "      <td>...</td>\n",
       "      <td>...</td>\n",
       "      <td>...</td>\n",
       "      <td>...</td>\n",
       "      <td>...</td>\n",
       "      <td>...</td>\n",
       "      <td>...</td>\n",
       "      <td>...</td>\n",
       "      <td>...</td>\n",
       "      <td>...</td>\n",
       "      <td>...</td>\n",
       "    </tr>\n",
       "    <tr>\n",
       "      <th>4272</th>\n",
       "      <td>9266_02</td>\n",
       "      <td>Earth</td>\n",
       "      <td>True</td>\n",
       "      <td>G</td>\n",
       "      <td>G1496</td>\n",
       "      <td>S</td>\n",
       "      <td>G/1496/S</td>\n",
       "      <td>TRAPPIST-1e</td>\n",
       "      <td>2</td>\n",
       "      <td>False</td>\n",
       "      <td>...</td>\n",
       "      <td>0</td>\n",
       "      <td>0</td>\n",
       "      <td>Jeron Peter</td>\n",
       "      <td>True</td>\n",
       "      <td>0</td>\n",
       "      <td>poor</td>\n",
       "      <td>9266</td>\n",
       "      <td>02</td>\n",
       "      <td>True</td>\n",
       "      <td>male</td>\n",
       "    </tr>\n",
       "    <tr>\n",
       "      <th>4273</th>\n",
       "      <td>9269_01</td>\n",
       "      <td>Earth</td>\n",
       "      <td>False</td>\n",
       "      <td>NaN</td>\n",
       "      <td>NaN</td>\n",
       "      <td>NaN</td>\n",
       "      <td>NaN</td>\n",
       "      <td>TRAPPIST-1e</td>\n",
       "      <td>3</td>\n",
       "      <td>False</td>\n",
       "      <td>...</td>\n",
       "      <td>10</td>\n",
       "      <td>144</td>\n",
       "      <td>Matty Scheron</td>\n",
       "      <td>True</td>\n",
       "      <td>1018</td>\n",
       "      <td>poor</td>\n",
       "      <td>9269</td>\n",
       "      <td>01</td>\n",
       "      <td>False</td>\n",
       "      <td>female</td>\n",
       "    </tr>\n",
       "    <tr>\n",
       "      <th>4274</th>\n",
       "      <td>9271_01</td>\n",
       "      <td>Mars</td>\n",
       "      <td>True</td>\n",
       "      <td>D</td>\n",
       "      <td>D296</td>\n",
       "      <td>P</td>\n",
       "      <td>D/296/P</td>\n",
       "      <td>55 Cancri e</td>\n",
       "      <td>2</td>\n",
       "      <td>False</td>\n",
       "      <td>...</td>\n",
       "      <td>0</td>\n",
       "      <td>0</td>\n",
       "      <td>Jayrin Pore</td>\n",
       "      <td>True</td>\n",
       "      <td>0</td>\n",
       "      <td>poor</td>\n",
       "      <td>9271</td>\n",
       "      <td>01</td>\n",
       "      <td>False</td>\n",
       "      <td>male</td>\n",
       "    </tr>\n",
       "    <tr>\n",
       "      <th>4275</th>\n",
       "      <td>9273_01</td>\n",
       "      <td>Europa</td>\n",
       "      <td>False</td>\n",
       "      <td>D</td>\n",
       "      <td>D297</td>\n",
       "      <td>P</td>\n",
       "      <td>D/297/P</td>\n",
       "      <td>TRAPPIST-1e</td>\n",
       "      <td>2</td>\n",
       "      <td>False</td>\n",
       "      <td>...</td>\n",
       "      <td>0</td>\n",
       "      <td>523</td>\n",
       "      <td>Kitakan Conale</td>\n",
       "      <td>True</td>\n",
       "      <td>3203</td>\n",
       "      <td>poor</td>\n",
       "      <td>9273</td>\n",
       "      <td>01</td>\n",
       "      <td>False</td>\n",
       "      <td>male</td>\n",
       "    </tr>\n",
       "    <tr>\n",
       "      <th>4276</th>\n",
       "      <td>9277_01</td>\n",
       "      <td>Earth</td>\n",
       "      <td>True</td>\n",
       "      <td>G</td>\n",
       "      <td>G1498</td>\n",
       "      <td>S</td>\n",
       "      <td>G/1498/S</td>\n",
       "      <td>PSO J318.5-22</td>\n",
       "      <td>3</td>\n",
       "      <td>False</td>\n",
       "      <td>...</td>\n",
       "      <td>0</td>\n",
       "      <td>0</td>\n",
       "      <td>Lilace Leonzaley</td>\n",
       "      <td>True</td>\n",
       "      <td>0</td>\n",
       "      <td>poor</td>\n",
       "      <td>9277</td>\n",
       "      <td>01</td>\n",
       "      <td>False</td>\n",
       "      <td>female</td>\n",
       "    </tr>\n",
       "  </tbody>\n",
       "</table>\n",
       "<p>4277 rows × 23 columns</p>\n",
       "</div>"
      ],
      "text/plain": [
       "     PassengerId HomePlanet  CryoSleep Cabin1  Combi Cabin3     Cabin  \\\n",
       "0        0013_01      Earth       True      G     G3      S     G/3/S   \n",
       "1        0018_01      Earth      False      F     F4      S     F/4/S   \n",
       "2        0019_01     Europa       True      C     C0      S     C/0/S   \n",
       "3        0021_01     Europa      False      C     C1      S     C/1/S   \n",
       "4        0023_01      Earth      False      F     F5      S     F/5/S   \n",
       "...          ...        ...        ...    ...    ...    ...       ...   \n",
       "4272     9266_02      Earth       True      G  G1496      S  G/1496/S   \n",
       "4273     9269_01      Earth      False    NaN    NaN    NaN       NaN   \n",
       "4274     9271_01       Mars       True      D   D296      P   D/296/P   \n",
       "4275     9273_01     Europa      False      D   D297      P   D/297/P   \n",
       "4276     9277_01      Earth       True      G  G1498      S  G/1498/S   \n",
       "\n",
       "        Destination  Age    VIP  ...   Spa  VRDeck              Name  \\\n",
       "0       TRAPPIST-1e    2  False  ...     0       0   Nelly Carsoning   \n",
       "1       TRAPPIST-1e    1  False  ...  2823       0    Lerome Peckers   \n",
       "2       55 Cancri e    2  False  ...     0       0   Sabih Unhearfus   \n",
       "3       TRAPPIST-1e    3  False  ...   181     585  Meratz Caltilter   \n",
       "4       TRAPPIST-1e    1  False  ...     0       0   Brence Harperez   \n",
       "...             ...  ...    ...  ...   ...     ...               ...   \n",
       "4272    TRAPPIST-1e    2  False  ...     0       0       Jeron Peter   \n",
       "4273    TRAPPIST-1e    3  False  ...    10     144     Matty Scheron   \n",
       "4274    55 Cancri e    2  False  ...     0       0       Jayrin Pore   \n",
       "4275    TRAPPIST-1e    2  False  ...     0     523    Kitakan Conale   \n",
       "4276  PSO J318.5-22    3  False  ...     0       0  Lilace Leonzaley   \n",
       "\n",
       "      Transported  Total RichPoor  GroupId  GroupNo  Group  Gender  \n",
       "0            True      0     poor     0013       01  False  female  \n",
       "1            True   2832     poor     0018       01  False  female  \n",
       "2            True      0     poor     0019       01  False  female  \n",
       "3            True   7418   middle     0021       01  False    male  \n",
       "4            True    645     poor     0023       01  False  female  \n",
       "...           ...    ...      ...      ...      ...    ...     ...  \n",
       "4272         True      0     poor     9266       02   True    male  \n",
       "4273         True   1018     poor     9269       01  False  female  \n",
       "4274         True      0     poor     9271       01  False    male  \n",
       "4275         True   3203     poor     9273       01  False    male  \n",
       "4276         True      0     poor     9277       01  False  female  \n",
       "\n",
       "[4277 rows x 23 columns]"
      ]
     },
     "execution_count": 34,
     "metadata": {},
     "output_type": "execute_result"
    }
   ],
   "source": [
    "# 테스트 데이터세트 진행\n",
    "test[\"Age\"] = test[\"Age\"].apply(lambda v: get_score(v))\n",
    "test"
   ]
  },
  {
   "cell_type": "markdown",
   "id": "11abb105",
   "metadata": {},
   "source": [
    "## 불린 타입 피처들 Object형으로 캐스팅"
   ]
  },
  {
   "cell_type": "code",
   "execution_count": 35,
   "id": "b3fb23b7",
   "metadata": {
    "ExecuteTime": {
     "end_time": "2022-11-25T03:38:47.466440Z",
     "start_time": "2022-11-25T03:38:47.451440Z"
    }
   },
   "outputs": [
    {
     "data": {
      "text/plain": [
       "['CryoSleep', 'VIP', 'Transported', 'Group']"
      ]
     },
     "execution_count": 35,
     "metadata": {},
     "output_type": "execute_result"
    }
   ],
   "source": [
    "bool_data = [column for column in data.select_dtypes([\"bool\"])]\n",
    "\n",
    "bool_data"
   ]
  },
  {
   "cell_type": "code",
   "execution_count": 36,
   "id": "be93b421",
   "metadata": {
    "ExecuteTime": {
     "end_time": "2022-11-25T03:38:47.482439Z",
     "start_time": "2022-11-25T03:38:47.467440Z"
    }
   },
   "outputs": [],
   "source": [
    "data[\"VIP\"] = data[\"VIP\"].replace(to_replace = [False, True], \n",
    "                                  value = [\"No\", \"Yes\"]).astype(\"object\")\n",
    "data[\"CryoSleep\"] = data[\"CryoSleep\"].replace(to_replace = [False, True], \n",
    "                                  value = [\"No\", \"Yes\"]).astype(\"object\")\n",
    "data[\"Group\"] = data[\"Group\"].replace(to_replace = [False, True], \n",
    "                                  value = [\"No\", \"Yes\"]).astype(\"object\")"
   ]
  },
  {
   "cell_type": "code",
   "execution_count": 37,
   "id": "c71e72b8",
   "metadata": {
    "ExecuteTime": {
     "end_time": "2022-11-25T03:38:47.498439Z",
     "start_time": "2022-11-25T03:38:47.483440Z"
    }
   },
   "outputs": [
    {
     "name": "stdout",
     "output_type": "stream",
     "text": [
      "<class 'pandas.core.frame.DataFrame'>\n",
      "Int64Index: 8678 entries, 0 to 8692\n",
      "Data columns (total 23 columns):\n",
      " #   Column        Non-Null Count  Dtype \n",
      "---  ------        --------------  ----- \n",
      " 0   PassengerId   8678 non-null   object\n",
      " 1   HomePlanet    8678 non-null   object\n",
      " 2   CryoSleep     8678 non-null   object\n",
      " 3   Cabin1        8575 non-null   object\n",
      " 4   Combi         8575 non-null   object\n",
      " 5   Cabin3        8575 non-null   object\n",
      " 6   Cabin         8575 non-null   object\n",
      " 7   Destination   8678 non-null   object\n",
      " 8   Age           8678 non-null   int64 \n",
      " 9   VIP           8678 non-null   object\n",
      " 10  RoomService   8678 non-null   int64 \n",
      " 11  FoodCourt     8678 non-null   int64 \n",
      " 12  ShoppingMall  8678 non-null   int64 \n",
      " 13  Spa           8678 non-null   int64 \n",
      " 14  VRDeck        8678 non-null   int64 \n",
      " 15  Name          8478 non-null   object\n",
      " 16  Transported   8678 non-null   bool  \n",
      " 17  Total         8678 non-null   int64 \n",
      " 18  RichPoor      8678 non-null   object\n",
      " 19  GroupId       8678 non-null   object\n",
      " 20  GroupNo       8678 non-null   object\n",
      " 21  Group         8678 non-null   object\n",
      " 22  Gender        8678 non-null   object\n",
      "dtypes: bool(1), int64(7), object(15)\n",
      "memory usage: 1.5+ MB\n"
     ]
    }
   ],
   "source": [
    "data.info()"
   ]
  },
  {
   "cell_type": "code",
   "execution_count": 38,
   "id": "3af5a2dc",
   "metadata": {
    "ExecuteTime": {
     "end_time": "2022-11-25T03:38:47.514439Z",
     "start_time": "2022-11-25T03:38:47.499440Z"
    }
   },
   "outputs": [
    {
     "data": {
      "text/plain": [
       "['CryoSleep', 'VIP', 'Transported', 'Group']"
      ]
     },
     "execution_count": 38,
     "metadata": {},
     "output_type": "execute_result"
    }
   ],
   "source": [
    "bool_test = [column for column in test.select_dtypes([\"bool\"])]\n",
    "\n",
    "bool_test"
   ]
  },
  {
   "cell_type": "code",
   "execution_count": 39,
   "id": "63ac7f35",
   "metadata": {
    "ExecuteTime": {
     "end_time": "2022-11-25T03:38:47.530439Z",
     "start_time": "2022-11-25T03:38:47.515440Z"
    }
   },
   "outputs": [],
   "source": [
    "test[\"VIP\"] = test[\"VIP\"].replace(to_replace = [False, True], \n",
    "                                  value = [\"No\", \"Yes\"]).astype(\"object\")\n",
    "test[\"CryoSleep\"] = test[\"CryoSleep\"].replace(to_replace = [False, True], \n",
    "                                  value = [\"No\", \"Yes\"]).astype(\"object\")\n",
    "test[\"Group\"] = test[\"Group\"].replace(to_replace = [False, True], \n",
    "                                  value = [\"No\", \"Yes\"]).astype(\"object\")"
   ]
  },
  {
   "cell_type": "markdown",
   "id": "7a8f94c5",
   "metadata": {},
   "source": [
    "# Cabin 결측값들 제거"
   ]
  },
  {
   "cell_type": "code",
   "execution_count": 40,
   "id": "3b68edc0",
   "metadata": {
    "ExecuteTime": {
     "end_time": "2022-11-25T03:38:47.546439Z",
     "start_time": "2022-11-25T03:38:47.531440Z"
    }
   },
   "outputs": [],
   "source": [
    "data.dropna(axis=0, inplace=True)"
   ]
  },
  {
   "cell_type": "markdown",
   "id": "7e52aa14",
   "metadata": {},
   "source": [
    "# 필요없는 features 제거"
   ]
  },
  {
   "cell_type": "code",
   "execution_count": 41,
   "id": "93e6980a",
   "metadata": {
    "ExecuteTime": {
     "end_time": "2022-11-25T03:38:47.562440Z",
     "start_time": "2022-11-25T03:38:47.546439Z"
    }
   },
   "outputs": [],
   "source": [
    "target = data['Transported']\n",
    "data = data.drop([\"PassengerId\", \"Name\", \"Cabin\", \"Combi\", \"Total\", \"GroupId\", \"GroupNo\", \"Transported\",\n",
    "                 'RoomService', 'FoodCourt','ShoppingMall', 'Spa', 'VRDeck'], axis = 1)\n",
    "test = test.drop([\"PassengerId\", \"Name\", \"Cabin\", \"Combi\", \"Total\", \"GroupId\", \"GroupNo\", \"Transported\",\n",
    "                 'RoomService', 'FoodCourt','ShoppingMall', 'Spa', 'VRDeck'], axis = 1)\n"
   ]
  },
  {
   "cell_type": "markdown",
   "id": "9f9b34ea",
   "metadata": {},
   "source": [
    "# 데이터세트 확인 "
   ]
  },
  {
   "cell_type": "code",
   "execution_count": 42,
   "id": "d2a312b6",
   "metadata": {
    "ExecuteTime": {
     "end_time": "2022-11-25T03:38:47.578439Z",
     "start_time": "2022-11-25T03:38:47.563440Z"
    }
   },
   "outputs": [
    {
     "name": "stdout",
     "output_type": "stream",
     "text": [
      "<class 'pandas.core.frame.DataFrame'>\n",
      "Int64Index: 8375 entries, 0 to 8692\n",
      "Data columns (total 10 columns):\n",
      " #   Column       Non-Null Count  Dtype \n",
      "---  ------       --------------  ----- \n",
      " 0   HomePlanet   8375 non-null   object\n",
      " 1   CryoSleep    8375 non-null   object\n",
      " 2   Cabin1       8375 non-null   object\n",
      " 3   Cabin3       8375 non-null   object\n",
      " 4   Destination  8375 non-null   object\n",
      " 5   Age          8375 non-null   int64 \n",
      " 6   VIP          8375 non-null   object\n",
      " 7   RichPoor     8375 non-null   object\n",
      " 8   Group        8375 non-null   object\n",
      " 9   Gender       8375 non-null   object\n",
      "dtypes: int64(1), object(9)\n",
      "memory usage: 719.7+ KB\n"
     ]
    }
   ],
   "source": [
    "data.info()"
   ]
  },
  {
   "cell_type": "code",
   "execution_count": 43,
   "id": "aff13723",
   "metadata": {
    "ExecuteTime": {
     "end_time": "2022-11-25T03:38:47.594440Z",
     "start_time": "2022-11-25T03:38:47.578439Z"
    },
    "scrolled": true
   },
   "outputs": [
    {
     "name": "stdout",
     "output_type": "stream",
     "text": [
      "<class 'pandas.core.frame.DataFrame'>\n",
      "RangeIndex: 4277 entries, 0 to 4276\n",
      "Data columns (total 10 columns):\n",
      " #   Column       Non-Null Count  Dtype \n",
      "---  ------       --------------  ----- \n",
      " 0   HomePlanet   4277 non-null   object\n",
      " 1   CryoSleep    4277 non-null   object\n",
      " 2   Cabin1       4214 non-null   object\n",
      " 3   Cabin3       4214 non-null   object\n",
      " 4   Destination  4277 non-null   object\n",
      " 5   Age          4277 non-null   int64 \n",
      " 6   VIP          4277 non-null   object\n",
      " 7   RichPoor     4277 non-null   object\n",
      " 8   Group        4277 non-null   object\n",
      " 9   Gender       4277 non-null   object\n",
      "dtypes: int64(1), object(9)\n",
      "memory usage: 334.3+ KB\n"
     ]
    }
   ],
   "source": [
    "test.info()"
   ]
  },
  {
   "cell_type": "markdown",
   "id": "06aa9554",
   "metadata": {},
   "source": [
    "# data, target, test 라벨 인코딩"
   ]
  },
  {
   "cell_type": "code",
   "execution_count": 44,
   "id": "da4033dd",
   "metadata": {
    "ExecuteTime": {
     "end_time": "2022-11-25T03:38:47.610439Z",
     "start_time": "2022-11-25T03:38:47.595440Z"
    }
   },
   "outputs": [],
   "source": [
    "from sklearn.preprocessing import LabelEncoder"
   ]
  },
  {
   "cell_type": "code",
   "execution_count": 45,
   "id": "057c919c",
   "metadata": {
    "ExecuteTime": {
     "end_time": "2022-11-25T03:38:47.626439Z",
     "start_time": "2022-11-25T03:38:47.610439Z"
    }
   },
   "outputs": [],
   "source": [
    "le = LabelEncoder()\n",
    "new_cat = pd.DataFrame()\n",
    "for i in range(0, 10):\n",
    "    le.fit(data.iloc[:, i])\n",
    "    le_encoded = le.transform(data.iloc[:, i])\n",
    "    new_cat[data.columns[i]] = le_encoded"
   ]
  },
  {
   "cell_type": "code",
   "execution_count": 46,
   "id": "5679198f",
   "metadata": {
    "ExecuteTime": {
     "end_time": "2022-11-25T03:38:47.642439Z",
     "start_time": "2022-11-25T03:38:47.626439Z"
    }
   },
   "outputs": [
    {
     "data": {
      "text/html": [
       "<div>\n",
       "<style scoped>\n",
       "    .dataframe tbody tr th:only-of-type {\n",
       "        vertical-align: middle;\n",
       "    }\n",
       "\n",
       "    .dataframe tbody tr th {\n",
       "        vertical-align: top;\n",
       "    }\n",
       "\n",
       "    .dataframe thead th {\n",
       "        text-align: right;\n",
       "    }\n",
       "</style>\n",
       "<table border=\"1\" class=\"dataframe\">\n",
       "  <thead>\n",
       "    <tr style=\"text-align: right;\">\n",
       "      <th></th>\n",
       "      <th>HomePlanet</th>\n",
       "      <th>CryoSleep</th>\n",
       "      <th>Cabin1</th>\n",
       "      <th>Cabin3</th>\n",
       "      <th>Destination</th>\n",
       "      <th>Age</th>\n",
       "      <th>VIP</th>\n",
       "      <th>RichPoor</th>\n",
       "      <th>Group</th>\n",
       "      <th>Gender</th>\n",
       "    </tr>\n",
       "  </thead>\n",
       "  <tbody>\n",
       "    <tr>\n",
       "      <th>0</th>\n",
       "      <td>1</td>\n",
       "      <td>0</td>\n",
       "      <td>1</td>\n",
       "      <td>0</td>\n",
       "      <td>2</td>\n",
       "      <td>3</td>\n",
       "      <td>0</td>\n",
       "      <td>1</td>\n",
       "      <td>0</td>\n",
       "      <td>1</td>\n",
       "    </tr>\n",
       "    <tr>\n",
       "      <th>1</th>\n",
       "      <td>0</td>\n",
       "      <td>0</td>\n",
       "      <td>5</td>\n",
       "      <td>1</td>\n",
       "      <td>2</td>\n",
       "      <td>1</td>\n",
       "      <td>0</td>\n",
       "      <td>1</td>\n",
       "      <td>0</td>\n",
       "      <td>0</td>\n",
       "    </tr>\n",
       "    <tr>\n",
       "      <th>2</th>\n",
       "      <td>1</td>\n",
       "      <td>0</td>\n",
       "      <td>0</td>\n",
       "      <td>1</td>\n",
       "      <td>2</td>\n",
       "      <td>3</td>\n",
       "      <td>1</td>\n",
       "      <td>0</td>\n",
       "      <td>1</td>\n",
       "      <td>1</td>\n",
       "    </tr>\n",
       "    <tr>\n",
       "      <th>3</th>\n",
       "      <td>1</td>\n",
       "      <td>0</td>\n",
       "      <td>0</td>\n",
       "      <td>1</td>\n",
       "      <td>2</td>\n",
       "      <td>2</td>\n",
       "      <td>0</td>\n",
       "      <td>0</td>\n",
       "      <td>1</td>\n",
       "      <td>1</td>\n",
       "    </tr>\n",
       "    <tr>\n",
       "      <th>4</th>\n",
       "      <td>0</td>\n",
       "      <td>0</td>\n",
       "      <td>5</td>\n",
       "      <td>1</td>\n",
       "      <td>2</td>\n",
       "      <td>0</td>\n",
       "      <td>0</td>\n",
       "      <td>1</td>\n",
       "      <td>0</td>\n",
       "      <td>0</td>\n",
       "    </tr>\n",
       "  </tbody>\n",
       "</table>\n",
       "</div>"
      ],
      "text/plain": [
       "   HomePlanet  CryoSleep  Cabin1  Cabin3  Destination  Age  VIP  RichPoor  \\\n",
       "0           1          0       1       0            2    3    0         1   \n",
       "1           0          0       5       1            2    1    0         1   \n",
       "2           1          0       0       1            2    3    1         0   \n",
       "3           1          0       0       1            2    2    0         0   \n",
       "4           0          0       5       1            2    0    0         1   \n",
       "\n",
       "   Group  Gender  \n",
       "0      0       1  \n",
       "1      0       0  \n",
       "2      1       1  \n",
       "3      1       1  \n",
       "4      0       0  "
      ]
     },
     "execution_count": 46,
     "metadata": {},
     "output_type": "execute_result"
    }
   ],
   "source": [
    "new_cat.head()"
   ]
  },
  {
   "cell_type": "code",
   "execution_count": 47,
   "id": "4422a2e9",
   "metadata": {
    "ExecuteTime": {
     "end_time": "2022-11-25T03:38:47.657439Z",
     "start_time": "2022-11-25T03:38:47.643439Z"
    }
   },
   "outputs": [],
   "source": [
    "data = new_cat"
   ]
  },
  {
   "cell_type": "code",
   "execution_count": 48,
   "id": "a84c3192",
   "metadata": {
    "ExecuteTime": {
     "end_time": "2022-11-25T03:38:47.672439Z",
     "start_time": "2022-11-25T03:38:47.658439Z"
    }
   },
   "outputs": [],
   "source": [
    "le = LabelEncoder()\n",
    "new_test = pd.DataFrame()\n",
    "for i in range(0, 10):\n",
    "    le.fit(test.iloc[:, i])\n",
    "    le_encoded = le.transform(test.iloc[:, i])\n",
    "    new_test[test.columns[i]] = le_encoded"
   ]
  },
  {
   "cell_type": "code",
   "execution_count": 49,
   "id": "56ba059c",
   "metadata": {
    "ExecuteTime": {
     "end_time": "2022-11-25T03:38:47.687439Z",
     "start_time": "2022-11-25T03:38:47.672439Z"
    }
   },
   "outputs": [
    {
     "data": {
      "text/html": [
       "<div>\n",
       "<style scoped>\n",
       "    .dataframe tbody tr th:only-of-type {\n",
       "        vertical-align: middle;\n",
       "    }\n",
       "\n",
       "    .dataframe tbody tr th {\n",
       "        vertical-align: top;\n",
       "    }\n",
       "\n",
       "    .dataframe thead th {\n",
       "        text-align: right;\n",
       "    }\n",
       "</style>\n",
       "<table border=\"1\" class=\"dataframe\">\n",
       "  <thead>\n",
       "    <tr style=\"text-align: right;\">\n",
       "      <th></th>\n",
       "      <th>HomePlanet</th>\n",
       "      <th>CryoSleep</th>\n",
       "      <th>Cabin1</th>\n",
       "      <th>Cabin3</th>\n",
       "      <th>Destination</th>\n",
       "      <th>Age</th>\n",
       "      <th>VIP</th>\n",
       "      <th>RichPoor</th>\n",
       "      <th>Group</th>\n",
       "      <th>Gender</th>\n",
       "    </tr>\n",
       "  </thead>\n",
       "  <tbody>\n",
       "    <tr>\n",
       "      <th>0</th>\n",
       "      <td>0</td>\n",
       "      <td>1</td>\n",
       "      <td>6</td>\n",
       "      <td>1</td>\n",
       "      <td>2</td>\n",
       "      <td>2</td>\n",
       "      <td>0</td>\n",
       "      <td>1</td>\n",
       "      <td>0</td>\n",
       "      <td>0</td>\n",
       "    </tr>\n",
       "    <tr>\n",
       "      <th>1</th>\n",
       "      <td>0</td>\n",
       "      <td>0</td>\n",
       "      <td>5</td>\n",
       "      <td>1</td>\n",
       "      <td>2</td>\n",
       "      <td>1</td>\n",
       "      <td>0</td>\n",
       "      <td>1</td>\n",
       "      <td>0</td>\n",
       "      <td>0</td>\n",
       "    </tr>\n",
       "    <tr>\n",
       "      <th>2</th>\n",
       "      <td>1</td>\n",
       "      <td>1</td>\n",
       "      <td>2</td>\n",
       "      <td>1</td>\n",
       "      <td>0</td>\n",
       "      <td>2</td>\n",
       "      <td>0</td>\n",
       "      <td>1</td>\n",
       "      <td>0</td>\n",
       "      <td>0</td>\n",
       "    </tr>\n",
       "    <tr>\n",
       "      <th>3</th>\n",
       "      <td>1</td>\n",
       "      <td>0</td>\n",
       "      <td>2</td>\n",
       "      <td>1</td>\n",
       "      <td>2</td>\n",
       "      <td>3</td>\n",
       "      <td>0</td>\n",
       "      <td>0</td>\n",
       "      <td>0</td>\n",
       "      <td>1</td>\n",
       "    </tr>\n",
       "    <tr>\n",
       "      <th>4</th>\n",
       "      <td>0</td>\n",
       "      <td>0</td>\n",
       "      <td>5</td>\n",
       "      <td>1</td>\n",
       "      <td>2</td>\n",
       "      <td>1</td>\n",
       "      <td>0</td>\n",
       "      <td>1</td>\n",
       "      <td>0</td>\n",
       "      <td>0</td>\n",
       "    </tr>\n",
       "  </tbody>\n",
       "</table>\n",
       "</div>"
      ],
      "text/plain": [
       "   HomePlanet  CryoSleep  Cabin1  Cabin3  Destination  Age  VIP  RichPoor  \\\n",
       "0           0          1       6       1            2    2    0         1   \n",
       "1           0          0       5       1            2    1    0         1   \n",
       "2           1          1       2       1            0    2    0         1   \n",
       "3           1          0       2       1            2    3    0         0   \n",
       "4           0          0       5       1            2    1    0         1   \n",
       "\n",
       "   Group  Gender  \n",
       "0      0       0  \n",
       "1      0       0  \n",
       "2      0       0  \n",
       "3      0       1  \n",
       "4      0       0  "
      ]
     },
     "execution_count": 49,
     "metadata": {},
     "output_type": "execute_result"
    }
   ],
   "source": [
    "new_test.head()"
   ]
  },
  {
   "cell_type": "code",
   "execution_count": 50,
   "id": "fa8ce9ec",
   "metadata": {
    "ExecuteTime": {
     "end_time": "2022-11-25T03:38:47.703439Z",
     "start_time": "2022-11-25T03:38:47.688439Z"
    }
   },
   "outputs": [],
   "source": [
    "test = new_test"
   ]
  },
  {
   "cell_type": "code",
   "execution_count": 51,
   "id": "a61027d0",
   "metadata": {
    "ExecuteTime": {
     "end_time": "2022-11-25T03:38:47.718439Z",
     "start_time": "2022-11-25T03:38:47.704439Z"
    }
   },
   "outputs": [],
   "source": [
    "new_target = le.fit_transform(target)"
   ]
  },
  {
   "cell_type": "code",
   "execution_count": 52,
   "id": "322bd704",
   "metadata": {
    "ExecuteTime": {
     "end_time": "2022-11-25T03:38:47.734439Z",
     "start_time": "2022-11-25T03:38:47.718439Z"
    }
   },
   "outputs": [
    {
     "data": {
      "text/plain": [
       "array([0, 1, 0, ..., 1, 0, 1], dtype=int64)"
      ]
     },
     "execution_count": 52,
     "metadata": {},
     "output_type": "execute_result"
    }
   ],
   "source": [
    "new_target"
   ]
  },
  {
   "cell_type": "code",
   "execution_count": 53,
   "id": "8f0038aa",
   "metadata": {
    "ExecuteTime": {
     "end_time": "2022-11-25T03:38:47.750439Z",
     "start_time": "2022-11-25T03:38:47.734439Z"
    }
   },
   "outputs": [],
   "source": [
    "target = new_target"
   ]
  },
  {
   "cell_type": "markdown",
   "id": "09dcd1ff",
   "metadata": {},
   "source": [
    "# 데이터 세트 분리 전 데이터 담은 변수명과 타겟을 담은 변수명 확인 \n",
    "- data = data \n",
    "- target = lable"
   ]
  },
  {
   "cell_type": "markdown",
   "id": "889db984",
   "metadata": {},
   "source": [
    "# 데이터셋 분리"
   ]
  },
  {
   "cell_type": "code",
   "execution_count": 54,
   "id": "553800e0",
   "metadata": {
    "ExecuteTime": {
     "end_time": "2022-11-25T03:38:47.766439Z",
     "start_time": "2022-11-25T03:38:47.751439Z"
    }
   },
   "outputs": [],
   "source": [
    "X_train, X_test, y_train, y_test = train_test_split(data, target, shuffle = True, random_state = 109)"
   ]
  },
  {
   "cell_type": "markdown",
   "id": "70b80233",
   "metadata": {},
   "source": [
    "# CatBoostClassifier (Category+Boosting)"
   ]
  },
  {
   "cell_type": "markdown",
   "id": "9f6b137b",
   "metadata": {},
   "source": [
    "- 결정트리의 gradient boosting을 위한 알고리즘\n",
    "- 딥러닝 프레임워크(텐서플로우와 CoreML)과 통합됨\n",
    "- 범주형 변수를 사용할 수 있음(예, 음성,문자,이미지 등)\n",
    "- 범주형 변수 전처리와 오버피팅 문제 해결에 초점을 둠"
   ]
  },
  {
   "cell_type": "markdown",
   "id": "346b6d3c",
   "metadata": {},
   "source": [
    "- 장점\n",
    "1. 다른 머신러닝 모델들과 달리 범주형 변수를 전처리 과정을 거치지 않고 사용할 수 있음 \n",
    "<br> -원-핫 인코딩을 하거나 selectKbest를 통해 변수를 추출하지 않아도 원데이터를 그대로 다룰 수 있음 \n",
    "\n",
    "2. Catboost 알고리즘은 변수들간의 상관관계가 높은 피처들을 파악해서 사용할 변수를 하나만 선택하는 능력을 가지고 있음 \n",
    "3. Catboost 알고리즘은 파라미터 조정이 필수적인 다른 부스팅 기법들과 달리, 초기 파라미터 설정값만으로도 효율적인 예측이 가능 \n"
   ]
  },
  {
   "cell_type": "markdown",
   "id": "52464a20",
   "metadata": {},
   "source": [
    "https://cypision.github.io/machine-learning/Titanic_Catboost/#2catboosting-modeling---cv-%ED%8F%89%EA%B0%80\n",
    "<br>https://naver.me/xI28QodH"
   ]
  },
  {
   "cell_type": "markdown",
   "id": "7518078a",
   "metadata": {},
   "source": [
    "## CatBoost 설치"
   ]
  },
  {
   "cell_type": "code",
   "execution_count": 55,
   "id": "9b159987",
   "metadata": {
    "ExecuteTime": {
     "end_time": "2022-11-25T03:38:49.098437Z",
     "start_time": "2022-11-25T03:38:47.767440Z"
    }
   },
   "outputs": [
    {
     "name": "stdout",
     "output_type": "stream",
     "text": [
      "Requirement already satisfied: catboost in d:\\anaconda\\lib\\site-packages (1.1.1)\n",
      "Requirement already satisfied: matplotlib in d:\\anaconda\\lib\\site-packages (from catboost) (3.4.3)\n",
      "Requirement already satisfied: scipy in d:\\anaconda\\lib\\site-packages (from catboost) (1.7.1)\n",
      "Requirement already satisfied: numpy>=1.16.0 in d:\\anaconda\\lib\\site-packages (from catboost) (1.20.3)\n",
      "Requirement already satisfied: pandas>=0.24.0 in d:\\anaconda\\lib\\site-packages (from catboost) (1.3.4)\n",
      "Requirement already satisfied: graphviz in d:\\anaconda\\lib\\site-packages (from catboost) (0.20.1)\n",
      "Requirement already satisfied: six in d:\\anaconda\\lib\\site-packages (from catboost) (1.16.0)\n",
      "Requirement already satisfied: plotly in d:\\anaconda\\lib\\site-packages (from catboost) (5.11.0)\n",
      "Requirement already satisfied: python-dateutil>=2.7.3 in d:\\anaconda\\lib\\site-packages (from pandas>=0.24.0->catboost) (2.8.2)\n",
      "Requirement already satisfied: pytz>=2017.3 in d:\\anaconda\\lib\\site-packages (from pandas>=0.24.0->catboost) (2021.3)\n",
      "Requirement already satisfied: cycler>=0.10 in d:\\anaconda\\lib\\site-packages (from matplotlib->catboost) (0.10.0)\n",
      "Requirement already satisfied: pillow>=6.2.0 in d:\\anaconda\\lib\\site-packages (from matplotlib->catboost) (8.4.0)\n",
      "Requirement already satisfied: kiwisolver>=1.0.1 in d:\\anaconda\\lib\\site-packages (from matplotlib->catboost) (1.3.1)\n",
      "Requirement already satisfied: pyparsing>=2.2.1 in d:\\anaconda\\lib\\site-packages (from matplotlib->catboost) (3.0.4)\n",
      "Requirement already satisfied: tenacity>=6.2.0 in d:\\anaconda\\lib\\site-packages (from plotly->catboost) (8.1.0)\n"
     ]
    }
   ],
   "source": [
    "!pip install catboost"
   ]
  },
  {
   "cell_type": "markdown",
   "id": "9de57121",
   "metadata": {},
   "source": [
    "## 필요한 라이브러리 불러오기"
   ]
  },
  {
   "cell_type": "code",
   "execution_count": 56,
   "id": "13499d67",
   "metadata": {
    "ExecuteTime": {
     "end_time": "2022-11-25T03:38:49.114436Z",
     "start_time": "2022-11-25T03:38:49.099437Z"
    }
   },
   "outputs": [],
   "source": [
    "from catboost import CatBoostClassifier,cv"
   ]
  },
  {
   "cell_type": "markdown",
   "id": "4fabf386",
   "metadata": {},
   "source": [
    "##  데이터세트 확인"
   ]
  },
  {
   "cell_type": "code",
   "execution_count": 57,
   "id": "ec79c2d6",
   "metadata": {
    "ExecuteTime": {
     "end_time": "2022-11-25T03:38:49.129436Z",
     "start_time": "2022-11-25T03:38:49.114436Z"
    }
   },
   "outputs": [
    {
     "name": "stdout",
     "output_type": "stream",
     "text": [
      "(8375, 10) (8375,)\n",
      "(4277, 10)\n"
     ]
    }
   ],
   "source": [
    "print(data.shape,target.shape)\n",
    "print(test.shape)"
   ]
  },
  {
   "cell_type": "code",
   "execution_count": 58,
   "id": "a1e897b6",
   "metadata": {
    "ExecuteTime": {
     "end_time": "2022-11-25T03:38:49.145436Z",
     "start_time": "2022-11-25T03:38:49.129436Z"
    }
   },
   "outputs": [
    {
     "name": "stdout",
     "output_type": "stream",
     "text": [
      "<class 'pandas.core.frame.DataFrame'>\n",
      "RangeIndex: 8375 entries, 0 to 8374\n",
      "Data columns (total 10 columns):\n",
      " #   Column       Non-Null Count  Dtype\n",
      "---  ------       --------------  -----\n",
      " 0   HomePlanet   8375 non-null   int32\n",
      " 1   CryoSleep    8375 non-null   int32\n",
      " 2   Cabin1       8375 non-null   int32\n",
      " 3   Cabin3       8375 non-null   int32\n",
      " 4   Destination  8375 non-null   int32\n",
      " 5   Age          8375 non-null   int64\n",
      " 6   VIP          8375 non-null   int32\n",
      " 7   RichPoor     8375 non-null   int32\n",
      " 8   Group        8375 non-null   int32\n",
      " 9   Gender       8375 non-null   int32\n",
      "dtypes: int32(9), int64(1)\n",
      "memory usage: 360.0 KB\n"
     ]
    }
   ],
   "source": [
    "data.info()"
   ]
  },
  {
   "cell_type": "code",
   "execution_count": 59,
   "id": "cea281a2",
   "metadata": {
    "ExecuteTime": {
     "end_time": "2022-11-25T03:38:49.160436Z",
     "start_time": "2022-11-25T03:38:49.145436Z"
    }
   },
   "outputs": [
    {
     "name": "stdout",
     "output_type": "stream",
     "text": [
      "<class 'pandas.core.frame.DataFrame'>\n",
      "RangeIndex: 4277 entries, 0 to 4276\n",
      "Data columns (total 10 columns):\n",
      " #   Column       Non-Null Count  Dtype\n",
      "---  ------       --------------  -----\n",
      " 0   HomePlanet   4277 non-null   int32\n",
      " 1   CryoSleep    4277 non-null   int32\n",
      " 2   Cabin1       4277 non-null   int32\n",
      " 3   Cabin3       4277 non-null   int32\n",
      " 4   Destination  4277 non-null   int32\n",
      " 5   Age          4277 non-null   int64\n",
      " 6   VIP          4277 non-null   int32\n",
      " 7   RichPoor     4277 non-null   int32\n",
      " 8   Group        4277 non-null   int32\n",
      " 9   Gender       4277 non-null   int32\n",
      "dtypes: int32(9), int64(1)\n",
      "memory usage: 183.9 KB\n"
     ]
    }
   ],
   "source": [
    "test.info()"
   ]
  },
  {
   "cell_type": "code",
   "execution_count": 60,
   "id": "9831bd56",
   "metadata": {
    "ExecuteTime": {
     "end_time": "2022-11-25T03:38:49.176436Z",
     "start_time": "2022-11-25T03:38:49.161436Z"
    }
   },
   "outputs": [
    {
     "name": "stdout",
     "output_type": "stream",
     "text": [
      "[0, 1, 2, 3, 4, 5, 6, 7, 8, 9]\n"
     ]
    }
   ],
   "source": [
    "cat_features = list(range(0, data.shape[1])) # 컬럼의 인덱스 값 리스트화 \n",
    "print(cat_features)"
   ]
  },
  {
   "cell_type": "code",
   "execution_count": 61,
   "id": "8d01b13f",
   "metadata": {
    "ExecuteTime": {
     "end_time": "2022-11-25T03:38:49.728476Z",
     "start_time": "2022-11-25T03:38:49.176436Z"
    }
   },
   "outputs": [
    {
     "name": "stdout",
     "output_type": "stream",
     "text": [
      "CatBoost model is fitted: True\n",
      "CatBoost model parameters:\n",
      "{'iterations': 50, 'learning_rate': 0.5, 'random_seed': 42, 'custom_loss': ['AUC', 'Accuracy']}\n"
     ]
    }
   ],
   "source": [
    "clf = CatBoostClassifier(\n",
    "    iterations=50,\n",
    "    random_seed=42,\n",
    "    learning_rate=0.5,\n",
    "    custom_loss=['AUC', 'Accuracy']\n",
    ")\n",
    "\n",
    "clf.fit(\n",
    "    X_train, y_train,\n",
    "    eval_set=(X_test, y_test), \n",
    "    cat_features=cat_features, \n",
    "    verbose=False,\n",
    ")\n",
    "\n",
    "print('CatBoost model is fitted: ' + str(clf.is_fitted()))\n",
    "print('CatBoost model parameters:')\n",
    "print(clf.get_params())"
   ]
  },
  {
   "cell_type": "markdown",
   "id": "04f4c3df",
   "metadata": {},
   "source": [
    "## get_clf_eval 텍스트북에 나온 평가함수 정의"
   ]
  },
  {
   "cell_type": "code",
   "execution_count": 62,
   "id": "9af6440f",
   "metadata": {
    "ExecuteTime": {
     "end_time": "2022-11-25T03:38:49.744476Z",
     "start_time": "2022-11-25T03:38:49.728476Z"
    }
   },
   "outputs": [],
   "source": [
    "def get_clf_eval(y_test, pred=None):\n",
    "    confusion = confusion_matrix(y_test, pred)\n",
    "    accuracy = accuracy_score(y_test, pred)\n",
    "    precision = precision_score(y_test, pred)\n",
    "    recall = recall_score(y_test, pred)\n",
    "    f1 = f1_score(y_test, pred)\n",
    "    print('오차 행렬')\n",
    "    print(confusion)\n",
    "    # ROC-AUC print 추가\n",
    "    print('정확도 : {0:.3f}, 정밀도 : {1:.3f}, 재현율 : {2:.3f}, F1 : {3:.3f}'.format(accuracy, precision, recall, f1))"
   ]
  },
  {
   "cell_type": "code",
   "execution_count": 63,
   "id": "e0a285aa",
   "metadata": {
    "ExecuteTime": {
     "end_time": "2022-11-25T03:38:49.776476Z",
     "start_time": "2022-11-25T03:38:49.744476Z"
    }
   },
   "outputs": [],
   "source": [
    "cat_pred = clf.predict(X_train)"
   ]
  },
  {
   "cell_type": "code",
   "execution_count": 64,
   "id": "dce1fc92",
   "metadata": {
    "ExecuteTime": {
     "end_time": "2022-11-25T03:38:49.792476Z",
     "start_time": "2022-11-25T03:38:49.777476Z"
    }
   },
   "outputs": [
    {
     "name": "stdout",
     "output_type": "stream",
     "text": [
      "오차 행렬\n",
      "[[2620  491]\n",
      " [1126 2044]]\n",
      "정확도 : 0.743, 정밀도 : 0.806, 재현율 : 0.645, F1 : 0.717\n"
     ]
    }
   ],
   "source": [
    "get_clf_eval(y_train, cat_pred)"
   ]
  },
  {
   "cell_type": "code",
   "execution_count": 65,
   "id": "0482eccd",
   "metadata": {
    "ExecuteTime": {
     "end_time": "2022-11-25T03:38:49.808475Z",
     "start_time": "2022-11-25T03:38:49.793476Z"
    }
   },
   "outputs": [
    {
     "name": "stdout",
     "output_type": "stream",
     "text": [
      "오차 행렬\n",
      "[[871 164]\n",
      " [370 689]]\n",
      "정확도 : 0.745, 정밀도 : 0.808, 재현율 : 0.651, F1 : 0.721\n"
     ]
    }
   ],
   "source": [
    "cat_pred = clf.predict(X_test)\n",
    "get_clf_eval(y_test,cat_pred)"
   ]
  },
  {
   "cell_type": "markdown",
   "id": "ec12e164",
   "metadata": {},
   "source": [
    "## 마지막 최종 테스터 데이터세트 검증하기"
   ]
  },
  {
   "cell_type": "code",
   "execution_count": 66,
   "id": "8875cab2",
   "metadata": {
    "ExecuteTime": {
     "end_time": "2022-11-25T03:38:49.824475Z",
     "start_time": "2022-11-25T03:38:49.808475Z"
    }
   },
   "outputs": [],
   "source": [
    "sample = pd.read_csv('sample_submission.csv',sep=',')"
   ]
  },
  {
   "cell_type": "code",
   "execution_count": 67,
   "id": "46b134c3",
   "metadata": {
    "ExecuteTime": {
     "end_time": "2022-11-25T03:38:49.840476Z",
     "start_time": "2022-11-25T03:38:49.825476Z"
    }
   },
   "outputs": [],
   "source": [
    "prediction = clf.predict(test)\n",
    "submission = pd.DataFrame({\n",
    "        \"PassengerId\": sample[\"PassengerId\"],\n",
    "        \"Transported\": prediction})"
   ]
  },
  {
   "cell_type": "code",
   "execution_count": 68,
   "id": "576e7dc6",
   "metadata": {
    "ExecuteTime": {
     "end_time": "2022-11-25T03:38:49.856475Z",
     "start_time": "2022-11-25T03:38:49.840476Z"
    }
   },
   "outputs": [],
   "source": [
    "submission['Transported'].replace({1:True,0:False},inplace=True)"
   ]
  },
  {
   "cell_type": "code",
   "execution_count": 69,
   "id": "781e23e6",
   "metadata": {
    "ExecuteTime": {
     "end_time": "2022-11-25T03:38:50.064475Z",
     "start_time": "2022-11-25T03:38:49.856475Z"
    }
   },
   "outputs": [
    {
     "ename": "FileNotFoundError",
     "evalue": "[Errno 2] No such file or directory: 'C:\\\\k_digital\\\\source\\\\sparta_data\\\\submission_sparta.csv'",
     "output_type": "error",
     "traceback": [
      "\u001b[1;31m---------------------------------------------------------------------------\u001b[0m",
      "\u001b[1;31mFileNotFoundError\u001b[0m                         Traceback (most recent call last)",
      "\u001b[1;32m~\\AppData\\Local\\Temp/ipykernel_8988/2552686712.py\u001b[0m in \u001b[0;36m<module>\u001b[1;34m\u001b[0m\n\u001b[1;32m----> 1\u001b[1;33m \u001b[0msubmission\u001b[0m\u001b[1;33m.\u001b[0m\u001b[0mto_csv\u001b[0m\u001b[1;33m(\u001b[0m\u001b[1;34m'C:\\\\k_digital\\\\source\\\\sparta_data\\\\submission_sparta.csv'\u001b[0m\u001b[1;33m,\u001b[0m\u001b[0mindex\u001b[0m\u001b[1;33m=\u001b[0m\u001b[1;32mFalse\u001b[0m\u001b[1;33m)\u001b[0m\u001b[1;33m\u001b[0m\u001b[1;33m\u001b[0m\u001b[0m\n\u001b[0m",
      "\u001b[1;32mD:\\Anaconda\\lib\\site-packages\\pandas\\core\\generic.py\u001b[0m in \u001b[0;36mto_csv\u001b[1;34m(self, path_or_buf, sep, na_rep, float_format, columns, header, index, index_label, mode, encoding, compression, quoting, quotechar, line_terminator, chunksize, date_format, doublequote, escapechar, decimal, errors, storage_options)\u001b[0m\n\u001b[0;32m   3464\u001b[0m         )\n\u001b[0;32m   3465\u001b[0m \u001b[1;33m\u001b[0m\u001b[0m\n\u001b[1;32m-> 3466\u001b[1;33m         return DataFrameRenderer(formatter).to_csv(\n\u001b[0m\u001b[0;32m   3467\u001b[0m             \u001b[0mpath_or_buf\u001b[0m\u001b[1;33m,\u001b[0m\u001b[1;33m\u001b[0m\u001b[1;33m\u001b[0m\u001b[0m\n\u001b[0;32m   3468\u001b[0m             \u001b[0mline_terminator\u001b[0m\u001b[1;33m=\u001b[0m\u001b[0mline_terminator\u001b[0m\u001b[1;33m,\u001b[0m\u001b[1;33m\u001b[0m\u001b[1;33m\u001b[0m\u001b[0m\n",
      "\u001b[1;32mD:\\Anaconda\\lib\\site-packages\\pandas\\io\\formats\\format.py\u001b[0m in \u001b[0;36mto_csv\u001b[1;34m(self, path_or_buf, encoding, sep, columns, index_label, mode, compression, quoting, quotechar, line_terminator, chunksize, date_format, doublequote, escapechar, errors, storage_options)\u001b[0m\n\u001b[0;32m   1103\u001b[0m             \u001b[0mformatter\u001b[0m\u001b[1;33m=\u001b[0m\u001b[0mself\u001b[0m\u001b[1;33m.\u001b[0m\u001b[0mfmt\u001b[0m\u001b[1;33m,\u001b[0m\u001b[1;33m\u001b[0m\u001b[1;33m\u001b[0m\u001b[0m\n\u001b[0;32m   1104\u001b[0m         )\n\u001b[1;32m-> 1105\u001b[1;33m         \u001b[0mcsv_formatter\u001b[0m\u001b[1;33m.\u001b[0m\u001b[0msave\u001b[0m\u001b[1;33m(\u001b[0m\u001b[1;33m)\u001b[0m\u001b[1;33m\u001b[0m\u001b[1;33m\u001b[0m\u001b[0m\n\u001b[0m\u001b[0;32m   1106\u001b[0m \u001b[1;33m\u001b[0m\u001b[0m\n\u001b[0;32m   1107\u001b[0m         \u001b[1;32mif\u001b[0m \u001b[0mcreated_buffer\u001b[0m\u001b[1;33m:\u001b[0m\u001b[1;33m\u001b[0m\u001b[1;33m\u001b[0m\u001b[0m\n",
      "\u001b[1;32mD:\\Anaconda\\lib\\site-packages\\pandas\\io\\formats\\csvs.py\u001b[0m in \u001b[0;36msave\u001b[1;34m(self)\u001b[0m\n\u001b[0;32m    235\u001b[0m         \"\"\"\n\u001b[0;32m    236\u001b[0m         \u001b[1;31m# apply compression and byte/text conversion\u001b[0m\u001b[1;33m\u001b[0m\u001b[1;33m\u001b[0m\u001b[0m\n\u001b[1;32m--> 237\u001b[1;33m         with get_handle(\n\u001b[0m\u001b[0;32m    238\u001b[0m             \u001b[0mself\u001b[0m\u001b[1;33m.\u001b[0m\u001b[0mfilepath_or_buffer\u001b[0m\u001b[1;33m,\u001b[0m\u001b[1;33m\u001b[0m\u001b[1;33m\u001b[0m\u001b[0m\n\u001b[0;32m    239\u001b[0m             \u001b[0mself\u001b[0m\u001b[1;33m.\u001b[0m\u001b[0mmode\u001b[0m\u001b[1;33m,\u001b[0m\u001b[1;33m\u001b[0m\u001b[1;33m\u001b[0m\u001b[0m\n",
      "\u001b[1;32mD:\\Anaconda\\lib\\site-packages\\pandas\\io\\common.py\u001b[0m in \u001b[0;36mget_handle\u001b[1;34m(path_or_buf, mode, encoding, compression, memory_map, is_text, errors, storage_options)\u001b[0m\n\u001b[0;32m    700\u001b[0m         \u001b[1;32mif\u001b[0m \u001b[0mioargs\u001b[0m\u001b[1;33m.\u001b[0m\u001b[0mencoding\u001b[0m \u001b[1;32mand\u001b[0m \u001b[1;34m\"b\"\u001b[0m \u001b[1;32mnot\u001b[0m \u001b[1;32min\u001b[0m \u001b[0mioargs\u001b[0m\u001b[1;33m.\u001b[0m\u001b[0mmode\u001b[0m\u001b[1;33m:\u001b[0m\u001b[1;33m\u001b[0m\u001b[1;33m\u001b[0m\u001b[0m\n\u001b[0;32m    701\u001b[0m             \u001b[1;31m# Encoding\u001b[0m\u001b[1;33m\u001b[0m\u001b[1;33m\u001b[0m\u001b[0m\n\u001b[1;32m--> 702\u001b[1;33m             handle = open(\n\u001b[0m\u001b[0;32m    703\u001b[0m                 \u001b[0mhandle\u001b[0m\u001b[1;33m,\u001b[0m\u001b[1;33m\u001b[0m\u001b[1;33m\u001b[0m\u001b[0m\n\u001b[0;32m    704\u001b[0m                 \u001b[0mioargs\u001b[0m\u001b[1;33m.\u001b[0m\u001b[0mmode\u001b[0m\u001b[1;33m,\u001b[0m\u001b[1;33m\u001b[0m\u001b[1;33m\u001b[0m\u001b[0m\n",
      "\u001b[1;31mFileNotFoundError\u001b[0m: [Errno 2] No such file or directory: 'C:\\\\k_digital\\\\source\\\\sparta_data\\\\submission_sparta.csv'"
     ]
    }
   ],
   "source": [
    "submission.to_csv('submission_sparta.csv',index=False)"
   ]
  }
 ],
 "metadata": {
  "kernelspec": {
   "display_name": "Python 3 (ipykernel)",
   "language": "python",
   "name": "python3"
  },
  "language_info": {
   "codemirror_mode": {
    "name": "ipython",
    "version": 3
   },
   "file_extension": ".py",
   "mimetype": "text/x-python",
   "name": "python",
   "nbconvert_exporter": "python",
   "pygments_lexer": "ipython3",
   "version": "3.9.7"
  },
  "toc": {
   "base_numbering": 1,
   "nav_menu": {},
   "number_sections": true,
   "sideBar": true,
   "skip_h1_title": false,
   "title_cell": "Table of Contents",
   "title_sidebar": "Contents",
   "toc_cell": false,
   "toc_position": {
    "height": "calc(100% - 180px)",
    "left": "10px",
    "top": "150px",
    "width": "303.831px"
   },
   "toc_section_display": true,
   "toc_window_display": false
  }
 },
 "nbformat": 4,
 "nbformat_minor": 5
}
